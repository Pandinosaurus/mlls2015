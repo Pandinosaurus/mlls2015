{
 "cells": [
  {
   "cell_type": "markdown",
   "metadata": {},
   "source": [
    "## This script fits simple cross validated SVM using single fit and alpy\n",
    "\n",
    "## It should be straightforward to go from this script to running experiments on any fingerprint/compound pair"
   ]
  },
  {
   "cell_type": "code",
   "execution_count": 13,
   "metadata": {
    "collapsed": false
   },
   "outputs": [
    {
     "name": "stdout",
     "output_type": "stream",
     "text": [
      "The autoreload extension is already loaded. To reload it, use:\n",
      "  %reload_ext autoreload\n"
     ]
    }
   ],
   "source": [
    "% load_ext autoreload\n",
    "% autoreload 2\n",
    "import matplotlib.pylab as plt\n",
    "% matplotlib inline\n",
    "import sys\n",
    "import seaborn\n",
    "sys.path.insert(0, \"../mlls2015\")\n",
    "sys.path.insert(0, \"..\")\n",
    "import training_data\n",
    "from training_data.datasets import CVBaseChemDataset\n",
    "import bunch\n",
    "import numpy as np\n",
    "from bunch import Bunch\n",
    "import os\n",
    "import logging\n",
    "from experiments.utils import wac_score\n",
    "from misc.utils import config_log_to_file\n",
    "\n",
    "import copy\n",
    "from models.balanced_models import *\n",
    "\n",
    "import matplotlib.pyplot as plt\n",
    "from sklearn.decomposition import PCA\n",
    "from sklearn.svm import SVC\n",
    "\n",
    "import alpy_addons\n",
    "from alpy_addons.active import ActiveLearner\n",
    "from alpy.datasets.generate import get_2d_gaussians\n",
    "from alpy_addons.monitors import *\n",
    "from alpy.oracle import SimulatedOracle\n",
    "from alpy.strategy import UncertaintySampling, PassiveStrategy\n",
    "\n",
    "from alpy_addons.strategy import UncertaintySampling\n",
    "from alpy.utils import mask_unknowns\n",
    "\n",
    "from sklearn.grid_search import GridSearchCV"
   ]
  },
  {
   "cell_type": "code",
   "execution_count": 14,
   "metadata": {
    "collapsed": false
   },
   "outputs": [],
   "source": [
    "opts = Bunch({\"C_min\": -7, \n",
    "              \"C_max\": 6,\n",
    "              \"max_iter\": 80000000,\n",
    "              \"n_folds\": 5, \n",
    "              \"preprocess\": \"clip01\", #\"max_abs\", \n",
    "              \"fold\": 2, \n",
    "              \"compound\": \"SERT\", \n",
    "              \"representation\": \"MACCS\", \n",
    "              \"jaccard\": 0, \n",
    "              \"rng\": 777, \n",
    "              \"name\": \"test_svm_al\",\n",
    "              \"batch_size\": 100,\n",
    "              \"output_dir\": \"/Users/kudkudak/code/mlls2015/\"})"
   ]
  },
  {
   "cell_type": "code",
   "execution_count": 15,
   "metadata": {
    "collapsed": false
   },
   "outputs": [
    {
     "name": "stderr",
     "output_type": "stream",
     "text": [
      "INFO:fit_svm:{}\n",
      "INFO:fit_svm:test_svm_al\n"
     ]
    }
   ],
   "source": [
    "config_log_to_file(os.path.join(opts.output_dir, opts.name + \".log\"), clear_log_file=True)\n",
    "logger = logging.getLogger(\"fit_svm\")\n",
    "logger.info(opts.__dict__)\n",
    "logger.info(opts.name)"
   ]
  },
  {
   "cell_type": "code",
   "execution_count": 16,
   "metadata": {
    "collapsed": false
   },
   "outputs": [],
   "source": [
    "data = CVBaseChemDataset(compound=opts.compound, representation=opts.representation, n_folds=opts.n_folds, rng=opts.rng,\n",
    "                       preprocess=opts.preprocess)\n",
    "(X_train, y_train), (X_valid, y_valid) = data.get_data(fold=opts.fold)\n",
    "if opts.jaccard:\n",
    "    K_train, K_valid = calculate_jaccard_kernel(data=data, fold=opts.fold)"
   ]
  },
  {
   "cell_type": "code",
   "execution_count": 17,
   "metadata": {
    "collapsed": true
   },
   "outputs": [],
   "source": [
    "class EstimatorMonitor(BaseMonitor):\n",
    "    def __init__(self):\n",
    "        super(EstimatorMonitor, self).__init__(name=\"EstimatorMonitor\", short_name=\"est_mon\")\n",
    "\n",
    "    def __call__(self, estimator, X, labels):\n",
    "        if not isinstance(estimator, BaseEstimator):\n",
    "            raise TypeError(\"Got bad estimator: {}\".format(type(estimator)))\n",
    "\n",
    "        return copy.copy(estimator)\n",
    "\n",
    "class SimpleLogger(BaseMonitor):\n",
    "    def __init__(self, batch_size=10, frequency=1):\n",
    "        self.n_iter = 0\n",
    "        self.batch_size = batch_size\n",
    "        super(SimpleLogger, self).__init__(name=\"SimpleLogger\", short_name=\"simple_logger\", frequency=frequency)\n",
    "\n",
    "    def __call__(self, estimator, X, labels):\n",
    "        logger.info(\"iter \" + str(self.n_iter))\n",
    "        self.n_iter += self.batch_size\n",
    "        return 0\n",
    "    \n",
    "y_train_masked = mask_unknowns(y_train, np.random.choice(X_train.shape[0], size=X_train.shape[0] - 100, replace=False))"
   ]
  },
  {
   "cell_type": "code",
   "execution_count": 18,
   "metadata": {
    "collapsed": false
   },
   "outputs": [],
   "source": [
    "# TODO: add TP/FN/TN/FP recording\n",
    "monitors = []\n",
    "\n",
    "monitors.append(MetricMonitor(name=\"wac_score\",\n",
    "                        short_name=\"wac\",\n",
    "                        function=wac_score,\n",
    "                        ids=\"all\",\n",
    "                        frequency=1))\n",
    "\n",
    "monitors.append(MetricMonitor(name=\"wac_score_labeled\",\n",
    "                        short_name=\"wac_labeled\",\n",
    "                        function=wac_score,\n",
    "                        ids=\"known\",\n",
    "                        frequency=1))\n",
    "\n",
    "monitors.append(MetricMonitor(name=\"wac_score_unlabeled\",\n",
    "                        short_name=\"wac_unlabeled\",\n",
    "                        function=wac_score,\n",
    "                        ids=\"unknown\",\n",
    "                        frequency=1))\n",
    "\n",
    "monitors.append(MetricMonitor(name=\"wac_score_valid\",\n",
    "                        short_name=\"wac_valid\",\n",
    "                        function=wac_score,\n",
    "                        frequency=1,\n",
    "                        X=X_valid,\n",
    "                        y=y_valid))\n",
    "\n",
    "monitors.append(SimpleLogger(batch_size=opts.batch_size))\n",
    "\n",
    "monitors.append(EstimatorMonitor())"
   ]
  },
  {
   "cell_type": "code",
   "execution_count": 19,
   "metadata": {
    "collapsed": true
   },
   "outputs": [],
   "source": [
    "def wac_scoring(estimator, X, y):\n",
    "    return wac_score(y, estimator.predict(X))"
   ]
  },
  {
   "cell_type": "code",
   "execution_count": 20,
   "metadata": {
    "collapsed": false
   },
   "outputs": [],
   "source": [
    "m = GridSearchCV(SVC(random_state=opts.rng, kernel='precomputed'), \n",
    "                 param_grid = {\"C\": [10**c for c in range(opts.C_min, opts.C_max + 1)]}, \n",
    "                 cv=3, \n",
    "                 scoring=wac_scoring, \n",
    "                 error_score=0.)"
   ]
  },
  {
   "cell_type": "code",
   "execution_count": 21,
   "metadata": {
    "collapsed": true
   },
   "outputs": [],
   "source": [
    "def tanimoto(X, W, b=None):\n",
    "    if not hasattr(X, \"toarray\"):\n",
    "        W = W.toarray()\n",
    "\n",
    "    XW = X.dot(W.T)\n",
    "    XX = X.multiply(X).sum(axis=1).reshape(-1, 1)\n",
    "    WW = W.multiply(W).sum(axis=1).reshape(1, -1)\n",
    "    return XW.toarray() / (XX+WW-XW)\n"
   ]
  },
  {
   "cell_type": "code",
   "execution_count": 22,
   "metadata": {
    "collapsed": false
   },
   "outputs": [],
   "source": [
    "uncert_model = ActiveLearner(strategy=UncertaintySampling(),\n",
    "                             random_state=opts.rng,\n",
    "                             batch_size=opts.batch_size,\n",
    "                              oracle=SimulatedOracle(sample_budget=np.inf),\n",
    "                              estimator=m)"
   ]
  },
  {
   "cell_type": "code",
   "execution_count": 23,
   "metadata": {
    "collapsed": false
   },
   "outputs": [],
   "source": [
    "K_train = tanimoto(X_train, X_train)\n",
    "K_valid = tanimoto(X_valid, X_train)\n",
    "\n",
    "monitors = []\n",
    "\n",
    "monitors.append(MetricMonitor(name=\"wac_score\",\n",
    "                        short_name=\"wac\",\n",
    "                        function=wac_score,\n",
    "                        ids=\"all\",\n",
    "                        frequency=1))\n",
    "\n",
    "monitors.append(MetricMonitor(name=\"wac_score_valid\",\n",
    "                        short_name=\"wac_valid\",\n",
    "                        function=wac_score,\n",
    "                        frequency=1,\n",
    "                        X=K_valid,\n",
    "                        y=y_valid))\n",
    "\n",
    "monitors.append(SimpleLogger(batch_size=opts.batch_size))\n",
    "\n",
    "monitors.append(EstimatorMonitor())"
   ]
  },
  {
   "cell_type": "code",
   "execution_count": 24,
   "metadata": {
    "collapsed": false,
    "scrolled": true
   },
   "outputs": [
    {
     "name": "stderr",
     "output_type": "stream",
     "text": [
      "INFO:fit_svm:iter 0\n"
     ]
    },
    {
     "name": "stdout",
     "output_type": "stream",
     "text": [
      "0.599380393996\n",
      "{'C': 100}\n",
      "0.633595149511"
     ]
    },
    {
     "name": "stderr",
     "output_type": "stream",
     "text": [
      "INFO:fit_svm:iter 100\n"
     ]
    },
    {
     "name": "stdout",
     "output_type": "stream",
     "text": [
      "\n",
      "{'C': 100}\n",
      "0.655951489716"
     ]
    },
    {
     "name": "stderr",
     "output_type": "stream",
     "text": [
      "INFO:fit_svm:iter 200\n"
     ]
    },
    {
     "name": "stdout",
     "output_type": "stream",
     "text": [
      "\n",
      "{'C': 10}\n",
      "0.646385156202"
     ]
    },
    {
     "name": "stderr",
     "output_type": "stream",
     "text": [
      "INFO:fit_svm:iter 300\n"
     ]
    },
    {
     "name": "stdout",
     "output_type": "stream",
     "text": [
      "\n",
      "{'C': 100}\n",
      "0.651787360421"
     ]
    },
    {
     "name": "stderr",
     "output_type": "stream",
     "text": [
      "INFO:fit_svm:iter 400\n"
     ]
    },
    {
     "name": "stdout",
     "output_type": "stream",
     "text": [
      "\n",
      "{'C': 100}\n",
      "0.668098611593"
     ]
    },
    {
     "name": "stderr",
     "output_type": "stream",
     "text": [
      "INFO:fit_svm:iter 500\n"
     ]
    },
    {
     "name": "stdout",
     "output_type": "stream",
     "text": [
      "\n",
      "{'C': 100}\n",
      "0.655254985234"
     ]
    },
    {
     "name": "stderr",
     "output_type": "stream",
     "text": [
      "INFO:fit_svm:iter 600\n"
     ]
    },
    {
     "name": "stdout",
     "output_type": "stream",
     "text": [
      "\n",
      "{'C': 100}\n",
      "0.681248512424"
     ]
    },
    {
     "name": "stderr",
     "output_type": "stream",
     "text": [
      "INFO:fit_svm:iter 700\n"
     ]
    },
    {
     "name": "stdout",
     "output_type": "stream",
     "text": [
      "\n",
      "{'C': 100}\n",
      "0.684181381576"
     ]
    },
    {
     "name": "stderr",
     "output_type": "stream",
     "text": [
      "INFO:fit_svm:iter 800\n"
     ]
    },
    {
     "name": "stdout",
     "output_type": "stream",
     "text": [
      "\n",
      "{'C': 100}\n",
      "0.69620682433"
     ]
    },
    {
     "name": "stderr",
     "output_type": "stream",
     "text": [
      "INFO:fit_svm:iter 900\n"
     ]
    },
    {
     "name": "stdout",
     "output_type": "stream",
     "text": [
      "\n",
      "{'C': 100}\n",
      "0.709241550702"
     ]
    },
    {
     "name": "stderr",
     "output_type": "stream",
     "text": [
      "INFO:fit_svm:iter 1000\n"
     ]
    },
    {
     "name": "stdout",
     "output_type": "stream",
     "text": [
      "\n",
      "{'C': 100}\n",
      "0.713611348864"
     ]
    },
    {
     "name": "stderr",
     "output_type": "stream",
     "text": [
      "INFO:fit_svm:iter 1100\n"
     ]
    },
    {
     "name": "stdout",
     "output_type": "stream",
     "text": [
      "\n",
      "{'C': 100}\n",
      "0.721039846583"
     ]
    },
    {
     "name": "stderr",
     "output_type": "stream",
     "text": [
      "INFO:fit_svm:iter 1200\n"
     ]
    },
    {
     "name": "stdout",
     "output_type": "stream",
     "text": [
      "\n",
      "{'C': 1000}\n",
      "0.743905723906"
     ]
    },
    {
     "name": "stderr",
     "output_type": "stream",
     "text": [
      "INFO:fit_svm:iter 1300\n"
     ]
    },
    {
     "name": "stdout",
     "output_type": "stream",
     "text": [
      "\n",
      "{'C': 100}\n",
      "0.748179072173"
     ]
    },
    {
     "name": "stderr",
     "output_type": "stream",
     "text": [
      "INFO:fit_svm:iter 1400\n"
     ]
    },
    {
     "name": "stdout",
     "output_type": "stream",
     "text": [
      "\n",
      "{'C': 100}\n",
      "0.753761204184"
     ]
    },
    {
     "name": "stderr",
     "output_type": "stream",
     "text": [
      "INFO:fit_svm:iter 1500\n"
     ]
    },
    {
     "name": "stdout",
     "output_type": "stream",
     "text": [
      "\n",
      "{'C': 100}\n",
      "0.764161493524"
     ]
    },
    {
     "name": "stderr",
     "output_type": "stream",
     "text": [
      "INFO:fit_svm:iter 1600\n"
     ]
    },
    {
     "name": "stdout",
     "output_type": "stream",
     "text": [
      "\n",
      "{'C': 100}\n",
      "0.771901403783"
     ]
    },
    {
     "name": "stderr",
     "output_type": "stream",
     "text": [
      "INFO:fit_svm:iter 1700\n"
     ]
    },
    {
     "name": "stdout",
     "output_type": "stream",
     "text": [
      "\n",
      "{'C': 100}\n",
      "0.781556883123"
     ]
    },
    {
     "name": "stderr",
     "output_type": "stream",
     "text": [
      "INFO:fit_svm:iter 1800\n"
     ]
    },
    {
     "name": "stdout",
     "output_type": "stream",
     "text": [
      "\n",
      "{'C': 1000}\n",
      "0.783572082386"
     ]
    },
    {
     "name": "stderr",
     "output_type": "stream",
     "text": [
      "INFO:fit_svm:iter 1900\n"
     ]
    },
    {
     "name": "stdout",
     "output_type": "stream",
     "text": [
      "\n",
      "{'C': 100}\n",
      "0.793221337971"
     ]
    },
    {
     "name": "stderr",
     "output_type": "stream",
     "text": [
      "INFO:fit_svm:iter 2000\n"
     ]
    },
    {
     "name": "stdout",
     "output_type": "stream",
     "text": [
      "\n",
      "{'C': 100}\n",
      "0.796478510241"
     ]
    },
    {
     "name": "stderr",
     "output_type": "stream",
     "text": [
      "INFO:fit_svm:iter 2100\n"
     ]
    },
    {
     "name": "stdout",
     "output_type": "stream",
     "text": [
      "\n",
      "{'C': 100}\n",
      "0.800040544724"
     ]
    },
    {
     "name": "stderr",
     "output_type": "stream",
     "text": [
      "INFO:fit_svm:iter 2200\n"
     ]
    },
    {
     "name": "stdout",
     "output_type": "stream",
     "text": [
      "\n",
      "{'C': 1000}\n",
      "0.800513920549"
     ]
    },
    {
     "name": "stderr",
     "output_type": "stream",
     "text": [
      "INFO:fit_svm:iter 2300\n"
     ]
    },
    {
     "name": "stdout",
     "output_type": "stream",
     "text": [
      "\n",
      "{'C': 1000}\n",
      "0.802880865147"
     ]
    },
    {
     "name": "stderr",
     "output_type": "stream",
     "text": [
      "INFO:fit_svm:iter 2400\n"
     ]
    },
    {
     "name": "stdout",
     "output_type": "stream",
     "text": [
      "\n",
      "{'C': 1000}\n",
      "0.805472738841"
     ]
    },
    {
     "name": "stderr",
     "output_type": "stream",
     "text": [
      "INFO:fit_svm:iter 2500\n"
     ]
    },
    {
     "name": "stdout",
     "output_type": "stream",
     "text": [
      "\n",
      "{'C': 1000}\n",
      "0.815188268278"
     ]
    },
    {
     "name": "stderr",
     "output_type": "stream",
     "text": [
      "INFO:fit_svm:iter 2600\n"
     ]
    },
    {
     "name": "stdout",
     "output_type": "stream",
     "text": [
      "\n",
      "{'C': 1000}\n",
      "0.817408396967"
     ]
    },
    {
     "name": "stderr",
     "output_type": "stream",
     "text": [
      "INFO:fit_svm:iter 2700\n"
     ]
    },
    {
     "name": "stdout",
     "output_type": "stream",
     "text": [
      "\n",
      "{'C': 100}\n",
      "0.819443288753"
     ]
    },
    {
     "name": "stderr",
     "output_type": "stream",
     "text": [
      "INFO:fit_svm:iter 2800\n"
     ]
    },
    {
     "name": "stdout",
     "output_type": "stream",
     "text": [
      "\n",
      "{'C': 1000}\n",
      "0.821863821265"
     ]
    },
    {
     "name": "stderr",
     "output_type": "stream",
     "text": [
      "INFO:fit_svm:iter 2900\n"
     ]
    },
    {
     "name": "stdout",
     "output_type": "stream",
     "text": [
      "\n",
      "{'C': 100}\n",
      "0.82620759701"
     ]
    },
    {
     "name": "stderr",
     "output_type": "stream",
     "text": [
      "INFO:fit_svm:iter 3000\n"
     ]
    },
    {
     "name": "stdout",
     "output_type": "stream",
     "text": [
      "\n",
      "{'C': 100}\n",
      "0.828293558042"
     ]
    },
    {
     "name": "stderr",
     "output_type": "stream",
     "text": [
      "INFO:fit_svm:iter 3100\n"
     ]
    },
    {
     "name": "stdout",
     "output_type": "stream",
     "text": [
      "\n",
      "{'C': 100}\n",
      "0.831759021048"
     ]
    },
    {
     "name": "stderr",
     "output_type": "stream",
     "text": [
      "INFO:fit_svm:iter 3200\n"
     ]
    },
    {
     "name": "stdout",
     "output_type": "stream",
     "text": [
      "\n",
      "{'C': 100}\n",
      "0.832382418379"
     ]
    },
    {
     "name": "stderr",
     "output_type": "stream",
     "text": [
      "INFO:fit_svm:iter 3300\n"
     ]
    },
    {
     "name": "stdout",
     "output_type": "stream",
     "text": [
      "\n",
      "{'C': 1000}\n",
      "0.8329511696"
     ]
    },
    {
     "name": "stderr",
     "output_type": "stream",
     "text": [
      "INFO:fit_svm:iter 3400\n"
     ]
    },
    {
     "name": "stdout",
     "output_type": "stream",
     "text": [
      "\n",
      "{'C': 100}\n",
      "0.833698530704"
     ]
    },
    {
     "name": "stderr",
     "output_type": "stream",
     "text": [
      "INFO:fit_svm:iter 3500\n"
     ]
    },
    {
     "name": "stdout",
     "output_type": "stream",
     "text": [
      "\n",
      "{'C': 10}\n",
      "0.833637775472"
     ]
    },
    {
     "name": "stderr",
     "output_type": "stream",
     "text": [
      "INFO:fit_svm:iter 3600\n"
     ]
    },
    {
     "name": "stdout",
     "output_type": "stream",
     "text": [
      "\n",
      "{'C': 10}\n",
      "0.834650384273"
     ]
    },
    {
     "name": "stderr",
     "output_type": "stream",
     "text": [
      "INFO:fit_svm:iter 3700\n"
     ]
    },
    {
     "name": "stdout",
     "output_type": "stream",
     "text": [
      "\n",
      "{'C': 10}\n",
      "0.836321809272"
     ]
    },
    {
     "name": "stderr",
     "output_type": "stream",
     "text": [
      "INFO:fit_svm:iter 3800\n"
     ]
    },
    {
     "name": "stdout",
     "output_type": "stream",
     "text": [
      "\n",
      "{'C': 10}\n",
      "0.836181671882"
     ]
    },
    {
     "name": "stderr",
     "output_type": "stream",
     "text": [
      "INFO:fit_svm:iter 3900\n"
     ]
    },
    {
     "name": "stdout",
     "output_type": "stream",
     "text": [
      "\n",
      "{'C': 100}\n",
      "0.84038887217"
     ]
    },
    {
     "name": "stderr",
     "output_type": "stream",
     "text": [
      "INFO:fit_svm:iter 4000\n"
     ]
    },
    {
     "name": "stdout",
     "output_type": "stream",
     "text": [
      "\n",
      "{'C': 10}\n",
      "0.839467291877"
     ]
    },
    {
     "name": "stderr",
     "output_type": "stream",
     "text": [
      "INFO:fit_svm:iter 4100\n"
     ]
    },
    {
     "name": "stdout",
     "output_type": "stream",
     "text": [
      "\n",
      "{'C': 100}\n"
     ]
    }
   ],
   "source": [
    "uncert_model.fit(K_train, y_train_masked, monitors=monitors)"
   ]
  },
  {
   "cell_type": "code",
   "execution_count": 25,
   "metadata": {
    "collapsed": false
   },
   "outputs": [
    {
     "data": {
      "image/png": "[encoded data removed]",
      "text/plain": [
       "<matplotlib.figure.Figure at 0x101ea0110>"
      ]
     },
     "metadata": {},
     "output_type": "display_data"
    }
   ],
   "source": [
    "### Plot model accuracy\n",
    "plt.clf()\n",
    "unc_wac = uncert_model._monitor_outputs['wac']\n",
    "unc_wac_valid = uncert_model._monitor_outputs['wac_valid']\n",
    "t = np.arange(len(unc_wac))\n",
    "p1 = plt.plot(t, unc_wac, 'r')\n",
    "p2 = plt.plot(t, unc_wac_valid, 'g')\n",
    "plt.legend((p1[0], p2[0]), ('WAC', 'WAC valid'), loc='best')\n",
    "plt.title('Models Accuracy')\n",
    "plt.show()"
   ]
  },
  {
   "cell_type": "code",
   "execution_count": 26,
   "metadata": {
    "collapsed": true
   },
   "outputs": [],
   "source": [
    "def generate_time_report(monitor_outputs):\n",
    "    # Returns dict with percentage/amount of time spent in each section (all keys with \"_time\" suffix)\n",
    "    report = {}\n",
    "    total_time = float(sum(monitor_outputs['iter_time']))\n",
    "    for k in monitor_outputs:\n",
    "        if k.endswith(\"_time\"):\n",
    "            report[k] = [sum(monitor_outputs[k]), sum(monitor_outputs[k]) / total_time]\n",
    "    return report"
   ]
  },
  {
   "cell_type": "code",
   "execution_count": 27,
   "metadata": {
    "collapsed": false
   },
   "outputs": [
    {
     "data": {
      "text/plain": [
       "{'est_mon_time': [0.002071857452392578, 8.149042877143728e-06],\n",
       " 'fit_time': [226.7475986480713, 0.8918450936567576],\n",
       " 'iter_time': [254.24549651145935, 1.0],\n",
       " 'oracle_time': [0.0436253547668457, 0.00017158752216041482],\n",
       " 'simple_logger_time': [0.029647111892700195, 0.0001166082085995334],\n",
       " 'strategy_time': [9.823477029800415, 0.03863776218100151],\n",
       " 'wac_time': [11.203063488006592, 0.04406396039153302],\n",
       " 'wac_valid_time': [2.004322052001953, 0.007883412211832882]}"
      ]
     },
     "execution_count": 27,
     "metadata": {},
     "output_type": "execute_result"
    }
   ],
   "source": [
    "generate_time_report(uncert_model._monitor_outputs)"
   ]
  }
 ],
 "metadata": {
  "kernelspec": {
   "display_name": "Python 2",
   "language": "python",
   "name": "python2"
  },
  "language_info": {
   "codemirror_mode": {
    "name": "ipython",
    "version": 2
   },
   "file_extension": ".py",
   "mimetype": "text/x-python",
   "name": "python",
   "nbconvert_exporter": "python",
   "pygments_lexer": "ipython2",
   "version": "2.7.10"
  }
 },
 "nbformat": 4,
 "nbformat_minor": 0
}
