{
 "cells": [
  {
   "cell_type": "markdown",
   "metadata": {},
   "source": [
    "## This script fits simple cross validated SVM using single fit and alpy\n",
    "\n",
    "## It should be straightforward to go from this script to running experiments on any fingerprint/compound pair"
   ]
  },
  {
   "cell_type": "code",
   "execution_count": 63,
   "metadata": {
    "collapsed": false
   },
   "outputs": [
    {
     "name": "stdout",
     "output_type": "stream",
     "text": [
      "The autoreload extension is already loaded. To reload it, use:\n",
      "  %reload_ext autoreload\n"
     ]
    }
   ],
   "source": [
    "% load_ext autoreload\n",
    "% autoreload 2\n",
    "import matplotlib.pylab as plt\n",
    "% matplotlib inline\n",
    "import sys\n",
    "import seaborn\n",
    "sys.path.insert(0, \"../mlls2015\")\n",
    "sys.path.insert(0, \"..\")\n",
    "import training_data\n",
    "from models.cv import AdaptiveGridSearchCV\n",
    "from training_data.datasets import CVBaseChemDataset\n",
    "import bunch\n",
    "import numpy as np\n",
    "from bunch import Bunch\n",
    "import os\n",
    "import logging\n",
    "from experiments.utils import wac_score\n",
    "from misc.utils import config_log_to_file\n",
    "\n",
    "import copy\n",
    "from models.balanced_models import *\n",
    "\n",
    "import matplotlib.pyplot as plt\n",
    "from sklearn.decomposition import PCA\n",
    "from sklearn.svm import SVC\n",
    "\n",
    "import alpy_addons\n",
    "from alpy_addons.active import ActiveLearner\n",
    "from alpy.datasets.generate import get_2d_gaussians\n",
    "from alpy_addons.monitors import *\n",
    "from alpy.oracle import SimulatedOracle\n",
    "from alpy.strategy import UncertaintySampling, PassiveStrategy\n",
    "\n",
    "from six import iteritems\n",
    "\n",
    "from alpy_addons.strategy import UncertaintySampling\n",
    "from alpy.utils import mask_unknowns\n",
    "\n",
    "from sklearn.grid_search import GridSearchCV"
   ]
  },
  {
   "cell_type": "code",
   "execution_count": 77,
   "metadata": {
    "collapsed": false
   },
   "outputs": [],
   "source": [
    "opts = Bunch({\"C_min\": -7, \n",
    "              \"C_max\": 6,\n",
    "              \"max_iter\": 80000000,\n",
    "              \"n_folds\": 5, \n",
    "              \"preprocess\": \"clip01\", #\"max_abs\", \n",
    "              \"fold\": 2, \n",
    "              \"compound\": \"SERT\", \n",
    "              \"representation\": \"MACCS\", \n",
    "              \"jaccard\": 0, \n",
    "              \"rng\": 777, \n",
    "              \"name\": \"test_svm_al\",\n",
    "              \"batch_size\": 100,\n",
    "              \"output_dir\": \"/Users/kudkudak/code/mlls2015/\"})"
   ]
  },
  {
   "cell_type": "code",
   "execution_count": 78,
   "metadata": {
    "collapsed": false
   },
   "outputs": [
    {
     "name": "stderr",
     "output_type": "stream",
     "text": [
      "INFO:fit_svm:{}\n",
      "INFO:fit_svm:test_svm_al\n"
     ]
    }
   ],
   "source": [
    "config_log_to_file(os.path.join(opts.output_dir, opts.name + \".log\"), clear_log_file=True)\n",
    "logger = logging.getLogger(\"fit_svm\")\n",
    "logger.info(opts.__dict__)\n",
    "logger.info(opts.name)"
   ]
  },
  {
   "cell_type": "code",
   "execution_count": 79,
   "metadata": {
    "collapsed": false
   },
   "outputs": [],
   "source": [
    "data = CVBaseChemDataset(compound=opts.compound, representation=opts.representation, n_folds=opts.n_folds, rng=opts.rng,\n",
    "                       preprocess=opts.preprocess)\n",
    "(X_train, y_train), (X_valid, y_valid) = data.get_data(fold=opts.fold)\n",
    "if opts.jaccard:\n",
    "    K_train, K_valid = calculate_jaccard_kernel(data=data, fold=opts.fold)"
   ]
  },
  {
   "cell_type": "code",
   "execution_count": 80,
   "metadata": {
    "collapsed": true
   },
   "outputs": [],
   "source": [
    "y_train_masked = mask_unknowns(y_train, np.random.choice(X_train.shape[0], size=X_train.shape[0] - 100, replace=False))"
   ]
  },
  {
   "cell_type": "code",
   "execution_count": 81,
   "metadata": {
    "collapsed": true
   },
   "outputs": [],
   "source": [
    "def wac_scoring(estimator, X, y):\n",
    "    return wac_score(y, estimator.predict(X))"
   ]
  },
  {
   "cell_type": "code",
   "execution_count": 82,
   "metadata": {
    "collapsed": false
   },
   "outputs": [],
   "source": [
    "m = AdaptiveGridSearchCV(d=1, \n",
    "                       estimator=SVC(random_state=opts.rng, kernel='precomputed', max_iter=opts.max_iter), \n",
    "                       param_grid = \n",
    "                           {\n",
    "                             \"C\": [10**c for c in range(opts.C_min, opts.C_max + 1)]}, \n",
    "                       cv=3, \n",
    "                       scoring=wac_scoring, \n",
    "                       error_score=0.)"
   ]
  },
  {
   "cell_type": "code",
   "execution_count": 83,
   "metadata": {
    "collapsed": true
   },
   "outputs": [],
   "source": [
    "def tanimoto(X, W, b=None):\n",
    "    if not hasattr(X, \"toarray\"):\n",
    "        W = W.toarray()\n",
    "\n",
    "    XW = X.dot(W.T)\n",
    "    XX = X.multiply(X).sum(axis=1).reshape(-1, 1)\n",
    "    WW = W.multiply(W).sum(axis=1).reshape(1, -1)\n",
    "    return XW.toarray() / (XX+WW-XW)"
   ]
  },
  {
   "cell_type": "code",
   "execution_count": 84,
   "metadata": {
    "collapsed": true
   },
   "outputs": [],
   "source": [
    "K_train = tanimoto(X_train, X_train)\n",
    "K_valid = tanimoto(X_valid, X_train)"
   ]
  },
  {
   "cell_type": "code",
   "execution_count": 85,
   "metadata": {
    "collapsed": false
   },
   "outputs": [
    {
     "data": {
      "text/plain": [
       "(4231, 4231)"
      ]
     },
     "execution_count": 85,
     "metadata": {},
     "output_type": "execute_result"
    }
   ],
   "source": [
    "K_train.shape"
   ]
  },
  {
   "cell_type": "code",
   "execution_count": 86,
   "metadata": {
    "collapsed": false
   },
   "outputs": [],
   "source": [
    "uncert_model = ActiveLearner(strategy=UncertaintySampling(),\n",
    "                             random_state=opts.rng,\n",
    "                             batch_size=opts.batch_size,\n",
    "                              oracle=SimulatedOracle(sample_budget=np.inf),\n",
    "                              estimator=m)"
   ]
  },
  {
   "cell_type": "code",
   "execution_count": 87,
   "metadata": {
    "collapsed": false
   },
   "outputs": [],
   "source": [
    "monitors = []\n",
    "\n",
    "monitors.append(MetricMonitor(name=\"wac_score\",\n",
    "                        short_name=\"wac\",\n",
    "                        function=wac_score,\n",
    "                        ids=\"all\",\n",
    "                        frequency=1))\n",
    "\n",
    "\n",
    "monitors.append(MetricMonitor(name=\"wac_score_labeled\",\n",
    "                        short_name=\"wac_labeled\",\n",
    "                        function=wac_score,\n",
    "                        ids=\"known\",\n",
    "                        frequency=1))\n",
    "\n",
    "monitors.append(MetricMonitor(name=\"wac_score_unlabeled\",\n",
    "                        short_name=\"wac_unlabeled\",\n",
    "                        function=wac_score,\n",
    "                        ids=\"unknown\",\n",
    "                        frequency=1))\n",
    "\n",
    "monitors.append(MetricMonitor(name=\"wac_score_valid\",\n",
    "                        short_name=\"wac_valid\",\n",
    "                        function=wac_score,\n",
    "                        frequency=1,\n",
    "                        X=K_valid,\n",
    "                        y=y_valid))\n",
    "\n",
    "monitors.append(SimpleLogger(batch_size=opts.batch_size))\n",
    "\n",
    "monitors.append(EstimatorMonitor(only_params=True))"
   ]
  },
  {
   "cell_type": "code",
   "execution_count": 88,
   "metadata": {
    "collapsed": false,
    "scrolled": true
   },
   "outputs": [
    {
     "name": "stderr",
     "output_type": "stream",
     "text": [
      "INFO:alpy_addons.monitors:iter 0\n",
      "INFO:alpy_addons.monitors:iter 100\n",
      "INFO:alpy_addons.monitors:iter 200\n",
      "INFO:alpy_addons.monitors:iter 300\n",
      "INFO:alpy_addons.monitors:iter 400\n",
      "INFO:alpy_addons.monitors:iter 500\n",
      "INFO:alpy_addons.monitors:iter 600\n",
      "INFO:alpy_addons.monitors:iter 700\n",
      "INFO:alpy_addons.monitors:iter 800\n",
      "INFO:alpy_addons.monitors:iter 900\n",
      "INFO:alpy_addons.monitors:iter 1000\n",
      "INFO:alpy_addons.monitors:iter 1100\n",
      "INFO:alpy_addons.monitors:iter 1200\n",
      "INFO:alpy_addons.monitors:iter 1300\n",
      "INFO:alpy_addons.monitors:iter 1400\n",
      "INFO:alpy_addons.monitors:iter 1500\n",
      "INFO:alpy_addons.monitors:iter 1600\n",
      "INFO:alpy_addons.monitors:iter 1700\n",
      "INFO:alpy_addons.monitors:iter 1800\n",
      "INFO:alpy_addons.monitors:iter 1900\n",
      "INFO:alpy_addons.monitors:iter 2000\n",
      "INFO:alpy_addons.monitors:iter 2100\n",
      "INFO:alpy_addons.monitors:iter 2200\n",
      "INFO:alpy_addons.monitors:iter 2300\n",
      "INFO:alpy_addons.monitors:iter 2400\n",
      "INFO:alpy_addons.monitors:iter 2500\n",
      "INFO:alpy_addons.monitors:iter 2600\n",
      "INFO:alpy_addons.monitors:iter 2700\n",
      "INFO:alpy_addons.monitors:iter 2800\n",
      "INFO:alpy_addons.monitors:iter 2900\n",
      "INFO:alpy_addons.monitors:iter 3000\n",
      "INFO:alpy_addons.monitors:iter 3100\n",
      "INFO:alpy_addons.monitors:iter 3200\n",
      "INFO:alpy_addons.monitors:iter 3300\n",
      "INFO:alpy_addons.monitors:iter 3400\n",
      "INFO:alpy_addons.monitors:iter 3500\n",
      "INFO:alpy_addons.monitors:iter 3600\n",
      "INFO:alpy_addons.monitors:iter 3700\n",
      "INFO:alpy_addons.monitors:iter 3800\n",
      "INFO:alpy_addons.monitors:iter 3900\n",
      "INFO:alpy_addons.monitors:iter 4000\n",
      "INFO:alpy_addons.monitors:iter 4100\n"
     ]
    }
   ],
   "source": [
    "uncert_model.fit(K_train, y_train_masked, monitors=monitors)"
   ]
  },
  {
   "cell_type": "code",
   "execution_count": 89,
   "metadata": {
    "collapsed": false
   },
   "outputs": [
    {
     "data": {
      "image/png": "[encoded data removed]",
      "text/plain": [
       "<matplotlib.figure.Figure at 0x1147b5850>"
      ]
     },
     "metadata": {},
     "output_type": "display_data"
    }
   ],
   "source": [
    "### Plot model accuracy\n",
    "plt.clf()\n",
    "unc_wac = uncert_model._monitor_outputs['wac']\n",
    "unc_wac_valid = uncert_model._monitor_outputs['wac_valid']\n",
    "t = np.arange(len(unc_wac))\n",
    "p1 = plt.plot(t, unc_wac, 'r')\n",
    "p2 = plt.plot(t, unc_wac_valid, 'g')\n",
    "plt.legend((p1[0], p2[0]), ('WAC', 'WAC valid'), loc='best')\n",
    "plt.title('Models Accuracy')\n",
    "plt.show()"
   ]
  },
  {
   "cell_type": "code",
   "execution_count": 90,
   "metadata": {
    "collapsed": true
   },
   "outputs": [],
   "source": [
    "def generate_time_report(monitor_outputs):\n",
    "    # Returns dict with percentage/amount of time spent in each section (all keys with \"_time\" suffix)\n",
    "    report = {}\n",
    "    total_time = float(sum(monitor_outputs['iter_time']))\n",
    "    for k in monitor_outputs:\n",
    "        if k.endswith(\"_time\"):\n",
    "            report[k] = [sum(monitor_outputs[k]), sum(monitor_outputs[k]) / total_time]\n",
    "    return report"
   ]
  },
  {
   "cell_type": "code",
   "execution_count": 91,
   "metadata": {
    "collapsed": false
   },
   "outputs": [
    {
     "data": {
      "text/plain": [
       "{'est_mon_time': [0.03255581855773926, 0.0006484061371893269],\n",
       " 'fit_time': [9.67650055885315, 0.1927244537792397],\n",
       " 'iter_time': [50.20899200439453, 1.0],\n",
       " 'oracle_time': [0.04248356819152832, 0.0008461346562745166],\n",
       " 'simple_logger_time': [0.032590389251708984, 0.0006490946730987254],\n",
       " 'strategy_time': [10.31149959564209, 0.20537157158501765],\n",
       " 'wac_labeled_time': [7.908846139907837, 0.15751852057128765],\n",
       " 'wac_time': [11.136607885360718, 0.22180504807557158],\n",
       " 'wac_unlabeled_time': [4.341932773590088, 0.08647719462701145],\n",
       " 'wac_valid_time': [2.079054117202759, 0.041408003511020294]}"
      ]
     },
     "execution_count": 91,
     "metadata": {},
     "output_type": "execute_result"
    }
   ],
   "source": [
    "generate_time_report(uncert_model._monitor_outputs)"
   ]
  },
  {
   "cell_type": "code",
   "execution_count": null,
   "metadata": {
    "collapsed": true
   },
   "outputs": [],
   "source": [
    "# TODO: write test that will:\n",
    "# - check repeatibility of whole AL experiment\n",
    "# - check that final accuracy is SAME as fitting just single estimator"
   ]
  }
 ],
 "metadata": {
  "kernelspec": {
   "display_name": "Python 2",
   "language": "python",
   "name": "python2"
  },
  "language_info": {
   "codemirror_mode": {
    "name": "ipython",
    "version": 2
   },
   "file_extension": ".py",
   "mimetype": "text/x-python",
   "name": "python",
   "nbconvert_exporter": "python",
   "pygments_lexer": "ipython2",
   "version": "2.7.10"
  }
 },
 "nbformat": 4,
 "nbformat_minor": 0
}
