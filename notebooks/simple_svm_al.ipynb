{
 "cells": [
  {
   "cell_type": "markdown",
   "metadata": {},
   "source": [
    "## This script fits simple cross validated SVM using single fit and alpy\n",
    "\n",
    "## It should be straightforward to go from this script to running experiments on any fingerprint/compound pair"
   ]
  },
  {
   "cell_type": "code",
   "execution_count": null,
   "metadata": {
    "collapsed": true
   },
   "outputs": [],
   "source": [
    "% load_ext autoreload\n",
    "% autoreload 2\n",
    "import matplotlib.pylab as plt\n",
    "% matplotlib inline\n",
    "import sys\n",
    "import gzip\n",
    "import seaborn\n",
    "from os import path\n",
    "sys.path.insert(0, \"../mlls2015\")\n",
    "sys.path.insert(0, \"..\")\n",
    "import training_data\n",
    "from models.cv import AdaptiveGridSearchCV\n",
    "from training_data.datasets import CVBaseChemDataset\n",
    "import bunch\n",
    "import numpy as np\n",
    "from bunch import Bunch\n",
    "import os\n",
    "import logging\n",
    "import json\n",
    "from experiments.utils import wac_score\n",
    "from misc.config import RESULTS_DIR\n",
    "from misc.utils import config_log_to_file\n",
    "\n",
    "import copy\n",
    "from models.balanced_models import *\n",
    "import cPickle\n",
    "import matplotlib.pyplot as plt\n",
    "from sklearn.decomposition import PCA\n",
    "from sklearn.svm import SVC\n",
    "\n",
    "from misc.utils import get_run_properties\n",
    "\n",
    "import alpy\n",
    "import alpy_addons\n",
    "from alpy_addons.active import ActiveLearner\n",
    "from alpy.datasets.generate import get_2d_gaussians\n",
    "from alpy_addons.monitors import *\n",
    "from alpy.oracle import SimulatedOracle\n",
    "from six import iteritems\n",
    "\n",
    "from alpy_addons.strategy import UncertaintySampling, PassiveStrategy\n",
    "from alpy.utils import mask_unknowns\n",
    "\n",
    "from sklearn.metrics import auc\n",
    "\n",
    "from training_data.datasets import calculate_jaccard_kernel\n",
    "\n",
    "from sklearn.grid_search import GridSearchCV\n",
    "\n",
    "opts = Bunch({\"C_min\": -6, \n",
    "              \"C_max\": 5,\n",
    "              \"internal_cv\": 4,\n",
    "              \"max_iter\": 10000000,\n",
    "              \"n_folds\": 5, \n",
    "              \"preprocess\": \"clip01\", #\"max_abs\", \n",
    "              \"fold\": 3, \n",
    "              \"d\": 1,\n",
    "              \"output_dir\": \"lol\",\n",
    "              \"warm_start\": 20, # TODO: add cluster-dependent warm_start\n",
    "              \"strategy_kwargs\": \"\",\n",
    "              \"strategy\": \"UncertaintySampling\",\n",
    "              \"compound\": \"5-HT1a\", \n",
    "              \"representation\": \"MACCS\", \n",
    "              \"jaccard\": 1, \n",
    "              \"rng\": 777, \n",
    "              \"name\": \"test_svm_al\",\n",
    "              \"batch_size\": 50})\n",
    "\n"
   ]
  },
  {
   "cell_type": "code",
   "execution_count": null,
   "metadata": {
    "collapsed": true
   },
   "outputs": [],
   "source": [
    "# TODO: write test that will:\n",
    "# - check repeatibility of whole AL experiment\n",
    "# - check that final accuracy is SAME as fitting just single estimator\n",
    "# - check that we have a classifier that doesn't overfit!\n",
    "# - sanity checks for results:\n",
    "    # * CV not picked on the borders in more than 5% of cases\n",
    "    # * performance is lower than 98% on labeled in 50% of time"
   ]
  }
 ],
 "metadata": {
  "kernelspec": {
   "display_name": "Python 2",
   "language": "python",
   "name": "python2"
  },
  "language_info": {
   "codemirror_mode": {
    "name": "ipython",
    "version": 2
   },
   "file_extension": ".py",
   "mimetype": "text/x-python",
   "name": "python",
   "nbconvert_exporter": "python",
   "pygments_lexer": "ipython2",
   "version": "2.7.10"
  }
 },
 "nbformat": 4,
 "nbformat_minor": 0
}
