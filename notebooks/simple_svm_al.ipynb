{
 "cells": [
  {
   "cell_type": "markdown",
   "metadata": {},
   "source": [
    "## This script fits simple cross validated SVM using single fit and alpy\n",
    "\n",
    "## It should be straightforward to go from this script to running experiments on any fingerprint/compound pair"
   ]
  },
  {
   "cell_type": "code",
   "execution_count": 100,
   "metadata": {
    "collapsed": false
   },
   "outputs": [
    {
     "name": "stdout",
     "output_type": "stream",
     "text": [
      "The autoreload extension is already loaded. To reload it, use:\n",
      "  %reload_ext autoreload\n"
     ]
    }
   ],
   "source": [
    "% load_ext autoreload\n",
    "% autoreload 2\n",
    "import matplotlib.pylab as plt\n",
    "% matplotlib inline\n",
    "import sys\n",
    "import seaborn\n",
    "sys.path.insert(0, \"../mlls2015\")\n",
    "sys.path.insert(0, \"..\")\n",
    "import training_data\n",
    "from models.cv import AdaptiveGridSearchCV\n",
    "from training_data.datasets import CVBaseChemDataset\n",
    "import bunch\n",
    "import numpy as np\n",
    "from bunch import Bunch\n",
    "import os\n",
    "import logging\n",
    "from experiments.utils import wac_score\n",
    "from misc.utils import config_log_to_file\n",
    "\n",
    "import copy\n",
    "from models.balanced_models import *\n",
    "\n",
    "import matplotlib.pyplot as plt\n",
    "from sklearn.decomposition import PCA\n",
    "from sklearn.svm import SVC\n",
    "\n",
    "import alpy\n",
    "import alpy_addons\n",
    "from alpy_addons.active import ActiveLearner\n",
    "from alpy.datasets.generate import get_2d_gaussians\n",
    "from alpy_addons.monitors import *\n",
    "from alpy.oracle import SimulatedOracle\n",
    "from six import iteritems\n",
    "\n",
    "from alpy_addons.strategy import UncertaintySampling, PassiveStrategy\n",
    "from alpy.utils import mask_unknowns\n",
    "\n",
    "from sklearn.metrics import auc\n",
    "\n",
    "from training_data.datasets import calculate_jaccard_kernel\n",
    "\n",
    "from sklearn.grid_search import GridSearchCV"
   ]
  },
  {
   "cell_type": "code",
   "execution_count": 101,
   "metadata": {
    "collapsed": false
   },
   "outputs": [],
   "source": [
    "opts = Bunch({\"C_min\": -6, \n",
    "              \"C_max\": 5,\n",
    "              \"internal_cv\": 4,\n",
    "              \"max_iter\": 10000000,\n",
    "              \"n_folds\": 5, \n",
    "              \"preprocess\": \"clip01\", #\"max_abs\", \n",
    "              \"fold\": 3, \n",
    "              \"d\": 1,\n",
    "              \"warm_start\": 20, # TODO: add cluster-dependent warm_start\n",
    "              \"strategy_kwargs\": \"\",\n",
    "              \"strategy\": \"UncertaintySampling\",\n",
    "              \"compound\": \"5-HT1a\", \n",
    "              \"representation\": \"MACCS\", \n",
    "              \"jaccard\": 1, \n",
    "              \"rng\": 777, \n",
    "              \"name\": \"test_svm_al\",\n",
    "              \"batch_size\": 50,\n",
    "              \"output_dir\": \"/Users/kudkudak/code/mlls2015/\"})"
   ]
  },
  {
   "cell_type": "code",
   "execution_count": 102,
   "metadata": {
    "collapsed": true
   },
   "outputs": [],
   "source": [
    "# TODO: try to underfit"
   ]
  },
  {
   "cell_type": "code",
   "execution_count": 103,
   "metadata": {
    "collapsed": false
   },
   "outputs": [
    {
     "name": "stderr",
     "output_type": "stream",
     "text": [
      "INFO:fit_svm:{}\n",
      "INFO:fit_svm:test_svm_al\n"
     ]
    }
   ],
   "source": [
    "config_log_to_file(os.path.join(opts.output_dir, opts.name + \".log\"), clear_log_file=True)\n",
    "logger = logging.getLogger(\"fit_svm\")\n",
    "logger.info(opts.__dict__)\n",
    "logger.info(opts.name)"
   ]
  },
  {
   "cell_type": "code",
   "execution_count": 104,
   "metadata": {
    "collapsed": false
   },
   "outputs": [],
   "source": [
    "data = CVBaseChemDataset(compound=opts.compound, representation=opts.representation, n_folds=opts.n_folds, rng=opts.rng,\n",
    "                       preprocess=opts.preprocess)\n",
    "(X_train, y_train), (X_valid, y_valid) = data.get_data(fold=opts.fold)\n",
    "if opts.jaccard:\n",
    "    X_train, X_valid = calculate_jaccard_kernel(data=data, fold=opts.fold)\n",
    "    \n",
    "X_train = X_train\n",
    "y_train = y_train"
   ]
  },
  {
   "cell_type": "code",
   "execution_count": 105,
   "metadata": {
    "collapsed": true
   },
   "outputs": [],
   "source": [
    "y_train_masked = mask_unknowns(y_train, \n",
    "                               np.random.choice(X_train.shape[0], \n",
    "                                                size=X_train.shape[0] - opts.warm_start, replace=False))"
   ]
  },
  {
   "cell_type": "code",
   "execution_count": 106,
   "metadata": {
    "collapsed": true
   },
   "outputs": [],
   "source": [
    "def wac_scoring(estimator, X, y):\n",
    "    return wac_score(y, estimator.predict(X))"
   ]
  },
  {
   "cell_type": "code",
   "execution_count": 107,
   "metadata": {
    "collapsed": false
   },
   "outputs": [],
   "source": [
    "kernel = \"precomputed\" if opts.jaccard else \"linear\"\n",
    "\n",
    "if opts.d <= 0:\n",
    "    estimator = GridSearchCV(\n",
    "                           estimator=SVC(random_state=opts.rng, kernel=kernel, max_iter=opts.max_iter), \n",
    "                           param_grid = \n",
    "                               {\n",
    "                                 \"C\": [10**c for c in range(opts.C_min, opts.C_max + 1)]}, \n",
    "                           cv=opts.internal_cv, \n",
    "                           scoring=wac_scoring, \n",
    "                           error_score=0.)\n",
    "else:\n",
    "    estimator = AdaptiveGridSearchCV(d=opts.d, \n",
    "                           estimator=SVC(random_state=opts.rng, kernel=kernel, max_iter=opts.max_iter), \n",
    "                           param_grid = \n",
    "                               {\n",
    "                                 \"C\": [10**c for c in range(opts.C_min, opts.C_max + 1)]}, \n",
    "                           cv=opts.internal_cv, \n",
    "                           scoring=wac_scoring, \n",
    "                           error_score=0.)"
   ]
  },
  {
   "cell_type": "code",
   "execution_count": 108,
   "metadata": {
    "collapsed": false
   },
   "outputs": [
    {
     "name": "stderr",
     "output_type": "stream",
     "text": [
      "INFO:fit_svm:Parsed strategy kwargs: {}\n"
     ]
    }
   ],
   "source": [
    "StrategyCls = getattr(alpy_addons.strategy, opts.strategy, getattr(alpy.strategy, opts.strategy, None))\n",
    "if not StrategyCls:\n",
    "    raise RuntimeError(\"Not found strategy \" + opts.strategy)\n",
    "strategy_kwargs = {token.split()[0]: float(token.split()[1]) for token in opts.strategy_kwargs.split()}\n",
    "logger.info(\"Parsed strategy kwargs: \" + str(strategy_kwargs))\n",
    "strategy = StrategyCls(**strategy_kwargs)"
   ]
  },
  {
   "cell_type": "code",
   "execution_count": 109,
   "metadata": {
    "collapsed": false
   },
   "outputs": [],
   "source": [
    "al = ActiveLearner(strategy=strategy,\n",
    "                             random_state=opts.rng,\n",
    "                             batch_size=opts.batch_size,\n",
    "                             oracle=SimulatedOracle(sample_budget=np.inf),\n",
    "                             estimator=estimator)"
   ]
  },
  {
   "cell_type": "code",
   "execution_count": null,
   "metadata": {
    "collapsed": false
   },
   "outputs": [],
   "source": [
    "# TODO: add cluster monitors\n",
    "\n",
    "monitors = []\n",
    "\n",
    "monitors.append(ExtendedMetricMonitor(name=\"wac_score\",\n",
    "                        short_name=\"wac_score\",\n",
    "                        function=wac_score,\n",
    "                        ids=\"all\",\n",
    "                        frequency=1))\n",
    "\n",
    "\n",
    "monitors.append(ExtendedMetricMonitor(name=\"wac_score_labeled\",\n",
    "                        short_name=\"wac_score_labeled\",\n",
    "                        function=wac_score,\n",
    "                        ids=\"known\",\n",
    "                        frequency=1))\n",
    "\n",
    "monitors.append(ExtendedMetricMonitor(name=\"wac_score_unlabeled\",\n",
    "                        short_name=\"wac_score_unlabeled\",\n",
    "                        function=wac_score,\n",
    "                        ids=\"unknown\",\n",
    "                        frequency=1))\n",
    "\n",
    "monitors.append(ExtendedMetricMonitor(name=\"wac_score_valid\",\n",
    "                        short_name=\"wac_score_valid\",\n",
    "                        function=wac_score,\n",
    "                        frequency=1,\n",
    "                        X=X_valid,\n",
    "                        y=y_valid))\n",
    "\n",
    "monitors.append(SimpleLogger(batch_size=opts.batch_size))\n",
    "\n",
    "monitors.append(EstimatorMonitor(only_params=True))\n",
    "\n",
    "monitors.append(GridScoresMonitor())"
   ]
  },
  {
   "cell_type": "code",
   "execution_count": null,
   "metadata": {
    "collapsed": false,
    "scrolled": false
   },
   "outputs": [
    {
     "name": "stderr",
     "output_type": "stream",
     "text": [
      "INFO:alpy_addons.monitors:iter 0\n",
      "INFO:alpy_addons.monitors:iter 50\n",
      "INFO:alpy_addons.monitors:iter 100\n",
      "INFO:alpy_addons.monitors:iter 150\n",
      "INFO:alpy_addons.monitors:iter 200\n",
      "INFO:alpy_addons.monitors:iter 250\n",
      "INFO:alpy_addons.monitors:iter 300\n",
      "INFO:alpy_addons.monitors:iter 350\n",
      "INFO:alpy_addons.monitors:iter 400\n",
      "INFO:alpy_addons.monitors:iter 450\n",
      "INFO:alpy_addons.monitors:iter 500\n",
      "INFO:alpy_addons.monitors:iter 550\n",
      "INFO:alpy_addons.monitors:iter 600\n",
      "INFO:alpy_addons.monitors:iter 650\n",
      "INFO:alpy_addons.monitors:iter 700\n",
      "INFO:alpy_addons.monitors:iter 750\n",
      "INFO:alpy_addons.monitors:iter 800\n",
      "INFO:alpy_addons.monitors:iter 850\n",
      "INFO:alpy_addons.monitors:iter 900\n",
      "INFO:alpy_addons.monitors:iter 950\n",
      "INFO:alpy_addons.monitors:iter 1000\n",
      "INFO:alpy_addons.monitors:iter 1050\n",
      "INFO:alpy_addons.monitors:iter 1100\n",
      "INFO:alpy_addons.monitors:iter 1150\n",
      "INFO:alpy_addons.monitors:iter 1200\n",
      "INFO:alpy_addons.monitors:iter 1250\n",
      "INFO:alpy_addons.monitors:iter 1300\n",
      "INFO:alpy_addons.monitors:iter 1350\n",
      "INFO:alpy_addons.monitors:iter 1400\n",
      "INFO:alpy_addons.monitors:iter 1450\n",
      "INFO:alpy_addons.monitors:iter 1500\n",
      "INFO:alpy_addons.monitors:iter 1550\n",
      "INFO:alpy_addons.monitors:iter 1600\n",
      "INFO:alpy_addons.monitors:iter 1650\n",
      "INFO:alpy_addons.monitors:iter 1700\n",
      "INFO:alpy_addons.monitors:iter 1750\n",
      "INFO:alpy_addons.monitors:iter 1800\n",
      "INFO:alpy_addons.monitors:iter 1850\n",
      "INFO:alpy_addons.monitors:iter 1900\n",
      "INFO:alpy_addons.monitors:iter 1950\n",
      "INFO:alpy_addons.monitors:iter 2000\n",
      "INFO:alpy_addons.monitors:iter 2050\n",
      "INFO:alpy_addons.monitors:iter 2100\n",
      "INFO:alpy_addons.monitors:iter 2150\n",
      "INFO:alpy_addons.monitors:iter 2200\n",
      "INFO:alpy_addons.monitors:iter 2250\n",
      "INFO:alpy_addons.monitors:iter 2300\n",
      "INFO:alpy_addons.monitors:iter 2350\n",
      "INFO:alpy_addons.monitors:iter 2400\n",
      "INFO:alpy_addons.monitors:iter 2450\n",
      "INFO:alpy_addons.monitors:iter 2500\n",
      "INFO:alpy_addons.monitors:iter 2550\n",
      "INFO:alpy_addons.monitors:iter 2600\n",
      "INFO:alpy_addons.monitors:iter 2650\n",
      "INFO:alpy_addons.monitors:iter 2700\n",
      "INFO:alpy_addons.monitors:iter 2750\n",
      "INFO:alpy_addons.monitors:iter 2800\n",
      "INFO:alpy_addons.monitors:iter 2850\n",
      "INFO:alpy_addons.monitors:iter 2900\n",
      "INFO:alpy_addons.monitors:iter 2950\n",
      "INFO:alpy_addons.monitors:iter 3000\n",
      "INFO:alpy_addons.monitors:iter 3050\n",
      "INFO:alpy_addons.monitors:iter 3100\n",
      "INFO:alpy_addons.monitors:iter 3150\n",
      "INFO:alpy_addons.monitors:iter 3200\n",
      "INFO:alpy_addons.monitors:iter 3250\n",
      "INFO:alpy_addons.monitors:iter 3300\n",
      "INFO:alpy_addons.monitors:iter 3350\n",
      "INFO:alpy_addons.monitors:iter 3400\n",
      "INFO:alpy_addons.monitors:iter 3450\n",
      "INFO:alpy_addons.monitors:iter 3500\n",
      "INFO:alpy_addons.monitors:iter 3550\n",
      "INFO:alpy_addons.monitors:iter 3600\n",
      "INFO:alpy_addons.monitors:iter 3650\n",
      "INFO:alpy_addons.monitors:iter 3700\n",
      "INFO:alpy_addons.monitors:iter 3750\n",
      "INFO:alpy_addons.monitors:iter 3800\n",
      "INFO:alpy_addons.monitors:iter 3850\n"
     ]
    }
   ],
   "source": [
    "al.fit(X_train, y_train_masked, monitors=monitors)"
   ]
  },
  {
   "cell_type": "code",
   "execution_count": 15,
   "metadata": {
    "collapsed": false
   },
   "outputs": [],
   "source": [
    "def plot(m):\n",
    "    ### Plot model accuracy\n",
    "    plt.clf()\n",
    "    unc_wac = m['wac_score_labeled']\n",
    "    unc_wac_unlabeled = m['wac_score_unlabeled']\n",
    "    unc_wac_valid = m['wac_score_valid']\n",
    "\n",
    "    t = np.arange(len(unc_wac)) * opts.batch_size\n",
    "    p1 = plt.plot(t, unc_wac, 'r')\n",
    "    p2 = plt.plot(t, unc_wac_valid, 'g')\n",
    "    p3 = plt.plot(t, unc_wac_unlabeled, 'b')\n",
    "    plt.legend((p1[0], p2[0], p3[0]), ('WAC_labeled', 'WAC valid', 'WAC not seen'), loc='best')\n",
    "    plt.title('Models Accuracy')\n",
    "    plt.show()"
   ]
  },
  {
   "cell_type": "code",
   "execution_count": 44,
   "metadata": {
    "collapsed": false
   },
   "outputs": [
    {
     "data": {
      "image/png": "[encoded data removed]",
      "text/plain": [
       "<matplotlib.figure.Figure at 0x11570d150>"
      ]
     },
     "metadata": {},
     "output_type": "display_data"
    }
   ],
   "source": [
    "plot(monitor_outputs_cv_j_u)"
   ]
  },
  {
   "cell_type": "code",
   "execution_count": null,
   "metadata": {
    "collapsed": true
   },
   "outputs": [],
   "source": [
    "def generate_time_report(monitor_outputs):\n",
    "    # Returns dict with percentage/amount of time spent in each section (all keys with \"_time\" suffix)\n",
    "    report = {}\n",
    "    total_time = float(sum(monitor_outputs['iter_time']))\n",
    "    for k in monitor_outputs:\n",
    "        if k.endswith(\"_time\"):\n",
    "            report[k] = [sum(monitor_outputs[k]), sum(monitor_outputs[k]) / total_time]\n",
    "    return report"
   ]
  },
  {
   "cell_type": "code",
   "execution_count": null,
   "metadata": {
    "collapsed": true
   },
   "outputs": [],
   "source": [
    "def calculate_scores(monitor_outputs):\n",
    "    scores = {}\n",
    "    for k in monitor_outputs:\n",
    "        if \"score\" in k:\n",
    "            scores[k + \"_mean\"] = np.mean(monitor_outputs[k])\n",
    "            scores[k + \"_auc\"] = auc(np.arange(len(monitor_outputs[k])), monitor_outputs[k])\n",
    "    return scores"
   ]
  },
  {
   "cell_type": "code",
   "execution_count": null,
   "metadata": {
    "collapsed": true
   },
   "outputs": [],
   "source": [
    "json_results = dict(best_results)\n",
    "json_results['cmd'] = \"{} {}\".format(__file__, \" \".join(\"--{} {}\".format(k, v) for k, v in iteritems(opts.__dict__)))\n",
    "json_results['opts'] = opts.__dict__\n",
    "json_results['dataset'] = data.get_params()\n",
    "json_results['time_reports'] = generate_time_report(al.monitor_outputs_)\n",
    "json_results['scores'] = calculate_scores(al.monitor_outputs_)\n",
    "del json_results['y_pred']\n",
    "\n",
    "json.dump(json_results, open(path.join(output_dir, name + \".json\"), \"w\"), indent=4, sort_keys=True)\n",
    "cPickle.dump(al.monitor_outputs_, gzip.open(path.join(output_dir, name + \".pkl.gz\"), \"w\"))"
   ]
  },
  {
   "cell_type": "code",
   "execution_count": null,
   "metadata": {
    "collapsed": true
   },
   "outputs": [],
   "source": [
    "# TODO: write test that will:\n",
    "# - check repeatibility of whole AL experiment\n",
    "# - check that final accuracy is SAME as fitting just single estimator\n",
    "# - check that we have a classifier that doesn't overfit!\n",
    "# - sanity checks for results:\n",
    "    # * CV not picked on the borders in more than 5% of cases\n",
    "    # * performance is lower than 98% on labeled in 50% of time"
   ]
  },
  {
   "cell_type": "code",
   "execution_count": null,
   "metadata": {
    "collapsed": true
   },
   "outputs": [],
   "source": []
  }
 ],
 "metadata": {
  "kernelspec": {
   "display_name": "Python 2",
   "language": "python",
   "name": "python2"
  },
  "language_info": {
   "codemirror_mode": {
    "name": "ipython",
    "version": 2
   },
   "file_extension": ".py",
   "mimetype": "text/x-python",
   "name": "python",
   "nbconvert_exporter": "python",
   "pygments_lexer": "ipython2",
   "version": "2.7.10"
  }
 },
 "nbformat": 4,
 "nbformat_minor": 0
}
