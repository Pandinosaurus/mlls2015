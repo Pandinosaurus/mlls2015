{
 "cells": [
  {
   "cell_type": "markdown",
   "metadata": {},
   "source": [
    "## This script fits simple cross validated SVM using single fit and alpy\n",
    "\n",
    "## It should be straightforward to go from this script to running experiments on any fingerprint/compound pair"
   ]
  },
  {
   "cell_type": "code",
   "execution_count": null,
   "metadata": {
    "collapsed": true
   },
   "outputs": [],
   "source": [
    "#TODO: - sanity checks for results:\n",
    "    # * CV not picked on the borders in more than 5% of cases\n",
    "    # * performance is lower than 98% on labeled in 50% of time"
   ]
  },
  {
   "cell_type": "code",
   "execution_count": 21,
   "metadata": {
    "collapsed": false
   },
   "outputs": [
    {
     "name": "stdout",
     "output_type": "stream",
     "text": [
      "The autoreload extension is already loaded. To reload it, use:\n",
      "  %reload_ext autoreload\n"
     ]
    }
   ],
   "source": [
    "% load_ext autoreload\n",
    "% autoreload 2\n",
    "import matplotlib.pylab as plt\n",
    "% matplotlib inline\n",
    "import sys\n",
    "import gzip\n",
    "import seaborn\n",
    "from os import path\n",
    "sys.path.insert(0, \"../mlls2015\")\n",
    "sys.path.insert(0, \"..\")\n",
    "import training_data\n",
    "from models.cv import AdaptiveGridSearchCV\n",
    "from training_data.datasets import CVBaseChemDataset\n",
    "import bunch\n",
    "import numpy as np\n",
    "from bunch import Bunch\n",
    "import os\n",
    "import logging\n",
    "import json\n",
    "from experiments.utils import wac_score\n",
    "from misc.config import RESULTS_DIR\n",
    "from misc.utils import config_log_to_file\n",
    "\n",
    "from misc.config import BASE_DIR\n",
    "import cPickle\n",
    "import gzip\n",
    "\n",
    "import copy\n",
    "from models.balanced_models import *\n",
    "import cPickle\n",
    "import matplotlib.pyplot as plt\n",
    "from sklearn.decomposition import PCA\n",
    "from sklearn.svm import SVC\n",
    "\n",
    "from misc.utils import get_run_properties\n",
    "\n",
    "import alpy\n",
    "import alpy_addons\n",
    "from alpy_addons.active import ActiveLearner\n",
    "from alpy.datasets.generate import get_2d_gaussians\n",
    "from alpy_addons.monitors import *\n",
    "from alpy.oracle import SimulatedOracle\n",
    "from six import iteritems\n",
    "\n",
    "from alpy_addons.strategy import UncertaintySampling, PassiveStrategy\n",
    "from alpy.utils import mask_unknowns\n",
    "\n",
    "from sklearn.metrics import auc\n",
    "\n",
    "from training_data.datasets import calculate_jaccard_kernel\n",
    "\n",
    "from sklearn.grid_search import GridSearchCV\n",
    "\n",
    "\n",
    "\n",
    "\n",
    "\n",
    "opts_uncert = Bunch({\"C_min\": -6, \n",
    "              \"C_max\": 5,\n",
    "              \"internal_cv\": 4,\n",
    "              \"max_iter\": 10000000,\n",
    "              \"n_folds\": 5, \n",
    "              \"preprocess\": \"clip01\", #\"max_abs\", \n",
    "              \"fold\": 3, \n",
    "              \"d\": 1,\n",
    "              \"output_dir\": \"test_fit_svm_al\",\n",
    "              \"warm_start\": 20, # TODO: add cluster-dependent warm_start\n",
    "              \"strategy_kwargs\": None,\n",
    "              \"strategy\": \"UncertaintySampling\",\n",
    "              \"compound\": \"beta2\", \n",
    "              \"representation\": \"MACCS\", \n",
    "              \"jaccard\": 1, \n",
    "              \"rng\": 777, \n",
    "              \"name\": \"uncertainty\",\n",
    "              \"batch_size\": 50})\n",
    "\n"
   ]
  },
  {
   "cell_type": "code",
   "execution_count": 51,
   "metadata": {
    "collapsed": false
   },
   "outputs": [
    {
     "name": "stderr",
     "output_type": "stream",
     "text": [
      "2016-01-10 10:05:52,612 - fit_svm_al - INFO - {}\n",
      "2016-01-10 10:05:52,613 - fit_svm_al - INFO - uncertainty\n",
      "2016-01-10 10:05:52,614 - fit_svm_al - INFO - Loading data..\n"
     ]
    }
   ],
   "source": [
    "config_log_to_file(fname=opts.name + \".log\", clear_log_file=True)\n",
    "logger = logging.getLogger(\"fit_svm_al\")\n",
    "\n",
    "logger.info(opts.__dict__)\n",
    "logger.info(opts.name)\n",
    "logger.info(\"Loading data..\")\n",
    "\n",
    "data = CVBaseChemDataset(compound=opts.compound, representation=opts.representation, n_folds=opts.n_folds,\n",
    "                         rng=opts.rng,\n",
    "                         preprocess=opts.preprocess)\n",
    "(X_train, y_train), (X_valid, y_valid) = data.get_data(fold=opts.fold)\n",
    "if opts.jaccard:\n",
    "    X_train, X_valid = calculate_jaccard_kernel(data=data, fold=opts.fold)\n",
    "\n",
    "y_train_masked = mask_unknowns(y_train,\n",
    "                               np.random.RandomState(opts.rng).choice(X_train.shape[0],\n",
    "                                                size=X_train.shape[0] - opts.warm_start, replace=False))\n",
    "\n",
    "kernel = \"precomputed\" if opts.jaccard else \"linear\"\n",
    "\n",
    "estimator = AdaptiveGridSearchCV(d=opts.d,\n",
    "                                 estimator=SVC(random_state=opts.rng, kernel=kernel, max_iter=opts.max_iter),\n",
    "                                 param_grid=\n",
    "                                 {\n",
    "                                     \"C\": [10 ** c for c in range(opts.C_min, opts.C_max + 1)]},\n",
    "                                 cv=opts.internal_cv,\n",
    "                                 scoring=wac_scoring,\n",
    "                                 error_score=0.)\n",
    "\n",
    "strategy = UncertaintySampling()\n",
    "\n",
    "al = ActiveLearner(strategy=strategy,\n",
    "                   random_state=opts.rng,\n",
    "                   batch_size=opts.batch_size,\n",
    "                   oracle=SimulatedOracle(sample_budget=np.inf),\n",
    "                   estimator=estimator)\n",
    "\n",
    "# TODO: add cluster monitors\n",
    "monitors = []\n",
    "\n",
    "monitors.append(ExtendedMetricMonitor(name=\"wac_score\",\n",
    "                                      short_name=\"wac_score\",\n",
    "                                      function=wac_score,\n",
    "                                      ids=\"all\",\n",
    "                                      frequency=1))\n",
    "\n",
    "al.fit(X_train, y_train_masked, monitors=monitors)"
   ]
  },
  {
   "cell_type": "code",
   "execution_count": null,
   "metadata": {
    "collapsed": true
   },
   "outputs": [],
   "source": []
  }
 ],
 "metadata": {
  "kernelspec": {
   "display_name": "Python 2",
   "language": "python",
   "name": "python2"
  },
  "language_info": {
   "codemirror_mode": {
    "name": "ipython",
    "version": 2
   },
   "file_extension": ".py",
   "mimetype": "text/x-python",
   "name": "python",
   "nbconvert_exporter": "python",
   "pygments_lexer": "ipython2",
   "version": "2.7.10"
  }
 },
 "nbformat": 4,
 "nbformat_minor": 0
}
