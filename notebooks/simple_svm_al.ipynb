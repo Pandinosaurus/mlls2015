{
 "cells": [
  {
   "cell_type": "markdown",
   "metadata": {},
   "source": [
    "## This script fits simple cross validated SVM using single fit and alpy\n",
    "\n",
    "## It should be straightforward to go from this script to running experiments on any fingerprint/compound pair"
   ]
  },
  {
   "cell_type": "code",
   "execution_count": 87,
   "metadata": {
    "collapsed": false
   },
   "outputs": [
    {
     "name": "stdout",
     "output_type": "stream",
     "text": [
      "The autoreload extension is already loaded. To reload it, use:\n",
      "  %reload_ext autoreload\n"
     ]
    }
   ],
   "source": [
    "% load_ext autoreload\n",
    "% autoreload 2\n",
    "import matplotlib.pylab as plt\n",
    "% matplotlib inline\n",
    "import sys\n",
    "import seaborn\n",
    "sys.path.insert(0, \"../mlls2015\")\n",
    "sys.path.insert(0, \"..\")\n",
    "import training_data\n",
    "from training_data.datasets import CVBaseChemDataset\n",
    "import bunch\n",
    "import numpy as np\n",
    "from bunch import Bunch\n",
    "import os\n",
    "import logging\n",
    "from experiments.utils import wac_score\n",
    "from misc.utils import config_log_to_file\n",
    "\n",
    "import copy\n",
    "\n",
    "import matplotlib.pyplot as plt\n",
    "from sklearn.decomposition import PCA\n",
    "from sklearn.svm import SVC\n",
    "\n",
    "import alpy_addons\n",
    "from alpy_addons.active import ActiveLearner\n",
    "from alpy.datasets.generate import get_2d_gaussians\n",
    "from alpy_addons.monitors import *\n",
    "from alpy.oracle import SimulatedOracle\n",
    "from alpy.strategy import UncertaintySampling, PassiveStrategy\n",
    "from alpy.utils import mask_unknowns"
   ]
  },
  {
   "cell_type": "code",
   "execution_count": 88,
   "metadata": {
    "collapsed": true
   },
   "outputs": [],
   "source": [
    "opts = Bunch({\"C_min\": -6, \n",
    "              \"C_max\": 3, \n",
    "              \"n_folds\": 5, \n",
    "              \"preprocess\": \"max_abs\", \n",
    "              \"fold\": 2, \n",
    "              \"compound\": \"beta2\", \n",
    "              \"representation\": \"MACCS\", \n",
    "              \"jaccard\": 0, \n",
    "              \"rng\": 777, \n",
    "              \"name\": \"test_svm_al\",\n",
    "              \"batch_size\": 30,\n",
    "              \"output_dir\": \"/Users/kudkudak/code/mlls2015/\"})"
   ]
  },
  {
   "cell_type": "code",
   "execution_count": 89,
   "metadata": {
    "collapsed": false
   },
   "outputs": [
    {
     "name": "stderr",
     "output_type": "stream",
     "text": [
      "INFO:fit_svm:{}\n",
      "INFO:fit_svm:test_svm_al\n"
     ]
    }
   ],
   "source": [
    "config_log_to_file(os.path.join(opts.output_dir, opts.name + \".log\"), clear_log_file=True)\n",
    "logger = logging.getLogger(\"fit_svm\")\n",
    "logger.info(opts.__dict__)\n",
    "logger.info(opts.name)"
   ]
  },
  {
   "cell_type": "code",
   "execution_count": 90,
   "metadata": {
    "collapsed": false
   },
   "outputs": [],
   "source": [
    "data = CVBaseChemDataset(compound=opts.compound, representation=opts.representation, n_folds=opts.n_folds, rng=opts.rng,\n",
    "                       preprocess=opts.preprocess)\n",
    "(X_train, y_train), (X_valid, y_valid) = data.get_data(fold=opts.fold)\n",
    "if opts.jaccard:\n",
    "    K_train, K_valid = calculate_jaccard_kernel(data=data, fold=opts.fold)"
   ]
  },
  {
   "cell_type": "code",
   "execution_count": 91,
   "metadata": {
    "collapsed": true
   },
   "outputs": [],
   "source": [
    "class EstimatorMonitor(BaseMonitor):\n",
    "    def __init__(self):\n",
    "        super(EstimatorMonitor, self).__init__(name=\"EstimatorMonitor\", short_name=\"est_mon\")\n",
    "\n",
    "    def __call__(self, estimator, X, labels):\n",
    "        if not isinstance(estimator, BaseEstimator):\n",
    "            raise TypeError(\"Got bad estimator: {}\".format(type(estimator)))\n",
    "\n",
    "        return copy.copy(estimator)\n",
    "\n",
    "y_train_masked = mask_unknowns(y_train, np.random.choice(X_train.shape[0], size=X_train.shape[0] - 10, replace=False))"
   ]
  },
  {
   "cell_type": "code",
   "execution_count": 92,
   "metadata": {
    "collapsed": false
   },
   "outputs": [],
   "source": [
    "# TODO: add TP/FN/TN/FP recording\n",
    "monitors = []\n",
    "\n",
    "monitors.append(MetricMonitor(name=\"wac_score\",\n",
    "                        short_name=\"wac\",\n",
    "                        function=wac_score,\n",
    "                        ids=\"all\",\n",
    "                        frequency=1))\n",
    "\n",
    "monitors.append(MetricMonitor(name=\"wac_score_labeked\",\n",
    "                        short_name=\"wac_labeled\",\n",
    "                        function=wac_score,\n",
    "                        ids=\"known\",\n",
    "                        frequency=1))\n",
    "\n",
    "monitors.append(MetricMonitor(name=\"wac_score_unlabeled\",\n",
    "                        short_name=\"wac_unlabeled\",\n",
    "                        function=wac_score,\n",
    "                        ids=\"unknown\",\n",
    "                        frequency=1))\n",
    "\n",
    "monitors.append(MetricMonitor(name=\"wac_score_valid\",\n",
    "                        short_name=\"wac_valid\",\n",
    "                        function=wac_score,\n",
    "                        frequency=1,\n",
    "                        X=X_valid,\n",
    "                        y=y_valid))\n",
    "\n",
    "monitors.append(EstimatorMonitor())\n"
   ]
  },
  {
   "cell_type": "code",
   "execution_count": 93,
   "metadata": {
    "collapsed": false
   },
   "outputs": [],
   "source": [
    "uncert_model = ActiveLearner(strategy=UncertaintySampling(),\n",
    "                             random_state=opts.rng,\n",
    "                             batch_size=opts.batch_size,\n",
    "                              oracle=SimulatedOracle(sample_budget=np.inf),\n",
    "                              estimator=SVC(kernel=\"linear\", C=0.1, probability=True))"
   ]
  },
  {
   "cell_type": "code",
   "execution_count": 94,
   "metadata": {
    "collapsed": false
   },
   "outputs": [],
   "source": [
    "uncert_model.fit(X_train, y_train_masked, monitors=monitors)"
   ]
  },
  {
   "cell_type": "code",
   "execution_count": 98,
   "metadata": {
    "collapsed": false
   },
   "outputs": [
    {
     "data": {
      "image/png": "[encoded data removed]",
      "text/plain": [
       "<matplotlib.figure.Figure at 0x11a27f550>"
      ]
     },
     "metadata": {},
     "output_type": "display_data"
    }
   ],
   "source": [
    "### Plot model accuracy\n",
    "plt.clf()\n",
    "unc_wac = uncert_model._monitor_outputs['wac']\n",
    "unc_wac_valid = uncert_model._monitor_outputs['wac_valid']\n",
    "t = np.arange(len(unc_wac))\n",
    "p1 = plt.plot(t, unc_wac, 'r')\n",
    "p2 = plt.plot(t, unc_wac_valid, 'g')\n",
    "plt.legend((p1[0], p2[0]), ('WAC', 'WAC valid'), loc='best')\n",
    "plt.title('Models Accuracy')\n",
    "plt.show()"
   ]
  },
  {
   "cell_type": "code",
   "execution_count": 103,
   "metadata": {
    "collapsed": true
   },
   "outputs": [],
   "source": [
    "def generate_time_report(monitor_outputs):\n",
    "    # Returns dict with percentage/amount of time spent in each section (all keys with \"_time\" suffix)\n",
    "    report = {}\n",
    "    total_time = float(sum(monitor_outputs['iter_time']))\n",
    "    for k in monitor_outputs:\n",
    "        if k.endswith(\"_time\"):\n",
    "            report[k] = [sum(monitor_outputs[k]), sum(monitor_outputs[k]) / total_time]\n",
    "    return report"
   ]
  },
  {
   "cell_type": "code",
   "execution_count": 104,
   "metadata": {
    "collapsed": false
   },
   "outputs": [
    {
     "data": {
      "text/plain": [
       "{'est_mon_time': [0.0006716251373291016, 0.0002032226773711224],\n",
       " 'fit_time': [1.9592344760894775, 0.5928320035966879],\n",
       " 'iter_time': [3.304872989654541, 1.0],\n",
       " 'oracle_time': [0.008937358856201172, 0.002704297225393644],\n",
       " 'strategy_time': [0.1831049919128418, 0.05540454731120599],\n",
       " 'wac_labeled_time': [0.33414506912231445, 0.10110678085612079],\n",
       " 'wac_time': [0.4857301712036133, 0.14697392992835914],\n",
       " 'wac_unlabeled_time': [0.1947627067565918, 0.05893197934270702],\n",
       " 'wac_valid_time': [0.1289196014404297, 0.03900894280778568]}"
      ]
     },
     "execution_count": 104,
     "metadata": {},
     "output_type": "execute_result"
    }
   ],
   "source": [
    "generate_time_report(uncert_model._monitor_outputs)"
   ]
  },
  {
   "cell_type": "code",
   "execution_count": null,
   "metadata": {
    "collapsed": true
   },
   "outputs": [],
   "source": []
  }
 ],
 "metadata": {
  "kernelspec": {
   "display_name": "Python 2",
   "language": "python",
   "name": "python2"
  },
  "language_info": {
   "codemirror_mode": {
    "name": "ipython",
    "version": 2
   },
   "file_extension": ".py",
   "mimetype": "text/x-python",
   "name": "python",
   "nbconvert_exporter": "python",
   "pygments_lexer": "ipython2",
   "version": "2.7.10"
  }
 },
 "nbformat": 4,
 "nbformat_minor": 0
}
