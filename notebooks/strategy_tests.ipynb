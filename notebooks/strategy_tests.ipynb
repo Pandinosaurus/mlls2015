{
 "cells": [
  {
   "cell_type": "code",
   "execution_count": null,
   "metadata": {
    "collapsed": false
   },
   "outputs": [],
   "source": [
    "%load_ext autoreload\n",
    "%autoreload 2\n",
    "%matplotlib inline"
   ]
  },
  {
   "cell_type": "code",
   "execution_count": null,
   "metadata": {
    "collapsed": false
   },
   "outputs": [],
   "source": [
    "import sys, os\n",
    "sys.path.append('..')\n",
    "\n",
    "import numpy as np\n",
    "from sklearn.svm import SVC\n",
    "from sklearn.metrics import accuracy_score\n",
    "from sklearn.grid_search import GridSearchCV\n",
    "from matplotlib import pyplot as plt\n",
    "\n",
    "from get_data import get_data, get_splitted_data\n",
    "from models.active_model import ActiveLearningExperiment\n",
    "from models.strategy import *\n",
    "from models.utils import ObstructedY\n",
    "\n",
    "from misc.config import c\n",
    "data_dir = c[\"DATA_DIR\"]\n",
    "\n",
    "import kaggle_ninja"
   ]
  },
  {
   "cell_type": "code",
   "execution_count": null,
   "metadata": {
    "collapsed": false
   },
   "outputs": [],
   "source": [
    "kaggle_ninja.turn_on_force_reload_all()\n",
    "\n",
    "loader = [\"get_splitted_uniform_data\",\n",
    "             {\"n_folds\": 1,\n",
    "              \"seed\":666,\n",
    "              \"test_size\":0.0}]\n",
    "preprocess_fncs = []\n",
    "\n",
    "tiles = get_data([['5ht7', 'ExtFP']], loader, preprocess_fncs).values()[0][0][0]\n",
    "\n",
    "X = tiles['X_train']['data']\n",
    "y = tiles['Y_train']['data']\n",
    "print X.shape\n",
    "print y.shape\n",
    "\n",
    "y = ObstructedY(y)\n",
    "\n",
    "warm_start, _ = random_query(X, y, None, batch_size=300, seed=666)\n",
    "y.query(warm_start)"
   ]
  },
  {
   "cell_type": "code",
   "execution_count": null,
   "metadata": {
    "collapsed": false
   },
   "outputs": [],
   "source": [
    "euc_dist = construct_normalized_euc(X)"
   ]
  },
  {
   "cell_type": "code",
   "execution_count": null,
   "metadata": {
    "collapsed": true
   },
   "outputs": [],
   "source": [
    "model = SVC(C=1, kernel='linear')\n",
    "model.fit(X[warm_start], y[warm_start])"
   ]
  },
  {
   "cell_type": "code",
   "execution_count": null,
   "metadata": {
    "collapsed": false
   },
   "outputs": [],
   "source": [
    "unc_pick, _ = uncertanity_sampling(X, y, model, batch_size=20, seed=666)\n",
    "greedy_pick, greedy_score = quasi_greedy_batch(X, y, model, c=0.5, batch_size=20, seed=666, dist='exp_euc')"
   ]
  },
  {
   "cell_type": "code",
   "execution_count": null,
   "metadata": {
    "collapsed": false
   },
   "outputs": [],
   "source": [
    "plt.figure(figsize=(10,10))\n",
    "greedy_y = np.copy(y._y)\n",
    "greedy_y[greedy_pick] = 2\n",
    "plt.scatter(X[:,0], X[:,1], c=greedy_y, linewidths=0, cmap=plt.cm.coolwarm, s=100)"
   ]
  },
  {
   "cell_type": "code",
   "execution_count": null,
   "metadata": {
    "collapsed": false
   },
   "outputs": [],
   "source": [
    "plt.figure(figsize=(10,10))\n",
    "unc_y = np.copy(y._y)\n",
    "unc_y[unc_pick] = 2\n",
    "plt.scatter(X[:,0], X[:,1], c=unc_y, linewidths=0, cmap=plt.cm.coolwarm, s=100)"
   ]
  },
  {
   "cell_type": "code",
   "execution_count": null,
   "metadata": {
    "collapsed": false,
    "scrolled": true
   },
   "outputs": [],
   "source": [
    "from experiments.experiment_runner import run_experiment, run_experiment_grid\n",
    "import experiments\n",
    "from experiments import experiment_runner, fit_active_learning, fit_grid\n",
    "from experiments.utils import get_best\n",
    "from models.strategy import cosine_distance_normalized\n",
    "\n",
    "from kaggle_ninja import *\n",
    "\n",
    "grid_result_passive = run_experiment(\"fit_grid\",\n",
    "                                    recalculate_experiments=False,\n",
    "                                    n_jobs = 1,\n",
    "                                    experiment_detailed_name=\"fit_svm_passive_tiles\",\n",
    "                                    base_experiment=\"fit_active_learning\",\n",
    "                                    seed=666,\n",
    "                                    grid_params = {\"base_model_kwargs:C\": list(np.logspace(-5,5,10)),\n",
    "                                                   \"base_model_kwargs:kernel\": ['linear']},\n",
    "                                    base_experiment_kwargs={\"strategy\": \"random_query\",\n",
    "                                                       \"loader_function\": \"get_splitted_uniform_data\",\n",
    "                                                       \"batch_size\": 20,\n",
    "                                                       \"base_model\": \"SVC\",\n",
    "                                                       \"loader_args\": {\"n_folds\": 2}})"
   ]
  },
  {
   "cell_type": "code",
   "execution_count": null,
   "metadata": {
    "collapsed": true
   },
   "outputs": [],
   "source": [
    "grid_result_uncertainty = run_experiment(\"fit_grid\",\n",
    "                                    recalculate_experiments=False,\n",
    "                                    n_jobs = 1,\n",
    "                                    experiment_detailed_name=\"fit_svm_uncertainty_tiles\",\n",
    "                                    base_experiment=\"fit_active_learning\",\n",
    "                                    seed=666,\n",
    "                                    grid_params = {\"base_model_kwargs:C\": list(np.logspace(-5,5,10)),\n",
    "                                                   \"base_model_kwargs:kernel\": ['linear']},\n",
    "                                    base_experiment_kwargs={\"strategy\": \"uncertanity_sampling\",\n",
    "                                                       \"loader_function\": \"get_splitted_uniform_data\",\n",
    "                                                       \"batch_size\": 20,\n",
    "                                                       \"base_model\": \"SVC\",\n",
    "                                                       \"loader_args\": {\"n_folds\": 2}})"
   ]
  },
  {
   "cell_type": "code",
   "execution_count": null,
   "metadata": {
    "collapsed": false
   },
   "outputs": [],
   "source": [
    "from experiments.utils import *\n",
    "\n",
    "passive_exp = get_best(grid_result_passive.experiments, \"mean_mcc_valid\")\n",
    "print len(passive_exp.monitors) # 2, bc there were 2 folds\n",
    "\n",
    "unc_exp = get_best(grid_result_uncertainty.experiments, \"mean_mcc_valid\")\n",
    "print len(unc_exp.monitors) # 2, bc there were 2 folds\n",
    "\n",
    "pas_mon = passive_exp.monitors[0]\n",
    "pas_mon.keys()"
   ]
  },
  {
   "cell_type": "code",
   "execution_count": null,
   "metadata": {
    "collapsed": true
   },
   "outputs": [],
   "source": [
    "plot_monitors([unc_exp, passive_exp], folds='mean')"
   ]
  },
  {
   "cell_type": "code",
   "execution_count": null,
   "metadata": {
    "collapsed": false
   },
   "outputs": [],
   "source": [
    "passive_exp.monitors[1]['precision_score_concept']"
   ]
  },
  {
   "cell_type": "code",
   "execution_count": null,
   "metadata": {
    "collapsed": false
   },
   "outputs": [],
   "source": [
    "from experiments.utils import *\n",
    "\n",
    "passive_exp = get_best(grid_result_passive.experiments, \"mean_mcc_valid\")\n",
    "print len(passive_exp.monitors) # 2, bc there were 2 folds\n",
    "\n",
    "plot_monitors(passive_exp, folds='all')"
   ]
  },
  {
   "cell_type": "code",
   "execution_count": null,
   "metadata": {
    "collapsed": false,
    "scrolled": true
   },
   "outputs": [],
   "source": [
    "grid_result_greedy = run_experiment(\"fit_grid\",\n",
    "                                    recalculate_experiments=False,\n",
    "                                    n_jobs = 8,\n",
    "                                    experiment_detailed_name=\"fit_svm_greedy_tiles\",\n",
    "                                    base_experiment=\"fit_active_learning\",\n",
    "                                    seed=666,\n",
    "                                    grid_params = {\"base_model_kwargs:C\": list(np.logspace(-5,5,10)),\n",
    "                                                   \"base_model_kwargs:kernel\": ['linear'],\n",
    "                                                   \"strategy_kwargs:c\": list(np.linspace(0.1, 0.9, 9)),\n",
    "                                                   \"strategy_kwargs:dist\": [\"exp_euc\"]},\n",
    "                                    base_experiment_kwargs={\"strategy\": \"quasi_greedy_batch\",\n",
    "                                                       \"loader_function\": \"get_splitted_uniform_data\",\n",
    "                                                       \"batch_size\": 20,\n",
    "                                                       \"base_model\": \"SVC\",\n",
    "                                                       \"loader_args\": {\"n_folds\": 2}})"
   ]
  },
  {
   "cell_type": "code",
   "execution_count": null,
   "metadata": {
    "collapsed": false
   },
   "outputs": [],
   "source": [
    "greedy_exp = get_best(grid_result_greedy.experiments, \"mean_mcc_valid\")\n",
    "print len(passive_exp.monitors) # 2, bc there were 2 folds"
   ]
  },
  {
   "cell_type": "code",
   "execution_count": null,
   "metadata": {
    "collapsed": false
   },
   "outputs": [],
   "source": [
    "plot_monitors(passive_exp, folds='all')"
   ]
  },
  {
   "cell_type": "code",
   "execution_count": null,
   "metadata": {
    "collapsed": false
   },
   "outputs": [],
   "source": [
    "from sklearn.metrics import precision_score\n",
    "\n",
    "precision_score([1, 1, -1, -1], [-1, -1, -1, -1])"
   ]
  }
 ],
 "metadata": {
  "kernelspec": {
   "display_name": "Python 2",
   "language": "python",
   "name": "python2"
  },
  "language_info": {
   "codemirror_mode": {
    "name": "ipython",
    "version": 2
   },
   "file_extension": ".py",
   "mimetype": "text/x-python",
   "name": "python",
   "nbconvert_exporter": "python",
   "pygments_lexer": "ipython2",
   "version": "2.7.6"
  }
 },
 "nbformat": 4,
 "nbformat_minor": 0
}
