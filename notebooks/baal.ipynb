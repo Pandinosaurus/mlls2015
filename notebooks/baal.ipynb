{
 "cells": [
  {
   "cell_type": "code",
   "execution_count": null,
   "metadata": {
    "collapsed": false
   },
   "outputs": [],
   "source": [
    "def sample_hypothesis():\n",
    "   \n",
    "    "
   ]
  },
  {
   "cell_type": "code",
   "execution_count": null,
   "metadata": {
    "collapsed": false
   },
   "outputs": [],
   "source": [
    "L = 1000\n",
    "\n",
    "\n",
    "\n",
    "def satisfies(x, constraints):\n",
    "    return (all(constraints.dot(x.reshape(-1,1)).reshape(-1) >= 0))\n",
    "\n",
    "\n",
    "def billiard(X, y, L=10000):\n",
    "    constraints = X.copy()\n",
    "    constraints = np.hstack([constraints, np.ones(shape=(constraints.shape[0], 1))])\n",
    "    constraints[y==-1] *= -1 \n",
    "    print constraints\n",
    "    \n",
    "    def g(i, x):\n",
    "        return float(constraints[i,:].dot(x.reshape(-1))) >= 0\n",
    "    \n",
    "    \n",
    "    from sklearn.linear_model import Perceptron\n",
    "    m = Perceptron(alpha=0, n_iter=100).fit(X, y)   \n",
    "    z = np.hstack([m.coef_, [m.intercept_]])\n",
    "    assert np.all(m.predict(X) == y.reshape(-1))\n",
    "    \n",
    "    v = np.random.uniform(0,1,size=(1,constraints.shape[1]))\n",
    "    v = v/np.linalg.norm(v)\n",
    "    it = 0\n",
    "    while L > 0 and it < 10:\n",
    "        print it, L\n",
    "        it += 1\n",
    "        J = [i for i in range(constraints.shape[0]) if g(i, z) >= 0 ]\n",
    "        \n",
    "        \n",
    "        lambdas = [ np.abs(constraints[j,:].dot(z.reshape(-1,1)))/constraints[j,:].dot(v.reshape(-1,1)) \n",
    "                  for j in J\n",
    "                  ]\n",
    "        lambdas = [np.inf if val>0 else np.abs(val) for val in lambdas]  \n",
    "        print constraints[J[0],:].shape, v.shape\n",
    "        print[ constraints[j,:].dot(v.reshape(-1,1)) for j in J]\n",
    "        lamb = np.min(lambdas)\n",
    "        \n",
    "        if len(J) == constraints.shape[0]:\n",
    "            if L > lamb:\n",
    "                z = z + lamb * v\n",
    "                L = L - lamb\n",
    "            else:\n",
    "                return z + L * v, constraints\n",
    "\n",
    "        i = np.argmin([g(i, z) for i in J])\n",
    "        c_normed = constraints[i,:] / np.linalg.norm(constraints[i,:])\n",
    "        z -= 2 * c_normed.dot(z.reshape(-1,1)) * c_normed\n"
   ]
  },
  {
   "cell_type": "code",
   "execution_count": null,
   "metadata": {
    "collapsed": false
   },
   "outputs": [],
   "source": [
    "p.shape"
   ]
  },
  {
   "cell_type": "code",
   "execution_count": null,
   "metadata": {
    "collapsed": false
   },
   "outputs": [],
   "source": [
    "constraints.shape"
   ]
  },
  {
   "cell_type": "code",
   "execution_count": null,
   "metadata": {
    "collapsed": false
   },
   "outputs": [],
   "source": [
    "print p"
   ]
  },
  {
   "cell_type": "code",
   "execution_count": null,
   "metadata": {
    "collapsed": false
   },
   "outputs": [],
   "source": [
    "N = 1000\n",
    "X = np.random.uniform(size=(N,2000))\n",
    "y = (np.random.randint(0,2, size=(N,1))*2)-1\n",
    "\n",
    "p, constraints = billiard(X, y)\n",
    "assert(satisfies(p, constraints))\n"
   ]
  },
  {
   "cell_type": "code",
   "execution_count": null,
   "metadata": {
    "collapsed": false
   },
   "outputs": [],
   "source": []
  }
 ],
 "metadata": {
  "kernelspec": {
   "display_name": "Python 2",
   "language": "python",
   "name": "python2"
  },
  "language_info": {
   "codemirror_mode": {
    "name": "ipython",
    "version": 2
   },
   "file_extension": ".py",
   "mimetype": "text/x-python",
   "name": "python",
   "nbconvert_exporter": "python",
   "pygments_lexer": "ipython2",
   "version": "2.7.6"
  }
 },
 "nbformat": 4,
 "nbformat_minor": 0
}
