{
 "cells": [
  {
   "cell_type": "code",
   "execution_count": null,
   "metadata": {
    "collapsed": false
   },
   "outputs": [],
   "source": [
    "import sys\n",
    "sys.path.append(\"..\")\n",
    "%load_ext autoreload\n",
    "\n",
    "%autoreload 2\n",
    "import pandas as pd\n",
    "from misc.config import *\n",
    "import logging\n",
    "from models.strategy import *\n",
    "\n",
    "from experiments import experiment_runner, fit_active_learning, fit_grid\n",
    "\n",
    "from kaggle_ninja import *\n",
    "\n",
    "from experiments.utils import *\n",
    "from experiment_runner import run_experiment\n",
    "\n",
    "import inspect\n",
    "inspect.getsourcelines(run_experiment)\n"
   ]
  },
  {
   "cell_type": "code",
   "execution_count": null,
   "metadata": {
    "collapsed": true
   },
   "outputs": [],
   "source": [
    "%matplotlib inline"
   ]
  },
  {
   "cell_type": "code",
   "execution_count": null,
   "metadata": {
    "collapsed": false
   },
   "outputs": [],
   "source": [
    "sorted(['batch_size', 'base_model_kwargs:alpha'])"
   ]
  },
  {
   "cell_type": "code",
   "execution_count": null,
   "metadata": {
    "collapsed": true
   },
   "outputs": [],
   "source": [
    "from get_data import *"
   ]
  },
  {
   "cell_type": "code",
   "execution_count": null,
   "metadata": {
    "collapsed": false
   },
   "outputs": [],
   "source": [
    "\n",
    "loader = [\"get_splitted_data\",\n",
    "          {\"n_folds\": 3,\n",
    "           \"seed\":777,\n",
    "           \"test_size\":0.0}]\n",
    "\n",
    "preprocess_fncs = [[\"to_binary\", {\"all_below\": True}]]\n",
    "data = get_data(comps, loader, preprocess_fncs)"
   ]
  },
  {
   "cell_type": "code",
   "execution_count": null,
   "metadata": {
    "collapsed": true
   },
   "outputs": [],
   "source": [
    "from sklearn.decomposition import RandomizedPCA"
   ]
  },
  {
   "cell_type": "code",
   "execution_count": null,
   "metadata": {
    "collapsed": false
   },
   "outputs": [],
   "source": [
    "from get_data import _get_raw_data"
   ]
  },
  {
   "cell_type": "code",
   "execution_count": null,
   "metadata": {
    "collapsed": false
   },
   "outputs": [],
   "source": []
  },
  {
   "cell_type": "code",
   "execution_count": null,
   "metadata": {
    "collapsed": false
   },
   "outputs": [],
   "source": []
  },
  {
   "cell_type": "code",
   "execution_count": null,
   "metadata": {
    "collapsed": true
   },
   "outputs": [],
   "source": [
    "X_pca = model.transform(X.toarray())"
   ]
  },
  {
   "cell_type": "code",
   "execution_count": null,
   "metadata": {
    "collapsed": false
   },
   "outputs": [],
   "source": [
    "X_pca"
   ]
  },
  {
   "cell_type": "code",
   "execution_count": null,
   "metadata": {
    "collapsed": true
   },
   "outputs": [],
   "source": [
    "%matplotlib inline"
   ]
  },
  {
   "cell_type": "code",
   "execution_count": null,
   "metadata": {
    "collapsed": false
   },
   "outputs": [],
   "source": [
    "comp = ['5ht7', 'ExtFP']\n",
    "X, Y = _get_raw_data(*comp)\n",
    "model = RandomizedPCA(n_components=3).fit(X.toarray(), Y)\n",
    "plt.figure()\n",
    "plt.legend()\n",
    "for c, i, target_name in zip(\"rgb\", [-1, 1], [\"inactive\", \"active\"]):\n",
    "    if i == 0:\n",
    "        continue\n",
    "    plt.scatter(X_pca[Y == i, 0], X_pca[Y == i, 1], c=c, label=target_name)\n",
    "plt.legend()\n",
    "plt.show()"
   ]
  },
  {
   "cell_type": "code",
   "execution_count": null,
   "metadata": {
    "collapsed": true
   },
   "outputs": [],
   "source": [
    "grid_results_random = run_experiment(\"fit_grid\",\n",
    "                       batch_size=20, \n",
    "                       experiment_detailed_name=\"fit_grid_random_query\",\n",
    "                       base_experiment=\"fit_active_learning\", seed=777,\n",
    "                       grid_params = {\"base_model_kwargs:alpha\": list(np.logspace(-5,5,10))},\n",
    "                       base_experiment_kwargs={\"strategy\": \"random_query\",\n",
    "                                               \"base_model\": \"SGDClassifier\",\n",
    "                                               \"loader_args\": {\"n_folds\": 2}})"
   ]
  },
  {
   "cell_type": "code",
   "execution_count": null,
   "metadata": {
    "collapsed": false
   },
   "outputs": [],
   "source": [
    "get_best(grid_results_random.experiments, metric=\"mean_mcc_valid\").results['mean_mcc_valid']"
   ]
  },
  {
   "cell_type": "code",
   "execution_count": null,
   "metadata": {
    "collapsed": false
   },
   "outputs": [],
   "source": [
    "get_best(grid_results_uncert.experiments, metric=\"mean_mcc_valid\").results['mean_mcc_valid']"
   ]
  },
  {
   "cell_type": "code",
   "execution_count": null,
   "metadata": {
    "collapsed": true
   },
   "outputs": [],
   "source": [
    "import sklearn"
   ]
  }
 ],
 "metadata": {
  "kernelspec": {
   "display_name": "Python 2",
   "language": "python",
   "name": "python2"
  },
  "language_info": {
   "codemirror_mode": {
    "name": "ipython",
    "version": 2
   },
   "file_extension": ".py",
   "mimetype": "text/x-python",
   "name": "python",
   "nbconvert_exporter": "python",
   "pygments_lexer": "ipython2",
   "version": "2.7.6"
  }
 },
 "nbformat": 4,
 "nbformat_minor": 0
}
