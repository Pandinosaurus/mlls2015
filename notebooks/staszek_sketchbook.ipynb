{
 "cells": [
  {
   "cell_type": "code",
   "execution_count": 1,
   "metadata": {
    "collapsed": false
   },
   "outputs": [
    {
     "name": "stderr",
     "output_type": "stream",
     "text": [
      "/usr/lib/python2.7/dist-packages/pkg_resources.py:1031: UserWarning: /home/kudkudak/.python-eggs is writable by group/others and vulnerable to attack when used with get_resource_filename. Consider a more secure location (set with .set_extraction_path or the PYTHON_EGG_CACHE environment variable).\n",
      "  warnings.warn(msg, UserWarning)\n"
     ]
    }
   ],
   "source": [
    "import sys\n",
    "sys.path.append(\"..\")\n",
    "%load_ext autoreload\n",
    "\n",
    "%autoreload 2\n",
    "import pandas as pd\n",
    "from misc.config import *\n",
    "import logging\n",
    "from models.strategy import *\n",
    "\n",
    "from experiments import experiment_runner, fit_active_learning, fit_grid\n",
    "\n",
    "from kaggle_ninja import *\n",
    "\n",
    "from experiments.utils import *\n",
    "from experiment_runner import run_experiment\n",
    "\n",
    "import inspect\n",
    "from get_data import *\n",
    "inspect.getsourcelines(run_experiment)\n",
    "from get_data import _get_raw_data, fingerprints, proteins\n",
    "from sklearn.decomposition import RandomizedPCA\n",
    "from sklearn.cluster import DBSCAN\n",
    "from sklearn.manifold import MDS\n",
    "from get_data import *"
   ]
  },
  {
   "cell_type": "code",
   "execution_count": 3,
   "metadata": {
    "collapsed": false
   },
   "outputs": [
    {
     "ename": "ValueError",
     "evalue": "Didn't find get_splitted_uniform_data",
     "output_type": "error",
     "traceback": [
      "\u001b[1;31m---------------------------------------------------------------------------\u001b[0m",
      "\u001b[1;31mValueError\u001b[0m                                Traceback (most recent call last)",
      "\u001b[1;32m<ipython-input-3-13b91bb1dfca>\u001b[0m in \u001b[0;36m<module>\u001b[1;34m()\u001b[0m\n\u001b[0;32m     14\u001b[0m                                                        \u001b[1;34m\"batch_size\"\u001b[0m\u001b[1;33m:\u001b[0m \u001b[1;36m1\u001b[0m\u001b[1;33m,\u001b[0m\u001b[0;31m \u001b[0m\u001b[0;31m\\\u001b[0m\u001b[1;33m\u001b[0m\u001b[0m\n\u001b[0;32m     15\u001b[0m                                                        \u001b[1;34m\"base_model\"\u001b[0m\u001b[1;33m:\u001b[0m \u001b[1;34m\"SGDClassifier\"\u001b[0m\u001b[1;33m,\u001b[0m\u001b[1;33m\u001b[0m\u001b[0m\n\u001b[1;32m---> 16\u001b[1;33m                                                        \"loader_args\": {\"n_folds\": 2}})\n\u001b[0m",
      "\u001b[1;32m/home/moje/Projekty/AL_ECML15/experiments/experiment_runner.pyc\u001b[0m in \u001b[0;36mrun_experiment\u001b[1;34m(name, **kwargs)\u001b[0m\n\u001b[0;32m    113\u001b[0m     \u001b[0mex\u001b[0m \u001b[1;33m=\u001b[0m \u001b[0mfind_obj\u001b[0m\u001b[1;33m(\u001b[0m\u001b[0mname\u001b[0m\u001b[1;33m)\u001b[0m\u001b[1;33m\u001b[0m\u001b[0m\n\u001b[0;32m    114\u001b[0m     \u001b[0mex\u001b[0m\u001b[1;33m.\u001b[0m\u001b[0mlogger\u001b[0m \u001b[1;33m=\u001b[0m \u001b[0mget_logger\u001b[0m\u001b[1;33m(\u001b[0m\u001b[0mex\u001b[0m\u001b[1;33m.\u001b[0m\u001b[0mname\u001b[0m\u001b[1;33m)\u001b[0m\u001b[1;33m\u001b[0m\u001b[0m\n\u001b[1;32m--> 115\u001b[1;33m     \u001b[1;32mreturn\u001b[0m \u001b[0mex\u001b[0m\u001b[1;33m.\u001b[0m\u001b[0mrun\u001b[0m\u001b[1;33m(\u001b[0m\u001b[0mconfig_updates\u001b[0m\u001b[1;33m=\u001b[0m\u001b[0mkwargs\u001b[0m\u001b[1;33m)\u001b[0m\u001b[1;33m.\u001b[0m\u001b[0mresult\u001b[0m\u001b[1;33m\u001b[0m\u001b[0m\n\u001b[0m\u001b[0;32m    116\u001b[0m \u001b[1;33m\u001b[0m\u001b[0m\n\u001b[0;32m    117\u001b[0m \u001b[0mkaggle_ninja\u001b[0m\u001b[1;33m.\u001b[0m\u001b[0mregister\u001b[0m\u001b[1;33m(\u001b[0m\u001b[1;34m\"run_experiment\"\u001b[0m\u001b[1;33m,\u001b[0m \u001b[0mrun_experiment\u001b[0m\u001b[1;33m)\u001b[0m\u001b[1;33m\u001b[0m\u001b[0m\n",
      "\u001b[1;32m/usr/local/lib/python2.7/dist-packages/sacred-0.6.3-py2.7.egg/sacred/experiment.pyc\u001b[0m in \u001b[0;36mrun\u001b[1;34m(self, config_updates, named_configs, loglevel)\u001b[0m\n\u001b[0;32m    334\u001b[0m                                 \u001b[0mconfig_updates\u001b[0m\u001b[1;33m=\u001b[0m\u001b[0mconfig_updates\u001b[0m\u001b[1;33m,\u001b[0m\u001b[1;33m\u001b[0m\u001b[0m\n\u001b[0;32m    335\u001b[0m                                 \u001b[0mnamed_configs_to_use\u001b[0m\u001b[1;33m=\u001b[0m\u001b[0mnamed_configs\u001b[0m\u001b[1;33m,\u001b[0m\u001b[1;33m\u001b[0m\u001b[0m\n\u001b[1;32m--> 336\u001b[1;33m                                 log_level=loglevel)\n\u001b[0m\u001b[0;32m    337\u001b[0m \u001b[1;33m\u001b[0m\u001b[0m\n\u001b[0;32m    338\u001b[0m     \u001b[1;32mdef\u001b[0m \u001b[0mrun_commandline\u001b[0m\u001b[1;33m(\u001b[0m\u001b[0mself\u001b[0m\u001b[1;33m,\u001b[0m \u001b[0margv\u001b[0m\u001b[1;33m=\u001b[0m\u001b[0mNone\u001b[0m\u001b[1;33m)\u001b[0m\u001b[1;33m:\u001b[0m\u001b[1;33m\u001b[0m\u001b[0m\n",
      "\u001b[1;32m/usr/local/lib/python2.7/dist-packages/sacred-0.6.3-py2.7.egg/sacred/experiment.pyc\u001b[0m in \u001b[0;36mrun_command\u001b[1;34m(self, command_name, config_updates, named_configs_to_use, log_level)\u001b[0m\n\u001b[0;32m    208\u001b[0m         \u001b[0mself\u001b[0m\u001b[1;33m.\u001b[0m\u001b[0mcurrent_run\u001b[0m \u001b[1;33m=\u001b[0m \u001b[0mrun\u001b[0m\u001b[1;33m\u001b[0m\u001b[0m\n\u001b[0;32m    209\u001b[0m         \u001b[0mself\u001b[0m\u001b[1;33m.\u001b[0m\u001b[0mcurrent_run\u001b[0m\u001b[1;33m.\u001b[0m\u001b[0mlogger\u001b[0m\u001b[1;33m.\u001b[0m\u001b[0minfo\u001b[0m\u001b[1;33m(\u001b[0m\u001b[1;34m\"Running command '%s'\"\u001b[0m \u001b[1;33m%\u001b[0m \u001b[0mcommand_name\u001b[0m\u001b[1;33m)\u001b[0m\u001b[1;33m\u001b[0m\u001b[0m\n\u001b[1;32m--> 210\u001b[1;33m         \u001b[0mrun\u001b[0m\u001b[1;33m(\u001b[0m\u001b[1;33m)\u001b[0m\u001b[1;33m\u001b[0m\u001b[0m\n\u001b[0m\u001b[0;32m    211\u001b[0m         \u001b[0mself\u001b[0m\u001b[1;33m.\u001b[0m\u001b[0mcurrent_run\u001b[0m \u001b[1;33m=\u001b[0m \u001b[0mNone\u001b[0m\u001b[1;33m\u001b[0m\u001b[0m\n\u001b[0;32m    212\u001b[0m         \u001b[1;32mreturn\u001b[0m \u001b[0mrun\u001b[0m\u001b[1;33m\u001b[0m\u001b[0m\n",
      "\u001b[1;32m/usr/local/lib/python2.7/dist-packages/sacred-0.6.3-py2.7.egg/sacred/run.pyc\u001b[0m in \u001b[0;36m__call__\u001b[1;34m(self, *args)\u001b[0m\n\u001b[0;32m     53\u001b[0m             \u001b[0mself\u001b[0m\u001b[1;33m.\u001b[0m\u001b[0m_start_heartbeat\u001b[0m\u001b[1;33m(\u001b[0m\u001b[1;33m)\u001b[0m\u001b[1;33m\u001b[0m\u001b[0m\n\u001b[0;32m     54\u001b[0m             \u001b[1;32mtry\u001b[0m\u001b[1;33m:\u001b[0m\u001b[1;33m\u001b[0m\u001b[0m\n\u001b[1;32m---> 55\u001b[1;33m                 \u001b[0mself\u001b[0m\u001b[1;33m.\u001b[0m\u001b[0mresult\u001b[0m \u001b[1;33m=\u001b[0m \u001b[0mself\u001b[0m\u001b[1;33m.\u001b[0m\u001b[0mmain_function\u001b[0m\u001b[1;33m(\u001b[0m\u001b[1;33m*\u001b[0m\u001b[0margs\u001b[0m\u001b[1;33m)\u001b[0m\u001b[1;33m\u001b[0m\u001b[0m\n\u001b[0m\u001b[0;32m     56\u001b[0m                 \u001b[0mself\u001b[0m\u001b[1;33m.\u001b[0m\u001b[0m_stop_heartbeat\u001b[0m\u001b[1;33m(\u001b[0m\u001b[1;33m)\u001b[0m\u001b[1;33m\u001b[0m\u001b[0m\n\u001b[0;32m     57\u001b[0m                 \u001b[0mself\u001b[0m\u001b[1;33m.\u001b[0m\u001b[0m_emit_completed\u001b[0m\u001b[1;33m(\u001b[0m\u001b[0mself\u001b[0m\u001b[1;33m.\u001b[0m\u001b[0mresult\u001b[0m\u001b[1;33m)\u001b[0m\u001b[1;33m\u001b[0m\u001b[0m\n",
      "\u001b[1;32m/usr/local/lib/python2.7/dist-packages/sacred-0.6.3-py2.7.egg/sacred/config/captured_function.pyc\u001b[0m in \u001b[0;36mcaptured_function\u001b[1;34m(wrapped, instance, args, kwargs)\u001b[0m\n\u001b[0;32m     43\u001b[0m     \u001b[0mstart_time\u001b[0m \u001b[1;33m=\u001b[0m \u001b[0mtime\u001b[0m\u001b[1;33m.\u001b[0m\u001b[0mtime\u001b[0m\u001b[1;33m(\u001b[0m\u001b[1;33m)\u001b[0m\u001b[1;33m\u001b[0m\u001b[0m\n\u001b[0;32m     44\u001b[0m     \u001b[1;31m# =================== run actual function =================================\u001b[0m\u001b[1;33m\u001b[0m\u001b[1;33m\u001b[0m\u001b[0m\n\u001b[1;32m---> 45\u001b[1;33m     \u001b[0mresult\u001b[0m \u001b[1;33m=\u001b[0m \u001b[0mwrapped\u001b[0m\u001b[1;33m(\u001b[0m\u001b[1;33m*\u001b[0m\u001b[0margs\u001b[0m\u001b[1;33m,\u001b[0m \u001b[1;33m**\u001b[0m\u001b[0mkwargs\u001b[0m\u001b[1;33m)\u001b[0m\u001b[1;33m\u001b[0m\u001b[0m\n\u001b[0m\u001b[0;32m     46\u001b[0m     \u001b[1;31m# =========================================================================\u001b[0m\u001b[1;33m\u001b[0m\u001b[1;33m\u001b[0m\u001b[0m\n\u001b[0;32m     47\u001b[0m     \u001b[0mstop_time\u001b[0m \u001b[1;33m=\u001b[0m \u001b[0mtime\u001b[0m\u001b[1;33m.\u001b[0m\u001b[0mtime\u001b[0m\u001b[1;33m(\u001b[0m\u001b[1;33m)\u001b[0m\u001b[1;33m\u001b[0m\u001b[0m\n",
      "\u001b[1;32m/home/moje/Projekty/AL_ECML15/experiments/fit_grid.pyc\u001b[0m in \u001b[0;36mmain\u001b[1;34m(base_experiment_kwargs, recalculate_experiments, experiment_detailed_name, timeout, seed, force_reload, _log)\u001b[0m\n\u001b[0;32m     82\u001b[0m         \u001b[0m_log\u001b[0m\u001b[1;33m.\u001b[0m\u001b[0merror\u001b[0m\u001b[1;33m(\u001b[0m\u001b[0mtraceback\u001b[0m\u001b[1;33m.\u001b[0m\u001b[0mformat_exc\u001b[0m\u001b[1;33m(\u001b[0m\u001b[1;33m)\u001b[0m\u001b[1;33m)\u001b[0m\u001b[1;33m\u001b[0m\u001b[0m\n\u001b[0;32m     83\u001b[0m         \u001b[0m_log\u001b[0m\u001b[1;33m.\u001b[0m\u001b[0merror\u001b[0m\u001b[1;33m(\u001b[0m\u001b[0msys\u001b[0m\u001b[1;33m.\u001b[0m\u001b[0mexc_info\u001b[0m\u001b[1;33m(\u001b[0m\u001b[1;33m)\u001b[0m\u001b[1;33m[\u001b[0m\u001b[1;36m0\u001b[0m\u001b[1;33m]\u001b[0m\u001b[1;33m)\u001b[0m\u001b[1;33m\u001b[0m\u001b[0m\n\u001b[1;32m---> 84\u001b[1;33m         \u001b[1;32mraise\u001b[0m\u001b[1;33m(\u001b[0m\u001b[0merr\u001b[0m\u001b[1;33m)\u001b[0m\u001b[1;33m\u001b[0m\u001b[0m\n\u001b[0m\u001b[0;32m     85\u001b[0m \u001b[1;33m@\u001b[0m\u001b[0mex\u001b[0m\u001b[1;33m.\u001b[0m\u001b[0mcapture\u001b[0m\u001b[1;33m\u001b[0m\u001b[0m\n\u001b[0;32m     86\u001b[0m \u001b[1;32mdef\u001b[0m \u001b[0msave\u001b[0m\u001b[1;33m(\u001b[0m\u001b[0mresults\u001b[0m\u001b[1;33m,\u001b[0m \u001b[0mexperiment_detailed_name\u001b[0m\u001b[1;33m,\u001b[0m \u001b[0m_config\u001b[0m\u001b[1;33m,\u001b[0m \u001b[0m_log\u001b[0m\u001b[1;33m)\u001b[0m\u001b[1;33m:\u001b[0m\u001b[1;33m\u001b[0m\u001b[0m\n",
      "\u001b[1;31mValueError\u001b[0m: Didn't find get_splitted_uniform_data"
     ]
    }
   ],
   "source": [
    "from experiments.experiment_runner import run_experiment, run_experiment_grid\n",
    "from experiments import experiment_runner, fit_active_learning, fit_grid\n",
    "from sklearn.svm import SVC\n",
    " \n",
    "grid_result_passive = run_experiment(\"fit_grid\",\n",
    "                                    recalculate_experiments=True,\n",
    "                                    n_jobs = 4, \n",
    "                                    experiment_detailed_name=\"fit_grid_passive\",\n",
    "                                    base_experiment=\"fit_active_learning\",\n",
    "                                    seed=666,\n",
    "                                    grid_params = {\"base_model_kwargs:alpha\": list(np.logspace(-5,5,10))}, \n",
    "                                    base_experiment_kwargs={\"strategy\": \"random_query\",\n",
    "                                                       \"loader_function\": \"get_splitted_uniform_data\",\n",
    "                                                       \"batch_size\": 1, \\\n",
    "                                                       \"base_model\": \"SGDClassifier\",\n",
    "                                                       \"loader_args\": {\"n_folds\": 2}})"
   ]
  },
  {
   "cell_type": "code",
   "execution_count": 13,
   "metadata": {
    "collapsed": false
   },
   "outputs": [
    {
     "data": {
      "image/png": "[encoded data removed]",
      "text/plain": [
       "<matplotlib.figure.Figure at 0x7fe34db48c50>"
      ]
     },
     "metadata": {},
     "output_type": "display_data"
    }
   ],
   "source": [
    "%matplotlib inline\n",
    "plot_monitors([grid_results_uncert.experiments[0], grid_results.experiments[0]])"
   ]
  },
  {
   "cell_type": "code",
   "execution_count": 2,
   "metadata": {
    "collapsed": false
   },
   "outputs": [
    {
     "name": "stderr",
     "output_type": "stream",
     "text": [
      "2015-06-01 13:19:08,584 - fit_grid - WARNING - Added new config entry: \"base_experiment_kwargs.base_model\"\n",
      "2015-06-01 13:19:08,587 - fit_grid - WARNING - Added new config entry: \"base_experiment_kwargs.batch_size\"\n",
      "2015-06-01 13:19:08,588 - fit_grid - WARNING - Added new config entry: \"base_experiment_kwargs.fingerprint\"\n",
      "2015-06-01 13:19:08,589 - fit_grid - WARNING - Added new config entry: \"base_experiment_kwargs.loader_args\"\n",
      "2015-06-01 13:19:08,590 - fit_grid - WARNING - Added new config entry: \"base_experiment_kwargs.loader_args.n_folds\"\n",
      "2015-06-01 13:19:08,591 - fit_grid - WARNING - Added new config entry: \"base_experiment_kwargs.loader_args.seed\"\n",
      "2015-06-01 13:19:08,592 - fit_grid - WARNING - Added new config entry: \"base_experiment_kwargs.loader_args.test_size\"\n",
      "2015-06-01 13:19:08,593 - fit_grid - WARNING - Added new config entry: \"base_experiment_kwargs.loader_function\"\n",
      "2015-06-01 13:19:08,594 - fit_grid - WARNING - Added new config entry: \"base_experiment_kwargs.protein\"\n",
      "2015-06-01 13:19:08,595 - fit_grid - WARNING - Added new config entry: \"base_experiment_kwargs.strategy\"\n",
      "2015-06-01 13:19:08,595 - fit_grid - WARNING - Added new config entry: \"grid_params.base_model_kwargs:alpha\"\n",
      "2015-06-01 13:19:08,596 - fit_grid.fit_grid - INFO - Running command 'main'\n",
      "2015-06-01 13:19:08,597 - fit_grid.fit_grid - INFO - Started\n",
      "2015-06-01 13:19:09,298 - fit_grid.main - INFO - Cache miss, calculating\n",
      "2015-06-01 13:19:09,300 - fit_grid.run - INFO - Fitting grid for fit_active_learning recalcualte_experiments=False\n"
     ]
    },
    {
     "name": "stdout",
     "output_type": "stream",
     "text": [
      "Loading  {'grid_params': {u'base_model_kwargs:alpha': [1.0000000000000001e-05, 0.00012915496650148841, 0.0016681005372000592, 0.021544346900318846, 0.27825594022071259, 3.5938136638046259, 46.415888336127821, 599.48425031894214, 7742.6368268112774, 100000.0]}, 'n_jobs': 2, 'base_experiment': 'fit_active_learning', 'experiment_detailed_name': '5ht6_ExtFP_random_query', 'recalculate_experiments': False, 'base_experiment_kwargs': {u'loader_function': 'get_splitted_data', u'batch_size': 20, u'strategy': 'random_query', u'loader_args': {u'n_folds': 5, u'test_size': 0.0, u'seed': 777}, u'base_model': 'SGDClassifier', u'fingerprint': 'ExtFP', u'protein': '5ht6'}, 'seed': 777, 'timeout': -1, 'single_fit_timeout': -1, 'force_reload': False}\n"
     ]
    },
    {
     "name": "stderr",
     "output_type": "stream",
     "text": [
      "2015-06-01 13:19:09,301 - al_ecml2015 - INFO - Fitting fit_active_learning for 10 parameters combinations\n",
      "2015-06-01 13:19:17,025 - al_ecml2015 - INFO - fit_active_learning: interrupting, killing jobs\n",
      "2015-06-01 13:19:09,559 - fit_active_learning - WARNING - Added new config entry: \"base_model_kwargs.alpha\"\n",
      "2015-06-01 13:19:09,562 - fit_active_learning - WARNING - Added new config entry: \"base_model_kwargs.alpha\"\n",
      "2015-06-01 13:19:09,562 - fit_active_learning - WARNING - Added new config entry: \"loader_args.seed\"\n",
      "2015-06-01 13:19:09,565 - fit_active_learning - WARNING - Added new config entry: \"loader_args.seed\"\n",
      "2015-06-01 13:19:09,565 - fit_active_learning.fit_active_learning - INFO - Running command 'main'\n",
      "2015-06-01 13:19:09,568 - fit_active_learning.fit_active_learning - INFO - Running command 'main'\n",
      "2015-06-01 13:19:09,568 - fit_active_learning.fit_active_learning - INFO - Started\n",
      "2015-06-01 13:19:09,571 - fit_active_learning.fit_active_learning - INFO - Started\n",
      "2015-06-01 13:19:09,571 - fit_active_learning.main - INFO - Fitting  5ht6_ExtFP_random_query_subfit force_reload=False\n",
      "2015-06-01 13:19:09,575 - fit_active_learning.main - INFO - Fitting  5ht6_ExtFP_random_query_subfit force_reload=False\n",
      "2015-06-01 13:19:10,287 - fit_active_learning.main - INFO - Cache miss, calculating\n",
      "2015-06-01 13:19:10,333 - fit_active_learning.main - INFO - Cache miss, calculating\n",
      "2015-06-01 13:19:10,332 - al_ecml2015 - DEBUG - _get_single_data: Cache miss or force reload. Caching _get_single_data_b698075bd450e3efef5d5c8c1078ff6d851d8617758397310ccca80800831f85\n",
      "2015-06-01 13:19:10,345 - al_ecml2015 - DEBUG - _get_single_data: Cache miss or force reload. Caching _get_single_data_b698075bd450e3efef5d5c8c1078ff6d851d8617758397310ccca80800831f85\n",
      "2015-06-01 13:19:11,352 - al_ecml2015 - INFO - Running preprocess on 0 fold\n",
      "2015-06-01 13:19:11,319 - al_ecml2015 - INFO - Running preprocess on 0 fold\n",
      "2015-06-01 13:19:11,355 - al_ecml2015 - INFO - Running preprocess on 1 fold\n",
      "2015-06-01 13:19:11,322 - al_ecml2015 - INFO - Running preprocess on 1 fold\n",
      "2015-06-01 13:19:11,358 - al_ecml2015 - INFO - Running preprocess on 2 fold\n",
      "2015-06-01 13:19:11,324 - al_ecml2015 - INFO - Running preprocess on 2 fold\n",
      "2015-06-01 13:19:11,361 - al_ecml2015 - INFO - Running preprocess on 3 fold\n",
      "2015-06-01 13:19:11,327 - al_ecml2015 - INFO - Running preprocess on 3 fold\n",
      "2015-06-01 13:19:11,363 - al_ecml2015 - INFO - Running preprocess on 4 fold\n",
      "2015-06-01 13:19:11,330 - al_ecml2015 - INFO - Running preprocess on 4 fold\n",
      "2015-06-01 13:19:11,366 - al_ecml2015 - DEBUG - _get_single_data: Saving _get_single_data_b698075bd450e3efef5d5c8c1078ff6d851d8617758397310ccca80800831f85\n",
      "2015-06-01 13:19:11,333 - al_ecml2015 - DEBUG - _get_single_data: Saving _get_single_data_b698075bd450e3efef5d5c8c1078ff6d851d8617758397310ccca80800831f85\n",
      "2015-06-01 13:19:11,672 - al_ecml2015 - INFO - Running Active Learninig Experiment for approximately 74 iterations\n",
      "2015-06-01 13:19:11,384 - al_ecml2015 - INFO - Running Active Learninig Experiment for approximately 74 iterations\n",
      "2015-06-01 13:19:11,674 - al_ecml2015 - INFO - Logging concept error every 3 iterations\n",
      "2015-06-01 13:19:11,387 - al_ecml2015 - INFO - Logging concept error every 3 iterations\n",
      "2015-06-01 13:19:12,779 - al_ecml2015 - DEBUG - Decreasing batch size to: 4\n",
      "2015-06-01 13:19:12,305 - al_ecml2015 - DEBUG - Decreasing batch size to: 4\n",
      "2015-06-01 13:19:12,800 - al_ecml2015 - INFO - Running Active Learninig Experiment for approximately 367 iterations\n",
      "2015-06-01 13:19:12,322 - al_ecml2015 - INFO - Running Active Learninig Experiment for approximately 367 iterations\n",
      "2015-06-01 13:19:12,803 - al_ecml2015 - INFO - Logging concept error every 18 iterations\n",
      "2015-06-01 13:19:12,325 - al_ecml2015 - INFO - Logging concept error every 18 iterations\n",
      "2015-06-01 13:19:14,687 - al_ecml2015 - DEBUG - Iter: 100, labeled 400/1464\n",
      "2015-06-01 13:19:13,583 - al_ecml2015 - DEBUG - Iter: 100, labeled 400/1464\n",
      "2015-06-01 13:19:15,621 - al_ecml2015 - DEBUG - Iter: 200, labeled 800/1464\n",
      "2015-06-01 13:19:14,446 - al_ecml2015 - DEBUG - Iter: 200, labeled 800/1464\n",
      "2015-06-01 13:19:16,378 - al_ecml2015 - DEBUG - Iter: 300, labeled 1200/1464\n",
      "2015-06-01 13:19:15,033 - al_ecml2015 - DEBUG - Iter: 300, labeled 1200/1464\n",
      "2015-06-01 13:19:16,635 - al_ecml2015 - INFO - Running Active Learninig Experiment for approximately 367 iterations\n",
      "2015-06-01 13:19:15,242 - al_ecml2015 - INFO - Running Active Learninig Experiment for approximately 367 iterations\n",
      "2015-06-01 13:19:16,638 - al_ecml2015 - INFO - Logging concept error every 18 iterations\n",
      "2015-06-01 13:19:15,245 - al_ecml2015 - INFO - Logging concept error every 18 iterations\n",
      "2015-06-01 13:19:16,674 - al_ecml2015 - DEBUG - Iter: 100, labeled 400/1464\n"
     ]
    },
    {
     "name": "stdout",
     "output_type": "stream",
     "text": [
      "{u'base_model_kwargs.alpha': 1.0000000000000001e-05, u'loader_function': 'get_splitted_data', 'name': 'fit_active_learning', 'experiment_detailed_name': '5ht6_ExtFP_random_query_subfit', u'batch_size': 20, u'strategy': 'random_query', u'loader_args': {u'n_folds': 5, u'test_size': 0.0, u'seed': 777}, u'base_model': 'SGDClassifier', 'timeout': -1, u'fingerprint': 'ExtFP', u'protein': '5ht6', 'seed': 777, 'force_reload': False}\n",
      "{u'base_model_kwargs.alpha': 0.00012915496650148841, u'loader_function': 'get_splitted_data', 'name': 'fit_active_learning', 'experiment_detailed_name': '5ht6_ExtFP_random_query_subfit', u'batch_size': 20, u'strategy': 'random_query', u'loader_args': {u'n_folds': 5, u'test_size': 0.0, u'seed': 777}, u'base_model': 'SGDClassifier', 'timeout': -1, u'fingerprint': 'ExtFP', u'protein': '5ht6', 'seed': 777, 'force_reload': False}\n",
      "Loading Loading  {'loader_function': 'get_splitted_data', 'preprocess_fncs': [], 'experiment_detailed_name': '5ht6_ExtFP_random_query_subfit', 'batch_size': 20, 'strategy': 'random_query', 'loader_args': {u'n_folds': 5, u'test_size': 0.0, u'seed': 777}, 'base_model': 'SGDClassifier', 'timeout': -1, 'fingerprint': 'ExtFP', 'strategy_kwargs': {}, 'base_model_kwargs': {u'alpha': 1.0000000000000001e-05}, 'protein': '5ht6', 'seed': 777, 'force_reload': False}\n",
      " {'loader_function': 'get_splitted_data', 'preprocess_fncs': [], 'experiment_detailed_name': '5ht6_ExtFP_random_query_subfit', 'batch_size': 20, 'strategy': 'random_query', 'loader_args': {u'n_folds': 5, u'test_size': 0.0, u'seed': 777}, 'base_model': 'SGDClassifier', 'timeout': -1, 'fingerprint': 'ExtFP', 'strategy_kwargs': {}, 'base_model_kwargs': {u'alpha': 0.00012915496650148841}, 'protein': '5ht6', 'seed': 777, 'force_reload': False}\n",
      "{'loader_function': 'get_splitted_data', 'preprocess_fncs': [], 'experiment_detailed_name': '5ht6_ExtFP_random_query_subfit', 'batch_size': 20, 'strategy': 'random_query', 'loader_args': {u'n_folds': 5, u'test_size': 0.0, u'seed': 777}, 'base_model': 'SGDClassifier', 'timeout': -1, 'fingerprint': 'ExtFP', 'strategy_kwargs': {}, 'base_model_kwargs': {u'alpha': 1.0000000000000001e-05}, 'protein': '5ht6', 'seed': 777, 'force_reload': False}{'loader_function': 'get_splitted_data', 'preprocess_fncs': [], 'experiment_detailed_name': '5ht6_ExtFP_random_query_subfit', 'batch_size': 20, 'strategy': 'random_query', 'loader_args': {u'n_folds': 5, u'test_size': 0.0, u'seed': 777}, 'base_model': 'SGDClassifier', 'timeout': -1, 'fingerprint': 'ExtFP', 'strategy_kwargs': {}, 'base_model_kwargs': {u'alpha': 0.00012915496650148841}, 'protein': '5ht6', 'seed': 777, 'force_reload': False}\n",
      "\n",
      "SGDClassifier\n",
      "SGDClassifier\n"
     ]
    },
    {
     "name": "stderr",
     "output_type": "stream",
     "text": [
      "2015-06-01 13:19:17,043 - fit_grid.fit_grid - ERROR - Failed after 0:00:08!\n"
     ]
    },
    {
     "ename": "ValueError",
     "evalue": "raising value to prevent caching",
     "output_type": "error",
     "traceback": [
      "\u001b[1;31m---------------------------------------------------------------------------\u001b[0m",
      "\u001b[1;31mValueError\u001b[0m                                Traceback (most recent call last)",
      "\u001b[1;32m<ipython-input-2-b32f5630d810>\u001b[0m in \u001b[0;36m<module>\u001b[1;34m()\u001b[0m\n\u001b[0;32m     18\u001b[0m                                                 \u001b[1;34m\"fingerprint\"\u001b[0m\u001b[1;33m:\u001b[0m\u001b[0mf\u001b[0m\u001b[1;33m,\u001b[0m\u001b[1;33m\u001b[0m\u001b[0m\n\u001b[0;32m     19\u001b[0m                                                \u001b[1;34m\"batch_size\"\u001b[0m\u001b[1;33m:\u001b[0m \u001b[1;36m20\u001b[0m\u001b[1;33m,\u001b[0m\u001b[0;31m \u001b[0m\u001b[0;31m\\\u001b[0m\u001b[1;33m\u001b[0m\u001b[0m\n\u001b[1;32m---> 20\u001b[1;33m                                                \"base_model\": \"SGDClassifier\"})\n\u001b[0m",
      "\u001b[1;32m/home/moje/Projekty/AL_ECML15/experiments/experiment_runner.pyc\u001b[0m in \u001b[0;36mrun_experiment\u001b[1;34m(name, **kwargs)\u001b[0m\n\u001b[0;32m    107\u001b[0m     \u001b[0mex\u001b[0m \u001b[1;33m=\u001b[0m \u001b[0mfind_obj\u001b[0m\u001b[1;33m(\u001b[0m\u001b[0mname\u001b[0m\u001b[1;33m)\u001b[0m\u001b[1;33m\u001b[0m\u001b[0m\n\u001b[0;32m    108\u001b[0m     \u001b[0mex\u001b[0m\u001b[1;33m.\u001b[0m\u001b[0mlogger\u001b[0m \u001b[1;33m=\u001b[0m \u001b[0mget_logger\u001b[0m\u001b[1;33m(\u001b[0m\u001b[0mex\u001b[0m\u001b[1;33m.\u001b[0m\u001b[0mname\u001b[0m\u001b[1;33m)\u001b[0m\u001b[1;33m\u001b[0m\u001b[0m\n\u001b[1;32m--> 109\u001b[1;33m     \u001b[1;32mreturn\u001b[0m \u001b[0mex\u001b[0m\u001b[1;33m.\u001b[0m\u001b[0mrun\u001b[0m\u001b[1;33m(\u001b[0m\u001b[0mconfig_updates\u001b[0m\u001b[1;33m=\u001b[0m\u001b[0mkwargs\u001b[0m\u001b[1;33m)\u001b[0m\u001b[1;33m.\u001b[0m\u001b[0mresult\u001b[0m\u001b[1;33m\u001b[0m\u001b[0m\n\u001b[0m\u001b[0;32m    110\u001b[0m \u001b[1;33m\u001b[0m\u001b[0m\n\u001b[0;32m    111\u001b[0m \u001b[0mkaggle_ninja\u001b[0m\u001b[1;33m.\u001b[0m\u001b[0mregister\u001b[0m\u001b[1;33m(\u001b[0m\u001b[1;34m\"run_experiment\"\u001b[0m\u001b[1;33m,\u001b[0m \u001b[0mrun_experiment\u001b[0m\u001b[1;33m)\u001b[0m\u001b[1;33m\u001b[0m\u001b[0m\n",
      "\u001b[1;32m/usr/local/lib/python2.7/dist-packages/sacred-0.6.3-py2.7.egg/sacred/experiment.pyc\u001b[0m in \u001b[0;36mrun\u001b[1;34m(self, config_updates, named_configs, loglevel)\u001b[0m\n\u001b[0;32m    334\u001b[0m                                 \u001b[0mconfig_updates\u001b[0m\u001b[1;33m=\u001b[0m\u001b[0mconfig_updates\u001b[0m\u001b[1;33m,\u001b[0m\u001b[1;33m\u001b[0m\u001b[0m\n\u001b[0;32m    335\u001b[0m                                 \u001b[0mnamed_configs_to_use\u001b[0m\u001b[1;33m=\u001b[0m\u001b[0mnamed_configs\u001b[0m\u001b[1;33m,\u001b[0m\u001b[1;33m\u001b[0m\u001b[0m\n\u001b[1;32m--> 336\u001b[1;33m                                 log_level=loglevel)\n\u001b[0m\u001b[0;32m    337\u001b[0m \u001b[1;33m\u001b[0m\u001b[0m\n\u001b[0;32m    338\u001b[0m     \u001b[1;32mdef\u001b[0m \u001b[0mrun_commandline\u001b[0m\u001b[1;33m(\u001b[0m\u001b[0mself\u001b[0m\u001b[1;33m,\u001b[0m \u001b[0margv\u001b[0m\u001b[1;33m=\u001b[0m\u001b[0mNone\u001b[0m\u001b[1;33m)\u001b[0m\u001b[1;33m:\u001b[0m\u001b[1;33m\u001b[0m\u001b[0m\n",
      "\u001b[1;32m/usr/local/lib/python2.7/dist-packages/sacred-0.6.3-py2.7.egg/sacred/experiment.pyc\u001b[0m in \u001b[0;36mrun_command\u001b[1;34m(self, command_name, config_updates, named_configs_to_use, log_level)\u001b[0m\n\u001b[0;32m    208\u001b[0m         \u001b[0mself\u001b[0m\u001b[1;33m.\u001b[0m\u001b[0mcurrent_run\u001b[0m \u001b[1;33m=\u001b[0m \u001b[0mrun\u001b[0m\u001b[1;33m\u001b[0m\u001b[0m\n\u001b[0;32m    209\u001b[0m         \u001b[0mself\u001b[0m\u001b[1;33m.\u001b[0m\u001b[0mcurrent_run\u001b[0m\u001b[1;33m.\u001b[0m\u001b[0mlogger\u001b[0m\u001b[1;33m.\u001b[0m\u001b[0minfo\u001b[0m\u001b[1;33m(\u001b[0m\u001b[1;34m\"Running command '%s'\"\u001b[0m \u001b[1;33m%\u001b[0m \u001b[0mcommand_name\u001b[0m\u001b[1;33m)\u001b[0m\u001b[1;33m\u001b[0m\u001b[0m\n\u001b[1;32m--> 210\u001b[1;33m         \u001b[0mrun\u001b[0m\u001b[1;33m(\u001b[0m\u001b[1;33m)\u001b[0m\u001b[1;33m\u001b[0m\u001b[0m\n\u001b[0m\u001b[0;32m    211\u001b[0m         \u001b[0mself\u001b[0m\u001b[1;33m.\u001b[0m\u001b[0mcurrent_run\u001b[0m \u001b[1;33m=\u001b[0m \u001b[0mNone\u001b[0m\u001b[1;33m\u001b[0m\u001b[0m\n\u001b[0;32m    212\u001b[0m         \u001b[1;32mreturn\u001b[0m \u001b[0mrun\u001b[0m\u001b[1;33m\u001b[0m\u001b[0m\n",
      "\u001b[1;32m/usr/local/lib/python2.7/dist-packages/sacred-0.6.3-py2.7.egg/sacred/run.pyc\u001b[0m in \u001b[0;36m__call__\u001b[1;34m(self, *args)\u001b[0m\n\u001b[0;32m     53\u001b[0m             \u001b[0mself\u001b[0m\u001b[1;33m.\u001b[0m\u001b[0m_start_heartbeat\u001b[0m\u001b[1;33m(\u001b[0m\u001b[1;33m)\u001b[0m\u001b[1;33m\u001b[0m\u001b[0m\n\u001b[0;32m     54\u001b[0m             \u001b[1;32mtry\u001b[0m\u001b[1;33m:\u001b[0m\u001b[1;33m\u001b[0m\u001b[0m\n\u001b[1;32m---> 55\u001b[1;33m                 \u001b[0mself\u001b[0m\u001b[1;33m.\u001b[0m\u001b[0mresult\u001b[0m \u001b[1;33m=\u001b[0m \u001b[0mself\u001b[0m\u001b[1;33m.\u001b[0m\u001b[0mmain_function\u001b[0m\u001b[1;33m(\u001b[0m\u001b[1;33m*\u001b[0m\u001b[0margs\u001b[0m\u001b[1;33m)\u001b[0m\u001b[1;33m\u001b[0m\u001b[0m\n\u001b[0m\u001b[0;32m     56\u001b[0m                 \u001b[0mself\u001b[0m\u001b[1;33m.\u001b[0m\u001b[0m_stop_heartbeat\u001b[0m\u001b[1;33m(\u001b[0m\u001b[1;33m)\u001b[0m\u001b[1;33m\u001b[0m\u001b[0m\n\u001b[0;32m     57\u001b[0m                 \u001b[0mself\u001b[0m\u001b[1;33m.\u001b[0m\u001b[0m_emit_completed\u001b[0m\u001b[1;33m(\u001b[0m\u001b[0mself\u001b[0m\u001b[1;33m.\u001b[0m\u001b[0mresult\u001b[0m\u001b[1;33m)\u001b[0m\u001b[1;33m\u001b[0m\u001b[0m\n",
      "\u001b[1;32m/usr/local/lib/python2.7/dist-packages/sacred-0.6.3-py2.7.egg/sacred/config/captured_function.pyc\u001b[0m in \u001b[0;36mcaptured_function\u001b[1;34m(wrapped, instance, args, kwargs)\u001b[0m\n\u001b[0;32m     43\u001b[0m     \u001b[0mstart_time\u001b[0m \u001b[1;33m=\u001b[0m \u001b[0mtime\u001b[0m\u001b[1;33m.\u001b[0m\u001b[0mtime\u001b[0m\u001b[1;33m(\u001b[0m\u001b[1;33m)\u001b[0m\u001b[1;33m\u001b[0m\u001b[0m\n\u001b[0;32m     44\u001b[0m     \u001b[1;31m# =================== run actual function =================================\u001b[0m\u001b[1;33m\u001b[0m\u001b[1;33m\u001b[0m\u001b[0m\n\u001b[1;32m---> 45\u001b[1;33m     \u001b[0mresult\u001b[0m \u001b[1;33m=\u001b[0m \u001b[0mwrapped\u001b[0m\u001b[1;33m(\u001b[0m\u001b[1;33m*\u001b[0m\u001b[0margs\u001b[0m\u001b[1;33m,\u001b[0m \u001b[1;33m**\u001b[0m\u001b[0mkwargs\u001b[0m\u001b[1;33m)\u001b[0m\u001b[1;33m\u001b[0m\u001b[0m\n\u001b[0m\u001b[0;32m     46\u001b[0m     \u001b[1;31m# =========================================================================\u001b[0m\u001b[1;33m\u001b[0m\u001b[1;33m\u001b[0m\u001b[0m\n\u001b[0;32m     47\u001b[0m     \u001b[0mstop_time\u001b[0m \u001b[1;33m=\u001b[0m \u001b[0mtime\u001b[0m\u001b[1;33m.\u001b[0m\u001b[0mtime\u001b[0m\u001b[1;33m(\u001b[0m\u001b[1;33m)\u001b[0m\u001b[1;33m\u001b[0m\u001b[0m\n",
      "\u001b[1;32m/home/moje/Projekty/AL_ECML15/experiments/fit_grid.pyc\u001b[0m in \u001b[0;36mmain\u001b[1;34m(base_experiment_kwargs, recalculate_experiments, experiment_detailed_name, timeout, seed, force_reload, _log)\u001b[0m\n\u001b[0;32m     73\u001b[0m             \u001b[0mresult\u001b[0m \u001b[1;33m=\u001b[0m \u001b[0mabortable_worker\u001b[0m\u001b[1;33m(\u001b[0m\u001b[0mrun\u001b[0m\u001b[1;33m,\u001b[0m \u001b[0mtimeout\u001b[0m\u001b[1;33m=\u001b[0m\u001b[0mtimeout\u001b[0m\u001b[1;33m)\u001b[0m\u001b[1;33m\u001b[0m\u001b[0m\n\u001b[0;32m     74\u001b[0m         \u001b[1;32melse\u001b[0m\u001b[1;33m:\u001b[0m\u001b[1;33m\u001b[0m\u001b[0m\n\u001b[1;32m---> 75\u001b[1;33m             \u001b[0mresult\u001b[0m \u001b[1;33m=\u001b[0m \u001b[0mrun\u001b[0m\u001b[1;33m(\u001b[0m\u001b[1;33m)\u001b[0m\u001b[1;33m\u001b[0m\u001b[0m\n\u001b[0m\u001b[0;32m     76\u001b[0m         \u001b[0msave\u001b[0m\u001b[1;33m(\u001b[0m\u001b[0mresult\u001b[0m\u001b[1;33m)\u001b[0m\u001b[1;33m\u001b[0m\u001b[0m\n\u001b[0;32m     77\u001b[0m         \u001b[1;32mreturn\u001b[0m \u001b[0mresult\u001b[0m\u001b[1;33m\u001b[0m\u001b[0m\n",
      "\u001b[1;32m/usr/local/lib/python2.7/dist-packages/sacred-0.6.3-py2.7.egg/sacred/config/captured_function.pyc\u001b[0m in \u001b[0;36mcaptured_function\u001b[1;34m(wrapped, instance, args, kwargs)\u001b[0m\n\u001b[0;32m     43\u001b[0m     \u001b[0mstart_time\u001b[0m \u001b[1;33m=\u001b[0m \u001b[0mtime\u001b[0m\u001b[1;33m.\u001b[0m\u001b[0mtime\u001b[0m\u001b[1;33m(\u001b[0m\u001b[1;33m)\u001b[0m\u001b[1;33m\u001b[0m\u001b[0m\n\u001b[0;32m     44\u001b[0m     \u001b[1;31m# =================== run actual function =================================\u001b[0m\u001b[1;33m\u001b[0m\u001b[1;33m\u001b[0m\u001b[0m\n\u001b[1;32m---> 45\u001b[1;33m     \u001b[0mresult\u001b[0m \u001b[1;33m=\u001b[0m \u001b[0mwrapped\u001b[0m\u001b[1;33m(\u001b[0m\u001b[1;33m*\u001b[0m\u001b[0margs\u001b[0m\u001b[1;33m,\u001b[0m \u001b[1;33m**\u001b[0m\u001b[0mkwargs\u001b[0m\u001b[1;33m)\u001b[0m\u001b[1;33m\u001b[0m\u001b[0m\n\u001b[0m\u001b[0;32m     46\u001b[0m     \u001b[1;31m# =========================================================================\u001b[0m\u001b[1;33m\u001b[0m\u001b[1;33m\u001b[0m\u001b[0m\n\u001b[0;32m     47\u001b[0m     \u001b[0mstop_time\u001b[0m \u001b[1;33m=\u001b[0m \u001b[0mtime\u001b[0m\u001b[1;33m.\u001b[0m\u001b[0mtime\u001b[0m\u001b[1;33m(\u001b[0m\u001b[1;33m)\u001b[0m\u001b[1;33m\u001b[0m\u001b[0m\n",
      "\u001b[1;32m/home/moje/Projekty/AL_ECML15/experiments/fit_grid.pyc\u001b[0m in \u001b[0;36mrun\u001b[1;34m(recalculate_experiments, experiment_detailed_name, seed, n_jobs, single_fit_timeout, _config, grid_params, base_experiment, base_experiment_kwargs, _log)\u001b[0m\n\u001b[0;32m     51\u001b[0m                                       \u001b[0mforce_reload\u001b[0m\u001b[1;33m=\u001b[0m\u001b[0mrecalculate_experiments\u001b[0m\u001b[1;33m,\u001b[0m \u001b[0mseed\u001b[0m\u001b[1;33m=\u001b[0m\u001b[0mseed\u001b[0m\u001b[1;33m,\u001b[0m \u001b[0mtimeout\u001b[0m\u001b[1;33m=\u001b[0m\u001b[0msingle_fit_timeout\u001b[0m\u001b[1;33m,\u001b[0m\u001b[0;31m \u001b[0m\u001b[0;31m\\\u001b[0m\u001b[1;33m\u001b[0m\u001b[0m\n\u001b[0;32m     52\u001b[0m                                       \u001b[0mexperiment_detailed_name\u001b[0m\u001b[1;33m=\u001b[0m\u001b[0mexperiment_detailed_name\u001b[0m\u001b[1;33m+\u001b[0m\u001b[1;34m\"_subfit\"\u001b[0m\u001b[1;33m,\u001b[0m\u001b[0;31m \u001b[0m\u001b[0;31m\\\u001b[0m\u001b[1;33m\u001b[0m\u001b[0m\n\u001b[1;32m---> 53\u001b[1;33m                                       n_jobs=n_jobs, grid_params=grid_params, **base_experiment_kwargs)\n\u001b[0m\u001b[0;32m     54\u001b[0m \u001b[1;33m\u001b[0m\u001b[0m\n\u001b[0;32m     55\u001b[0m     \u001b[1;32mreturn\u001b[0m \u001b[0mGridExperimentResult\u001b[0m\u001b[1;33m(\u001b[0m\u001b[0mexperiments\u001b[0m\u001b[1;33m=\u001b[0m\u001b[0mexperiments\u001b[0m\u001b[1;33m,\u001b[0m \u001b[0mconfig\u001b[0m\u001b[1;33m=\u001b[0m\u001b[0m_config\u001b[0m\u001b[1;33m,\u001b[0m \u001b[0mgrid_params\u001b[0m\u001b[1;33m=\u001b[0m\u001b[0mgrid_params\u001b[0m\u001b[1;33m,\u001b[0m \u001b[0mname\u001b[0m\u001b[1;33m=\u001b[0m\u001b[0mexperiment_detailed_name\u001b[0m\u001b[1;33m)\u001b[0m\u001b[1;33m\u001b[0m\u001b[0m\n",
      "\u001b[1;32m/home/moje/Projekty/AL_ECML15/experiments/experiment_runner.pyc\u001b[0m in \u001b[0;36mrun_experiment_grid\u001b[1;34m(name, grid_params, timeout, n_jobs, **kwargs)\u001b[0m\n\u001b[0;32m     97\u001b[0m             \u001b[0mpool\u001b[0m\u001b[1;33m.\u001b[0m\u001b[0mterminate\u001b[0m\u001b[1;33m(\u001b[0m\u001b[1;33m)\u001b[0m\u001b[1;33m\u001b[0m\u001b[0m\n\u001b[0;32m     98\u001b[0m             \u001b[0mpool\u001b[0m\u001b[1;33m.\u001b[0m\u001b[0mjoin\u001b[0m\u001b[1;33m(\u001b[0m\u001b[1;33m)\u001b[0m\u001b[1;33m\u001b[0m\u001b[0m\n\u001b[1;32m---> 99\u001b[1;33m             \u001b[1;32mraise\u001b[0m \u001b[0mValueError\u001b[0m\u001b[1;33m(\u001b[0m\u001b[1;34m\"raising value to prevent caching\"\u001b[0m\u001b[1;33m)\u001b[0m\u001b[1;33m\u001b[0m\u001b[0m\n\u001b[0m\u001b[0;32m    100\u001b[0m     \u001b[0mpool\u001b[0m\u001b[1;33m.\u001b[0m\u001b[0mterminate\u001b[0m\u001b[1;33m(\u001b[0m\u001b[1;33m)\u001b[0m\u001b[1;33m\u001b[0m\u001b[0m\n\u001b[0;32m    101\u001b[0m     \u001b[0mpool\u001b[0m\u001b[1;33m.\u001b[0m\u001b[0mjoin\u001b[0m\u001b[1;33m(\u001b[0m\u001b[1;33m)\u001b[0m\u001b[1;33m\u001b[0m\u001b[0m\n",
      "\u001b[1;31mValueError\u001b[0m: raising value to prevent caching"
     ]
    }
   ],
   "source": [
    "\n",
    "loader = [\"get_splitted_data\",\n",
    "          {\"n_folds\": 5,\n",
    "           \"seed\":777,\n",
    "           \"test_size\":0.0}]\n",
    "strategy = \"random_query\"\n",
    "f = \"ExtFP\"\n",
    "grid_results = run_experiment(\"fit_grid\",\n",
    "                       n_jobs = 2, \\\n",
    "                       experiment_detailed_name=\"5ht6_\"+f+\"_\"+strategy,\n",
    "                       base_experiment=\"fit_active_learning\",\n",
    "                       seed=777,\n",
    "                       grid_params = {\"base_model_kwargs:alpha\": list(np.logspace(-5,5,10))},\n",
    "                       base_experiment_kwargs={\"strategy\": strategy,\n",
    "                                               \"loader_function\": loader[0],\n",
    "                                               \"loader_args\": loader[1],\n",
    "                                                \"protein\": \"5ht6\",\n",
    "                                                \"fingerprint\":f,\n",
    "                                               \"batch_size\": 20, \\\n",
    "                                               \"base_model\": \"SGDClassifier\"})"
   ]
  },
  {
   "cell_type": "code",
   "execution_count": 12,
   "metadata": {
    "collapsed": false
   },
   "outputs": [],
   "source": [
    "\n",
    "# preprocess_fncs = [[\"to_binary\", {\"all_below\": True}]]\n",
    "# loader = [\"get_splitted_data_clusterly\", {\n",
    "#         \"seed\": 777, \"preprocess_fncs\": preprocess_fncs, \"n_folds\": 2}]\n",
    "# data = get_data([[\"5ht6\", \"KlekFP\"]], loader, preprocess_fncs, force_reload=True)\n",
    "\n",
    "strategy = \"random_query\"\n",
    "f = \"ExtFP\"\n",
    "grid_results = run_experiment(\"fit_grid\",\n",
    "                       n_jobs = 2, \\\n",
    "                       experiment_detailed_name=\"5ht6_\"+f+\"_\"+strategy,\n",
    "                       base_experiment=\"fit_active_learning\",\n",
    "                       seed=777,\n",
    "                       grid_params = {\"base_model_kwargs:alpha\": list(np.logspace(-5,5,10))},\n",
    "                       base_experiment_kwargs={\"strategy\": strategy,\n",
    "                                               \"loader_function\": loader[0],\n",
    "                                               \"loader_args\": loader[1],\n",
    "                                                \"protein\": \"5ht6\",\n",
    "                                                \"fingerprint\":f,\n",
    "                                               \"batch_size\": 20, \\\n",
    "                                               \"base_model\": \"SGDClassifier\"})"
   ]
  },
  {
   "cell_type": "code",
   "execution_count": 2,
   "metadata": {
    "collapsed": false
   },
   "outputs": [],
   "source": [
    "# Has to be agnostic to labels\n",
    "# Can have different clasa distribution - seems a good idea for active learning\n",
    "# Finds K clusters and this defines K folds"
   ]
  },
  {
   "cell_type": "code",
   "execution_count": 2,
   "metadata": {
    "collapsed": false,
    "scrolled": true
   },
   "outputs": [
    {
     "name": "stderr",
     "output_type": "stream",
     "text": [
      "2015-05-31 23:33:06,964 - al_ecml2015 - DEBUG - _get_single_data: Cache miss or force reload. Caching _get_single_data_af56eb8cc824fd47cd60e1efffe3684311e031c1f9eb8a77e2da5bff65c2ba6b\n",
      "2015-05-31 23:33:06,969 - al_ecml2015 - DEBUG - _get_single_data:Loading (pickled?) file\n",
      "2015-05-31 23:34:01,994 - al_ecml2015 - INFO - Running preprocess on 0 fold\n",
      "2015-05-31 23:34:03,931 - al_ecml2015 - INFO - Running preprocess on 1 fold\n",
      "2015-05-31 23:34:05,870 - al_ecml2015 - DEBUG - _get_single_data: Saving _get_single_data_af56eb8cc824fd47cd60e1efffe3684311e031c1f9eb8a77e2da5bff65c2ba6b\n"
     ]
    }
   ],
   "source": [
    "# all_combinations = [p for p in list(product(proteins, fingerprints))]\n",
    "\n",
    "preprocess_fncs = [[\"to_binary\", {\"all_below\": True}]]\n",
    "loader = [\"get_splitted_data_clusterly\", {\n",
    "        \"seed\": 777, \"preprocess_fncs\": preprocess_fncs, \"n_folds\": 2}]\n",
    "data = get_data([[\"5ht6\", \"KlekFP\"]], loader, preprocess_fncs, force_reload=True)"
   ]
  },
  {
   "cell_type": "code",
   "execution_count": 7,
   "metadata": {
    "collapsed": false
   },
   "outputs": [],
   "source": [
    "from experiments.utils import *"
   ]
  },
  {
   "cell_type": "code",
   "execution_count": 11,
   "metadata": {
    "collapsed": false
   },
   "outputs": [
    {
     "data": {
      "text/html": [
       "<div style=\"max-height:1000px;max-width:1500px;overflow:auto;\">\n",
       "<table border=\"1\" class=\"dataframe\">\n",
       "  <thead>\n",
       "    <tr style=\"text-align: right;\">\n",
       "      <th></th>\n",
       "      <th>mean_mcc_valid</th>\n",
       "    </tr>\n",
       "  </thead>\n",
       "  <tbody>\n",
       "    <tr>\n",
       "      <th>5ht6_KlekFP_uncertanity_subfit</th>\n",
       "      <td>0.723964</td>\n",
       "    </tr>\n",
       "    <tr>\n",
       "      <th>5ht6_KlekFP_uncertanity_subfit</th>\n",
       "      <td>0.723964</td>\n",
       "    </tr>\n",
       "    <tr>\n",
       "      <th>5ht6_KlekFP_uncertanity_subfit</th>\n",
       "      <td>0.694110</td>\n",
       "    </tr>\n",
       "    <tr>\n",
       "      <th>5ht6_KlekFP_uncertanity_subfit</th>\n",
       "      <td>0.680081</td>\n",
       "    </tr>\n",
       "    <tr>\n",
       "      <th>5ht6_KlekFP_uncertanity_subfit</th>\n",
       "      <td>0.702090</td>\n",
       "    </tr>\n",
       "    <tr>\n",
       "      <th>5ht6_KlekFP_uncertanity_subfit</th>\n",
       "      <td>0.000000</td>\n",
       "    </tr>\n",
       "    <tr>\n",
       "      <th>5ht6_KlekFP_uncertanity_subfit</th>\n",
       "      <td>0.000000</td>\n",
       "    </tr>\n",
       "    <tr>\n",
       "      <th>5ht6_KlekFP_uncertanity_subfit</th>\n",
       "      <td>0.000000</td>\n",
       "    </tr>\n",
       "    <tr>\n",
       "      <th>5ht6_KlekFP_uncertanity_subfit</th>\n",
       "      <td>0.000000</td>\n",
       "    </tr>\n",
       "    <tr>\n",
       "      <th>5ht6_KlekFP_uncertanity_subfit</th>\n",
       "      <td>0.000000</td>\n",
       "    </tr>\n",
       "  </tbody>\n",
       "</table>\n",
       "</div>"
      ],
      "text/plain": [
       "                                mean_mcc_valid\n",
       "5ht6_KlekFP_uncertanity_subfit        0.723964\n",
       "5ht6_KlekFP_uncertanity_subfit        0.723964\n",
       "5ht6_KlekFP_uncertanity_subfit        0.694110\n",
       "5ht6_KlekFP_uncertanity_subfit        0.680081\n",
       "5ht6_KlekFP_uncertanity_subfit        0.702090\n",
       "5ht6_KlekFP_uncertanity_subfit        0.000000\n",
       "5ht6_KlekFP_uncertanity_subfit        0.000000\n",
       "5ht6_KlekFP_uncertanity_subfit        0.000000\n",
       "5ht6_KlekFP_uncertanity_subfit        0.000000\n",
       "5ht6_KlekFP_uncertanity_subfit        0.000000"
      ]
     },
     "execution_count": 11,
     "metadata": {},
     "output_type": "execute_result"
    }
   ],
   "source": [
    "print_experiment_results(grid_results.experiments)"
   ]
  },
  {
   "cell_type": "code",
   "execution_count": 14,
   "metadata": {
    "collapsed": false
   },
   "outputs": [
    {
     "name": "stderr",
     "output_type": "stream",
     "text": [
      "2015-05-31 11:51:04,849 - al_ecml2015 - DEBUG - calculate_jaccard_distance: Cache miss or force reload. Caching calculate_jaccard_distance_fae47becf699f4ba7e429c21079cc2d13fc1e6de3c9d44cabc7c5f43455d570b\n",
      "2015-05-31 11:51:04,853 - al_ecml2015 - DEBUG - _get_single_data:Loading (pickled?) file\n",
      "2015-05-31 11:51:04,858 - al_ecml2015 - DEBUG - calculate_jaccard_distance: Saving calculate_jaccard_distance_fae47becf699f4ba7e429c21079cc2d13fc1e6de3c9d44cabc7c5f43455d570b\n",
      "2015-05-31 11:51:04,897 - al_ecml2015 - DEBUG - get_PCA_of_raw_data:Loading (pickled?) file\n"
     ]
    },
    {
     "data": {
      "image/png": "[encoded data removed]",
      "text/plain": [
       "<matplotlib.figure.Figure at 0x7fea9a6efed0>"
      ]
     },
     "metadata": {},
     "output_type": "display_data"
    }
   ],
   "source": [
    "%matplotlib inline\n",
    "\n",
    "all_combinations = [p for p in list(product(proteins, fingerprints))]\n",
    "\n",
    "# comps = all_combinations[len(proteins)+fingerprints.index(\"KlekFP\"):len(proteins)+fingerprints.index(\"KlekFP\")+1]\n",
    "comps = all_combinations[15:16]\n",
    "fig, axes = plt.subplots(1, 1)\n",
    "fig.set_figwidth(10*1)\n",
    "fig.set_figheight(10*1)\n",
    "\n",
    "\n",
    "\n",
    "if hasattr(axes, \"reshape\"):\n",
    "    axes = axes.reshape(-1)\n",
    "else:\n",
    "    axes = [axes]\n",
    "    \n",
    "for ax, comp in zip(axes, comps):\n",
    "    preprocess_fncs = [[\"to_binary\", {\"all_below\": True}]]\n",
    "    m = DBSCAN(eps=0.01, metric='precomputed')\n",
    "    \n",
    "    X, K = calculate_jaccard_distance(force_reload=True, protein=comp[0], fingerprint=comp[1], \\\n",
    "                                               seed=777, preprocess_fncs=preprocess_fncs)\n",
    "    clusters = m.fit_predict(K)\n",
    "    \n",
    "    \n",
    "    _, Y = _get_raw_data(comp[0], comp[1])\n",
    "\n",
    "        \n",
    "    colors = ['rgb'[int(c)] for c in clusters]\n",
    "\n",
    "    X_pca = get_PCA_of_raw_data(n_components=10, iterated_power=10, protein=comp[0], fingerprint=comp[1])\n",
    "    ax.legend()\n",
    "    ax.set_title(\"_\".join(comp))\n",
    "    ax.scatter(X_pca[:, 0], X_pca[:, 1], marker='o', c=colors)\n",
    "    ax.legend()\n",
    "# plt.savefig('foo.png')\n",
    "plt.show()"
   ]
  },
  {
   "cell_type": "code",
   "execution_count": null,
   "metadata": {
    "collapsed": true
   },
   "outputs": [],
   "source": [
    "\n",
    "all_combinations = [p for p in list(product(proteins, fingerprints))]\n",
    "prot_to_draw = 1 # len(proteins)\n",
    "fing_to_draw = len(fingerprints)\n",
    "comps = all_combinations[0:fing_to_draw*prot_to_draw]\n",
    "fig, axes = plt.subplots(prot_to_draw, fing_to_draw)\n",
    "fig.set_figwidth(10*fing_to_draw)\n",
    "fig.set_figheight(10*prot_to_draw)\n",
    "\n",
    "\n",
    "if hasattr(axes, \"reshape\"):\n",
    "    axes = axes.reshape(-1)\n",
    "else:\n",
    "    axes = [axes]\n",
    "    \n",
    "for ax, comp in zip(axes, comps):\n",
    "    X, Y = _get_raw_data(comp[0], comp[1])\n",
    "    X_pca = get_PCA_of_raw_data(n_components=10, iterated_power=10, protein=comp[0], fingerprint=comp[1])\n",
    "    ax.legend()\n",
    "    ax.set_title(\"_\".join(comp))\n",
    "    for c, i, target_name in zip(\"rgb\", [-1, 1], [\"inactive\", \"active\"]):\n",
    "        if i == 0:\n",
    "            continue\n",
    "        ax.scatter(X_pca[Y == i, 0], X_pca[Y == i, 1], c=c, label=target_name)\n",
    "    ax.legend()\n",
    "# plt.savefig('foo.png')\n",
    "plt.show()"
   ]
  },
  {
   "cell_type": "code",
   "execution_count": 25,
   "metadata": {
    "collapsed": true
   },
   "outputs": [],
   "source": []
  },
  {
   "cell_type": "code",
   "execution_count": 35,
   "metadata": {
    "collapsed": true
   },
   "outputs": [],
   "source": [
    "n_folds = 2"
   ]
  },
  {
   "cell_type": "code",
   "execution_count": 40,
   "metadata": {
    "collapsed": false
   },
   "outputs": [],
   "source": [
    "\n",
    "protein = \"5ht6\"\n",
    "fingerprint = \"SubFP\"\n",
    "seed = 777\n",
    "cluster_size_threshold = 0.1\n",
    "preprocess_fncs = [[\"to_binary\", {\"all_below\": True}]]\n",
    "\n"
   ]
  },
  {
   "cell_type": "code",
   "execution_count": 36,
   "metadata": {
    "collapsed": false
   },
   "outputs": [],
   "source": []
  },
  {
   "cell_type": "code",
   "execution_count": 37,
   "metadata": {
    "collapsed": true
   },
   "outputs": [],
   "source": []
  },
  {
   "cell_type": "code",
   "execution_count": 3,
   "metadata": {
    "collapsed": false
   },
   "outputs": [
    {
     "name": "stderr",
     "output_type": "stream",
     "text": [
      "2015-06-02 10:27:34,982 - al_ecml2015 - DEBUG - Call get_PCA_of_raw_data\n",
      "2015-06-02 10:27:34,984 - al_ecml2015 - DEBUG - Call calculate_jaccard_distance\n",
      "2015-06-02 10:27:34,985 - al_ecml2015 - DEBUG - Call get_MDS_of_raw_data\n"
     ]
    }
   ],
   "source": [
    "@cached()\n",
    "def get_PCA_of_raw_data(n_components, iterated_power, protein, fingerprint, only_positive=False):\n",
    "    X, Y = _get_raw_data(protein, fingerprint)\n",
    "    if only_positive:\n",
    "        X = X[Y==1]\n",
    "    model = RandomizedPCA(n_components=n_components,iterated_power=iterated_power).fit(X.toarray(), Y)\n",
    "    return model.transform(X.toarray())\n",
    "\n",
    "@cached()\n",
    "def calculate_jaccard_distance(protein, fingerprint, seed, preprocess_fncs, only_positive=False):\n",
    "    loader = [\"get_splitted_data\",\n",
    "              {\"n_folds\": 1,\n",
    "               \"seed\":seed,\n",
    "               \"test_size\":0.0}]\n",
    "    data = get_data([[protein, fingerprint]], loader, preprocess_fncs)\n",
    "    Y = data[protein+\"_\"+fingerprint][0][0][\"Y_train\"]\n",
    "    X1T = data[protein+\"_\"+fingerprint][0][0][\"X_train\"]\n",
    "    if only_positive:\n",
    "        X1T = X1T[Y==1]\n",
    "    X2T = X1T\n",
    "    X1T_sums = np.array(X1T.sum(axis=1))\n",
    "    X2T_sums = np.array(X2T.sum(axis=1))\n",
    "    K = X1T.dot(X2T.T)\n",
    "    K = K.toarray()\n",
    "    K2 = -(K.copy())\n",
    "    K2 += (X1T_sums.reshape(-1,1))\n",
    "    K2 += (X2T_sums.reshape(1,-1))\n",
    "    K = K/K2\n",
    "    return X1T, 1 - K\n",
    "\n",
    "@cached()\n",
    "def get_MDS_of_raw_data(n_components,  protein, fingerprint, seed, preprocess_fncs, only_positive=False):\n",
    "    X, K = calculate_jaccard_distance(protein=protein, fingerprint=fingerprint, \\\n",
    "                                      seed=seed, preprocess_fncs=preprocess_fncs, only_positive=only_positive)\n",
    "    print K.shape\n",
    "    print X.shape\n",
    "    m = MDS(n_components=n_components, n_jobs=4, dissimilarity=\"precomputed\")\n",
    "    return m, m.fit_transform(K)"
   ]
  },
  {
   "cell_type": "code",
   "execution_count": 17,
   "metadata": {
    "collapsed": false
   },
   "outputs": [
    {
     "data": {
      "text/plain": [
       "['5ht7',\n",
       " '5ht6',\n",
       " 'SERT',\n",
       " '5ht2c',\n",
       " '5ht2a',\n",
       " 'hiv_integrase',\n",
       " 'h1',\n",
       " 'hERG',\n",
       " 'cathepsin',\n",
       " 'hiv_protease',\n",
       " 'M1',\n",
       " 'd2']"
      ]
     },
     "execution_count": 17,
     "metadata": {},
     "output_type": "execute_result"
    }
   ],
   "source": [
    "proteins"
   ]
  },
  {
   "cell_type": "code",
   "execution_count": 19,
   "metadata": {
    "collapsed": true
   },
   "outputs": [],
   "source": [
    "protein, fingerprint = proteins[1], fingerprints[0]"
   ]
  },
  {
   "cell_type": "code",
   "execution_count": 20,
   "metadata": {
    "collapsed": false
   },
   "outputs": [],
   "source": [
    "from get_data import fingerprints"
   ]
  },
  {
   "cell_type": "code",
   "execution_count": 21,
   "metadata": {
    "collapsed": false
   },
   "outputs": [
    {
     "name": "stderr",
     "output_type": "stream",
     "text": [
      "2015-06-02 10:29:03,641 - al_ecml2015 - DEBUG - get_PCA_of_raw_data: Cache miss or force reload. Caching get_PCA_of_raw_data_844a2fb7783709aa2bedbb001ad07dfca3b49ba453dc5acb29003637f6aff44b\n",
      "2015-06-02 10:29:03,701 - al_ecml2015 - DEBUG - get_PCA_of_raw_data: Saving get_PCA_of_raw_data_844a2fb7783709aa2bedbb001ad07dfca3b49ba453dc5acb29003637f6aff44b\n"
     ]
    }
   ],
   "source": [
    "X_pca = get_PCA_of_raw_data(force_reload=True, \\\n",
    "                                 n_components=10, iterated_power=10, protein=protein, fingerprint=fingerprint, \n",
    "                            only_positive=False)  "
   ]
  },
  {
   "cell_type": "code",
   "execution_count": 29,
   "metadata": {
    "collapsed": false
   },
   "outputs": [
    {
     "data": {
      "text/plain": [
       "['5ht2a_actives_cluster3_SubFP.csv',\n",
       " 'd2_actives_cluster6_EstateFP.csv',\n",
       " '5ht2a_actives_cluster1_ExtFP.csv',\n",
       " 'beta2_actives_cluster6_KlekFP.csv',\n",
       " 'd2_actives_cluster5_KlekFP.csv',\n",
       " '5ht1a_actives_cluster4_ExtFP.csv',\n",
       " 'd2_actives_cluster3_KlekFP.csv',\n",
       " 'beta1_actives_cluster3_EstateFP.csv',\n",
       " 'd1_actives_cluster7_PubchemFP.csv',\n",
       " 'd1_actives_cluster5_ExtFP.csv',\n",
       " 'beta1_actives_cluster4_KlekFP.csv',\n",
       " 'alpha1a_actives_cluster1_MACCSFP.csv',\n",
       " 'beta2_actives_cluster6_ExtFP.csv',\n",
       " 'beta2_actives_cluster6_MACCSFP.csv',\n",
       " '5ht6_actives_cluster6_EstateFP.csv',\n",
       " '5ht7_actives_cluster7_PubchemFP.csv',\n",
       " 'd2_actives_cluster6_KlekFP.csv',\n",
       " 'beta1_actives_cluster5_PubchemFP.csv',\n",
       " 'd2_actives_cluster3_PubchemFP.csv',\n",
       " 'd1_actives_cluster1_MACCSFP.csv',\n",
       " '5ht7_actives_cluster2_MACCSFP.csv',\n",
       " '5ht7_actives_cluster4_KlekFP.csv',\n",
       " 'beta1_actives_cluster1_SubFP.csv',\n",
       " 'beta1_actives_cluster1_KlekFP.csv',\n",
       " 'd1_actives_cluster3_SubFP.csv',\n",
       " 'd1_actives_cluster4_KlekFP.csv',\n",
       " 'beta2_actives_cluster1_EstateFP.csv',\n",
       " '5ht7_actives_cluster4_EstateFP.csv',\n",
       " 'alpha1a_actives_cluster3_KlekFP.csv',\n",
       " '5ht1a_actives_cluster5_PubchemFP.csv',\n",
       " '5ht7_actives_cluster3_MACCSFP.csv',\n",
       " '5ht7_actives_cluster1_MACCSFP.csv',\n",
       " 'beta2_actives_cluster5_PubchemFP.csv',\n",
       " '5ht6_actives_cluster5_KlekFP.csv',\n",
       " '5ht2a_actives_cluster2_EstateFP.csv',\n",
       " 'd1_actives_cluster1_PubchemFP.csv',\n",
       " 'beta2_actives_cluster5_EstateFP.csv',\n",
       " '5ht2a_actives_cluster4_KlekFP.csv',\n",
       " '5ht2a_actives_cluster2_PubchemFP.csv',\n",
       " 'beta2_actives_cluster3_PubchemFP.csv',\n",
       " 'd1_actives_cluster5_EstateFP.csv',\n",
       " 'beta1_actives_cluster1_MACCSFP.csv',\n",
       " 'beta1_actives_cluster7_KlekFP.csv',\n",
       " 'd1_actives_cluster6_PubchemFP.csv',\n",
       " '5ht7_actives_cluster7_SubFP.csv',\n",
       " '5ht6_actives_cluster1_ExtFP.csv',\n",
       " 'alpha1a_actives_cluster7_PubchemFP.csv',\n",
       " '5ht1a_actives_cluster4_MACCSFP.csv',\n",
       " '5ht7_actives_cluster4_MACCSFP.csv',\n",
       " 'beta1_actives_cluster1_ExtFP.csv',\n",
       " 'd1_actives_cluster4_MACCSFP.csv',\n",
       " 'beta1_actives_cluster3_KlekFP.csv',\n",
       " 'alpha1a_actives_cluster3_ExtFP.csv',\n",
       " '5ht6_actives_cluster6_ExtFP.csv',\n",
       " '5ht2a_actives_cluster2_MACCSFP.csv',\n",
       " '5ht6_actives_cluster2_EstateFP.csv',\n",
       " 'alpha1a_actives_cluster5_MACCSFP.csv',\n",
       " 'alpha1a_actives_cluster2_KlekFP.csv',\n",
       " '5ht7_actives_cluster3_EstateFP.csv',\n",
       " 'alpha1a_actives_cluster1_ExtFP.csv',\n",
       " 'd2_actives_cluster6_ExtFP.csv',\n",
       " 'beta2_actives_cluster2_ExtFP.csv',\n",
       " '5ht6_actives_cluster3_EstateFP.csv',\n",
       " 'alpha1a_actives_cluster7_MACCSFP.csv',\n",
       " 'beta2_actives_cluster1_KlekFP.csv',\n",
       " 'beta1_actives_cluster6_SubFP.csv',\n",
       " 'alpha1a_actives_cluster3_EstateFP.csv',\n",
       " 'd1_actives_cluster4_ExtFP.csv',\n",
       " '5ht2a_actives_cluster5_ExtFP.csv',\n",
       " '5ht7_actives_cluster4_PubchemFP.csv',\n",
       " 'alpha1a_actives_cluster3_SubFP.csv',\n",
       " '5ht1a_actives_cluster4_PubchemFP.csv',\n",
       " '5ht1a_actives_cluster6_PubchemFP.csv',\n",
       " '5ht6_actives_cluster3_ExtFP.csv',\n",
       " '5ht7_actives_cluster1_SubFP.csv',\n",
       " 'd2_actives_cluster4_MACCSFP.csv',\n",
       " 'beta2_actives_cluster2_EstateFP.csv',\n",
       " 'd2_actives_cluster2_MACCSFP.csv',\n",
       " 'beta1_actives_cluster4_EstateFP.csv',\n",
       " 'd1_actives_cluster4_EstateFP.csv',\n",
       " '5ht6_actives_cluster4_EstateFP.csv',\n",
       " '5ht6_actives_cluster3_MACCSFP.csv',\n",
       " '5ht1a_actives_cluster6_SubFP.csv',\n",
       " 'beta2_actives_cluster3_EstateFP.csv',\n",
       " 'd1_actives_cluster7_ExtFP.csv',\n",
       " '5ht2a_actives_cluster3_ExtFP.csv',\n",
       " 'd1_actives_cluster1_SubFP.csv',\n",
       " '5ht2a_actives_cluster3_MACCSFP.csv',\n",
       " 'beta2_actives_cluster3_MACCSFP.csv',\n",
       " 'd2_actives_cluster3_SubFP.csv',\n",
       " 'd1_actives_cluster3_PubchemFP.csv',\n",
       " '5ht7_actives_cluster7_KlekFP.csv',\n",
       " 'd2_actives_cluster5_EstateFP.csv',\n",
       " '5ht7_actives_cluster2_ExtFP.csv',\n",
       " '5ht7_actives_cluster6_SubFP.csv',\n",
       " '5ht2a_actives_cluster5_EstateFP.csv',\n",
       " 'beta2_actives_cluster3_KlekFP.csv',\n",
       " 'alpha1a_actives_cluster5_EstateFP.csv',\n",
       " 'd2_actives_cluster1_PubchemFP.csv',\n",
       " '5ht6_actives_cluster6_PubchemFP.csv',\n",
       " 'beta1_actives_cluster5_EstateFP.csv',\n",
       " '5ht6_actives_cluster1_EstateFP.csv',\n",
       " 'beta1_actives_cluster4_MACCSFP.csv',\n",
       " 'beta2_actives_cluster1_MACCSFP.csv',\n",
       " '5ht2a_actives_cluster1_KlekFP.csv',\n",
       " 'alpha1a_actives_cluster7_EstateFP.csv',\n",
       " '5ht7_actives_cluster2_SubFP.csv',\n",
       " '5ht7_actives_cluster7_ExtFP.csv',\n",
       " 'beta2_actives_cluster1_ExtFP.csv',\n",
       " 'beta2_actives_cluster1_PubchemFP.csv',\n",
       " 'beta2_actives_cluster6_PubchemFP.csv',\n",
       " 'd1_actives_cluster6_MACCSFP.csv',\n",
       " 'd2_actives_cluster5_ExtFP.csv',\n",
       " '5ht2a_actives_cluster6_MACCSFP.csv',\n",
       " 'beta1_actives_cluster6_MACCSFP.csv',\n",
       " 'd2_actives_cluster1_SubFP.csv',\n",
       " '5ht2a_actives_cluster2_KlekFP.csv',\n",
       " '5ht1a_actives_cluster5_MACCSFP.csv',\n",
       " 'alpha1a_actives_cluster5_ExtFP.csv',\n",
       " '5ht7_actives_cluster6_KlekFP.csv',\n",
       " 'beta2_actives_cluster4_ExtFP.csv',\n",
       " '5ht1a_actives_cluster2_PubchemFP.csv',\n",
       " 'alpha1a_actives_cluster7_KlekFP.csv',\n",
       " '5ht6_actives_cluster2_SubFP.csv',\n",
       " 'alpha1a_actives_cluster1_SubFP.csv',\n",
       " 'alpha1a_actives_cluster6_MACCSFP.csv',\n",
       " 'alpha1a_actives_cluster3_MACCSFP.csv',\n",
       " 'd1_actives_cluster2_SubFP.csv',\n",
       " 'beta1_actives_cluster3_ExtFP.csv',\n",
       " 'alpha1a_actives_cluster6_KlekFP.csv',\n",
       " 'beta1_actives_cluster5_KlekFP.csv',\n",
       " 'd2_actives_cluster2_EstateFP.csv',\n",
       " 'd2_actives_cluster6_SubFP.csv',\n",
       " 'd2_actives_cluster3_MACCSFP.csv',\n",
       " 'd2_actives_cluster5_SubFP.csv',\n",
       " '5ht1a_actives_cluster2_MACCSFP.csv',\n",
       " 'd1_actives_cluster6_KlekFP.csv',\n",
       " 'alpha1a_actives_cluster2_ExtFP.csv',\n",
       " 'beta1_actives_cluster3_PubchemFP.csv',\n",
       " 'beta1_actives_cluster7_PubchemFP.csv',\n",
       " 'd2_actives_cluster4_ExtFP.csv',\n",
       " 'beta1_actives_cluster5_ExtFP.csv',\n",
       " 'd1_actives_cluster5_MACCSFP.csv',\n",
       " 'alpha1a_actives_cluster5_KlekFP.csv',\n",
       " '5ht6_actives_cluster5_MACCSFP.csv',\n",
       " '5ht7_actives_cluster2_PubchemFP.csv',\n",
       " '5ht6_actives_cluster5_ExtFP.csv',\n",
       " '5ht6_actives_cluster4_SubFP.csv',\n",
       " '5ht2a_actives_cluster6_PubchemFP.csv',\n",
       " '5ht1a_actives_cluster6_ExtFP.csv',\n",
       " 'beta1_actives_cluster7_SubFP.csv',\n",
       " 'beta1_actives_cluster2_EstateFP.csv',\n",
       " 'd1_actives_cluster5_SubFP.csv',\n",
       " 'beta2_actives_cluster6_EstateFP.csv',\n",
       " 'd1_actives_cluster2_PubchemFP.csv',\n",
       " '5ht6_actives_cluster6_MACCSFP.csv',\n",
       " '5ht7_actives_cluster5_EstateFP.csv',\n",
       " '5ht2a_actives_cluster7_ExtFP.csv',\n",
       " '5ht2a_actives_cluster7_SubFP.csv',\n",
       " 'beta1_actives_cluster3_SubFP.csv',\n",
       " 'alpha1a_actives_cluster7_SubFP.csv',\n",
       " '5ht2a_actives_cluster6_ExtFP.csv',\n",
       " 'beta1_actives_cluster4_ExtFP.csv',\n",
       " 'd2_actives_cluster1_KlekFP.csv',\n",
       " '5ht6_actives_cluster5_PubchemFP.csv',\n",
       " '5ht2a_actives_cluster6_SubFP.csv',\n",
       " '5ht1a_actives_cluster4_KlekFP.csv',\n",
       " '5ht2a_actives_cluster7_PubchemFP.csv',\n",
       " 'alpha1a_actives_cluster2_EstateFP.csv',\n",
       " '5ht2a_actives_cluster2_SubFP.csv',\n",
       " '5ht6_actives_cluster1_KlekFP.csv',\n",
       " '5ht2a_actives_cluster7_EstateFP.csv',\n",
       " 'd2_actives_cluster6_PubchemFP.csv',\n",
       " '5ht1a_actives_cluster2_EstateFP.csv',\n",
       " '5ht7_actives_cluster3_KlekFP.csv',\n",
       " 'beta1_actives_cluster2_KlekFP.csv',\n",
       " '5ht1a_actives_cluster3_MACCSFP.csv',\n",
       " 'beta2_actives_cluster2_PubchemFP.csv',\n",
       " '5ht1a_actives_cluster1_SubFP.csv',\n",
       " 'alpha1a_actives_cluster3_PubchemFP.csv',\n",
       " 'beta1_actives_cluster2_PubchemFP.csv',\n",
       " '5ht2a_actives_cluster7_KlekFP.csv',\n",
       " '5ht1a_actives_cluster3_KlekFP.csv',\n",
       " 'alpha1a_actives_cluster6_ExtFP.csv',\n",
       " 'd2_actives_cluster1_ExtFP.csv',\n",
       " 'beta2_actives_cluster3_ExtFP.csv',\n",
       " 'beta2_actives_cluster5_MACCSFP.csv',\n",
       " '5ht6_actives_cluster6_SubFP.csv',\n",
       " '5ht2a_actives_cluster3_PubchemFP.csv',\n",
       " 'beta2_actives_cluster5_KlekFP.csv',\n",
       " '5ht6_actives_cluster1_SubFP.csv',\n",
       " 'd1_actives_cluster3_MACCSFP.csv',\n",
       " 'alpha1a_actives_cluster4_ExtFP.csv',\n",
       " 'alpha1a_actives_cluster4_KlekFP.csv',\n",
       " 'beta2_actives_cluster5_ExtFP.csv',\n",
       " '5ht2a_actives_cluster1_MACCSFP.csv',\n",
       " '5ht2a_actives_cluster5_KlekFP.csv',\n",
       " 'd2_actives_cluster2_PubchemFP.csv',\n",
       " 'd1_actives_cluster7_MACCSFP.csv',\n",
       " 'd2_actives_cluster5_MACCSFP.csv',\n",
       " '5ht7_actives_cluster5_SubFP.csv',\n",
       " 'd1_actives_cluster4_PubchemFP.csv',\n",
       " 'd2_actives_cluster4_SubFP.csv',\n",
       " 'd1_actives_cluster6_EstateFP.csv',\n",
       " '5ht2a_actives_cluster4_SubFP.csv',\n",
       " '5ht2a_actives_cluster6_EstateFP.csv',\n",
       " '5ht6_actives_cluster1_PubchemFP.csv',\n",
       " 'alpha1a_actives_cluster1_PubchemFP.csv',\n",
       " '5ht6_actives_cluster4_ExtFP.csv',\n",
       " 'beta1_actives_cluster6_ExtFP.csv',\n",
       " 'd1_actives_cluster5_KlekFP.csv',\n",
       " '5ht6_actives_cluster3_SubFP.csv',\n",
       " 'beta1_actives_cluster7_ExtFP.csv',\n",
       " 'beta1_actives_cluster7_MACCSFP.csv',\n",
       " 'beta2_actives_cluster3_SubFP.csv',\n",
       " '5ht6_actives_cluster2_MACCSFP.csv',\n",
       " 'd2_actives_cluster6_MACCSFP.csv',\n",
       " '5ht2a_actives_cluster5_SubFP.csv',\n",
       " '5ht7_actives_cluster4_SubFP.csv',\n",
       " 'd1_actives_cluster1_ExtFP.csv',\n",
       " 'd1_actives_cluster2_KlekFP.csv',\n",
       " '5ht6_actives_cluster4_PubchemFP.csv',\n",
       " '5ht6_actives_cluster5_SubFP.csv',\n",
       " '5ht2a_actives_cluster4_PubchemFP.csv',\n",
       " '5ht2a_actives_cluster1_EstateFP.csv',\n",
       " '5ht1a_actives_cluster5_SubFP.csv',\n",
       " 'd1_actives_cluster2_EstateFP.csv',\n",
       " 'alpha1a_actives_cluster6_PubchemFP.csv',\n",
       " 'beta1_actives_cluster3_MACCSFP.csv',\n",
       " '5ht7_actives_cluster3_SubFP.csv',\n",
       " 'd1_actives_cluster7_KlekFP.csv',\n",
       " '5ht7_actives_cluster6_ExtFP.csv',\n",
       " 'alpha1a_actives_cluster5_SubFP.csv',\n",
       " 'd1_actives_cluster3_KlekFP.csv',\n",
       " '5ht7_actives_cluster1_PubchemFP.csv',\n",
       " 'beta1_actives_cluster1_EstateFP.csv',\n",
       " '5ht6_actives_cluster1_MACCSFP.csv',\n",
       " 'beta2_actives_cluster2_MACCSFP.csv',\n",
       " '5ht1a_actives_cluster2_ExtFP.csv',\n",
       " 'd1_actives_cluster2_ExtFP.csv',\n",
       " '5ht1a_actives_cluster1_KlekFP.csv',\n",
       " '5ht7_actives_cluster3_ExtFP.csv',\n",
       " 'alpha1a_actives_cluster5_PubchemFP.csv',\n",
       " '5ht2a_actives_cluster1_SubFP.csv',\n",
       " '5ht1a_actives_cluster6_KlekFP.csv',\n",
       " '5ht2a_actives_cluster4_MACCSFP.csv',\n",
       " '5ht1a_actives_cluster3_PubchemFP.csv',\n",
       " '5ht1a_actives_cluster6_MACCSFP.csv',\n",
       " 'd1_actives_cluster5_PubchemFP.csv',\n",
       " 'd2_actives_cluster4_PubchemFP.csv',\n",
       " 'd1_actives_cluster6_ExtFP.csv',\n",
       " '5ht6_actives_cluster2_ExtFP.csv',\n",
       " '5ht2a_actives_cluster4_EstateFP.csv',\n",
       " '5ht6_actives_cluster3_PubchemFP.csv',\n",
       " 'd2_actives_cluster4_KlekFP.csv',\n",
       " 'beta2_actives_cluster5_SubFP.csv',\n",
       " 'alpha1a_actives_cluster4_EstateFP.csv',\n",
       " 'beta1_actives_cluster5_SubFP.csv',\n",
       " '5ht7_actives_cluster5_PubchemFP.csv',\n",
       " '5ht1a_actives_cluster3_ExtFP.csv',\n",
       " 'beta1_actives_cluster2_SubFP.csv',\n",
       " 'd2_actives_cluster3_EstateFP.csv',\n",
       " '5ht1a_actives_cluster1_PubchemFP.csv',\n",
       " 'beta2_actives_cluster4_EstateFP.csv',\n",
       " 'beta1_actives_cluster2_ExtFP.csv',\n",
       " 'beta1_actives_cluster6_EstateFP.csv',\n",
       " 'alpha1a_actives_cluster6_SubFP.csv',\n",
       " '5ht1a_actives_cluster1_ExtFP.csv',\n",
       " 'alpha1a_actives_cluster1_EstateFP.csv',\n",
       " 'beta2_actives_cluster4_KlekFP.csv',\n",
       " 'alpha1a_actives_cluster7_ExtFP.csv',\n",
       " '5ht7_actives_cluster7_MACCSFP.csv',\n",
       " '5ht2a_actives_cluster6_KlekFP.csv',\n",
       " '5ht7_actives_cluster5_KlekFP.csv',\n",
       " 'd1_actives_cluster6_SubFP.csv',\n",
       " 'beta2_actives_cluster4_SubFP.csv',\n",
       " '5ht7_actives_cluster6_MACCSFP.csv',\n",
       " 'd2_actives_cluster3_ExtFP.csv',\n",
       " '5ht7_actives_cluster5_ExtFP.csv',\n",
       " '5ht7_actives_cluster7_EstateFP.csv',\n",
       " '5ht2a_actives_cluster5_PubchemFP.csv',\n",
       " 'alpha1a_actives_cluster4_MACCSFP.csv',\n",
       " 'alpha1a_actives_cluster4_SubFP.csv',\n",
       " '5ht7_actives_cluster2_EstateFP.csv',\n",
       " 'd1_actives_cluster3_EstateFP.csv',\n",
       " '5ht7_actives_cluster2_KlekFP.csv',\n",
       " '5ht2a_actives_cluster5_MACCSFP.csv',\n",
       " 'beta2_actives_cluster2_SubFP.csv',\n",
       " '5ht2a_actives_cluster3_KlekFP.csv',\n",
       " 'd2_actives_cluster4_EstateFP.csv',\n",
       " '5ht1a_actives_cluster1_EstateFP.csv',\n",
       " '5ht1a_actives_cluster1_MACCSFP.csv',\n",
       " '5ht6_actives_cluster5_EstateFP.csv',\n",
       " 'd1_actives_cluster2_MACCSFP.csv',\n",
       " 'd2_actives_cluster1_MACCSFP.csv',\n",
       " 'd1_actives_cluster4_SubFP.csv',\n",
       " 'beta1_actives_cluster4_SubFP.csv',\n",
       " '5ht6_actives_cluster4_KlekFP.csv',\n",
       " 'beta2_actives_cluster4_PubchemFP.csv',\n",
       " 'd1_actives_cluster7_SubFP.csv',\n",
       " 'd1_actives_cluster1_KlekFP.csv',\n",
       " '5ht7_actives_cluster5_MACCSFP.csv',\n",
       " 'beta2_actives_cluster6_SubFP.csv',\n",
       " 'beta1_actives_cluster7_EstateFP.csv',\n",
       " '5ht7_actives_cluster4_ExtFP.csv',\n",
       " '5ht7_actives_cluster1_KlekFP.csv',\n",
       " '5ht1a_actives_cluster5_ExtFP.csv',\n",
       " '5ht7_actives_cluster6_PubchemFP.csv',\n",
       " 'd2_actives_cluster2_KlekFP.csv',\n",
       " '5ht6_actives_cluster3_KlekFP.csv',\n",
       " 'd2_actives_cluster1_EstateFP.csv',\n",
       " '5ht1a_actives_cluster4_EstateFP.csv',\n",
       " '5ht2a_actives_cluster4_ExtFP.csv',\n",
       " 'beta1_actives_cluster5_MACCSFP.csv',\n",
       " '5ht6_actives_cluster6_KlekFP.csv',\n",
       " '5ht7_actives_cluster3_PubchemFP.csv',\n",
       " 'beta1_actives_cluster2_MACCSFP.csv',\n",
       " 'd2_actives_cluster5_PubchemFP.csv',\n",
       " 'd1_actives_cluster3_ExtFP.csv',\n",
       " 'alpha1a_actives_cluster1_KlekFP.csv',\n",
       " 'd1_actives_cluster1_EstateFP.csv',\n",
       " '5ht7_actives_cluster1_ExtFP.csv',\n",
       " 'd2_actives_cluster2_SubFP.csv',\n",
       " '5ht6_actives_cluster4_MACCSFP.csv',\n",
       " 'd1_actives_cluster7_EstateFP.csv',\n",
       " '5ht1a_actives_cluster6_EstateFP.csv',\n",
       " '5ht2a_actives_cluster2_ExtFP.csv',\n",
       " '5ht6_actives_cluster2_KlekFP.csv',\n",
       " 'd2_actives_cluster2_ExtFP.csv',\n",
       " 'beta1_actives_cluster6_PubchemFP.csv',\n",
       " '5ht1a_actives_cluster3_SubFP.csv',\n",
       " 'alpha1a_actives_cluster4_PubchemFP.csv',\n",
       " '5ht1a_actives_cluster3_EstateFP.csv',\n",
       " '5ht2a_actives_cluster1_PubchemFP.csv',\n",
       " 'beta2_actives_cluster2_KlekFP.csv',\n",
       " 'alpha1a_actives_cluster6_EstateFP.csv',\n",
       " 'alpha1a_actives_cluster2_PubchemFP.csv',\n",
       " '5ht7_actives_cluster6_EstateFP.csv',\n",
       " '5ht2a_actives_cluster3_EstateFP.csv',\n",
       " '5ht1a_actives_cluster2_KlekFP.csv',\n",
       " 'alpha1a_actives_cluster2_SubFP.csv',\n",
       " 'beta1_actives_cluster6_KlekFP.csv',\n",
       " '5ht1a_actives_cluster5_KlekFP.csv',\n",
       " '5ht7_actives_cluster1_EstateFP.csv',\n",
       " '5ht6_actives_cluster2_PubchemFP.csv',\n",
       " 'beta1_actives_cluster4_PubchemFP.csv',\n",
       " '5ht1a_actives_cluster4_SubFP.csv',\n",
       " 'beta2_actives_cluster4_MACCSFP.csv',\n",
       " '5ht2a_actives_cluster7_MACCSFP.csv',\n",
       " '5ht1a_actives_cluster2_SubFP.csv',\n",
       " 'alpha1a_actives_cluster2_MACCSFP.csv',\n",
       " 'beta1_actives_cluster1_PubchemFP.csv',\n",
       " '5ht1a_actives_cluster5_EstateFP.csv',\n",
       " 'beta2_actives_cluster1_SubFP.csv']"
      ]
     },
     "execution_count": 29,
     "metadata": {},
     "output_type": "execute_result"
    }
   ],
   "source": [
    "os.listdir(os.path.join(c[\"DATA_DIR\"], \"actives\"))"
   ]
  },
  {
   "cell_type": "code",
   "execution_count": 33,
   "metadata": {
    "collapsed": true
   },
   "outputs": [],
   "source": [
    "import pandas as pd"
   ]
  },
  {
   "cell_type": "code",
   "execution_count": 39,
   "metadata": {
    "collapsed": false
   },
   "outputs": [
    {
     "name": "stdout",
     "output_type": "stream",
     "text": [
      "Help on method from_csv in module pandas.core.frame:\n",
      "\n",
      "from_csv(cls, path, header=0, sep=',', index_col=0, parse_dates=True, encoding=None, tupleize_cols=False, infer_datetime_format=False) method of __builtin__.type instance\n",
      "    Read delimited file into DataFrame\n",
      "    \n",
      "    Parameters\n",
      "    ----------\n",
      "    path : string file path or file handle / StringIO\n",
      "    header : int, default 0\n",
      "        Row to use at header (skip prior rows)\n",
      "    sep : string, default ','\n",
      "        Field delimiter\n",
      "    index_col : int or sequence, default 0\n",
      "        Column to use for index. If a sequence is given, a MultiIndex\n",
      "        is used. Different default from read_table\n",
      "    parse_dates : boolean, default True\n",
      "        Parse dates. Different default from read_table\n",
      "    tupleize_cols : boolean, default False\n",
      "        write multi_index columns as a list of tuples (if True)\n",
      "        or new (expanded format) if False)\n",
      "    infer_datetime_format: boolean, default False\n",
      "        If True and `parse_dates` is True for a column, try to infer the\n",
      "        datetime format based on the first datetime string. If the format\n",
      "        can be inferred, there often will be a large parsing speed-up.\n",
      "    \n",
      "    Notes\n",
      "    -----\n",
      "    Preferable to use read_table for most general purposes but from_csv\n",
      "    makes for an easy roundtrip to and from file, especially with a\n",
      "    DataFrame of time series data\n",
      "    \n",
      "    Returns\n",
      "    -------\n",
      "    y : DataFrame\n",
      "\n"
     ]
    }
   ],
   "source": [
    "help(pd.DataFrame.from_csv)"
   ]
  },
  {
   "cell_type": "code",
   "execution_count": 62,
   "metadata": {
    "collapsed": false
   },
   "outputs": [],
   "source": []
  },
  {
   "cell_type": "code",
   "execution_count": 69,
   "metadata": {
    "collapsed": false
   },
   "outputs": [],
   "source": []
  },
  {
   "cell_type": "code",
   "execution_count": 70,
   "metadata": {
    "collapsed": false
   },
   "outputs": [],
   "source": []
  },
  {
   "cell_type": "code",
   "execution_count": 77,
   "metadata": {
    "collapsed": true
   },
   "outputs": [],
   "source": [
    "from misc.config import *"
   ]
  },
  {
   "cell_type": "code",
   "execution_count": 101,
   "metadata": {
    "collapsed": false
   },
   "outputs": [],
   "source": [
    "def calculate_jaccard_kernel(X1T, X2T):\n",
    "    X1T_sums = np.array(X1T.sum(axis=1))\n",
    "    X2T_sums = np.array(X2T.sum(axis=1))\n",
    "    K = X1T.dot(X2T.T)\n",
    "    if hasattr(K, \"toarray\"):\n",
    "        K = K.toarray()\n",
    "    K2 = -(K.copy())\n",
    "    K2 += (X1T_sums.reshape(-1,1))\n",
    "    K2 += (X2T_sums.reshape(1,-1))\n",
    "    K = K.astype(\"float32\")/K2\n",
    "    return K"
   ]
  },
  {
   "cell_type": "code",
   "execution_count": 121,
   "metadata": {
    "collapsed": true
   },
   "outputs": [],
   "source": [
    "n_folds = 3"
   ]
  },
  {
   "cell_type": "code",
   "execution_count": 191,
   "metadata": {
    "collapsed": true
   },
   "outputs": [],
   "source": [
    "protein = \"5ht2a\"\n",
    "fingerprint = \"ExtFP\""
   ]
  },
  {
   "cell_type": "code",
   "execution_count": 309,
   "metadata": {
    "collapsed": true
   },
   "outputs": [],
   "source": []
  },
  {
   "cell_type": "code",
   "execution_count": 230,
   "metadata": {
    "collapsed": false
   },
   "outputs": [
    {
     "data": {
      "text/plain": [
       "2828"
      ]
     },
     "execution_count": 230,
     "metadata": {},
     "output_type": "execute_result"
    }
   ],
   "source": [
    "def calculate_jaccard_kernel(X1T, X2T):\n",
    "    X1T_sums = np.array(X1T.sum(axis=1))\n",
    "    X2T_sums = np.array(X2T.sum(axis=1))\n",
    "    K = X1T.dot(X2T.T)\n",
    "    if hasattr(K, \"toarray\"):\n",
    "        K = K.toarray()\n",
    "    K2 = -(K.copy())\n",
    "    K2 += (X1T_sums.reshape(-1,1))\n",
    "    K2 += (X2T_sums.reshape(1,-1))\n",
    "    K = K.astype(\"float32\")/K2\n",
    "    return K"
   ]
  },
  {
   "cell_type": "code",
   "execution_count": 312,
   "metadata": {
    "collapsed": true
   },
   "outputs": [],
   "source": [
    "# Read data\n",
    "actives, inactives = get_protein_fingerprint_cluster_files(protein, fingerprint)\n",
    "clusters_active = []\n",
    "for a, _ in actives:\n",
    "    clusters_active.append(pd.io.parsers.read_csv(os.path.join(c[\"DATA_DIR\"], a), header=None).as_matrix())\n",
    "\n",
    "inactive = pd.io.parsers.read_csv(os.path.join(c[\"DATA_DIR\"], inactives), header=None).as_matrix()\n"
   ]
  },
  {
   "cell_type": "code",
   "execution_count": 366,
   "metadata": {
    "collapsed": false
   },
   "outputs": [
    {
     "data": {
      "text/plain": [
       "array([[ 413.,  388.,  262., ...,  408.,  416.,  466.],\n",
       "       [ 466.,  469.,  419., ...,  497.,  487.,  495.],\n",
       "       [ 454.,  459.,  359., ...,  481.,  459.,  461.],\n",
       "       ..., \n",
       "       [ 440.,  411.,  215., ...,  375.,  393.,  435.],\n",
       "       [ 408.,  415.,  229., ...,  419.,  431.,  457.],\n",
       "       [ 437.,  400.,  204., ...,  394.,  418.,  442.]])"
      ]
     },
     "execution_count": 366,
     "metadata": {},
     "output_type": "execute_result"
    }
   ],
   "source": [
    "pairwise_distances(clusters_active[0], X[:, 0:1023], metric='l1')"
   ]
  },
  {
   "cell_type": "code",
   "execution_count": 351,
   "metadata": {
    "collapsed": false
   },
   "outputs": [
    {
     "data": {
      "text/plain": [
       "array([ 566.,  537.,  553.,  544.,  548.,  589.,  548.,  549.,  557.,\n",
       "        596.,  543.,  571.,  575.,  580.,  580.,  576.,  593.,  548.,\n",
       "        539.,  544.,  552.,  555.,  538.,  573.,  555.,  544.,  571.,\n",
       "        537.,  558.,  541.,  586.,  534.,  578.,  538.,  553.,  577.,\n",
       "        560.,  576.,  567.,  544.,  572.,  543.,  541.,  581.,  596.,\n",
       "        558.,  574.,  562.,  534.,  602.,  593.,  566.,  579.,  529.,\n",
       "        572.,  547.,  544.,  556.,  534.,  619.,  597.,  579.,  602.,\n",
       "        580.,  579.,  535.,  576.,  615.,  570.,  575.,  534.,  581.,\n",
       "        533.,  613.,  550.,  559.,  538.,  565.,  556.,  549.,  531.,\n",
       "        581.,  609.,  531.,  555.,  558.,  608.,  530.,  558.,  535.,\n",
       "        558.,  528.,  528.,  554.,  547.,  615.,  570.,  557.,  559.,\n",
       "        582.,  562.,  581.,  573.,  541.,  584.,  572.,  595.,  576.,\n",
       "        549.,  542.,  564.,  532.,  605.,  575.,  587.,  575.,  601.,\n",
       "        563.,  532.,  577.,  568.,  564.,  543.,  562.,  571.,  547.,\n",
       "        585.,  565.,  550.,  544.,  539.,  579.,  612.,  598.,  544.,\n",
       "        567.,  552.,  569.,  576.,  584.,  561.,  553.,  579.,  577.,\n",
       "        605.,  596.,  571.,  570.,  577.,  575.,  577.,  579.,  584.,\n",
       "        618.,  550.,  541.,  581.,  573.,  586.,  535.,  562.,  544.,\n",
       "        582.,  541.,  550.,  570.,  534.,  565.,  577.,  541.,  608.,\n",
       "        577.,  534.,  568.,  547.,  581.,  577.,  610.,  577.,  578.,\n",
       "        593.,  571.,  577.,  571.,  540.,  577.,  577.,  563.,  612.,\n",
       "        571.,  593.])"
      ]
     },
     "execution_count": 351,
     "metadata": {},
     "output_type": "execute_result"
    }
   ],
   "source": [
    "np.max(pairwise_distances(clusters_active[0], X[:, 0:1023], metric='l1'),axis=1)"
   ]
  },
  {
   "cell_type": "code",
   "execution_count": 319,
   "metadata": {
    "collapsed": false
   },
   "outputs": [
    {
     "data": {
      "text/plain": [
       "array([[ 1.,  0.,  1., ...,  0.,  0.,  0.],\n",
       "       [ 1.,  1.,  1., ...,  0.,  0.,  0.],\n",
       "       [ 1.,  0.,  0., ...,  0.,  0.,  0.],\n",
       "       ..., \n",
       "       [-1.,  0.,  0., ...,  0.,  0.,  0.],\n",
       "       [-1.,  0.,  0., ...,  0.,  0.,  0.],\n",
       "       [-1.,  1.,  0., ...,  0.,  0.,  0.]])"
      ]
     },
     "execution_count": 319,
     "metadata": {},
     "output_type": "execute_result"
    }
   ],
   "source": [
    "X"
   ]
  },
  {
   "cell_type": "code",
   "execution_count": 27,
   "metadata": {
    "collapsed": true
   },
   "outputs": [],
   "source": [
    "proteins_sabina = [\"5ht1a\", \"5ht2a\", \"5ht6\", \"5ht7\", \\\n",
    "                   \"alpha1a\", \"beta1\", \"beta2\", \"d1\", \"d2\"]"
   ]
  },
  {
   "cell_type": "code",
   "execution_count": 12,
   "metadata": {
    "collapsed": false
   },
   "outputs": [],
   "source": [
    "from sklearn.metrics.pairwise import pairwise_distances\n",
    "\n",
    "def get_protein_fingerprint_cluster_files(protein, fingerprint):\n",
    "    inactives = [\"inactives/\"+x for x in os.listdir(os.path.join(c[\"DATA_DIR\"], \"inactives\")) if x.startswith(protein + \"_inactives\") and x.endswith(fingerprint+\".csv\")]\n",
    "    actives = [(\"actives/\"+x, int(x.split(\"_\")[2][-1])) for x in os.listdir(os.path.join(c[\"DATA_DIR\"], \"actives\")) if x.startswith(protein + \"_actives\") and x.endswith(fingerprint + \".csv\")]\n",
    "    # This magic lines ensures there are no clusters of id > 9\n",
    "    assert(sorted(list(set([a[1] for a in actives]))) == sorted([a[1] for a in actives]))\n",
    "    return sorted(actives, key=lambda x: x[1]), inactives[0]\n",
    "\n",
    "def get_sabina_clusters(protein, fingerprint):\n",
    "\n",
    "    # Read data\n",
    "    actives, inactives = get_protein_fingerprint_cluster_files(protein, fingerprint)\n",
    "    clusters_active = []\n",
    "    for a, _ in actives:\n",
    "        clusters_active.append(pd.io.parsers.read_csv(os.path.join(c[\"DATA_DIR\"], a), header=None).as_matrix().astype(\"float32\"))\n",
    "\n",
    "    inactive = pd.io.parsers.read_csv(os.path.join(c[\"DATA_DIR\"], inactives), header=None).as_matrix().astype(\"float32\")\n",
    "\n",
    "    # Standarize sizes\n",
    "    max_cols = max(inactive.shape[1], max(cl.shape[1] for cl in clusters_active))\n",
    "    for cl_id, cl in enumerate(clusters_active):\n",
    "        if cl.shape[1] != max_cols:\n",
    "            clusters_active[cl_id] = np.hstack([cl, np.zeros(shape=(cl.shape[0], max_cols - cl.shape[1]))])\n",
    "    if inactive.shape[1] != max_cols:\n",
    "            inactive = np.hstack([inactive, np.zeros(shape=(inactive.shape[0], max_cols - inactive.shape[1]))])\n",
    "\n",
    "    # Preprocess: cluster of compunds -> cluster of ids of compounds\n",
    "\n",
    "    # Start with biggest\n",
    "    biggest_id = np.argsort([-cluster.shape[0] for cluster in clusters_active])[0]\n",
    "    X = clusters_active[biggest_id]\n",
    "\n",
    "    print X.shape[0]\n",
    "    clusters_active_ids = [range(X.shape[0])]\n",
    "    max_id = X.shape[0] - 1\n",
    "    print [cl.shape[0] for cl in clusters_active]\n",
    "    for cluster_id, cluster in enumerate(clusters_active):\n",
    "        if cluster_id != biggest_id:\n",
    "            if not np.isfinite(cluster).all():\n",
    "                raise ValueError(\"F*CK, nan in cluster file.\")\n",
    "            similarities = np.min(pairwise_distances(cluster, X, metric='l1'), axis=1)\n",
    "            X = np.vstack([X, cluster[similarities!=0]])\n",
    "            start_id = max_id + 1\n",
    "            existing = list(np.where(similarities==0)[0])\n",
    "            clusters_active_ids.append(existing + range(start_id, start_id +  (similarities!=0).sum()))\n",
    "            max_id = max(max_id, max(clusters_active_ids[-1])) # Update max_id\n",
    "            assert(len(clusters_active_ids[-1]) == cluster.shape[0])\n",
    "      \n",
    "    X = np.vstack([X, inactive ])\n",
    "\n",
    "    inactive_ids = range(max_id+1, max_id+1+inactive.shape[0])\n",
    "    \n",
    "    \n",
    "    Y = np.zeros(shape=(X.shape[0], 1))\n",
    "    Y[:] = 1\n",
    "    Y[max_id+1:] = -1\n",
    "    \n",
    "    return X, Y, [np.array(cl).reshape(-1) for cl in clusters_active_ids], np.array(inactive_ids).reshape(-1)"
   ]
  },
  {
   "cell_type": "code",
   "execution_count": 28,
   "metadata": {
    "collapsed": false
   },
   "outputs": [
    {
     "name": "stdout",
     "output_type": "stream",
     "text": [
      "5669\n",
      "[6, 12, 30, 5669, 11, 3]\n"
     ]
    }
   ],
   "source": [
    "X, Y, clusters_active_ids, inactive_ids = get_sabina_clusters(\"5ht1a\", \"SubFP\")"
   ]
  },
  {
   "cell_type": "code",
   "execution_count": 60,
   "metadata": {
    "collapsed": true
   },
   "outputs": [],
   "source": [
    "def can_be_A_easier(i, X, clusters_active_ids, inactive):\n",
    "    # A cluster is a good A-cluster candidate if it is big and the rest of active clusters are big\n",
    "    difference_A_C = [ len(set(cl_ids).difference(clusters_active_ids[i])) for cl_ids in clusters_active_ids]\n",
    "    \n",
    "    active_size = X.shape[0] - inactive.shape[0]\n",
    "    print difference_A_C, sum(difference_A_C), active_size\n",
    "    return \\\n",
    "        sum(difference_A_C) > 0.1*active_size \\\n",
    "        and len(clusters_active_ids[i]) > 0.4*active_size"
   ]
  },
  {
   "cell_type": "code",
   "execution_count": null,
   "metadata": {
    "collapsed": false
   },
   "outputs": [],
   "source": [
    "def can_be_A(i):\n",
    "    # A cluster is a good A-cluster candidate if there exists another cluster that has at least 10% of\n",
    "    # disjoint members and is itself > 50%\n",
    "    difference_A_C = [ len(set(cl_ids).difference(clusters_active_ids[i])) for cl_ids in clusters_active_ids]\n",
    "    difference_C_A = [ len(set(clusters_active_ids[i]).difference(cl_ids)) for cl_ids in clusters_active_ids]\n",
    "    # Idea is that at least one pair (A,C) of clusters has at least 10% unique members in A\\C and C\\A\n",
    "    print len(clusters_active_ids[i])\n",
    "    print difference_A_C\n",
    "    print difference_C_A\n",
    "    print 0.1 * X.shape[0]\n",
    "    print [size_ac > 0.1 * X.shape[0] and size_ca > 0.06 * X.shape[0] for size_ac, size_ca in zip(difference_A_C, difference_C_A)]\n",
    "    return \\\n",
    "        any(size_ac > 0.1 * X.shape[0] and size_ca > 0.06 * X.shape[0] \n",
    "                for size_ac, size_ca in zip(difference_A_C, difference_C_A)) \\\n",
    "        and len(clusters_active_ids[i]) > 0.5*X.shape[0]"
   ]
  },
  {
   "cell_type": "code",
   "execution_count": 62,
   "metadata": {
    "collapsed": false
   },
   "outputs": [
    {
     "name": "stdout",
     "output_type": "stream",
     "text": [
      "5669\n",
      "[6, 12, 30, 5669, 11, 3]\n",
      "[0, 6, 12, 30, 11, 3] 62 5731\n",
      "[5669, 0, 12, 30, 11, 3] 5725 5731\n",
      "[5669, 6, 0, 30, 11, 3] 5719 5731\n",
      "[5669, 6, 12, 0, 11, 3] 5701 5731\n",
      "[5669, 6, 12, 30, 0, 3] 5720 5731\n",
      "[5669, 6, 12, 30, 11, 0] 5728 5731\n",
      "Not satisfied for  5ht1a\n",
      "2828\n",
      "[191, 29, 55, 2828, 11, 6, 2]\n",
      "[0, 191, 29, 55, 11, 6, 2] 294 3122\n",
      "[2828, 0, 29, 55, 11, 6, 2] 2931 3122\n",
      "[2828, 191, 0, 55, 11, 6, 2] 3093 3122\n",
      "[2828, 191, 29, 0, 11, 6, 2] 3067 3122\n",
      "[2828, 191, 29, 55, 0, 6, 2] 3111 3122\n",
      "[2828, 191, 29, 55, 11, 0, 2] 3116 3122\n",
      "[2828, 191, 29, 55, 11, 6, 0] 3120 3122\n",
      "Not satisfied for  5ht2a\n",
      "1885\n",
      "[23, 40, 1885, 50, 2, 2]\n",
      "[0, 23, 40, 50, 2, 2] 117 2002\n",
      "[1885, 0, 40, 50, 2, 2] 1979 2002\n",
      "[1885, 23, 0, 50, 2, 2] 1962 2002\n",
      "[1885, 23, 40, 0, 2, 2] 1952 2002\n",
      "[1885, 23, 40, 50, 0, 2] 2000 2002\n",
      "[1885, 23, 40, 50, 2, 0] 2000 2002\n",
      "Not satisfied for  5ht6\n",
      "1024\n",
      "[47, 23, 9, 143, 1024, 3, 8]\n",
      "[0, 47, 23, 9, 143, 3, 8] 233 1257\n",
      "[1024, 0, 23, 9, 143, 3, 8] 1210 1257\n",
      "[1024, 47, 0, 9, 143, 3, 8] 1234 1257\n",
      "[1024, 47, 23, 0, 143, 3, 8] 1248 1257\n",
      "[1024, 47, 23, 9, 0, 3, 8] 1114 1257\n",
      "[1024, 47, 23, 9, 143, 0, 8] 1254 1257\n",
      "[1024, 47, 23, 9, 143, 3, 0] 1249 1257\n",
      "OK\n",
      "1201\n",
      "[1201, 39, 3, 1197, 56, 3, 34]\n",
      "[0, 39, 3, 0, 56, 3, 34] 135 1336\n",
      "[1201, 0, 3, 1197, 56, 3, 34] 2494 1336\n",
      "[1201, 39, 0, 1197, 56, 3, 34] 2530 1336\n",
      "[4, 39, 3, 0, 56, 3, 34] 139 1336\n",
      "[1201, 39, 3, 1197, 0, 3, 34] 2477 1336\n",
      "[1201, 39, 3, 1197, 56, 0, 34] 2530 1336\n",
      "[1201, 39, 3, 1197, 56, 3, 0] 2499 1336\n",
      "OK\n",
      "214\n",
      "[19, 5, 196, 214, 8, 15, 4]\n",
      "[0, 19, 5, 196, 8, 15, 4] 247 461\n",
      "[214, 0, 5, 196, 8, 15, 4] 442 461\n",
      "[214, 19, 0, 196, 8, 15, 4] 456 461\n",
      "[214, 19, 5, 0, 8, 15, 4] 265 461\n",
      "[214, 19, 5, 196, 0, 15, 4] 453 461\n",
      "[214, 19, 5, 196, 8, 0, 4] 446 461\n",
      "[214, 19, 5, 196, 8, 15, 0] 457 461\n",
      "OK\n",
      "548\n",
      "[408, 548, 548, 22, 2, 114]\n",
      "[0, 0, 2, 0, 0, 0] 2 550\n",
      "[140, 0, 142, 0, 0, 0] 282 550\n",
      "[2, 2, 0, 2, 0, 2] 8 550\n",
      "[526, 386, 528, 0, 0, 92] 1532 550\n",
      "[546, 406, 546, 20, 0, 112] 1630 550\n",
      "[434, 294, 436, 0, 0, 0] 1164 550\n",
      "OK\n",
      "592\n",
      "[592, 16, 20, 287, 4, 2, 2]\n",
      "[0, 16, 20, 287, 4, 2, 2] 331 923\n",
      "[592, 0, 20, 287, 4, 2, 2] 907 923\n",
      "[592, 16, 0, 287, 4, 2, 2] 903 923\n",
      "[592, 16, 20, 0, 4, 2, 2] 636 923\n",
      "[592, 16, 20, 287, 0, 2, 2] 919 923\n",
      "[592, 16, 20, 287, 4, 0, 2] 921 923\n",
      "[592, 16, 20, 287, 4, 2, 0] 921 923\n",
      "OK\n",
      "6357\n",
      "[6357, 6, 17, 32, 87, 11]\n",
      "[0, 6, 17, 32, 87, 11] 153 6510\n",
      "[6357, 0, 17, 32, 87, 11] 6504 6510\n",
      "[6357, 6, 0, 32, 87, 11] 6493 6510\n",
      "[6357, 6, 17, 0, 87, 11] 6478 6510\n",
      "[6357, 6, 17, 32, 0, 11] 6423 6510\n",
      "[6357, 6, 17, 32, 87, 0] 6499 6510\n",
      "Not satisfied for  d2\n"
     ]
    }
   ],
   "source": [
    "# Pick A cluster\n",
    "s = []\n",
    "sizes = []\n",
    "for p in proteins_sabina:\n",
    "    try:\n",
    "        X, Y, clusters_active_ids, inactive_ids = get_sabina_clusters(p, \"KlekFP\")\n",
    "#         print([cl.shape[0] for cl in clusters_active_ids])\n",
    "        sizes.append([cl.shape[0] for cl in clusters_active_ids])\n",
    "        A_candidates = [(cl.shape[0], id) for id, cl in enumerate(clusters_active_ids) if can_be_A_easier(id, X, clusters_active_ids, inactive_ids)]\n",
    "\n",
    "        if len(A_candidates) == 0:\n",
    "            print \"Not satisfied for \", p\n",
    "            s.append(\"Not satisfied\")\n",
    "        else:\n",
    "            print \"OK\"\n",
    "            s.append(\"OK\")\n",
    "    except Exception, e:\n",
    "        print e\n",
    "        sizes.append([])\n",
    "        s.append(str(e))\n",
    "#         raise ValueError(\"No cluster qualified for experiment A-type cluster. F*CK\")\n",
    "#     np.max(A_candidates)"
   ]
  },
  {
   "cell_type": "code",
   "execution_count": 38,
   "metadata": {
    "collapsed": false
   },
   "outputs": [
    {
     "data": {
      "text/plain": [
       "[[5669, 6, 12, 30, 11, 3],\n",
       " 'Not satisfied',\n",
       " [2828, 191, 29, 55, 11, 6, 2],\n",
       " 'Not satisfied',\n",
       " [1885, 23, 40, 50, 2, 2],\n",
       " 'Not satisfied',\n",
       " [1024, 47, 23, 9, 143, 3, 8],\n",
       " 'Not satisfied',\n",
       " \"Input contains NaN, infinity or a value too large for dtype('float32').\",\n",
       " [214, 19, 5, 196, 8, 15, 4],\n",
       " 'Not satisfied',\n",
       " [548, 408, 548, 22, 2, 114],\n",
       " 'Not satisfied',\n",
       " [592, 16, 20, 287, 4, 2, 2],\n",
       " 'Not satisfied',\n",
       " [6357, 6, 17, 32, 87, 11],\n",
       " 'Not satisfied']"
      ]
     },
     "execution_count": 38,
     "metadata": {},
     "output_type": "execute_result"
    }
   ],
   "source": [
    "s"
   ]
  },
  {
   "cell_type": "code",
   "execution_count": 57,
   "metadata": {
    "collapsed": false
   },
   "outputs": [
    {
     "name": "stdout",
     "output_type": "stream",
     "text": [
      "Protein:  5ht1a\n",
      "Satisfied? Not satisfied\n",
      "Sizes of clusters [5669, 6, 12, 30, 11, 3]\n",
      "-----\n",
      "\n",
      "Protein:  5ht2a\n",
      "Satisfied? Not satisfied\n",
      "Sizes of clusters [2828, 191, 29, 55, 11, 6, 2]\n",
      "-----\n",
      "\n",
      "Protein:  5ht6\n",
      "Satisfied? Not satisfied\n",
      "Sizes of clusters [1885, 23, 40, 50, 2, 2]\n",
      "-----\n",
      "\n",
      "Protein:  5ht7\n",
      "Satisfied? Not satisfied\n",
      "Sizes of clusters [1024, 47, 23, 9, 143, 3, 8]\n",
      "-----\n",
      "\n",
      "Protein:  alpha1a\n",
      "Satisfied? Input contains NaN, infinity or a value too large for dtype('float32').\n",
      "Sizes of clusters []\n",
      "-----\n",
      "\n",
      "Protein:  beta1\n",
      "Satisfied? Not satisfied\n",
      "Sizes of clusters [214, 19, 5, 196, 8, 15, 4]\n",
      "-----\n",
      "\n",
      "Protein:  beta2\n",
      "Satisfied? OK\n",
      "Sizes of clusters [548, 408, 548, 22, 2, 114]\n",
      "-----\n",
      "\n",
      "Protein:  d1\n",
      "Satisfied? OK\n",
      "Sizes of clusters [592, 16, 20, 287, 4, 2, 2]\n",
      "-----\n",
      "\n",
      "Protein:  d2\n",
      "Satisfied? Not satisfied\n",
      "Sizes of clusters [6357, 6, 17, 32, 87, 11]\n",
      "-----\n",
      "\n"
     ]
    }
   ],
   "source": [
    "for p, result, size in zip(proteins_sabina, s, sizes):\n",
    "    print \"Protein: \",p\n",
    "    print \"Satisfied?\", result\n",
    "    print \"Sizes of clusters\", size\n",
    "    print \"-----\\n\""
   ]
  },
  {
   "cell_type": "code",
   "execution_count": 34,
   "metadata": {
    "collapsed": false
   },
   "outputs": [
    {
     "data": {
      "text/html": [
       "<div style=\"max-height:1000px;max-width:1500px;overflow:auto;\">\n",
       "<table border=\"1\" class=\"dataframe\">\n",
       "  <thead>\n",
       "    <tr style=\"text-align: right;\">\n",
       "      <th></th>\n",
       "      <th>0</th>\n",
       "    </tr>\n",
       "  </thead>\n",
       "  <tbody>\n",
       "    <tr>\n",
       "      <th>0</th>\n",
       "      <td>0</td>\n",
       "    </tr>\n",
       "    <tr>\n",
       "      <th>1</th>\n",
       "      <td>0</td>\n",
       "    </tr>\n",
       "    <tr>\n",
       "      <th>2</th>\n",
       "      <td>0</td>\n",
       "    </tr>\n",
       "    <tr>\n",
       "      <th>3</th>\n",
       "      <td>0</td>\n",
       "    </tr>\n",
       "  </tbody>\n",
       "</table>\n",
       "</div>"
      ],
      "text/plain": [
       "   0\n",
       "0  0\n",
       "1  0\n",
       "2  0\n",
       "3  0"
      ]
     },
     "execution_count": 34,
     "metadata": {},
     "output_type": "execute_result"
    }
   ],
   "source": [
    "pd.DataFrame(s)"
   ]
  },
  {
   "cell_type": "code",
   "execution_count": 80,
   "metadata": {
    "collapsed": false
   },
   "outputs": [],
   "source": [
    "\n",
    "\n",
    "# Keep track of indices\n",
    "size = sum(c.shape[0] for c in clusters_active) + inactive.shape[0]\n",
    "cluster_id = np.zeros(shape=(size,1))\n",
    "start_id = 0\n",
    "for c_id, cluster in enumerate(clusters_active):\n",
    "    cluster_id[start_id:start_id +cluster.shape[0]] = c_id\n",
    "    start_id += cluster.shape[0]\n",
    "cluster_id[start_id:] = -1"
   ]
  },
  {
   "cell_type": "code",
   "execution_count": 119,
   "metadata": {
    "collapsed": false
   },
   "outputs": [],
   "source": [
    "# Assert that we have sensible indexing\n",
    "assert(all(list(cluster_id[clusters_active[0].shape[0]: clusters_active[0].shape[0] + clusters_active[1].shape[0]] == 1)))"
   ]
  },
  {
   "cell_type": "code",
   "execution_count": 177,
   "metadata": {
    "collapsed": false
   },
   "outputs": [
    {
     "data": {
      "text/plain": [
       "408"
      ]
     },
     "execution_count": 177,
     "metadata": {},
     "output_type": "execute_result"
    }
   ],
   "source": [
    "clusters_active[0].shape[0]"
   ]
  },
  {
   "cell_type": "code",
   "execution_count": 158,
   "metadata": {
    "collapsed": true
   },
   "outputs": [],
   "source": [
    "# Now we pick biggest one denoted as A\n",
    "A_id = np.argsort([-cluster.shape[0] for cluster in clusters_active])[0]"
   ]
  },
  {
   "cell_type": "code",
   "execution_count": 171,
   "metadata": {
    "collapsed": true
   },
   "outputs": [],
   "source": [
    "similarities = calculate_jaccard_kernel(clusters_active[0], clusters_active[A_id])"
   ]
  },
  {
   "cell_type": "code",
   "execution_count": 169,
   "metadata": {
    "collapsed": false
   },
   "outputs": [
    {
     "data": {
      "text/plain": [
       "[array([], shape=(0, 4861), dtype=int64), array([[1, 1, 0, ..., 0, 0, 0],\n",
       "        [1, 1, 0, ..., 0, 0, 0]]), array([], shape=(0, 4861), dtype=int64), array([], shape=(0, 4861), dtype=int64), array([], shape=(0, 4861), dtype=int64)]"
      ]
     },
     "execution_count": 169,
     "metadata": {},
     "output_type": "execute_result"
    }
   ],
   "source": [
    "B"
   ]
  },
  {
   "cell_type": "code",
   "execution_count": null,
   "metadata": {
    "collapsed": true
   },
   "outputs": [],
   "source": [
    "# Check if random picked"
   ]
  },
  {
   "cell_type": "code",
   "execution_count": null,
   "metadata": {
    "collapsed": true
   },
   "outputs": [],
   "source": [
    "from models.strategy import jaccard_similarity_score_fast\n",
    "\n",
    "# Some magic: assigning each inactive to the closest active cluster by mean\n",
    "similarities = []\n",
    "for cluster in clusters_active:\n",
    "    similarities.append(calculate_jaccard_kernel(inactive, cluster).mean(axis=1).reshape(-1,1))\n",
    "# Each col has mean distance of col-th cluster to row-th inactive example\n",
    "similarities = np.hstack(similarities) \n",
    "\n",
    "# Do assignment\n",
    "active_size = sum(cluster.shape[0] for cluster in clusters_active)\n",
    "for i in range(inactive.shape[0]):\n",
    "    cluster_id[i + active_size] = np.argmax(similarities[i,:])\n",
    "    \n",
    "# Assert that similarities is what we want\n",
    "assert np.abs(similarities[10,1] - np.mean([jaccard_similarity_score_fast(inactive[10], clusters_active[1][i]) for i in range(clusters_active[1].shape[0])])) < 1e-3    "
   ]
  },
  {
   "cell_type": "code",
   "execution_count": 153,
   "metadata": {
    "collapsed": false
   },
   "outputs": [
    {
     "data": {
      "text/plain": [
       "[408, 548, 548, 22, 2, 114]"
      ]
     },
     "execution_count": 153,
     "metadata": {},
     "output_type": "execute_result"
    }
   ],
   "source": [
    "[cluster.shape[0] for cluster in clusters_active]"
   ]
  },
  {
   "cell_type": "code",
   "execution_count": 151,
   "metadata": {
    "collapsed": true
   },
   "outputs": [],
   "source": [
    "K = calculate_jaccard_kernel(clusters_active[0], clusters_active[1])"
   ]
  },
  {
   "cell_type": "code",
   "execution_count": 131,
   "metadata": {
    "collapsed": false
   },
   "outputs": [
    {
     "data": {
      "text/plain": [
       "array([[1, 0, 0, ..., 0, 0, 0],\n",
       "       [1, 0, 0, ..., 0, 0, 0],\n",
       "       [1, 0, 0, ..., 0, 0, 0],\n",
       "       ..., \n",
       "       [1, 0, 0, ..., 0, 0, 0],\n",
       "       [1, 1, 0, ..., 0, 0, 0],\n",
       "       [1, 1, 0, ..., 0, 0, 0]])"
      ]
     },
     "execution_count": 131,
     "metadata": {},
     "output_type": "execute_result"
    }
   ],
   "source": [
    "clusters_active[1]"
   ]
  },
  {
   "cell_type": "code",
   "execution_count": 124,
   "metadata": {
    "collapsed": false
   },
   "outputs": [
    {
     "data": {
      "text/plain": [
       "array([1, 2, 0, 5, 3, 4])"
      ]
     },
     "execution_count": 124,
     "metadata": {},
     "output_type": "execute_result"
    }
   ],
   "source": []
  },
  {
   "cell_type": "code",
   "execution_count": null,
   "metadata": {
    "collapsed": true
   },
   "outputs": [],
   "source": [
    "if n_folds == 1:\n",
    "    fold_indices = [[range(y.shape[0]), None]]\n",
    "else:\n",
    "    fold_indices = StratifiedKFold(cluster_id, n_folds=n_folds, shuffle=True, random_state=seed)\n"
   ]
  },
  {
   "cell_type": "code",
   "execution_count": 109,
   "metadata": {
    "collapsed": false
   },
   "outputs": [
    {
     "data": {
      "text/plain": [
       "array([[ 0.38955786,  0.36145997,  0.36083642,  0.30913214,  0.42754011,\n",
       "         0.2709164 ],\n",
       "       [ 0.33239833,  0.32998459,  0.32945949,  0.27452522,  0.27354338,\n",
       "         0.33268768],\n",
       "       [ 0.363399  ,  0.3520259 ,  0.35164549,  0.34338455,  0.25724276,\n",
       "         0.31628016],\n",
       "       ..., \n",
       "       [ 0.2250653 ,  0.21474378,  0.21431978,  0.22085028,  0.44405371,\n",
       "         0.17264153],\n",
       "       [ 0.17126547,  0.18840759,  0.18839424,  0.17281369,  0.17294318,\n",
       "         0.25291786],\n",
       "       [ 0.17922855,  0.19436391,  0.19430087,  0.17918343,  0.18016967,\n",
       "         0.25147731]])"
      ]
     },
     "execution_count": 109,
     "metadata": {},
     "output_type": "execute_result"
    }
   ],
   "source": [
    "distances"
   ]
  },
  {
   "cell_type": "code",
   "execution_count": null,
   "metadata": {
    "collapsed": false
   },
   "outputs": [],
   "source": [
    "distances[1]"
   ]
  },
  {
   "cell_type": "code",
   "execution_count": 75,
   "metadata": {
    "collapsed": false
   },
   "outputs": [
    {
     "data": {
      "text/plain": [
       "2038"
      ]
     },
     "execution_count": 75,
     "metadata": {},
     "output_type": "execute_result"
    }
   ],
   "source": [
    "size"
   ]
  },
  {
   "cell_type": "code",
   "execution_count": 73,
   "metadata": {
    "collapsed": false
   },
   "outputs": [
    {
     "data": {
      "text/plain": [
       "(408, 4861)"
      ]
     },
     "execution_count": 73,
     "metadata": {},
     "output_type": "execute_result"
    }
   ],
   "source": [
    "clusters_active[0].shape"
   ]
  },
  {
   "cell_type": "code",
   "execution_count": 72,
   "metadata": {
    "collapsed": false
   },
   "outputs": [
    {
     "data": {
      "text/plain": [
       "(548, 4861)"
      ]
     },
     "execution_count": 72,
     "metadata": {},
     "output_type": "execute_result"
    }
   ],
   "source": [
    "clusters_active[1].shape"
   ]
  },
  {
   "cell_type": "code",
   "execution_count": 54,
   "metadata": {
    "collapsed": false
   },
   "outputs": [],
   "source": [
    "x = "
   ]
  },
  {
   "cell_type": "code",
   "execution_count": 55,
   "metadata": {
    "collapsed": false
   },
   "outputs": [
    {
     "data": {
      "text/plain": [
       "array([[1, 0, 0, ..., 0, 0, 1],\n",
       "       [1, 0, 0, ..., 0, 0, 1],\n",
       "       [1, 0, 0, ..., 0, 0, 1],\n",
       "       ..., \n",
       "       [1, 1, 1, ..., 0, 0, 1],\n",
       "       [1, 1, 0, ..., 0, 0, 1],\n",
       "       [1, 1, 0, ..., 0, 0, 1]])"
      ]
     },
     "execution_count": 55,
     "metadata": {},
     "output_type": "execute_result"
    }
   ],
   "source": [
    "x"
   ]
  },
  {
   "cell_type": "code",
   "execution_count": 27,
   "metadata": {
    "collapsed": false
   },
   "outputs": [
    {
     "data": {
      "image/png": "[encoded data removed]",
      "text/plain": [
       "<matplotlib.figure.Figure at 0x7fb86b28cbd0>"
      ]
     },
     "metadata": {},
     "output_type": "display_data"
    }
   ],
   "source": [
    "import seaborn\n",
    "%matplotlib inline\n",
    "plt.figure(figsize=(15,15))\n",
    "# f, ax = plt.subplots(1,1)\n",
    "# for j, cluster in enumerate(clusters[0:2]):\n",
    "#     X_pca_picked = X_pca[colors==j,:]\n",
    "#     cols = np.array([j for k in range(X_pca_picked.shape[0])])\n",
    "plt.scatter(X_pca[:,0], X_pca[:,1], s=40, alpha=0.9, cmap=plt.get_cmap(\"Pastel1\"))\n",
    "plt.show()"
   ]
  },
  {
   "cell_type": "code",
   "execution_count": 276,
   "metadata": {
    "collapsed": false
   },
   "outputs": [],
   "source": []
  },
  {
   "cell_type": "code",
   "execution_count": 200,
   "metadata": {
    "collapsed": false
   },
   "outputs": [
    {
     "name": "stdout",
     "output_type": "stream",
     "text": [
      "0.750363835737 0.750510638025 0.742076748227\n"
     ]
    },
    {
     "data": {
      "text/plain": [
       "1.0054538081295807"
      ]
     },
     "execution_count": 200,
     "metadata": {},
     "output_type": "execute_result"
    }
   ],
   "source": [
    "interestingness_index(X, big_subtrees[0], big_subtrees[1])"
   ]
  },
  {
   "cell_type": "code",
   "execution_count": 204,
   "metadata": {
    "collapsed": false
   },
   "outputs": [
    {
     "data": {
      "text/plain": [
       "101"
      ]
     },
     "execution_count": 204,
     "metadata": {},
     "output_type": "execute_result"
    }
   ],
   "source": [
    "len(set(big_subtrees[0]))"
   ]
  },
  {
   "cell_type": "code",
   "execution_count": 209,
   "metadata": {
    "collapsed": false
   },
   "outputs": [
    {
     "name": "stdout",
     "output_type": "stream",
     "text": [
      "0.750363835737 0.750510638025 0.742076748227\n"
     ]
    },
    {
     "data": {
      "text/plain": [
       "1.0054538081295807"
      ]
     },
     "execution_count": 209,
     "metadata": {},
     "output_type": "execute_result"
    }
   ],
   "source": [
    "interestingness_index(X, big_subtrees[0], big_subtrees[1])"
   ]
  },
  {
   "cell_type": "code",
   "execution_count": 207,
   "metadata": {
    "collapsed": false
   },
   "outputs": [
    {
     "data": {
      "text/plain": [
       "0"
      ]
     },
     "execution_count": 207,
     "metadata": {},
     "output_type": "execute_result"
    }
   ],
   "source": [
    "len(set(big_subtrees[0]).intersection(set(big_subtrees[1])))"
   ]
  },
  {
   "cell_type": "code",
   "execution_count": 218,
   "metadata": {
    "collapsed": true
   },
   "outputs": [],
   "source": []
  },
  {
   "cell_type": "code",
   "execution_count": 123,
   "metadata": {
    "collapsed": false
   },
   "outputs": [
    {
     "data": {
      "text/plain": [
       "28"
      ]
     },
     "execution_count": 123,
     "metadata": {},
     "output_type": "execute_result"
    }
   ],
   "source": [
    "sum(len(subtree) > check_threshold for subtree in id_to_nodes.values())"
   ]
  },
  {
   "cell_type": "code",
   "execution_count": 224,
   "metadata": {
    "collapsed": false
   },
   "outputs": [
    {
     "data": {
      "text/plain": [
       "'clustering.svg'"
      ]
     },
     "execution_count": 224,
     "metadata": {},
     "output_type": "execute_result"
    }
   ],
   "source": [
    "import graphviz as gv\n",
    "g = gv.Graph(format='svg')\n",
    "for i in range(K.shape[0]):\n",
    "    g.node(str(i))\n",
    "# Nodes in m.children_ are sorted by merging time\n",
    "for id, n in enumerate(m.children_):\n",
    "    g.node(str(id + K.shape[0]))\n",
    "    g.edge(str(id + K.shape[0]), str(n[0]))\n",
    "    g.edge(str(id + K.shape[0]), str(n[1]))\n",
    "    id_to_nodes[id  + K.shape[0]] = id_to_nodes[n[0]] + id_to_nodes[n[1]]\n",
    "g.render(\"clustering\")"
   ]
  },
  {
   "cell_type": "code",
   "execution_count": 42,
   "metadata": {
    "collapsed": false
   },
   "outputs": [
    {
     "data": {
      "text/plain": [
       "(array([   0,    1,    2, ..., 1828, 1829, 1830]),)"
      ]
     },
     "execution_count": 42,
     "metadata": {},
     "output_type": "execute_result"
    }
   ],
   "source": [
    "np.where(clusters==0)"
   ]
  },
  {
   "cell_type": "code",
   "execution_count": 365,
   "metadata": {
    "collapsed": false
   },
   "outputs": [
    {
     "name": "stderr",
     "output_type": "stream",
     "text": [
      "2015-05-31 17:50:23,038 - al_ecml2015 - DEBUG - Call get_PCA_of_raw_data\n",
      "2015-05-31 17:50:23,039 - al_ecml2015 - DEBUG - Call calculate_jaccard_distance\n",
      "2015-05-31 17:50:23,040 - al_ecml2015 - DEBUG - Call get_MDS_of_raw_data\n"
     ]
    }
   ],
   "source": [
    "@cached()\n",
    "def get_PCA_of_raw_data(n_components, iterated_power, protein, fingerprint, only_positive=False):\n",
    "    X, Y = _get_raw_data(protein, fingerprint)\n",
    "    if only_positive:\n",
    "        X = X[Y==1]\n",
    "    model = RandomizedPCA(n_components=n_components,iterated_power=iterated_power).fit(X.toarray(), Y)\n",
    "    return model.transform(X.toarray())\n",
    "\n",
    "\n",
    "\n",
    "@cached()\n",
    "def get_MDS_of_raw_data(n_components,  protein, fingerprint, seed, preprocess_fncs, only_positive=False):\n",
    "    X, K = calculate_jaccard_distance(protein=protein, fingerprint=fingerprint, \\\n",
    "                                      seed=seed, preprocess_fncs=preprocess_fncs, only_positive=only_positive)\n",
    "    print K.shape\n",
    "    print X.shape\n",
    "    m = MDS(n_components=n_components, n_jobs=4, dissimilarity=\"precomputed\")\n",
    "    return m, m.fit_transform(K)"
   ]
  },
  {
   "cell_type": "code",
   "execution_count": null,
   "metadata": {
    "collapsed": true
   },
   "outputs": [],
   "source": [
    "%matplotlib inline"
   ]
  },
  {
   "cell_type": "code",
   "execution_count": 9,
   "metadata": {
    "collapsed": false
   },
   "outputs": [
    {
     "name": "stderr",
     "output_type": "stream",
     "text": [
      "2015-05-31 13:19:14,157 - al_ecml2015 - DEBUG - get_MDS_of_raw_data: Cache miss or force reload. Caching get_MDS_of_raw_data_ee487cd4db6af38ca1d9d041f5ac6f2255db1b344957122a4ec1ede40438ab53\n",
      "2015-05-31 13:19:14,158 - al_ecml2015 - DEBUG - calculate_jaccard_distance:Loading (pickled?) file\n"
     ]
    },
    {
     "name": "stdout",
     "output_type": "stream",
     "text": [
      "('5ht6', 'EstateFP')\n",
      "(1490, 1490)\n",
      "(1490, 68)\n"
     ]
    },
    {
     "name": "stderr",
     "output_type": "stream",
     "text": [
      "2015-05-31 13:20:02,002 - al_ecml2015 - DEBUG - get_MDS_of_raw_data: Saving get_MDS_of_raw_data_ee487cd4db6af38ca1d9d041f5ac6f2255db1b344957122a4ec1ede40438ab53\n",
      "2015-05-31 13:20:02,041 - al_ecml2015 - DEBUG - get_MDS_of_raw_data: Cache miss or force reload. Caching get_MDS_of_raw_data_7ca7337cae71b96d713476784c2336aa49d5d03f06f7769c5afb5caa32811d84\n",
      "2015-05-31 13:20:02,042 - al_ecml2015 - DEBUG - calculate_jaccard_distance:Loading (pickled?) file\n"
     ]
    },
    {
     "name": "stdout",
     "output_type": "stream",
     "text": [
      "('5ht6', 'ExtFP')\n",
      "(1490, 1490)\n",
      "(1490, 2012)\n"
     ]
    },
    {
     "name": "stderr",
     "output_type": "stream",
     "text": [
      "2015-05-31 13:20:54,680 - al_ecml2015 - DEBUG - get_MDS_of_raw_data: Saving get_MDS_of_raw_data_7ca7337cae71b96d713476784c2336aa49d5d03f06f7769c5afb5caa32811d84\n",
      "2015-05-31 13:20:54,702 - al_ecml2015 - DEBUG - get_MDS_of_raw_data: Cache miss or force reload. Caching get_MDS_of_raw_data_73c21cdb64948caaec508c0d1ed37b034f8758facb016020c16bfe45ad50fd20\n",
      "2015-05-31 13:20:54,703 - al_ecml2015 - DEBUG - calculate_jaccard_distance:Loading (pickled?) file\n"
     ]
    },
    {
     "name": "stdout",
     "output_type": "stream",
     "text": [
      "('5ht6', 'KlekFP')\n",
      "(1490, 1490)\n",
      "(1490, 2502)\n"
     ]
    },
    {
     "name": "stderr",
     "output_type": "stream",
     "text": [
      "2015-05-31 13:21:48,348 - al_ecml2015 - DEBUG - get_MDS_of_raw_data: Saving get_MDS_of_raw_data_73c21cdb64948caaec508c0d1ed37b034f8758facb016020c16bfe45ad50fd20\n",
      "2015-05-31 13:21:48,378 - al_ecml2015 - DEBUG - get_MDS_of_raw_data: Cache miss or force reload. Caching get_MDS_of_raw_data_a3a3296a8819ce629225f06a83fdf4bfd0f327b3329baa0cfd93f638056132dc\n",
      "2015-05-31 13:21:48,380 - al_ecml2015 - DEBUG - calculate_jaccard_distance:Loading (pickled?) file\n"
     ]
    },
    {
     "name": "stdout",
     "output_type": "stream",
     "text": [
      "('5ht6', 'KlekFPCount')\n",
      "(1490, 1490)\n",
      "(1490, 4429)\n"
     ]
    },
    {
     "name": "stderr",
     "output_type": "stream",
     "text": [
      "2015-05-31 13:22:42,403 - al_ecml2015 - DEBUG - get_MDS_of_raw_data: Saving get_MDS_of_raw_data_a3a3296a8819ce629225f06a83fdf4bfd0f327b3329baa0cfd93f638056132dc\n",
      "2015-05-31 13:22:42,439 - al_ecml2015 - DEBUG - get_MDS_of_raw_data: Cache miss or force reload. Caching get_MDS_of_raw_data_580ec0c3091076e2d36311d8cb5cb72ac4d5a33fbcb2ecc373b17580178ff4f2\n",
      "2015-05-31 13:22:42,440 - al_ecml2015 - DEBUG - calculate_jaccard_distance:Loading (pickled?) file\n"
     ]
    },
    {
     "name": "stdout",
     "output_type": "stream",
     "text": [
      "('5ht6', 'MACCSFP')\n",
      "(1490, 1490)\n",
      "(1490, 294)\n"
     ]
    },
    {
     "name": "stderr",
     "output_type": "stream",
     "text": [
      "2015-05-31 13:23:35,011 - al_ecml2015 - DEBUG - get_MDS_of_raw_data: Saving get_MDS_of_raw_data_580ec0c3091076e2d36311d8cb5cb72ac4d5a33fbcb2ecc373b17580178ff4f2\n",
      "2015-05-31 13:23:35,029 - al_ecml2015 - DEBUG - get_MDS_of_raw_data: Cache miss or force reload. Caching get_MDS_of_raw_data_e46c39af64067e215af06da9a176e28836ed8d4952ab6fae08fca724b36f08b0\n",
      "2015-05-31 13:23:35,030 - al_ecml2015 - DEBUG - calculate_jaccard_distance:Loading (pickled?) file\n"
     ]
    },
    {
     "name": "stdout",
     "output_type": "stream",
     "text": [
      "('5ht6', 'PubchemFP')\n",
      "(1490, 1490)\n",
      "(1490, 1172)\n"
     ]
    },
    {
     "name": "stderr",
     "output_type": "stream",
     "text": [
      "2015-05-31 13:24:22,242 - al_ecml2015 - DEBUG - get_MDS_of_raw_data: Saving get_MDS_of_raw_data_e46c39af64067e215af06da9a176e28836ed8d4952ab6fae08fca724b36f08b0\n",
      "2015-05-31 13:24:22,264 - al_ecml2015 - DEBUG - get_MDS_of_raw_data: Cache miss or force reload. Caching get_MDS_of_raw_data_c3202dfb1b4963f352fc803a545cfdc565ae16009475e91dc41335628913f52e\n",
      "2015-05-31 13:24:22,265 - al_ecml2015 - DEBUG - calculate_jaccard_distance:Loading (pickled?) file\n"
     ]
    },
    {
     "name": "stdout",
     "output_type": "stream",
     "text": [
      "('5ht6', 'SubFP')\n",
      "(1490, 1490)\n",
      "(1490, 218)\n"
     ]
    },
    {
     "name": "stderr",
     "output_type": "stream",
     "text": [
      "2015-05-31 13:25:12,580 - al_ecml2015 - DEBUG - get_MDS_of_raw_data: Saving get_MDS_of_raw_data_c3202dfb1b4963f352fc803a545cfdc565ae16009475e91dc41335628913f52e\n",
      "2015-05-31 13:25:12,613 - al_ecml2015 - DEBUG - get_MDS_of_raw_data: Cache miss or force reload. Caching get_MDS_of_raw_data_4dc7fec6a19c60c6e9d0e2e7cd289449670a80a75d90d3c261f73821a48b64c5\n",
      "2015-05-31 13:25:12,615 - al_ecml2015 - DEBUG - calculate_jaccard_distance:Loading (pickled?) file\n"
     ]
    },
    {
     "name": "stdout",
     "output_type": "stream",
     "text": [
      "('5ht6', 'SubFPCount')\n",
      "(1, 1)\n",
      "(1, 108)\n"
     ]
    },
    {
     "name": "stderr",
     "output_type": "stream",
     "text": [
      "2015-05-31 13:25:12,956 - al_ecml2015 - DEBUG - get_MDS_of_raw_data: Saving get_MDS_of_raw_data_4dc7fec6a19c60c6e9d0e2e7cd289449670a80a75d90d3c261f73821a48b64c5\n"
     ]
    }
   ],
   "source": [
    "import seaborn\n",
    "all_combinations = [p for p in list(product(proteins, fingerprints))]\n",
    "prot_to_draw = 1 #len(proteins)\n",
    "fing_to_draw = len(fingerprints)\n",
    "comps = all_combinations[len(fingerprints): len(fingerprints)*2]\n",
    "fig, axes = plt.subplots(prot_to_draw, fing_to_draw)\n",
    "fig.set_figwidth(20*fing_to_draw)\n",
    "fig.set_figheight(20*prot_to_draw)\n",
    "preprocess_fncs = [['to_binary', {'all_below': True}]]\n",
    "\n",
    "\n",
    "if hasattr(axes, \"reshape\"):\n",
    "    axes = axes.reshape(-1)\n",
    "else:\n",
    "    axes = [axes]\n",
    "    \n",
    "for ax, comp in zip(axes, comps):\n",
    "    print comp\n",
    "#     X, Y = _get_raw_data(comp[0], comp[1])\n",
    "    X_mds = get_MDS_of_raw_data(n_components=2, seed=777, protein=comp[0], \\\n",
    "                                fingerprint=comp[1], preprocess_fncs=preprocess_fncs, only_positive=True)\n",
    "#     X_mds = get_PCA_of_raw_data(force_reload=True, \\\n",
    "#                                 n_components=10, iterated_power=10, protein=comp[0], fingerprint=comp[1])  \n",
    "    ax.legend()\n",
    "    ax.set_title(\"_\".join(comp))\n",
    "    ax.scatter(X_mds[:, 0], X_mds[:, 1])\n",
    "    ax.legend()\n",
    "plt.savefig('pca_5ht6_one_class_2_comp.png')\n",
    "#plt.show()"
   ]
  },
  {
   "cell_type": "code",
   "execution_count": 2,
   "metadata": {
    "collapsed": false,
    "scrolled": true
   },
   "outputs": [
    {
     "ename": "NameError",
     "evalue": "name 'get_PCA_of_raw_data' is not defined",
     "output_type": "error",
     "traceback": [
      "\u001b[1;31m---------------------------------------------------------------------------\u001b[0m",
      "\u001b[1;31mNameError\u001b[0m                                 Traceback (most recent call last)",
      "\u001b[1;32m<ipython-input-2-3d2a53491ae1>\u001b[0m in \u001b[0;36m<module>\u001b[1;34m()\u001b[0m\n\u001b[0;32m     17\u001b[0m     \u001b[0mX\u001b[0m\u001b[1;33m,\u001b[0m \u001b[0mY\u001b[0m \u001b[1;33m=\u001b[0m \u001b[0m_get_raw_data\u001b[0m\u001b[1;33m(\u001b[0m\u001b[0mcomp\u001b[0m\u001b[1;33m[\u001b[0m\u001b[1;36m0\u001b[0m\u001b[1;33m]\u001b[0m\u001b[1;33m,\u001b[0m \u001b[0mcomp\u001b[0m\u001b[1;33m[\u001b[0m\u001b[1;36m1\u001b[0m\u001b[1;33m]\u001b[0m\u001b[1;33m)\u001b[0m\u001b[1;33m\u001b[0m\u001b[0m\n\u001b[0;32m     18\u001b[0m     \u001b[0mX\u001b[0m \u001b[1;33m=\u001b[0m \u001b[0mX\u001b[0m\u001b[1;33m[\u001b[0m\u001b[0mY\u001b[0m\u001b[1;33m==\u001b[0m\u001b[1;36m1\u001b[0m\u001b[1;33m]\u001b[0m \u001b[1;31m# Pick only positive\u001b[0m\u001b[1;33m\u001b[0m\u001b[0m\n\u001b[1;32m---> 19\u001b[1;33m     \u001b[0mX_pca\u001b[0m \u001b[1;33m=\u001b[0m \u001b[0mget_PCA_of_raw_data\u001b[0m\u001b[1;33m(\u001b[0m\u001b[0mforce_reload\u001b[0m\u001b[1;33m=\u001b[0m\u001b[0mTrue\u001b[0m\u001b[1;33m,\u001b[0m                                 \u001b[0mn_components\u001b[0m\u001b[1;33m=\u001b[0m\u001b[1;36m10\u001b[0m\u001b[1;33m,\u001b[0m \u001b[0miterated_power\u001b[0m\u001b[1;33m=\u001b[0m\u001b[1;36m10\u001b[0m\u001b[1;33m,\u001b[0m \u001b[0mprotein\u001b[0m\u001b[1;33m=\u001b[0m\u001b[0mcomp\u001b[0m\u001b[1;33m[\u001b[0m\u001b[1;36m0\u001b[0m\u001b[1;33m]\u001b[0m\u001b[1;33m,\u001b[0m \u001b[0mfingerprint\u001b[0m\u001b[1;33m=\u001b[0m\u001b[0mcomp\u001b[0m\u001b[1;33m[\u001b[0m\u001b[1;36m1\u001b[0m\u001b[1;33m]\u001b[0m\u001b[1;33m)\u001b[0m\u001b[1;33m\u001b[0m\u001b[0m\n\u001b[0m\u001b[0;32m     20\u001b[0m     \u001b[0max\u001b[0m\u001b[1;33m.\u001b[0m\u001b[0mlegend\u001b[0m\u001b[1;33m(\u001b[0m\u001b[1;33m)\u001b[0m\u001b[1;33m\u001b[0m\u001b[0m\n\u001b[0;32m     21\u001b[0m     \u001b[0max\u001b[0m\u001b[1;33m.\u001b[0m\u001b[0mset_title\u001b[0m\u001b[1;33m(\u001b[0m\u001b[1;34m\"_\"\u001b[0m\u001b[1;33m.\u001b[0m\u001b[0mjoin\u001b[0m\u001b[1;33m(\u001b[0m\u001b[0mcomp\u001b[0m\u001b[1;33m)\u001b[0m\u001b[1;33m)\u001b[0m\u001b[1;33m\u001b[0m\u001b[0m\n",
      "\u001b[1;31mNameError\u001b[0m: name 'get_PCA_of_raw_data' is not defined"
     ]
    }
   ],
   "source": [
    "import seaborn\n",
    "all_combinations = [p for p in list(product(proteins, fingerprints))]\n",
    "prot_to_draw = 1 #len(proteins)\n",
    "fing_to_draw = len(fingerprints)\n",
    "comps = all_combinations[0:fing_to_draw*prot_to_draw]\n",
    "fig, axes = plt.subplots(prot_to_draw, fing_to_draw)\n",
    "fig.set_figwidth(10*fing_to_draw)\n",
    "fig.set_figheight(10*prot_to_draw)\n",
    "\n",
    "if hasattr(axes, \"reshape\"):\n",
    "    axes = axes.reshape(-1)\n",
    "else:\n",
    "    axes = [axes]\n",
    "    \n",
    "for ax, comp in zip(axes, comps):\n",
    "    X, Y = _get_raw_data(comp[0], comp[1])\n",
    "    X = X[Y==1] # Pick only positive\n",
    "    X_pca = get_PCA_of_raw_data(force_reload=True, \\\n",
    "                                n_components=10, iterated_power=10, protein=comp[0], fingerprint=comp[1])\n",
    "    ax.legend()\n",
    "    ax.set_title(\"_\".join(comp))\n",
    "    ax.scatter(X_pca[:, 0], X_pca[:, 1])\n",
    "    ax.legend()\n",
    "plt.savefig('foo.png')\n",
    "# plt.show()"
   ]
  },
  {
   "cell_type": "code",
   "execution_count": null,
   "metadata": {
    "collapsed": false
   },
   "outputs": [],
   "source": [
    "get_best(grid_results_random.experiments, metric=\"mean_mcc_valid\").results['mean_mcc_valid']"
   ]
  },
  {
   "cell_type": "code",
   "execution_count": null,
   "metadata": {
    "collapsed": false
   },
   "outputs": [],
   "source": [
    "get_best(grid_results_uncert.experiments, metric=\"mean_mcc_valid\").results['mean_mcc_valid']"
   ]
  },
  {
   "cell_type": "code",
   "execution_count": null,
   "metadata": {
    "collapsed": true
   },
   "outputs": [],
   "source": [
    "import sklearn"
   ]
  }
 ],
 "metadata": {
  "kernelspec": {
   "display_name": "Python 2",
   "language": "python",
   "name": "python2"
  },
  "language_info": {
   "codemirror_mode": {
    "name": "ipython",
    "version": 2
   },
   "file_extension": ".py",
   "mimetype": "text/x-python",
   "name": "python",
   "nbconvert_exporter": "python",
   "pygments_lexer": "ipython2",
   "version": "2.7.6"
  }
 },
 "nbformat": 4,
 "nbformat_minor": 0
}
