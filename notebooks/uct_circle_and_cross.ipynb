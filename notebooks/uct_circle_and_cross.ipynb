{
 "cells": [
  {
   "cell_type": "code",
   "execution_count": 3,
   "metadata": {
    "collapsed": false
   },
   "outputs": [
    {
     "name": "stdout",
     "output_type": "stream",
     "text": [
      "The autoreload extension is already loaded. To reload it, use:\n",
      "  %reload_ext autoreload\n"
     ]
    }
   ],
   "source": [
    "%load_ext autoreload\n",
    "%autoreload 2\n",
    "import sys\n",
    "sys.path.insert(0, \"/lhome/home/jastrzebski/mlls2015/\")\n",
    "import misc\n",
    "from collections import defaultdict\n",
    "import copy, math, sys\n",
    "import numpy as np\n",
    "from collections import namedtuple\n",
    "import copy\n",
    "import sys\n",
    "sys.path.append(\"..\")\n",
    "from misc.config import *\n",
    "from misc.utils import *\n",
    "config_log_to_file(\"uct_circle_and_cross.log\", level=logging.INFO)\n",
    "logger = logging.getLogger(\"uct_circle_and_cross\")\n",
    "import time, random\n",
    "from functools import partial\n",
    "import models\n",
    "from models.uct import *"
   ]
  },
  {
   "cell_type": "code",
   "execution_count": 4,
   "metadata": {
    "collapsed": false
   },
   "outputs": [
    {
     "name": "stdout",
     "output_type": "stream",
     "text": [
      "10\n"
     ]
    }
   ],
   "source": [
    "def playout_uct_vs_random(budget=100, policy=ucb_policy):\n",
    "    game = CrossAndCircle()\n",
    "    \n",
    "    state = {\"board\": np.array([[\"x\", \"x\", \"x\"], [\"x\", \"x\", \"x\"], [\"x\", \"x\", \"x\"]], dtype=object),\n",
    "                          \"player\": 0}\n",
    "\n",
    "    while not game.is_terminal(state):\n",
    "        if state['player'] == 0:\n",
    "            uct = UCT(game=game, N=budget, policy=policy)\n",
    "            uct.fit(state)\n",
    "            state = game.transition(state, uct.best_action_)\n",
    "        else:\n",
    "            state = game.transition(state, random.choice(game.get_actions(state)))\n",
    "\n",
    "    return game.utility(state)[0] == 1\n",
    "\n",
    "budget = 60\n",
    "wins_0 = 0\n",
    "for i in range(10):\n",
    "    wins_0 += playout_uct_vs_random(budget=budget)\n",
    "print wins_0"
   ]
  }
 ],
 "metadata": {
  "kernelspec": {
   "display_name": "Python 2",
   "language": "python",
   "name": "python2"
  },
  "language_info": {
   "codemirror_mode": {
    "name": "ipython",
    "version": 2
   },
   "file_extension": ".py",
   "mimetype": "text/x-python",
   "name": "python",
   "nbconvert_exporter": "python",
   "pygments_lexer": "ipython2",
   "version": "2.7.11"
  }
 },
 "nbformat": 4,
 "nbformat_minor": 0
}
