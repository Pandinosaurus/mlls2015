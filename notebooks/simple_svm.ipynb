{
 "cells": [
  {
   "cell_type": "markdown",
   "metadata": {},
   "source": [
    "## This script fits simple cross validated SVM using single fit alpy\n",
    "\n",
    "## It should be straightforward to go from this script to running experiments on any fingerprint/compound pair"
   ]
  },
  {
   "cell_type": "code",
   "execution_count": null,
   "metadata": {
    "collapsed": false
   },
   "outputs": [],
   "source": [
    "% load_ext autoreload\n",
    "% autoreload 2\n",
    "import sys\n",
    "sys.path.insert(0, \"../mlls2015\")\n",
    "sys.path.insert(0, \"..\")\n",
    "import training_data\n",
    "from training_data.datasets import CVBaseChemDataset\n",
    "import bunch\n",
    "import numpy as np\n",
    "from bunch import Bunch\n",
    "import os\n",
    "import logging\n",
    "from experiments.utils import wac_score\n",
    "from misc.utils import config_log_to_file"
   ]
  },
  {
   "cell_type": "code",
   "execution_count": null,
   "metadata": {
    "collapsed": true
   },
   "outputs": [],
   "source": [
    "opts = Bunch({\"C_min\": -6, \"C_max\": 3, \"n_folds\": 5, \"preprocess\": \"max_abs\", \"fold\": 1, \"compound\": \"beta2\", \n",
    "             \"representation\": \"MACCS\", \"jaccard\": 0, \"rng\": 777, \"name\": \"test_svm\", \"output_dir\": \"/Users/kudkudak/code/mlls2015/\"})"
   ]
  },
  {
   "cell_type": "code",
   "execution_count": null,
   "metadata": {
    "collapsed": false
   },
   "outputs": [],
   "source": [
    "config_log_to_file(os.path.join(opts.output_dir, opts.name + \".log\"), clear_log_file=True)\n",
    "logger = logging.getLogger(\"fit_svm\")\n",
    "logger.info(opts.__dict__)\n",
    "logger.info(opts.name)"
   ]
  },
  {
   "cell_type": "code",
   "execution_count": null,
   "metadata": {
    "collapsed": false
   },
   "outputs": [],
   "source": [
    "data = CVBaseChemDataset(compound=opts.compound, representation=opts.representation, n_folds=opts.n_folds, rng=opts.rng,\n",
    "                       preprocess=opts.preprocess)\n",
    "(X_train, y_train), (X_valid, y_valid) = data.get_data(fold=opts.fold)\n",
    "if opts.jaccard:\n",
    "    K_train, K_valid = calculate_jaccard_kernel(data=data, fold=opts.fold)"
   ]
  },
  {
   "cell_type": "code",
   "execution_count": null,
   "metadata": {
    "collapsed": false
   },
   "outputs": [],
   "source": [
    "# Calculate results\n",
    "results = {}\n",
    "C_range = range(opts.C_min, opts.C_max+1)\n",
    "grid = [{\"C\": 10**i} for i in C_range]\n",
    "for params in grid:\n",
    "    logger.info(\"Testing \" + str(params))\n",
    "    if opts.jaccard:\n",
    "        m = SVC(kernel=\"precomputed\", class_weight=\"balanced\",random_state=opts.rng,  **params)\n",
    "        m.fit(K_train, y_train)\n",
    "        y_pred = m.predict(K_valid)\n",
    "        results[str(params)] = {\"y_pred\": y_pred, \"wac\": wac_score(y_valid, y_pred), \"clf\": m}\n",
    "    else:\n",
    "        m = LinearSVC(loss=\"hinge\",class_weight=\"balanced\", random_state=opts.rng, **params)\n",
    "        m.fit(X_train, y_train)\n",
    "        y_pred = m.predict(X_valid)\n",
    "        results[str(params)] = {\"y_pred\": y_pred, \"wac\": wac_score(y_valid, y_pred), \"clf\": m}"
   ]
  },
  {
   "cell_type": "code",
   "execution_count": null,
   "metadata": {
    "collapsed": false
   },
   "outputs": [],
   "source": [
    "wac_scores = [results[str(params)][\"wac\"] for params in grid]\n",
    "logger.info(\"Max WAC=\" + str(np.max(wac_scores)))\n",
    "best_results = results[str(grid[np.argmax(wac_scores)])]"
   ]
  }
 ],
 "metadata": {
  "kernelspec": {
   "display_name": "Python 2",
   "language": "python",
   "name": "python2"
  },
  "language_info": {
   "codemirror_mode": {
    "name": "ipython",
    "version": 2
   },
   "file_extension": ".py",
   "mimetype": "text/x-python",
   "name": "python",
   "nbconvert_exporter": "python",
   "pygments_lexer": "ipython2",
   "version": "2.7.10"
  }
 },
 "nbformat": 4,
 "nbformat_minor": 0
}
