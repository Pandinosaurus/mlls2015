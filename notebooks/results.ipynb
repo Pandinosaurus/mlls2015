{
 "cells": [
  {
   "cell_type": "code",
   "execution_count": null,
   "metadata": {
    "collapsed": false
   },
   "outputs": [],
   "source": [
    "%load_ext autoreload\n",
    "%autoreload 2\n",
    "%matplotlib inline"
   ]
  },
  {
   "cell_type": "code",
   "execution_count": null,
   "metadata": {
    "collapsed": false
   },
   "outputs": [],
   "source": [
    "import sys, os\n",
    "sys.path.append('..')\n",
    "\n",
    "import numpy as np\n",
    "from sklearn.svm import SVC\n",
    "from sklearn.metrics import accuracy_score\n",
    "from sklearn.grid_search import GridSearchCV\n",
    "from matplotlib import pyplot as plt\n",
    "\n",
    "from get_data import get_data, get_splitted_data\n",
    "from models.active_model import ActiveLearningExperiment\n",
    "from models.strategy import *\n",
    "from models.utils import ObstructedY\n",
    "\n",
    "from misc.config import c\n",
    "data_dir = c[\"DATA_DIR\"]\n",
    "\n",
    "import kaggle_ninja\n",
    "\n",
    "from experiments.experiment_runner import run_experiment, run_experiment_grid\n",
    "import experiments\n",
    "from experiments import experiment_runner, fit_active_learning, fit_grid\n",
    "from experiments.utils import *\n",
    "from models.strategy import cosine_distance_normalized\n",
    "\n",
    "from kaggle_ninja import *"
   ]
  },
  {
   "cell_type": "code",
   "execution_count": null,
   "metadata": {
    "collapsed": false,
    "scrolled": true
   },
   "outputs": [],
   "source": [
    "protein = '5ht6'\n",
    "fingerprint = \"ExtFP\"\n",
    "seed = 666\n",
    "\n",
    "random = run_experiment(\"fit_grid\",\n",
    "                   recalculate_experiments=False,\n",
    "                   n_jobs = 8,\n",
    "                   experiment_detailed_name=\"fit_svm_passive_%s_%s\" % (protein, fingerprint),\n",
    "                   base_experiment=\"fit_active_learning\",\n",
    "                   seed=666,\n",
    "                   base_experiment_kwargs={\"strategy\": \"random_query\",\n",
    "                                           \"loader_function\": \"get_splitted_data\",\n",
    "                                           \"batch_size\": 20,\n",
    "                                           \"base_model\": \"LinearSVC\",\n",
    "                                           \"loader_args\": {\"n_folds\": 2,\n",
    "                                                           \"seed\": seed},\n",
    "                                           \"param_grid\": {'C': list(np.logspace(-3,4,7))},\n",
    "                                           \"base_model_kwargs\": { \"loss\": 'hinge'}})\n",
    "\n",
    "\n",
    "uncertian = run_experiment(\"fit_grid\",\n",
    "                   recalculate_experiments=False,\n",
    "                   n_jobs = 8,\n",
    "                   experiment_detailed_name=\"fit_svm_uncertain_%s_%s\" % (protein, fingerprint),\n",
    "                   base_experiment=\"fit_active_learning\",\n",
    "                   seed=666,\n",
    "                   base_experiment_kwargs={\"strategy\": \"uncertanity_sampling\",\n",
    "                                           \"loader_function\": \"get_splitted_data\",\n",
    "                                           \"batch_size\": 20,\n",
    "                                           \"base_model\": \"LinearSVC\",\n",
    "                                           \"loader_args\": {\"n_folds\": 2,\n",
    "                                                           \"seed\": seed},\n",
    "                                           \"param_grid\": {'C': list(np.logspace(-5,5,10))},\n",
    "                                           \"base_model_kwargs\": { \"loss\": 'hinge'}})"
   ]
  },
  {
   "cell_type": "code",
   "execution_count": null,
   "metadata": {
    "collapsed": false
   },
   "outputs": [],
   "source": [
    "best_random_exp = get_best(random.experiments, \"mean_mcc_valid\")\n",
    "best_uncertain_exp = get_best(uncertian.experiments, \"mean_mcc_valid\")"
   ]
  },
  {
   "cell_type": "code",
   "execution_count": null,
   "metadata": {
    "collapsed": false
   },
   "outputs": [],
   "source": [
    "plot_monitors([best_random_exp, best_uncertain_exp], folds='mean')"
   ]
  },
  {
   "cell_type": "code",
   "execution_count": null,
   "metadata": {
    "collapsed": false
   },
   "outputs": [],
   "source": [
    "calc_auc([best_random_exp, best_uncertain_exp], folds=\"mean\")"
   ]
  },
  {
   "cell_type": "code",
   "execution_count": null,
   "metadata": {
    "collapsed": false
   },
   "outputs": [],
   "source": [
    "protein = '5ht6'\n",
    "fingerprints = [\"ExtFP\"]\n",
    "seed = 666\n",
    "\n",
    "grid_result_greedy = run_experiment(\"fit_grid\",\n",
    "                                        recalculate_experiments=False,\n",
    "                                        n_jobs = 2,\n",
    "                                        experiment_detailed_name=\"fit_svm_greedy_%s_%s\" % (protein, fingerprints),\n",
    "                                        base_experiment=\"fit_active_learning\",\n",
    "                                        seed=666,\n",
    "                                        grid_params = {\"base_model_kwargs:C\": list(np.logspace(-5,5,10)),\n",
    "                                                       \"base_model_kwargs:loss\": ['hinge'],\n",
    "                                                       \"strategy_kwargs:c\": list(np.linspace(0.1, 0.9, 9))},\n",
    "                                        base_experiment_kwargs={\"strategy\": \"quasi_greedy_batch\",\n",
    "                                                           \"loader_function\": \"get_splitted_data\",\n",
    "                                                           \"batch_size\": 20,\n",
    "                                                           \"base_model\": \"LinearSVC\",\n",
    "                                                           \"loader_args\": {\"n_folds\": 2,\n",
    "                                                                           \"seed\": 666}})"
   ]
  },
  {
   "cell_type": "code",
   "execution_count": null,
   "metadata": {
    "collapsed": false
   },
   "outputs": [],
   "source": [
    "best_greedy_exp = get_best(grid_result_greedy.experiments, \"mean_mcc_valid\")"
   ]
  },
  {
   "cell_type": "code",
   "execution_count": null,
   "metadata": {
    "collapsed": false
   },
   "outputs": [],
   "source": [
    "plot_monitors([best_passive_exp, best_uncertain_exp, best_greedy_exp], folds=\"mean\")"
   ]
  },
  {
   "cell_type": "markdown",
   "metadata": {},
   "source": [
    "# Balanced Models"
   ]
  },
  {
   "cell_type": "code",
   "execution_count": null,
   "metadata": {
    "collapsed": true
   },
   "outputs": [],
   "source": [
    "protein = '5ht6'\n",
    "fingerprint = \"ExtFP\"\n",
    "seed = 666"
   ]
  },
  {
   "cell_type": "code",
   "execution_count": null,
   "metadata": {
    "collapsed": false,
    "scrolled": true
   },
   "outputs": [],
   "source": [
    "twelm_uncertain = run_experiment(\"fit_grid\",\n",
    "                                 recalculate_experiments=False,\n",
    "                                 n_jobs = 8,\n",
    "                                 experiment_detailed_name=\"fit_TWELM_uncertain_%s_%s\" % (protein, fingerprint),\n",
    "                                 base_experiment=\"fit_active_learning\",\n",
    "                                 seed=666,\n",
    "                                 base_experiment_kwargs={\"strategy\": \"uncertainty_sampling\",\n",
    "                                                         \"loader_function\": \"get_splitted_data\",\n",
    "                                                         \"batch_size\": 20,\n",
    "                                                         \"base_model\": \"TWELM\",\n",
    "                                                         \"loader_args\": {\"n_folds\": 2,\n",
    "                                                                         \"seed\": seed},\n",
    "                                                         \"param_grid\": {'C': list(np.logspace(-3,4,7))}})"
   ]
  },
  {
   "cell_type": "code",
   "execution_count": null,
   "metadata": {
    "collapsed": false
   },
   "outputs": [],
   "source": [
    "eem_uncertainty = run_experiment(\"fit_grid\",\n",
    "                                 recalculate_experiments=False,\n",
    "                                 n_jobs = 8,\n",
    "                                 experiment_detailed_name=\"fit_EEM_uncertainty_%s_%s\" % (protein, fingerprint),\n",
    "                                 base_experiment=\"fit_active_learning\",\n",
    "                                 seed=666,\n",
    "                                 base_experiment_kwargs={\"strategy\": \"uncertainty_sampling\",\n",
    "                                                         \"loader_function\": \"get_splitted_data\",\n",
    "                                                         \"batch_size\": 20,\n",
    "                                                         \"base_model\": \"EEM\",\n",
    "                                                         \"loader_args\": {\"n_folds\": 2,\n",
    "                                                                         \"seed\": seed},\n",
    "                                                         \"param_grid\": {'C': list(np.logspace(-3,4,7))}})\n"
   ]
  },
  {
   "cell_type": "code",
   "execution_count": null,
   "metadata": {
    "collapsed": false
   },
   "outputs": [],
   "source": [
    "svmtan_uncertainty = run_experiment(\"fit_grid\",\n",
    "                                    recalculate_experiments=False,\n",
    "                                    n_jobs = 8,\n",
    "                                    experiment_detailed_name=\"fit_SVMTAN_uncertainty_%s_%s\" % (protein, fingerprint),\n",
    "                                    base_experiment=\"fit_active_learning\",\n",
    "                                    seed=666,\n",
    "                                    base_experiment_kwargs={\"strategy\": \"uncertainty_sampling\",\n",
    "                                                            \"loader_function\": \"get_splitted_data\",\n",
    "                                                            \"batch_size\": 20,\n",
    "                                                            \"base_model\": \"SVMTAN\",\n",
    "                                                            \"loader_args\": {\"n_folds\": 2,\n",
    "                                                                            \"seed\": seed},\n",
    "                                                            \"param_grid\": {'C': list(np.logspace(-3,4,7))}})"
   ]
  },
  {
   "cell_type": "code",
   "execution_count": null,
   "metadata": {
    "collapsed": false
   },
   "outputs": [],
   "source": [
    "nb_uncertainty = run_experiment(\"fit_grid\",\n",
    "                                recalculate_experiments=False,\n",
    "                                n_jobs = 8,\n",
    "                                experiment_detailed_name=\"fit_NB_uncertainty_%s_%s\" % (protein, fingerprint),\n",
    "                                base_experiment=\"fit_active_learning\",\n",
    "                                seed=666,\n",
    "                                base_experiment_kwargs={\"strategy\": \"uncertainty_sampling\",\n",
    "                                                        \"loader_function\": \"get_splitted_data\",\n",
    "                                                        \"batch_size\": 20,\n",
    "                                                        \"base_model\": \"RandomNB\",\n",
    "                                                        \"loader_args\": {\"n_folds\": 2,\n",
    "                                                                        \"seed\": seed},\n",
    "                                                        \"param_grid\": {'h': list(np.linspace(100,500,5))}})"
   ]
  },
  {
   "cell_type": "code",
   "execution_count": null,
   "metadata": {
    "collapsed": false
   },
   "outputs": [],
   "source": [
    "best_twelm_exp = get_best(twelm_uncertain.experiments, \"auc\")\n",
    "best_eem_exp = get_best(eem_uncertainty.experiments, \"auc\")\n",
    "best_svmtan_exp = get_best(svmtan_uncertainty.experiments, \"auc\")\n",
    "best_nb_exp = get_best(nb_uncertainty.experiments, \"auc\")"
   ]
  },
  {
   "cell_type": "code",
   "execution_count": null,
   "metadata": {
    "collapsed": false
   },
   "outputs": [],
   "source": [
    "plot_monitors([best_twelm_exp, best_eem_exp, best_svmtan_exp, best_nb_exp], folds='mean')"
   ]
  },
  {
   "cell_type": "code",
   "execution_count": null,
   "metadata": {
    "collapsed": true
   },
   "outputs": [],
   "source": [
    "best_twelm_exp = get_best(twelm_uncertain.experiments, \"auc\")"
   ]
  },
  {
   "cell_type": "code",
   "execution_count": null,
   "metadata": {
    "collapsed": false
   },
   "outputs": [],
   "source": [
    "plot_monitors(best_twelm_exp, folds='all', keys='metrics')"
   ]
  },
  {
   "cell_type": "code",
   "execution_count": null,
   "metadata": {
    "collapsed": false
   },
   "outputs": [],
   "source": [
    "plot_monitors(best_twelm_exp, folds='mean', keys='times')"
   ]
  },
  {
   "cell_type": "code",
   "execution_count": null,
   "metadata": {
    "collapsed": false,
    "scrolled": true
   },
   "outputs": [],
   "source": [
    "protein = '5ht6'\n",
    "fingerprint = \"ExtFP\"\n",
    "seed = 777\n",
    "\n",
    "loader = [\"get_splitted_data\", {\n",
    "                \"seed\": seed,\n",
    "                \"valid_size\": 0.15,\n",
    "                \"n_folds\": 2,\n",
    "                \"percent\": 0.2}]\n",
    "\n",
    "strategies = [('random_query', {}),\n",
    "              ('uncertainty_sampling', {})]\n",
    "              # ('quasi_greedy_batch', {\"strategy_kwargs:c\": list(np.linspace(0.1, 0.9, 9))}),\n",
    "              #   ('chen_krause', {\"strategy_projection_h\":[10,50,100,200] })\n",
    "              # ]\n",
    "\n",
    "preprocess_fncs = []\n",
    "exps = {}\n",
    "\n",
    "for strat, strat_grid in strategies:\n",
    "    exps[strat] = run_experiment(\"fit_grid\",\n",
    "                                     recalculate_experiments=False,\n",
    "                                     n_jobs=4,\n",
    "                                     experiment_detailed_name=\"fit_TWELM_%s_%s_%s\" % (strat, protein, fingerprint),\n",
    "                                     base_experiment=\"fit_active_learning\",\n",
    "                                     seed=seed,\n",
    "                                     grid_params=strat_grid, \\\n",
    "                                     base_experiment_kwargs={\"strategy\": strat,\n",
    "                                                             \"preprocess_fncs\": preprocess_fncs,\n",
    "                                                             \"protein\": protein,\n",
    "                                                             \"fingerprint\": fingerprint,\n",
    "                                                             \"warm_start_percentage\": 0.1,\n",
    "                                                             \"batch_size\": 20,\n",
    "                                                             \"base_model\": \"TWELM\",\n",
    "                                                             \"loader_function\": loader[0],\n",
    "                                                             \"loader_args\": loader[1],\n",
    "                                                             \"param_grid\": {'C': [1]}})"
   ]
  },
  {
   "cell_type": "code",
   "execution_count": null,
   "metadata": {
    "collapsed": false
   },
   "outputs": [],
   "source": [
    "exps.keys()"
   ]
  },
  {
   "cell_type": "code",
   "execution_count": null,
   "metadata": {
    "collapsed": false
   },
   "outputs": [],
   "source": [
    "best_random_twelm_exp = get_best(exps['random_query'].experiments, \"auc_wac_score_concept\")\n",
    "best_unc_twelm_exp = get_best(exps['uncertainty_sampling'].experiments, \"auc_wac_score_concept\")"
   ]
  },
  {
   "cell_type": "code",
   "execution_count": null,
   "metadata": {
    "collapsed": false
   },
   "outputs": [],
   "source": [
    "exps['random_query'].misc"
   ]
  },
  {
   "cell_type": "code",
   "execution_count": null,
   "metadata": {
    "collapsed": false,
    "scrolled": true
   },
   "outputs": [],
   "source": [
    "best_unc_twelm_exp.misc.keys()"
   ]
  },
  {
   "cell_type": "code",
   "execution_count": null,
   "metadata": {
    "collapsed": false
   },
   "outputs": [],
   "source": [
    "plot_monitors([best_unc_twelm_exp, best_random_twelm_exp], keys='times', folds='mean')"
   ]
  }
 ],
 "metadata": {
  "kernelspec": {
   "display_name": "Python 2",
   "language": "python",
   "name": "python2"
  },
  "language_info": {
   "codemirror_mode": {
    "name": "ipython",
    "version": 2
   },
   "file_extension": ".py",
   "mimetype": "text/x-python",
   "name": "python",
   "nbconvert_exporter": "python",
   "pygments_lexer": "ipython2",
   "version": "2.7.6"
  }
 },
 "nbformat": 4,
 "nbformat_minor": 0
}
