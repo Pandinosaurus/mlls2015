{
 "cells": [
  {
   "cell_type": "code",
   "execution_count": 1,
   "metadata": {
    "collapsed": false
   },
   "outputs": [],
   "source": [
    "%load_ext autoreload\n",
    "%autoreload 2\n",
    "%matplotlib inline"
   ]
  },
  {
   "cell_type": "code",
   "execution_count": 3,
   "metadata": {
    "collapsed": false
   },
   "outputs": [],
   "source": [
    "import sys, os\n",
    "sys.path.append('..')\n",
    "\n",
    "import numpy as np\n",
    "from sklearn.svm import SVC\n",
    "from sklearn.metrics import accuracy_score\n",
    "from sklearn.grid_search import GridSearchCV\n",
    "from matplotlib import pyplot as plt\n",
    "\n",
    "from get_data import get_data, get_splitted_data\n",
    "from models.active_model import ActiveLearningExperiment\n",
    "from models.strategy import *\n",
    "from models.utils import ObstructedY\n",
    "\n",
    "from misc.config import c\n",
    "data_dir = c[\"DATA_DIR\"]\n",
    "\n",
    "import kaggle_ninja\n",
    "\n",
    "from experiments.experiment_runner import run_experiment, run_experiment_grid\n",
    "import experiments\n",
    "from experiments import experiment_runner, fit_active_learning, fit_grid\n",
    "from experiments.utils import *\n",
    "from models.strategy import cosine_distance_normalized\n",
    "\n",
    "from kaggle_ninja import *"
   ]
  },
  {
   "cell_type": "code",
   "execution_count": null,
   "metadata": {
    "collapsed": false,
    "scrolled": true
   },
   "outputs": [],
   "source": [
    "protein = '5ht6'\n",
    "fingerprint = \"ExtFP\"\n",
    "seed = 666\n",
    "\n",
    "random = run_experiment(\"fit_grid\",\n",
    "                   recalculate_experiments=False,\n",
    "                   n_jobs = 8,\n",
    "                   experiment_detailed_name=\"fit_svm_passive_%s_%s\" % (protein, fingerprint),\n",
    "                   base_experiment=\"fit_active_learning\",\n",
    "                   seed=666,\n",
    "                   base_experiment_kwargs={\"strategy\": \"random_query\",\n",
    "                                           \"loader_function\": \"get_splitted_data\",\n",
    "                                           \"batch_size\": 20,\n",
    "                                           \"base_model\": \"LinearSVC\",\n",
    "                                           \"loader_args\": {\"n_folds\": 2,\n",
    "                                                           \"seed\": seed},\n",
    "                                           \"param_grid\": {'C': list(np.logspace(-3,4,7))},\n",
    "                                           \"base_model_kwargs\": { \"loss\": 'hinge'}})\n",
    "\n",
    "\n",
    "uncertian = run_experiment(\"fit_grid\",\n",
    "                   recalculate_experiments=False,\n",
    "                   n_jobs = 8,\n",
    "                   experiment_detailed_name=\"fit_svm_uncertain_%s_%s\" % (protein, fingerprint),\n",
    "                   base_experiment=\"fit_active_learning\",\n",
    "                   seed=666,\n",
    "                   base_experiment_kwargs={\"strategy\": \"uncertanity_sampling\",\n",
    "                                           \"loader_function\": \"get_splitted_data\",\n",
    "                                           \"batch_size\": 20,\n",
    "                                           \"base_model\": \"LinearSVC\",\n",
    "                                           \"loader_args\": {\"n_folds\": 2,\n",
    "                                                           \"seed\": seed},\n",
    "                                           \"param_grid\": {'C': list(np.logspace(-5,5,10))},\n",
    "                                           \"base_model_kwargs\": { \"loss\": 'hinge'}})"
   ]
  },
  {
   "cell_type": "code",
   "execution_count": null,
   "metadata": {
    "collapsed": false
   },
   "outputs": [],
   "source": [
    "best_random_exp = get_best(random.experiments, \"mean_mcc_valid\")\n",
    "best_uncertain_exp = get_best(uncertian.experiments, \"mean_mcc_valid\")"
   ]
  },
  {
   "cell_type": "code",
   "execution_count": null,
   "metadata": {
    "collapsed": false
   },
   "outputs": [],
   "source": [
    "plot_monitors([best_random_exp, best_uncertain_exp], folds='mean')"
   ]
  },
  {
   "cell_type": "code",
   "execution_count": null,
   "metadata": {
    "collapsed": false
   },
   "outputs": [],
   "source": [
    "calc_auc([best_random_exp, best_uncertain_exp], folds=\"mean\")"
   ]
  },
  {
   "cell_type": "code",
   "execution_count": null,
   "metadata": {
    "collapsed": false
   },
   "outputs": [],
   "source": [
    "protein = '5ht6'\n",
    "fingerprints = [\"ExtFP\"]\n",
    "seed = 666\n",
    "\n",
    "grid_result_greedy = run_experiment(\"fit_grid\",\n",
    "                                        recalculate_experiments=False,\n",
    "                                        n_jobs = 2,\n",
    "                                        experiment_detailed_name=\"fit_svm_greedy_%s_%s\" % (protein, fingerprints),\n",
    "                                        base_experiment=\"fit_active_learning\",\n",
    "                                        seed=666,\n",
    "                                        grid_params = {\"base_model_kwargs:C\": list(np.logspace(-5,5,10)),\n",
    "                                                       \"base_model_kwargs:loss\": ['hinge'],\n",
    "                                                       \"strategy_kwargs:c\": list(np.linspace(0.1, 0.9, 9))},\n",
    "                                        base_experiment_kwargs={\"strategy\": \"quasi_greedy_batch\",\n",
    "                                                           \"loader_function\": \"get_splitted_data\",\n",
    "                                                           \"batch_size\": 20,\n",
    "                                                           \"base_model\": \"LinearSVC\",\n",
    "                                                           \"loader_args\": {\"n_folds\": 2,\n",
    "                                                                           \"seed\": 666}})"
   ]
  },
  {
   "cell_type": "code",
   "execution_count": null,
   "metadata": {
    "collapsed": false
   },
   "outputs": [],
   "source": [
    "best_greedy_exp = get_best(grid_result_greedy.experiments, \"mean_mcc_valid\")"
   ]
  },
  {
   "cell_type": "code",
   "execution_count": null,
   "metadata": {
    "collapsed": false
   },
   "outputs": [],
   "source": [
    "plot_monitors([best_passive_exp, best_uncertain_exp, best_greedy_exp], folds=\"mean\")"
   ]
  },
  {
   "cell_type": "markdown",
   "metadata": {},
   "source": [
    "# Balanced Models"
   ]
  },
  {
   "cell_type": "code",
   "execution_count": 4,
   "metadata": {
    "collapsed": true
   },
   "outputs": [],
   "source": [
    "protein = '5ht6'\n",
    "fingerprint = \"ExtFP\"\n",
    "seed = 666"
   ]
  },
  {
   "cell_type": "code",
   "execution_count": 5,
   "metadata": {
    "collapsed": false,
    "scrolled": true
   },
   "outputs": [
    {
     "name": "stderr",
     "output_type": "stream",
     "text": [
      "fit_grid: 2015-06-07 20:55:31,967 - Added new config entry: \"base_experiment_kwargs.base_model\"\n",
      "fit_grid: 2015-06-07 20:55:31,991 - Added new config entry: \"base_experiment_kwargs.batch_size\"\n",
      "fit_grid: 2015-06-07 20:55:31,992 - Added new config entry: \"base_experiment_kwargs.loader_args\"\n",
      "fit_grid: 2015-06-07 20:55:31,992 - Added new config entry: \"base_experiment_kwargs.loader_args.n_folds\"\n",
      "fit_grid: 2015-06-07 20:55:31,992 - Added new config entry: \"base_experiment_kwargs.loader_args.seed\"\n",
      "fit_grid: 2015-06-07 20:55:31,993 - Added new config entry: \"base_experiment_kwargs.loader_function\"\n",
      "fit_grid: 2015-06-07 20:55:31,993 - Added new config entry: \"base_experiment_kwargs.param_grid\"\n",
      "fit_grid: 2015-06-07 20:55:31,993 - Added new config entry: \"base_experiment_kwargs.param_grid.C\"\n",
      "fit_grid: 2015-06-07 20:55:31,994 - Added new config entry: \"base_experiment_kwargs.strategy\"\n",
      "fit_grid: 2015-06-07 20:55:31,994 - Running command 'main'\n",
      "fit_grid: 2015-06-07 20:55:31,994 - Started\n",
      "fit_TWELM_uncertain_5ht6_ExtFP: 2015-06-07 20:55:31,997 - Cache miss, calculating\n",
      "fit_TWELM_uncertain_5ht6_ExtFP: 2015-06-07 20:55:31,997 - Fitting grid for fit_active_learning recalcualte_experiments=False\n"
     ]
    },
    {
     "name": "stdout",
     "output_type": "stream",
     "text": [
      "Loading  {'grid_params': {}, 'base_experiment': 'fit_active_learning', 'experiment_detailed_name': 'fit_TWELM_uncertain_5ht6_ExtFP', 'base_experiment_kwargs': {u'loader_function': 'get_splitted_data', u'batch_size': 20, u'strategy': 'uncertainty_sampling', u'loader_args': {u'n_folds': 2, u'seed': 666}, u'base_model': 'TWELM', u'param_grid': {u'C': [0.001, 0.014677992676220698, 0.21544346900318845, 3.1622776601683795, 46.415888336127821, 681.29206905796218, 10000.0]}}, 'seed': 666, 'timeout': -1, 'single_fit_timeout': -1}\n"
     ]
    },
    {
     "name": "stderr",
     "output_type": "stream",
     "text": [
      "fit_TWELM_uncertain_5ht6_ExtFP: 2015-06-07 20:55:32,000 - Fitting fit_active_learning for 1 parameters combinations\n",
      "fit_TWELM_uncertain_5ht6_ExtFP: 2015-06-07 20:55:32,283 - Traceback (most recent call last):\n",
      "  File \"../experiments/fit_grid.py\", line 78, in main\n",
      "    result = run()\n",
      "  File \"/usr/local/lib/python2.7/dist-packages/sacred/config/captured_function.py\", line 45, in captured_function\n",
      "    result = wrapped(*args, **kwargs)\n",
      "  File \"../experiments/fit_grid.py\", line 52, in run\n",
      "    n_jobs=n_jobs, grid_params=grid_params, **base_experiment_kwargs)\n",
      "  File \"../experiments/experiment_runner.py\", line 168, in run_experiment_grid\n",
      "    t.get(10) # First to fail will throw TiemoutErro()\n",
      "  File \"/usr/lib/python2.7/multiprocessing/pool.py\", line 558, in get\n",
      "    raise self._value\n",
      "AssertionError: Please pass preprocess_fncs\n",
      "\n",
      "fit_active_learning: 2015-06-07 20:55:32,186 - Added new config entry: \"loader_args.n_folds\"\n",
      "fit_active_learning: 2015-06-07 20:55:32,206 - Added new config entry: \"loader_args.seed\"\n",
      "fit_active_learning: 2015-06-07 20:55:32,208 - Added new config entry: \"param_grid.C\"\n",
      "fit_active_learning: 2015-06-07 20:55:32,211 - Changed type of config entry \"loader_args\" from int to DogmaticDict\n",
      "fit_active_learning: 2015-06-07 20:55:32,213 - Changed type of config entry \"loader_function\" from int to str\n",
      "fit_active_learning: 2015-06-07 20:55:32,215 - Running command 'main'\n",
      "fit_active_learning: 2015-06-07 20:55:32,218 - Started\n",
      "fit_active_learning: 2015-06-07 20:55:32,221 - Fitting  fit_TWELM_uncertain_5ht6_ExtFP_subfit force_reload=False\n",
      "fit_active_learning: 2015-06-07 20:55:32,227 - Cache miss, calculating\n",
      "fit_active_learning: 2015-06-07 20:55:32,240 - Traceback (most recent call last):\n",
      "  File \"../experiments/fit_active_learning.py\", line 122, in main\n",
      "    result = run()\n",
      "  File \"/usr/local/lib/python2.7/dist-packages/sacred/config/captured_function.py\", line 45, in captured_function\n",
      "    result = wrapped(*args, **kwargs)\n",
      "  File \"../experiments/fit_active_learning.py\", line 56, in run\n",
      "    assert preprocess_fncs != 0, \"Please pass preprocess_fncs\"\n",
      "AssertionError: Please pass preprocess_fncs\n",
      "\n",
      "fit_active_learning: 2015-06-07 20:55:32,243 - <type 'exceptions.AssertionError'>\n",
      "fit_active_learning: 2015-06-07 20:55:32,245 - Failed after 0:00:00!\n",
      "fit_TWELM_uncertain_5ht6_ExtFP: 2015-06-07 20:55:32,284 - <type 'exceptions.AssertionError'>\n",
      "fit_grid: 2015-06-07 20:55:32,285 - Failed after 0:00:00!\n"
     ]
    },
    {
     "name": "stdout",
     "output_type": "stream",
     "text": [
      "{u'loader_function': 'get_splitted_data', 'name': 'fit_active_learning', 'experiment_detailed_name': 'fit_TWELM_uncertain_5ht6_ExtFP_subfit', u'batch_size': 20, u'strategy': 'uncertainty_sampling', u'loader_args': {u'n_folds': 2, u'seed': 666}, 'seed': 666, 'timeout': -1, u'base_model': 'TWELM', u'param_grid': {u'C': [0.001, 0.014677992676220698, 0.21544346900318845, 3.1622776601683795, 46.415888336127821, 681.29206905796218, 10000.0]}, 'force_reload': False}\n",
      "Loading  {'loader_function': 'get_splitted_data', 'preprocess_fncs': 0, 'experiment_detailed_name': 'fit_TWELM_uncertain_5ht6_ExtFP_subfit', 'batch_size': 20, 'loader_args': {u'n_folds': 2, u'seed': 666}, 'strategy_projection_h': 0, 'seed': 666, 'fingerprint': 0, 'protein': 0, 'param_grid': {u'C': [0.001, 0.014677992676220698, 0.21544346900318845, 3.1622776601683795, 46.415888336127821, 681.29206905796218, 10000.0]}, 'base_model_kwargs': {}, 'warm_start_percentage': 0, 'strategy': 'uncertainty_sampling', 'base_model': 'TWELM', 'timeout': -1, 'strategy_kwargs': {}, 'force_reload': False}\n"
     ]
    },
    {
     "ename": "AssertionError",
     "evalue": "Please pass preprocess_fncs",
     "output_type": "error",
     "traceback": [
      "\u001b[1;31m---------------------------------------------------------------------------\u001b[0m",
      "\u001b[1;31mAssertionError\u001b[0m                            Traceback (most recent call last)",
      "\u001b[1;32m<ipython-input-5-0af1f4187887>\u001b[0m in \u001b[0;36m<module>\u001b[1;34m()\u001b[0m\n\u001b[0;32m     11\u001b[0m                                                          \"loader_args\": {\"n_folds\": 2,\n\u001b[0;32m     12\u001b[0m                                                                          \"seed\": seed},\n\u001b[1;32m---> 13\u001b[1;33m                                                          \"param_grid\": {'C': list(np.logspace(-3,4,7))}})\n\u001b[0m",
      "\u001b[1;32m/home/igor/AL_ECML15/experiments/experiment_runner.py\u001b[0m in \u001b[0;36mrun_experiment\u001b[1;34m(name, **kwargs)\u001b[0m\n\u001b[0;32m    192\u001b[0m     \u001b[0mex\u001b[0m \u001b[1;33m=\u001b[0m \u001b[0mfind_obj\u001b[0m\u001b[1;33m(\u001b[0m\u001b[0mname\u001b[0m\u001b[1;33m)\u001b[0m\u001b[1;33m\u001b[0m\u001b[0m\n\u001b[0;32m    193\u001b[0m     \u001b[0mex\u001b[0m\u001b[1;33m.\u001b[0m\u001b[0mlogger\u001b[0m \u001b[1;33m=\u001b[0m \u001b[0mget_logger\u001b[0m\u001b[1;33m(\u001b[0m\u001b[0mex\u001b[0m\u001b[1;33m.\u001b[0m\u001b[0mname\u001b[0m\u001b[1;33m)\u001b[0m\u001b[1;33m\u001b[0m\u001b[0m\n\u001b[1;32m--> 194\u001b[1;33m     \u001b[1;32mreturn\u001b[0m \u001b[0mex\u001b[0m\u001b[1;33m.\u001b[0m\u001b[0mrun\u001b[0m\u001b[1;33m(\u001b[0m\u001b[0mconfig_updates\u001b[0m\u001b[1;33m=\u001b[0m\u001b[0mkwargs\u001b[0m\u001b[1;33m)\u001b[0m\u001b[1;33m.\u001b[0m\u001b[0mresult\u001b[0m\u001b[1;33m\u001b[0m\u001b[0m\n\u001b[0m\u001b[0;32m    195\u001b[0m \u001b[1;33m\u001b[0m\u001b[0m\n\u001b[0;32m    196\u001b[0m \u001b[0mkaggle_ninja\u001b[0m\u001b[1;33m.\u001b[0m\u001b[0mregister\u001b[0m\u001b[1;33m(\u001b[0m\u001b[1;34m\"run_experiment\"\u001b[0m\u001b[1;33m,\u001b[0m \u001b[0mrun_experiment\u001b[0m\u001b[1;33m)\u001b[0m\u001b[1;33m\u001b[0m\u001b[0m\n",
      "\u001b[1;32m/usr/local/lib/python2.7/dist-packages/sacred/experiment.pyc\u001b[0m in \u001b[0;36mrun\u001b[1;34m(self, config_updates, named_configs, loglevel)\u001b[0m\n\u001b[0;32m    334\u001b[0m                                 \u001b[0mconfig_updates\u001b[0m\u001b[1;33m=\u001b[0m\u001b[0mconfig_updates\u001b[0m\u001b[1;33m,\u001b[0m\u001b[1;33m\u001b[0m\u001b[0m\n\u001b[0;32m    335\u001b[0m                                 \u001b[0mnamed_configs_to_use\u001b[0m\u001b[1;33m=\u001b[0m\u001b[0mnamed_configs\u001b[0m\u001b[1;33m,\u001b[0m\u001b[1;33m\u001b[0m\u001b[0m\n\u001b[1;32m--> 336\u001b[1;33m                                 log_level=loglevel)\n\u001b[0m\u001b[0;32m    337\u001b[0m \u001b[1;33m\u001b[0m\u001b[0m\n\u001b[0;32m    338\u001b[0m     \u001b[1;32mdef\u001b[0m \u001b[0mrun_commandline\u001b[0m\u001b[1;33m(\u001b[0m\u001b[0mself\u001b[0m\u001b[1;33m,\u001b[0m \u001b[0margv\u001b[0m\u001b[1;33m=\u001b[0m\u001b[0mNone\u001b[0m\u001b[1;33m)\u001b[0m\u001b[1;33m:\u001b[0m\u001b[1;33m\u001b[0m\u001b[0m\n",
      "\u001b[1;32m/usr/local/lib/python2.7/dist-packages/sacred/experiment.pyc\u001b[0m in \u001b[0;36mrun_command\u001b[1;34m(self, command_name, config_updates, named_configs_to_use, log_level)\u001b[0m\n\u001b[0;32m    208\u001b[0m         \u001b[0mself\u001b[0m\u001b[1;33m.\u001b[0m\u001b[0mcurrent_run\u001b[0m \u001b[1;33m=\u001b[0m \u001b[0mrun\u001b[0m\u001b[1;33m\u001b[0m\u001b[0m\n\u001b[0;32m    209\u001b[0m         \u001b[0mself\u001b[0m\u001b[1;33m.\u001b[0m\u001b[0mcurrent_run\u001b[0m\u001b[1;33m.\u001b[0m\u001b[0mlogger\u001b[0m\u001b[1;33m.\u001b[0m\u001b[0minfo\u001b[0m\u001b[1;33m(\u001b[0m\u001b[1;34m\"Running command '%s'\"\u001b[0m \u001b[1;33m%\u001b[0m \u001b[0mcommand_name\u001b[0m\u001b[1;33m)\u001b[0m\u001b[1;33m\u001b[0m\u001b[0m\n\u001b[1;32m--> 210\u001b[1;33m         \u001b[0mrun\u001b[0m\u001b[1;33m(\u001b[0m\u001b[1;33m)\u001b[0m\u001b[1;33m\u001b[0m\u001b[0m\n\u001b[0m\u001b[0;32m    211\u001b[0m         \u001b[0mself\u001b[0m\u001b[1;33m.\u001b[0m\u001b[0mcurrent_run\u001b[0m \u001b[1;33m=\u001b[0m \u001b[0mNone\u001b[0m\u001b[1;33m\u001b[0m\u001b[0m\n\u001b[0;32m    212\u001b[0m         \u001b[1;32mreturn\u001b[0m \u001b[0mrun\u001b[0m\u001b[1;33m\u001b[0m\u001b[0m\n",
      "\u001b[1;32m/usr/local/lib/python2.7/dist-packages/sacred/run.pyc\u001b[0m in \u001b[0;36m__call__\u001b[1;34m(self, *args)\u001b[0m\n\u001b[0;32m     53\u001b[0m             \u001b[0mself\u001b[0m\u001b[1;33m.\u001b[0m\u001b[0m_start_heartbeat\u001b[0m\u001b[1;33m(\u001b[0m\u001b[1;33m)\u001b[0m\u001b[1;33m\u001b[0m\u001b[0m\n\u001b[0;32m     54\u001b[0m             \u001b[1;32mtry\u001b[0m\u001b[1;33m:\u001b[0m\u001b[1;33m\u001b[0m\u001b[0m\n\u001b[1;32m---> 55\u001b[1;33m                 \u001b[0mself\u001b[0m\u001b[1;33m.\u001b[0m\u001b[0mresult\u001b[0m \u001b[1;33m=\u001b[0m \u001b[0mself\u001b[0m\u001b[1;33m.\u001b[0m\u001b[0mmain_function\u001b[0m\u001b[1;33m(\u001b[0m\u001b[1;33m*\u001b[0m\u001b[0margs\u001b[0m\u001b[1;33m)\u001b[0m\u001b[1;33m\u001b[0m\u001b[0m\n\u001b[0m\u001b[0;32m     56\u001b[0m                 \u001b[0mself\u001b[0m\u001b[1;33m.\u001b[0m\u001b[0m_stop_heartbeat\u001b[0m\u001b[1;33m(\u001b[0m\u001b[1;33m)\u001b[0m\u001b[1;33m\u001b[0m\u001b[0m\n\u001b[0;32m     57\u001b[0m                 \u001b[0mself\u001b[0m\u001b[1;33m.\u001b[0m\u001b[0m_emit_completed\u001b[0m\u001b[1;33m(\u001b[0m\u001b[0mself\u001b[0m\u001b[1;33m.\u001b[0m\u001b[0mresult\u001b[0m\u001b[1;33m)\u001b[0m\u001b[1;33m\u001b[0m\u001b[0m\n",
      "\u001b[1;32m/usr/local/lib/python2.7/dist-packages/sacred/config/captured_function.pyc\u001b[0m in \u001b[0;36mcaptured_function\u001b[1;34m(wrapped, instance, args, kwargs)\u001b[0m\n\u001b[0;32m     43\u001b[0m     \u001b[0mstart_time\u001b[0m \u001b[1;33m=\u001b[0m \u001b[0mtime\u001b[0m\u001b[1;33m.\u001b[0m\u001b[0mtime\u001b[0m\u001b[1;33m(\u001b[0m\u001b[1;33m)\u001b[0m\u001b[1;33m\u001b[0m\u001b[0m\n\u001b[0;32m     44\u001b[0m     \u001b[1;31m# =================== run actual function =================================\u001b[0m\u001b[1;33m\u001b[0m\u001b[1;33m\u001b[0m\u001b[0m\n\u001b[1;32m---> 45\u001b[1;33m     \u001b[0mresult\u001b[0m \u001b[1;33m=\u001b[0m \u001b[0mwrapped\u001b[0m\u001b[1;33m(\u001b[0m\u001b[1;33m*\u001b[0m\u001b[0margs\u001b[0m\u001b[1;33m,\u001b[0m \u001b[1;33m**\u001b[0m\u001b[0mkwargs\u001b[0m\u001b[1;33m)\u001b[0m\u001b[1;33m\u001b[0m\u001b[0m\n\u001b[0m\u001b[0;32m     46\u001b[0m     \u001b[1;31m# =========================================================================\u001b[0m\u001b[1;33m\u001b[0m\u001b[1;33m\u001b[0m\u001b[0m\n\u001b[0;32m     47\u001b[0m     \u001b[0mstop_time\u001b[0m \u001b[1;33m=\u001b[0m \u001b[0mtime\u001b[0m\u001b[1;33m.\u001b[0m\u001b[0mtime\u001b[0m\u001b[1;33m(\u001b[0m\u001b[1;33m)\u001b[0m\u001b[1;33m\u001b[0m\u001b[0m\n",
      "\u001b[1;32m/home/igor/AL_ECML15/experiments/fit_grid.py\u001b[0m in \u001b[0;36mmain\u001b[1;34m(base_experiment_kwargs, recalculate_experiments, experiment_detailed_name, timeout, seed, force_reload, _log)\u001b[0m\n\u001b[0;32m     82\u001b[0m         \u001b[0mex\u001b[0m\u001b[1;33m.\u001b[0m\u001b[0mlogger\u001b[0m\u001b[1;33m.\u001b[0m\u001b[0merror\u001b[0m\u001b[1;33m(\u001b[0m\u001b[0mtraceback\u001b[0m\u001b[1;33m.\u001b[0m\u001b[0mformat_exc\u001b[0m\u001b[1;33m(\u001b[0m\u001b[1;33m)\u001b[0m\u001b[1;33m)\u001b[0m\u001b[1;33m\u001b[0m\u001b[0m\n\u001b[0;32m     83\u001b[0m         \u001b[0mex\u001b[0m\u001b[1;33m.\u001b[0m\u001b[0mlogger\u001b[0m\u001b[1;33m.\u001b[0m\u001b[0merror\u001b[0m\u001b[1;33m(\u001b[0m\u001b[0msys\u001b[0m\u001b[1;33m.\u001b[0m\u001b[0mexc_info\u001b[0m\u001b[1;33m(\u001b[0m\u001b[1;33m)\u001b[0m\u001b[1;33m[\u001b[0m\u001b[1;36m0\u001b[0m\u001b[1;33m]\u001b[0m\u001b[1;33m)\u001b[0m\u001b[1;33m\u001b[0m\u001b[0m\n\u001b[1;32m---> 84\u001b[1;33m         \u001b[1;32mraise\u001b[0m\u001b[1;33m(\u001b[0m\u001b[0merr\u001b[0m\u001b[1;33m)\u001b[0m\u001b[1;33m\u001b[0m\u001b[0m\n\u001b[0m\u001b[0;32m     85\u001b[0m \u001b[1;33m@\u001b[0m\u001b[0mex\u001b[0m\u001b[1;33m.\u001b[0m\u001b[0mcapture\u001b[0m\u001b[1;33m\u001b[0m\u001b[0m\n\u001b[0;32m     86\u001b[0m \u001b[1;32mdef\u001b[0m \u001b[0msave\u001b[0m\u001b[1;33m(\u001b[0m\u001b[0mresults\u001b[0m\u001b[1;33m,\u001b[0m \u001b[0mexperiment_detailed_name\u001b[0m\u001b[1;33m,\u001b[0m \u001b[0m_config\u001b[0m\u001b[1;33m,\u001b[0m \u001b[0m_log\u001b[0m\u001b[1;33m)\u001b[0m\u001b[1;33m:\u001b[0m\u001b[1;33m\u001b[0m\u001b[0m\n",
      "\u001b[1;31mAssertionError\u001b[0m: Please pass preprocess_fncs"
     ]
    }
   ],
   "source": [
    "twelm_uncertain = run_experiment(\"fit_grid\",\n",
    "                                 recalculate_experiments=False,\n",
    "                                 n_jobs = 8,\n",
    "                                 experiment_detailed_name=\"fit_TWELM_uncertain_%s_%s\" % (protein, fingerprint),\n",
    "                                 base_experiment=\"fit_active_learning\",\n",
    "                                 seed=666,\n",
    "                                 base_experiment_kwargs={\"strategy\": \"uncertainty_sampling\",\n",
    "                                                         \"loader_function\": \"get_splitted_data\",\n",
    "                                                         \"batch_size\": 20,\n",
    "                                                         \"base_model\": \"TWELM\",\n",
    "                                                         \"loader_args\": {\"n_folds\": 2,\n",
    "                                                                         \"seed\": seed},\n",
    "                                                         \"param_grid\": {'C': list(np.logspace(-3,4,7))}})"
   ]
  },
  {
   "cell_type": "code",
   "execution_count": 6,
   "metadata": {
    "collapsed": false
   },
   "outputs": [
    {
     "ename": "AssertionError",
     "evalue": "Please pass preprocess_fncs",
     "output_type": "error",
     "traceback": [
      "\u001b[1;31m---------------------------------------------------------------------------\u001b[0m",
      "\u001b[1;31mAssertionError\u001b[0m                            Traceback (most recent call last)",
      "\u001b[1;32m<ipython-input-6-3ab38a010645>\u001b[0m in \u001b[0;36m<module>\u001b[1;34m()\u001b[0m\n\u001b[0;32m     11\u001b[0m                                                          \"loader_args\": {\"n_folds\": 2,\n\u001b[0;32m     12\u001b[0m                                                                          \"seed\": seed},\n\u001b[1;32m---> 13\u001b[1;33m                                                          \"param_grid\": {'C': list(np.logspace(-3,4,7))}})\n\u001b[0m",
      "\u001b[1;32m/home/igor/AL_ECML15/experiments/experiment_runner.py\u001b[0m in \u001b[0;36mrun_experiment\u001b[1;34m(name, **kwargs)\u001b[0m\n\u001b[0;32m    192\u001b[0m     \u001b[0mex\u001b[0m \u001b[1;33m=\u001b[0m \u001b[0mfind_obj\u001b[0m\u001b[1;33m(\u001b[0m\u001b[0mname\u001b[0m\u001b[1;33m)\u001b[0m\u001b[1;33m\u001b[0m\u001b[0m\n\u001b[0;32m    193\u001b[0m     \u001b[0mex\u001b[0m\u001b[1;33m.\u001b[0m\u001b[0mlogger\u001b[0m \u001b[1;33m=\u001b[0m \u001b[0mget_logger\u001b[0m\u001b[1;33m(\u001b[0m\u001b[0mex\u001b[0m\u001b[1;33m.\u001b[0m\u001b[0mname\u001b[0m\u001b[1;33m)\u001b[0m\u001b[1;33m\u001b[0m\u001b[0m\n\u001b[1;32m--> 194\u001b[1;33m     \u001b[1;32mreturn\u001b[0m \u001b[0mex\u001b[0m\u001b[1;33m.\u001b[0m\u001b[0mrun\u001b[0m\u001b[1;33m(\u001b[0m\u001b[0mconfig_updates\u001b[0m\u001b[1;33m=\u001b[0m\u001b[0mkwargs\u001b[0m\u001b[1;33m)\u001b[0m\u001b[1;33m.\u001b[0m\u001b[0mresult\u001b[0m\u001b[1;33m\u001b[0m\u001b[0m\n\u001b[0m\u001b[0;32m    195\u001b[0m \u001b[1;33m\u001b[0m\u001b[0m\n\u001b[0;32m    196\u001b[0m \u001b[0mkaggle_ninja\u001b[0m\u001b[1;33m.\u001b[0m\u001b[0mregister\u001b[0m\u001b[1;33m(\u001b[0m\u001b[1;34m\"run_experiment\"\u001b[0m\u001b[1;33m,\u001b[0m \u001b[0mrun_experiment\u001b[0m\u001b[1;33m)\u001b[0m\u001b[1;33m\u001b[0m\u001b[0m\n",
      "\u001b[1;32m/usr/local/lib/python2.7/dist-packages/sacred/experiment.pyc\u001b[0m in \u001b[0;36mrun\u001b[1;34m(self, config_updates, named_configs, loglevel)\u001b[0m\n\u001b[0;32m    334\u001b[0m                                 \u001b[0mconfig_updates\u001b[0m\u001b[1;33m=\u001b[0m\u001b[0mconfig_updates\u001b[0m\u001b[1;33m,\u001b[0m\u001b[1;33m\u001b[0m\u001b[0m\n\u001b[0;32m    335\u001b[0m                                 \u001b[0mnamed_configs_to_use\u001b[0m\u001b[1;33m=\u001b[0m\u001b[0mnamed_configs\u001b[0m\u001b[1;33m,\u001b[0m\u001b[1;33m\u001b[0m\u001b[0m\n\u001b[1;32m--> 336\u001b[1;33m                                 log_level=loglevel)\n\u001b[0m\u001b[0;32m    337\u001b[0m \u001b[1;33m\u001b[0m\u001b[0m\n\u001b[0;32m    338\u001b[0m     \u001b[1;32mdef\u001b[0m \u001b[0mrun_commandline\u001b[0m\u001b[1;33m(\u001b[0m\u001b[0mself\u001b[0m\u001b[1;33m,\u001b[0m \u001b[0margv\u001b[0m\u001b[1;33m=\u001b[0m\u001b[0mNone\u001b[0m\u001b[1;33m)\u001b[0m\u001b[1;33m:\u001b[0m\u001b[1;33m\u001b[0m\u001b[0m\n",
      "\u001b[1;32m/usr/local/lib/python2.7/dist-packages/sacred/experiment.pyc\u001b[0m in \u001b[0;36mrun_command\u001b[1;34m(self, command_name, config_updates, named_configs_to_use, log_level)\u001b[0m\n\u001b[0;32m    208\u001b[0m         \u001b[0mself\u001b[0m\u001b[1;33m.\u001b[0m\u001b[0mcurrent_run\u001b[0m \u001b[1;33m=\u001b[0m \u001b[0mrun\u001b[0m\u001b[1;33m\u001b[0m\u001b[0m\n\u001b[0;32m    209\u001b[0m         \u001b[0mself\u001b[0m\u001b[1;33m.\u001b[0m\u001b[0mcurrent_run\u001b[0m\u001b[1;33m.\u001b[0m\u001b[0mlogger\u001b[0m\u001b[1;33m.\u001b[0m\u001b[0minfo\u001b[0m\u001b[1;33m(\u001b[0m\u001b[1;34m\"Running command '%s'\"\u001b[0m \u001b[1;33m%\u001b[0m \u001b[0mcommand_name\u001b[0m\u001b[1;33m)\u001b[0m\u001b[1;33m\u001b[0m\u001b[0m\n\u001b[1;32m--> 210\u001b[1;33m         \u001b[0mrun\u001b[0m\u001b[1;33m(\u001b[0m\u001b[1;33m)\u001b[0m\u001b[1;33m\u001b[0m\u001b[0m\n\u001b[0m\u001b[0;32m    211\u001b[0m         \u001b[0mself\u001b[0m\u001b[1;33m.\u001b[0m\u001b[0mcurrent_run\u001b[0m \u001b[1;33m=\u001b[0m \u001b[0mNone\u001b[0m\u001b[1;33m\u001b[0m\u001b[0m\n\u001b[0;32m    212\u001b[0m         \u001b[1;32mreturn\u001b[0m \u001b[0mrun\u001b[0m\u001b[1;33m\u001b[0m\u001b[0m\n",
      "\u001b[1;32m/usr/local/lib/python2.7/dist-packages/sacred/run.pyc\u001b[0m in \u001b[0;36m__call__\u001b[1;34m(self, *args)\u001b[0m\n\u001b[0;32m     53\u001b[0m             \u001b[0mself\u001b[0m\u001b[1;33m.\u001b[0m\u001b[0m_start_heartbeat\u001b[0m\u001b[1;33m(\u001b[0m\u001b[1;33m)\u001b[0m\u001b[1;33m\u001b[0m\u001b[0m\n\u001b[0;32m     54\u001b[0m             \u001b[1;32mtry\u001b[0m\u001b[1;33m:\u001b[0m\u001b[1;33m\u001b[0m\u001b[0m\n\u001b[1;32m---> 55\u001b[1;33m                 \u001b[0mself\u001b[0m\u001b[1;33m.\u001b[0m\u001b[0mresult\u001b[0m \u001b[1;33m=\u001b[0m \u001b[0mself\u001b[0m\u001b[1;33m.\u001b[0m\u001b[0mmain_function\u001b[0m\u001b[1;33m(\u001b[0m\u001b[1;33m*\u001b[0m\u001b[0margs\u001b[0m\u001b[1;33m)\u001b[0m\u001b[1;33m\u001b[0m\u001b[0m\n\u001b[0m\u001b[0;32m     56\u001b[0m                 \u001b[0mself\u001b[0m\u001b[1;33m.\u001b[0m\u001b[0m_stop_heartbeat\u001b[0m\u001b[1;33m(\u001b[0m\u001b[1;33m)\u001b[0m\u001b[1;33m\u001b[0m\u001b[0m\n\u001b[0;32m     57\u001b[0m                 \u001b[0mself\u001b[0m\u001b[1;33m.\u001b[0m\u001b[0m_emit_completed\u001b[0m\u001b[1;33m(\u001b[0m\u001b[0mself\u001b[0m\u001b[1;33m.\u001b[0m\u001b[0mresult\u001b[0m\u001b[1;33m)\u001b[0m\u001b[1;33m\u001b[0m\u001b[0m\n",
      "\u001b[1;32m/usr/local/lib/python2.7/dist-packages/sacred/config/captured_function.pyc\u001b[0m in \u001b[0;36mcaptured_function\u001b[1;34m(wrapped, instance, args, kwargs)\u001b[0m\n\u001b[0;32m     43\u001b[0m     \u001b[0mstart_time\u001b[0m \u001b[1;33m=\u001b[0m \u001b[0mtime\u001b[0m\u001b[1;33m.\u001b[0m\u001b[0mtime\u001b[0m\u001b[1;33m(\u001b[0m\u001b[1;33m)\u001b[0m\u001b[1;33m\u001b[0m\u001b[0m\n\u001b[0;32m     44\u001b[0m     \u001b[1;31m# =================== run actual function =================================\u001b[0m\u001b[1;33m\u001b[0m\u001b[1;33m\u001b[0m\u001b[0m\n\u001b[1;32m---> 45\u001b[1;33m     \u001b[0mresult\u001b[0m \u001b[1;33m=\u001b[0m \u001b[0mwrapped\u001b[0m\u001b[1;33m(\u001b[0m\u001b[1;33m*\u001b[0m\u001b[0margs\u001b[0m\u001b[1;33m,\u001b[0m \u001b[1;33m**\u001b[0m\u001b[0mkwargs\u001b[0m\u001b[1;33m)\u001b[0m\u001b[1;33m\u001b[0m\u001b[0m\n\u001b[0m\u001b[0;32m     46\u001b[0m     \u001b[1;31m# =========================================================================\u001b[0m\u001b[1;33m\u001b[0m\u001b[1;33m\u001b[0m\u001b[0m\n\u001b[0;32m     47\u001b[0m     \u001b[0mstop_time\u001b[0m \u001b[1;33m=\u001b[0m \u001b[0mtime\u001b[0m\u001b[1;33m.\u001b[0m\u001b[0mtime\u001b[0m\u001b[1;33m(\u001b[0m\u001b[1;33m)\u001b[0m\u001b[1;33m\u001b[0m\u001b[0m\n",
      "\u001b[1;32m/home/igor/AL_ECML15/experiments/fit_grid.py\u001b[0m in \u001b[0;36mmain\u001b[1;34m(base_experiment_kwargs, recalculate_experiments, experiment_detailed_name, timeout, seed, force_reload, _log)\u001b[0m\n\u001b[0;32m     82\u001b[0m         \u001b[0mex\u001b[0m\u001b[1;33m.\u001b[0m\u001b[0mlogger\u001b[0m\u001b[1;33m.\u001b[0m\u001b[0merror\u001b[0m\u001b[1;33m(\u001b[0m\u001b[0mtraceback\u001b[0m\u001b[1;33m.\u001b[0m\u001b[0mformat_exc\u001b[0m\u001b[1;33m(\u001b[0m\u001b[1;33m)\u001b[0m\u001b[1;33m)\u001b[0m\u001b[1;33m\u001b[0m\u001b[0m\n\u001b[0;32m     83\u001b[0m         \u001b[0mex\u001b[0m\u001b[1;33m.\u001b[0m\u001b[0mlogger\u001b[0m\u001b[1;33m.\u001b[0m\u001b[0merror\u001b[0m\u001b[1;33m(\u001b[0m\u001b[0msys\u001b[0m\u001b[1;33m.\u001b[0m\u001b[0mexc_info\u001b[0m\u001b[1;33m(\u001b[0m\u001b[1;33m)\u001b[0m\u001b[1;33m[\u001b[0m\u001b[1;36m0\u001b[0m\u001b[1;33m]\u001b[0m\u001b[1;33m)\u001b[0m\u001b[1;33m\u001b[0m\u001b[0m\n\u001b[1;32m---> 84\u001b[1;33m         \u001b[1;32mraise\u001b[0m\u001b[1;33m(\u001b[0m\u001b[0merr\u001b[0m\u001b[1;33m)\u001b[0m\u001b[1;33m\u001b[0m\u001b[0m\n\u001b[0m\u001b[0;32m     85\u001b[0m \u001b[1;33m@\u001b[0m\u001b[0mex\u001b[0m\u001b[1;33m.\u001b[0m\u001b[0mcapture\u001b[0m\u001b[1;33m\u001b[0m\u001b[0m\n\u001b[0;32m     86\u001b[0m \u001b[1;32mdef\u001b[0m \u001b[0msave\u001b[0m\u001b[1;33m(\u001b[0m\u001b[0mresults\u001b[0m\u001b[1;33m,\u001b[0m \u001b[0mexperiment_detailed_name\u001b[0m\u001b[1;33m,\u001b[0m \u001b[0m_config\u001b[0m\u001b[1;33m,\u001b[0m \u001b[0m_log\u001b[0m\u001b[1;33m)\u001b[0m\u001b[1;33m:\u001b[0m\u001b[1;33m\u001b[0m\u001b[0m\n",
      "\u001b[1;31mAssertionError\u001b[0m: Please pass preprocess_fncs"
     ]
    }
   ],
   "source": [
    "eem_uncertainty = run_experiment(\"fit_grid\",\n",
    "                                 recalculate_experiments=False,\n",
    "                                 n_jobs = 8,\n",
    "                                 experiment_detailed_name=\"fit_EEM_uncertainty_%s_%s\" % (protein, fingerprint),\n",
    "                                 base_experiment=\"fit_active_learning\",\n",
    "                                 seed=666,\n",
    "                                 base_experiment_kwargs={\"strategy\": \"uncertainty_sampling\",\n",
    "                                                         \"loader_function\": \"get_splitted_data\",\n",
    "                                                         \"batch_size\": 20,\n",
    "                                                         \"base_model\": \"EEM\",\n",
    "                                                         \"loader_args\": {\"n_folds\": 2,\n",
    "                                                                         \"seed\": seed},\n",
    "                                                         \"param_grid\": {'C': list(np.logspace(-3,4,7))}})\n"
   ]
  },
  {
   "cell_type": "code",
   "execution_count": null,
   "metadata": {
    "collapsed": false
   },
   "outputs": [],
   "source": [
    "svmtan_uncertainty = run_experiment(\"fit_grid\",\n",
    "                                    recalculate_experiments=False,\n",
    "                                    n_jobs = 8,\n",
    "                                    experiment_detailed_name=\"fit_SVMTAN_uncertainty_%s_%s\" % (protein, fingerprint),\n",
    "                                    base_experiment=\"fit_active_learning\",\n",
    "                                    seed=666,\n",
    "                                    base_experiment_kwargs={\"strategy\": \"uncertainty_sampling\",\n",
    "                                                            \"loader_function\": \"get_splitted_data\",\n",
    "                                                            \"batch_size\": 20,\n",
    "                                                            \"base_model\": \"SVMTAN\",\n",
    "                                                            \"loader_args\": {\"n_folds\": 2,\n",
    "                                                                            \"seed\": seed},\n",
    "                                                            \"param_grid\": {'C': list(np.logspace(-3,4,7))}})"
   ]
  },
  {
   "cell_type": "code",
   "execution_count": null,
   "metadata": {
    "collapsed": false
   },
   "outputs": [],
   "source": [
    "nb_uncertainty = run_experiment(\"fit_grid\",\n",
    "                                recalculate_experiments=False,\n",
    "                                n_jobs = 8,\n",
    "                                experiment_detailed_name=\"fit_NB_uncertainty_%s_%s\" % (protein, fingerprint),\n",
    "                                base_experiment=\"fit_active_learning\",\n",
    "                                seed=666,\n",
    "                                base_experiment_kwargs={\"strategy\": \"uncertainty_sampling\",\n",
    "                                                        \"loader_function\": \"get_splitted_data\",\n",
    "                                                        \"batch_size\": 20,\n",
    "                                                        \"base_model\": \"RandomNB\",\n",
    "                                                        \"loader_args\": {\"n_folds\": 2,\n",
    "                                                                        \"seed\": seed},\n",
    "                                                        \"param_grid\": {'h': list(np.linspace(100,500,5))}})"
   ]
  },
  {
   "cell_type": "code",
   "execution_count": null,
   "metadata": {
    "collapsed": false
   },
   "outputs": [],
   "source": [
    "best_twelm_exp = get_best(twelm_uncertain.experiments, \"auc\")\n",
    "best_eem_exp = get_best(eem_uncertainty.experiments, \"auc\")\n",
    "best_svmtan_exp = get_best(svmtan_uncertainty.experiments, \"auc\")\n",
    "best_nb_exp = get_best(nb_uncertainty.experiments, \"auc\")"
   ]
  },
  {
   "cell_type": "code",
   "execution_count": null,
   "metadata": {
    "collapsed": false
   },
   "outputs": [],
   "source": [
    "plot_monitors([best_twelm_exp, best_eem_exp, best_svmtan_exp, best_nb_exp], folds='mean')"
   ]
  },
  {
   "cell_type": "code",
   "execution_count": null,
   "metadata": {
    "collapsed": true
   },
   "outputs": [],
   "source": [
    "best_twelm_exp = get_best(twelm_uncertain.experiments, \"auc\")"
   ]
  },
  {
   "cell_type": "code",
   "execution_count": null,
   "metadata": {
    "collapsed": false
   },
   "outputs": [],
   "source": [
    "plot_monitors(best_twelm_exp, folds='all', keys='metrics')"
   ]
  },
  {
   "cell_type": "code",
   "execution_count": null,
   "metadata": {
    "collapsed": false
   },
   "outputs": [],
   "source": [
    "plot_monitors(best_twelm_exp, folds='mean', keys='times')"
   ]
  },
  {
   "cell_type": "code",
   "execution_count": null,
   "metadata": {
    "collapsed": false
   },
   "outputs": [],
   "source": [
    "best_twelm_exp.monitors[0].keys()"
   ]
  },
  {
   "cell_type": "code",
   "execution_count": null,
   "metadata": {
    "collapsed": false
   },
   "outputs": [],
   "source": [
    "calc_auc(best_twelm_exp, folds='all')"
   ]
  }
 ],
 "metadata": {
  "kernelspec": {
   "display_name": "Python 2",
   "language": "python",
   "name": "python2"
  },
  "language_info": {
   "codemirror_mode": {
    "name": "ipython",
    "version": 2
   },
   "file_extension": ".py",
   "mimetype": "text/x-python",
   "name": "python",
   "nbconvert_exporter": "python",
   "pygments_lexer": "ipython2",
   "version": "2.7.6"
  }
 },
 "nbformat": 4,
 "nbformat_minor": 0
}
