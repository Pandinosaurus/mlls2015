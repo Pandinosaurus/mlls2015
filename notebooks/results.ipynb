{
 "cells": [
  {
   "cell_type": "code",
   "execution_count": null,
   "metadata": {
    "collapsed": false
   },
   "outputs": [],
   "source": [
    "%load_ext autoreload\n",
    "%autoreload 2\n",
    "%matplotlib inline"
   ]
  },
  {
   "cell_type": "code",
   "execution_count": null,
   "metadata": {
    "collapsed": true
   },
   "outputs": [],
   "source": [
    "import sys, os\n",
    "sys.path.append('..')\n",
    "\n",
    "import numpy as np\n",
    "from sklearn.svm import SVC\n",
    "from sklearn.metrics import accuracy_score\n",
    "from sklearn.grid_search import GridSearchCV\n",
    "from matplotlib import pyplot as plt\n",
    "\n",
    "from get_data import get_data, get_splitted_data\n",
    "from models.active_model import ActiveLearningExperiment\n",
    "from models.strategy import *\n",
    "from models.utils import ObstructedY\n",
    "\n",
    "from misc.config import c\n",
    "data_dir = c[\"DATA_DIR\"]\n",
    "\n",
    "import kaggle_ninja\n",
    "\n",
    "from experiments.experiment_runner import run_experiment, run_experiment_grid\n",
    "import experiments\n",
    "from experiments import experiment_runner, fit_active_learning, fit_grid\n",
    "from experiments.utils import *\n",
    "from models.strategy import cosine_distance_normalized\n",
    "\n",
    "from kaggle_ninja import *"
   ]
  },
  {
   "cell_type": "code",
   "execution_count": null,
   "metadata": {
    "collapsed": false,
    "scrolled": true
   },
   "outputs": [],
   "source": [
    "protein = '5ht6'\n",
    "fingerprint = \"ExtFP\"\n",
    "seed = 666\n",
    "\n",
    "random = run_experiment(\"fit_grid\",\n",
    "                   recalculate_experiments=False,\n",
    "                   n_jobs = 8,\n",
    "                   experiment_detailed_name=\"fit_svm_passive_%s_%s\" % (protein, fingerprint),\n",
    "                   base_experiment=\"fit_active_learning\",\n",
    "                   seed=666,\n",
    "                   base_experiment_kwargs={\"strategy\": \"random_query\",\n",
    "                                           \"loader_function\": \"get_splitted_data\",\n",
    "                                           \"batch_size\": 20,\n",
    "                                           \"base_model\": \"LinearSVC\",\n",
    "                                           \"loader_args\": {\"n_folds\": 2,\n",
    "                                                           \"seed\": seed},\n",
    "                                           \"param_grid\": {'C': list(np.logspace(-3,4,7))},\n",
    "                                           \"base_model_kwargs\": { \"loss\": 'hinge'}})\n",
    "\n",
    "\n",
    "uncertian = run_experiment(\"fit_grid\",\n",
    "                   recalculate_experiments=False,\n",
    "                   n_jobs = 8,\n",
    "                   experiment_detailed_name=\"fit_svm_uncertain_%s_%s\" % (protein, fingerprint),\n",
    "                   base_experiment=\"fit_active_learning\",\n",
    "                   seed=666,\n",
    "                   base_experiment_kwargs={\"strategy\": \"uncertanity_sampling\",\n",
    "                                           \"loader_function\": \"get_splitted_data\",\n",
    "                                           \"batch_size\": 20,\n",
    "                                           \"base_model\": \"LinearSVC\",\n",
    "                                           \"loader_args\": {\"n_folds\": 2,\n",
    "                                                           \"seed\": seed},\n",
    "                                           \"param_grid\": {'C': list(np.logspace(-5,5,10))},\n",
    "                                           \"base_model_kwargs\": { \"loss\": 'hinge'}})"
   ]
  },
  {
   "cell_type": "code",
   "execution_count": null,
   "metadata": {
    "collapsed": false
   },
   "outputs": [],
   "source": [
    "best_random_exp = get_best(random.experiments, \"mean_mcc_valid\")\n",
    "best_uncertain_exp = get_best(uncertian.experiments, \"mean_mcc_valid\")"
   ]
  },
  {
   "cell_type": "code",
   "execution_count": null,
   "metadata": {
    "collapsed": false
   },
   "outputs": [],
   "source": [
    "plot_monitors([best_random_exp, best_uncertain_exp], folds='mean')"
   ]
  },
  {
   "cell_type": "code",
   "execution_count": null,
   "metadata": {
    "collapsed": false
   },
   "outputs": [],
   "source": [
    "calc_auc([best_random_exp, best_uncertain_exp], folds=\"mean\")"
   ]
  },
  {
   "cell_type": "code",
   "execution_count": null,
   "metadata": {
    "collapsed": false
   },
   "outputs": [],
   "source": [
    "protein = '5ht6'\n",
    "fingerprints = [\"ExtFP\"]\n",
    "seed = 666\n",
    "\n",
    "grid_result_greedy = run_experiment(\"fit_grid\",\n",
    "                                        recalculate_experiments=False,\n",
    "                                        n_jobs = 2,\n",
    "                                        experiment_detailed_name=\"fit_svm_greedy_%s_%s\" % (protein, fingerprints),\n",
    "                                        base_experiment=\"fit_active_learning\",\n",
    "                                        seed=666,\n",
    "                                        grid_params = {\"base_model_kwargs:C\": list(np.logspace(-5,5,10)),\n",
    "                                                       \"base_model_kwargs:loss\": ['hinge'],\n",
    "                                                       \"strategy_kwargs:c\": list(np.linspace(0.1, 0.9, 9))},\n",
    "                                        base_experiment_kwargs={\"strategy\": \"quasi_greedy_batch\",\n",
    "                                                           \"loader_function\": \"get_splitted_data\",\n",
    "                                                           \"batch_size\": 20,\n",
    "                                                           \"base_model\": \"LinearSVC\",\n",
    "                                                           \"loader_args\": {\"n_folds\": 2,\n",
    "                                                                           \"seed\": 666}})"
   ]
  },
  {
   "cell_type": "code",
   "execution_count": null,
   "metadata": {
    "collapsed": false
   },
   "outputs": [],
   "source": [
    "best_greedy_exp = get_best(grid_result_greedy.experiments, \"mean_mcc_valid\")"
   ]
  },
  {
   "cell_type": "code",
   "execution_count": null,
   "metadata": {
    "collapsed": false
   },
   "outputs": [],
   "source": [
    "plot_monitors([best_passive_exp, best_uncertain_exp, best_greedy_exp], folds=\"mean\")"
   ]
  },
  {
   "cell_type": "markdown",
   "metadata": {},
   "source": [
    "# Balanced Models"
   ]
  },
  {
   "cell_type": "code",
   "execution_count": null,
   "metadata": {
    "collapsed": true
   },
   "outputs": [],
   "source": [
    "protein = '5ht6'\n",
    "fingerprint = \"ExtFP\"\n",
    "seed = 666"
   ]
  },
  {
   "cell_type": "code",
   "execution_count": null,
   "metadata": {
    "collapsed": false
   },
   "outputs": [],
   "source": [
    "twelm_uncertain = run_experiment(\"fit_grid\",\n",
    "                                 recalculate_experiments=False,\n",
    "                                 n_jobs = 8,\n",
    "                                 experiment_detailed_name=\"fit_TWELM_uncertain_%s_%s\" % (protein, fingerprint),\n",
    "                                 base_experiment=\"fit_active_learning\",\n",
    "                                 seed=666,\n",
    "                                 base_experiment_kwargs={\"strategy\": \"uncertainty_sampling\",\n",
    "                                                         \"loader_function\": \"get_splitted_data\",\n",
    "                                                         \"batch_size\": 20,\n",
    "                                                         \"base_model\": \"TWELM\",\n",
    "                                                         \"loader_args\": {\"n_folds\": 2,\n",
    "                                                                         \"seed\": seed},\n",
    "                                                         \"param_grid\": {'C': list(np.logspace(-3,4,7))}})"
   ]
  },
  {
   "cell_type": "code",
   "execution_count": null,
   "metadata": {
    "collapsed": false
   },
   "outputs": [],
   "source": [
    "eem_uncertainty = run_experiment(\"fit_grid\",\n",
    "                                 recalculate_experiments=False,\n",
    "                                 n_jobs = 8,\n",
    "                                 experiment_detailed_name=\"fit_EEM_uncertainty_%s_%s\" % (protein, fingerprint),\n",
    "                                 base_experiment=\"fit_active_learning\",\n",
    "                                 seed=666,\n",
    "                                 base_experiment_kwargs={\"strategy\": \"uncertainty_sampling\",\n",
    "                                                         \"loader_function\": \"get_splitted_data\",\n",
    "                                                         \"batch_size\": 20,\n",
    "                                                         \"base_model\": \"EEM\",\n",
    "                                                         \"loader_args\": {\"n_folds\": 2,\n",
    "                                                                         \"seed\": seed},\n",
    "                                                         \"param_grid\": {'C': list(np.logspace(-3,4,7))}})\n"
   ]
  },
  {
   "cell_type": "code",
   "execution_count": null,
   "metadata": {
    "collapsed": false
   },
   "outputs": [],
   "source": [
    "svmtan_uncertainty = run_experiment(\"fit_grid\",\n",
    "                                    recalculate_experiments=False,\n",
    "                                    n_jobs = 8,\n",
    "                                    experiment_detailed_name=\"fit_SVMTAN_uncertainty_%s_%s\" % (protein, fingerprint),\n",
    "                                    base_experiment=\"fit_active_learning\",\n",
    "                                    seed=666,\n",
    "                                    base_experiment_kwargs={\"strategy\": \"uncertainty_sampling\",\n",
    "                                                            \"loader_function\": \"get_splitted_data\",\n",
    "                                                            \"batch_size\": 20,\n",
    "                                                            \"base_model\": \"SVMTAN\",\n",
    "                                                            \"loader_args\": {\"n_folds\": 2,\n",
    "                                                                            \"seed\": seed},\n",
    "                                                            \"param_grid\": {'C': list(np.logspace(-3,4,7))}})"
   ]
  },
  {
   "cell_type": "code",
   "execution_count": null,
   "metadata": {
    "collapsed": false
   },
   "outputs": [],
   "source": [
    "nb_uncertainty = run_experiment(\"fit_grid\",\n",
    "                                recalculate_experiments=False,\n",
    "                                n_jobs = 8,\n",
    "                                experiment_detailed_name=\"fit_NB_uncertainty_%s_%s\" % (protein, fingerprint),\n",
    "                                base_experiment=\"fit_active_learning\",\n",
    "                                seed=666,\n",
    "                                base_experiment_kwargs={\"strategy\": \"uncertainty_sampling\",\n",
    "                                                        \"loader_function\": \"get_splitted_data\",\n",
    "                                                        \"batch_size\": 20,\n",
    "                                                        \"base_model\": \"RandomNB\",\n",
    "                                                        \"loader_args\": {\"n_folds\": 2,\n",
    "                                                                        \"seed\": seed},\n",
    "                                                        \"param_grid\": {'h': list(np.linspace(100,500,5))}})"
   ]
  },
  {
   "cell_type": "code",
   "execution_count": null,
   "metadata": {
    "collapsed": true
   },
   "outputs": [],
   "source": [
    "best_greedy_exp = get_best(grid_result_greedy.experiments, \"mean_wac_valid\")"
   ]
  }
 ],
 "metadata": {
  "kernelspec": {
   "display_name": "Python 2",
   "language": "python",
   "name": "python2"
  },
  "language_info": {
   "codemirror_mode": {
    "name": "ipython",
    "version": 2
   },
   "file_extension": ".py",
   "mimetype": "text/x-python",
   "name": "python",
   "nbconvert_exporter": "python",
   "pygments_lexer": "ipython2",
   "version": "2.7.6"
  }
 },
 "nbformat": 4,
 "nbformat_minor": 0
}
