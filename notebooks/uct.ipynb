{
 "cells": [
  {
   "cell_type": "markdown",
   "metadata": {},
   "source": [
    "## Draft of UCT for active learning strategy"
   ]
  },
  {
   "cell_type": "code",
   "execution_count": 34,
   "metadata": {
    "collapsed": false
   },
   "outputs": [
    {
     "name": "stdout",
     "output_type": "stream",
     "text": [
      "The autoreload extension is already loaded. To reload it, use:\n",
      "  %reload_ext autoreload\n"
     ]
    }
   ],
   "source": [
    "%load_ext autoreload\n",
    "%autoreload 2\n",
    "import sys\n",
    "sys.path.insert(0, \"/lhome/home/jastrzebski/mlls2015/\")\n",
    "import misc\n",
    "from collections import defaultdict\n",
    "import copy, math, sys\n",
    "import numpy as np\n",
    "from collections import namedtuple\n",
    "import copy\n",
    "from sklearn.utils import check_random_state\n",
    "import sys\n",
    "sys.path.append(\"..\")\n",
    "from misc.config import *\n",
    "from misc.utils import *\n",
    "config_log_to_file(\"uct_circle_and_cross.log\", level=logging.INFO)\n",
    "logger = logging.getLogger(\"uct_circle_and_cross\")\n",
    "import time, random\n",
    "from functools import partial\n",
    "import models\n",
    "import seaborn\n",
    "from models.uct import *\n",
    "import matplotlib.pylab as plt\n",
    "%matplotlib inline\n",
    "import sklearn\n",
    "from sklearn.cluster import KMeans\n",
    "from sklearn.linear_model import Perceptron\n",
    "from alpy.utils import mask_unknowns, unmasked_indices, masked_indices\n",
    "from alpy_addons.strategy import *\n",
    "from sklearn.metrics import pairwise_distances\n",
    "from copy import deepcopy\n",
    "def normalized_euclidean_pairwise_distances(X):\n",
    "    \"\"\" d(i, j) = ||xi - xj||/max(||xk - xl||)\"\"\"\n",
    "    D = pairwise_distances(X, metric=\"euclidean\")\n",
    "    return D / D.max()\n",
    "\n",
    "def exponential_pairwise_distances(x1, x2):\n",
    "    \"\"\" d(i, j) = exp(-||xi - xj||)\"\"\"\n",
    "    D = pairwise_distances(X, metric=\"euclidean\")\n",
    "    return 1 - np.exp(-D)"
   ]
  },
  {
   "cell_type": "markdown",
   "metadata": {},
   "source": [
    "# Data generation"
   ]
  },
  {
   "cell_type": "code",
   "execution_count": null,
   "metadata": {
    "collapsed": false
   },
   "outputs": [],
   "source": [
    "def gauss_sample(N, K, D=2):\n",
    "    mean = np.random.uniform(-10,10, size=(N,D))\n",
    "    dev = np.random.uniform(0.1, 2, size=(N,))\n",
    "    size = np.random.uniform(0.5*K, 1.5*K, size=(N,))\n",
    "    X = []\n",
    "    for m,d,s in zip(mean, dev,size):\n",
    "        X.append(np.random.normal(m, d, size=(K,D)))\n",
    "    return np.vstack(X)\n",
    "\n",
    "### Sample some data from multivariate gauss distribution ###\n",
    "X = gauss_sample(5, 100, 2)\n",
    "m = KMeans(n_clusters=10).fit_predict(X)\n",
    "hyperplane = np.random.uniform(0,1,size=(3,))\n",
    "y = np.array([hyperplane[0:2].dot(p.reshape(-1,1)) + hyperplane[2] >= 0 for p in X]).reshape(-1)\n",
    "samples = np.random.choice(range(X.shape[0]), 100)\n",
    "y = mask_unknowns(y, range(len(y)))\n",
    "# Unmask part of data\n",
    "y[samples] = y.data[samples] \n",
    "\n",
    "### Plot imperfect Perceptron and additionally coloured clusters of data ###\n",
    "# 'x' are 1s and 'o' are 0s\n",
    "\n",
    "m = KMeans(n_clusters=10).fit_predict(X)\n",
    "model = Perceptron().fit(X[samples], y[samples]) \n",
    "plt.figure(figsize=(10,10))\n",
    "\n",
    "\n",
    "# Plot the decision boundary. For that, we will assign a color to each\n",
    "h = 0.1\n",
    "x_min, x_max = X[:, 0].min() + 1, X[:, 0].max() - 1\n",
    "y_min, y_max = X[:, 1].min() + 1, X[:, 1].max() - 1\n",
    "xx, yy = np.meshgrid(np.arange(x_min, x_max, h), np.arange(y_min, y_max, h))\n",
    "\n",
    "# Obtain labels for each point in mesh. Use last trained model.\n",
    "Z = model.predict(np.c_[xx.ravel(), yy.ravel()])\n",
    "\n",
    "# Put the result into a color plot\n",
    "Z = Z.reshape(xx.shape)\n",
    "plt.imshow(Z, interpolation='nearest',\n",
    "           extent=(xx.min(), xx.max(), yy.min(), yy.max()),\n",
    "           cmap=plt.cm.Paired,\n",
    "           aspect='auto', origin='lower')\n",
    "\n",
    "# True example labels\n",
    "for mark, cls in zip(['o','x'], [0,1]):\n",
    "    plt.scatter(X[y==cls, 0], X[y==cls, 1],s=50,c = m[y==cls], marker=mark)"
   ]
  },
  {
   "cell_type": "markdown",
   "metadata": {},
   "source": [
    "# Using UCT for optimization"
   ]
  },
  {
   "cell_type": "code",
   "execution_count": null,
   "metadata": {
    "collapsed": false
   },
   "outputs": [],
   "source": [
    "distance_cache = normalized_euclidean_pairwise_distances(X)\n",
    "model = Perceptron().fit(X[unmasked_indices(y)], y[unmasked_indices(y)])\n",
    "batch_size = 20\n",
    "c = 0.3\n",
    "rng = 777\n",
    "base_strategy = UncertaintySampling()\n",
    "scorer = QuasiGreedyBatchScorer(X, y, distance_cache=distance_cache, base_strategy=base_strategy, \\\n",
    "                                model=model, c=c, rng=rng, batch_size=batch_size)\n",
    "game = UCTStrategyOptimizer(rng=777, X=X, y=y, scorer=scorer, batch_size=batch_size)"
   ]
  },
  {
   "cell_type": "code",
   "execution_count": null,
   "metadata": {
    "collapsed": false,
    "scrolled": true
   },
   "outputs": [],
   "source": [
    "\n",
    "strategy = QuasiGreedyBatch(distance_cache=distance_cache, c=c)\n",
    "qgb_solution = strategy(X, y, rng=np.random.RandomState(777), \n",
    "                               model=model, batch_size=20, return_score=False)\n",
    "def uqgb_strategy(N=2000):\n",
    "    state = {\"ids\": []}\n",
    "    for i in range(batch_size):\n",
    "        uct = UCT(N=N, game=game, policy=ucb_policy, progressive_widening=False)\n",
    "        uct.partial_fit(state, N=N)\n",
    "        state = uct.best_path_[1].state # Next after root\n",
    "        assert len(state['ids'])== i+1\n",
    "    return state['ids']\n",
    "\n",
    "uqgb_solution = uqgb_strategy(N=100)\n",
    "assert len(uqgb_solution) == batch_size\n",
    "print \"QGB (n_tries=1) \", scorer(qgb_solution)\n",
    "print \"UCT: \", scorer(uqgb_solution)"
   ]
  },
  {
   "cell_type": "code",
   "execution_count": null,
   "metadata": {
    "collapsed": false
   },
   "outputs": [],
   "source": [
    "scores = []\n",
    "Ns = []\n",
    "for N in np.linspace(50, 5000, 15):\n",
    "    Ns.append(N)\n",
    "    scores.append(scorer(uqgb_strategy(N=int(N))))\n",
    "    print scores, N"
   ]
  },
  {
   "cell_type": "code",
   "execution_count": null,
   "metadata": {
    "collapsed": false
   },
   "outputs": [],
   "source": [
    "plt.plot(scores, label=\"UCT QGB score\")\n",
    "plt.xlabel(\"N\")\n",
    "plt.ylabel(\"score\")\n",
    "plt.plot([scorer(qgb_solution) for _ in range(len(scores))], label=\"QGB score\")\n",
    "plt.legend()"
   ]
  },
  {
   "cell_type": "code",
   "execution_count": null,
   "metadata": {
    "collapsed": true
   },
   "outputs": [],
   "source": []
  }
 ],
 "metadata": {
  "kernelspec": {
   "display_name": "Python 2",
   "language": "python",
   "name": "python2"
  },
  "language_info": {
   "codemirror_mode": {
    "name": "ipython",
    "version": 2
   },
   "file_extension": ".py",
   "mimetype": "text/x-python",
   "name": "python",
   "nbconvert_exporter": "python",
   "pygments_lexer": "ipython2",
   "version": "2.7.11"
  }
 },
 "nbformat": 4,
 "nbformat_minor": 0
}
