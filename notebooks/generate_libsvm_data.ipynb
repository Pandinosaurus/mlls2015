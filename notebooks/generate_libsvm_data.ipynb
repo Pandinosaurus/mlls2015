{
 "cells": [
  {
   "cell_type": "code",
   "execution_count": null,
   "metadata": {
    "collapsed": false
   },
   "outputs": [],
   "source": [
    "import numpy as np\n",
    "import os\n",
    "import pdb\n",
    "import traceback\n",
    "\n",
    "from sklearn.svm import SVC\n",
    "from sklearn.datasets import dump_svmlight_file\n",
    "\n",
    "BASE_DIR = os.path.join(\"/var/data/users/sieradzki/mlls\")\n",
    "DATA_DIR = os.environ.get(\"MLLS_DATA_DIR\", os.path.join(BASE_DIR, \"data\"))\n",
    "CACHE_DIR = os.environ.get(\"MLLS_CACHE_DIR\", os.path.join(BASE_DIR, \"cache\"))\n",
    "RESULTS_DIR = os.environ.get(\"MLLS_RESULTS_DIR\", os.path.join(BASE_DIR, \"results\"))\n",
    "LOG_DIR = os.environ.get(\"MLLS_LOG_DIR\", os.path.join(BASE_DIR, \"log\"))\n",
    "\n",
    "MACCS_SIZE = 161"
   ]
  },
  {
   "cell_type": "code",
   "execution_count": null,
   "metadata": {
    "collapsed": false
   },
   "outputs": [],
   "source": [
    "active_files = filter(lambda x: \"_actives\" in x, os.listdir(os.path.join(DATA_DIR, \"orig\")))\n",
    "n = len(active_files)\n",
    "\n",
    "for i, active_file in enumerate(active_files):\n",
    "\n",
    "    X = []\n",
    "    y = []\n",
    "\n",
    "    # read actives\n",
    "    with open(os.path.join(DATA_DIR, \"orig\", active_file), 'r') as f:\n",
    "        active_content = f.read()\n",
    "\n",
    "    # process actives\n",
    "    for line in active_content.splitlines():\n",
    "        X.append(line.split(\":\")[1].split(','))\n",
    "        y.append(1)\n",
    "        assert len(X[-1]) == MACCS_SIZE, len(X[-1])\n",
    "\n",
    "    # read inactives\n",
    "    inactive_file_name = active_file.split(\"_\")[0] + \"_inactives_\" + \"_\".join(active_file.split(\"_\")[-3:])\n",
    "    inactive_file = os.path.join(DATA_DIR, \"orig\", inactive_file_name)\n",
    "\n",
    "    assert os.path.exists(inactive_file), inactive_file\n",
    "    with open(inactive_file, 'r') as f:\n",
    "        inactive_content = f.read()\n",
    "\n",
    "    # process inactives\n",
    "    for line in inactive_content.splitlines():\n",
    "        X.append(line.split(\":\")[1].split(','))\n",
    "        y.append(0)\n",
    "        assert len(X[-1]) == MACCS_SIZE, len(X[-1])\n",
    "\n",
    "    # checks\n",
    "    n_lines = len(active_content.splitlines()) + len(inactive_content.splitlines())\n",
    "    assert len(X) == n_lines\n",
    "\n",
    "    # make arrays\n",
    "    X = np.array(X, dtype=int)\n",
    "    y = np.array(y, dtype=int)\n",
    "\n",
    "    # more chekcs\n",
    "    assert X.shape[0] == y.shape[0] == n_lines\n",
    "    assert X.shape[1] == MACCS_SIZE\n",
    "\n",
    "    # dump libsvm file\n",
    "    dump_file_name = active_file.split(\"_\")[0] + \"_MACCS.libsvm\"\n",
    "    with open(os.path.join(DATA_DIR, \"new_maccs\", dump_file_name), 'wb') as f:\n",
    "        dump_svmlight_file(X, y, f, zero_based=True)\n",
    "\n",
    "    print \"Done: %d/%d\" % (i+1, n)"
   ]
  },
  {
   "cell_type": "code",
   "execution_count": null,
   "metadata": {
    "collapsed": false
   },
   "outputs": [],
   "source": [
    "# check saved files\n",
    "new_files = os.listdir(os.path.join(DATA_DIR, \"new_maccs\"))\n",
    "for i, new_file in enumerate(new_files):\n",
    "    X, y = load_svmlight_file(os.path.join(DATA_DIR, \"new_maccs\", new_file), zero_based=True)\n",
    "    \n",
    "    assert X.shape[0] == y.shape[0]\n",
    "    assert X.shape[1] == MACCS_SIZE, X.shape[1]"
   ]
  }
 ],
 "metadata": {
  "kernelspec": {
   "display_name": "Python 2",
   "language": "python",
   "name": "python2"
  },
  "language_info": {
   "codemirror_mode": {
    "name": "ipython",
    "version": 2
   },
   "file_extension": ".py",
   "mimetype": "text/x-python",
   "name": "python",
   "nbconvert_exporter": "python",
   "pygments_lexer": "ipython2",
   "version": "2.7.11"
  }
 },
 "nbformat": 4,
 "nbformat_minor": 0
}
