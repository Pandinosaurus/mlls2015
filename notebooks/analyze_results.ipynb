{
 "cells": [
  {
   "cell_type": "code",
   "execution_count": null,
   "metadata": {
    "collapsed": false
   },
   "outputs": [],
   "source": [
    "%matplotlib inline\n",
    "%load_ext autoreload\n",
    "%autoreload 2"
   ]
  },
  {
   "cell_type": "code",
   "execution_count": null,
   "metadata": {
    "collapsed": false
   },
   "outputs": [],
   "source": [
    "import os\n",
    "from experiments.analyze import *\n",
    "import json\n",
    "import cPickle\n",
    "import gzip\n",
    "import seaborn\n",
    "import pdb\n",
    "import numpy as np\n",
    "\n",
    "RESULTS_DIR = os.environ.get(\"MLLS_RESULTS_DIR\", None)"
   ]
  },
  {
   "cell_type": "markdown",
   "metadata": {},
   "source": [
    "### Draw score curves\n",
    "Check if they converge to the same value"
   ]
  },
  {
   "cell_type": "code",
   "execution_count": null,
   "metadata": {
    "collapsed": false
   },
   "outputs": [],
   "source": [
    "results_dir = os.path.join(RESULTS_DIR, \"Klek\")\n",
    "plot_curves(results_dir, 'wac_score_valid_score', best_param_metric='wac_score_valid_aleph_score_auc')"
   ]
  },
  {
   "cell_type": "markdown",
   "metadata": {},
   "source": [
    "### Draw pie charts for comparing iteration times depending on strategy\n",
    "\\*Without CSJ at the moment (different directory)"
   ]
  },
  {
   "cell_type": "code",
   "execution_count": null,
   "metadata": {
    "collapsed": false
   },
   "outputs": [],
   "source": [
    "results_dir = os.path.join(RESULTS_DIR, \"Pubchem\",\"SVM-all\")\n",
    "strategies = ['UncertaintySampling', 'PassiveStrategy', 'QuasiGreedyBatch', 'QueryByBagging']\n",
    "plot_time_pie_charts(results_dir, strategies)"
   ]
  },
  {
   "cell_type": "markdown",
   "metadata": {
    "collapsed": false
   },
   "source": [
    "### Check for extreme params in AdaptiveGridSearchCV\n",
    "Checks al results in given directory"
   ]
  },
  {
   "cell_type": "code",
   "execution_count": null,
   "metadata": {
    "collapsed": false
   },
   "outputs": [],
   "source": [
    "results_dir = os.path.join(RESULTS_DIR, \"SVM-all\")\n",
    "check_extreme_params(results_dir)"
   ]
  },
  {
   "cell_type": "markdown",
   "metadata": {},
   "source": [
    "### Comapre results of texperiments with the same parameters\n",
    "Will throw AssertionError if they differ"
   ]
  },
  {
   "cell_type": "code",
   "execution_count": null,
   "metadata": {
    "collapsed": false
   },
   "outputs": [],
   "source": [
    "exp_file = os.path.join(RESULTS_DIR, \"csj-copy\", \"SVM-csj-0.3\", \"1983264411906704968.json\")\n",
    "results_dir = os.path.join(RESULTS_DIR, \"SVM-csj-0.3\")\n",
    "compare_json_results(exp_file, results_dir)"
   ]
  }
 ],
 "metadata": {
  "kernelspec": {
   "display_name": "Python 2",
   "language": "python",
   "name": "python2"
  },
  "language_info": {
   "codemirror_mode": {
    "name": "ipython",
    "version": 2
   },
   "file_extension": ".py",
   "mimetype": "text/x-python",
   "name": "python",
   "nbconvert_exporter": "python",
   "pygments_lexer": "ipython2",
   "version": "2.7.11"
  }
 },
 "nbformat": 4,
 "nbformat_minor": 0
}
