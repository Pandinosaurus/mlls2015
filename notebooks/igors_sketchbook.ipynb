{
 "cells": [
  {
   "cell_type": "code",
   "execution_count": null,
   "metadata": {
    "collapsed": false
   },
   "outputs": [],
   "source": [
    "%load_ext autoreload\n",
    "%autoreload 2"
   ]
  },
  {
   "cell_type": "code",
   "execution_count": null,
   "metadata": {
    "collapsed": false
   },
   "outputs": [],
   "source": [
    "import sys, os\n",
    "sys.path.append('..')\n",
    "\n",
    "import numpy as np\n",
    "from sklearn.linear_model import SGDClassifier\n",
    "from sklearn.metrics import accuracy_score\n",
    "from sklearn.grid_search import GridSearchCV\n",
    "\n",
    "from get_data import get_data, get_splitted_data, proteins, _get_raw_data\n",
    "from models.active_model import ActiveLearningExperiment\n",
    "from models.strategy import *\n",
    "from models.utils import ObstructedY\n",
    "from experiments.utils import *\n",
    "\n",
    "from misc.config import c"
   ]
  },
  {
   "cell_type": "code",
   "execution_count": null,
   "metadata": {
    "collapsed": false
   },
   "outputs": [],
   "source": [
    "from sklearn.metrics import auc"
   ]
  },
  {
   "cell_type": "code",
   "execution_count": null,
   "metadata": {
    "collapsed": false
   },
   "outputs": [],
   "source": [
    "from get_data import _generate_fold_indices"
   ]
  },
  {
   "cell_type": "code",
   "execution_count": null,
   "metadata": {
    "collapsed": false
   },
   "outputs": [],
   "source": [
    "from experiments.experiment_runner import run_experiment\n",
    "from experiments import fit_grid\n",
    "import numpy as np\n",
    "\n",
    "protein = '5ht6'\n",
    "fingerprint = \"ExtFP\"\n",
    "seed = 666\n",
    "warm_start_percentage = 0.05\n",
    "batch_size = 20\n",
    "param_grid = {'h': [100]}\n",
    "\n",
    "loader = [\"get_splitted_data\", {\n",
    "    \"seed\": seed,\n",
    "    \"valid_size\": 0.15,\n",
    "    \"n_folds\": 2,\n",
    "    'percent': 0.5}]\n",
    "\n",
    "strategy = ('random_query', {})\n",
    "preprocess_fncs = []\n",
    "\n",
    "randomNB_exp = run_experiment(\"fit_grid\",\n",
    "                              recalculate_experiments=False,\n",
    "                              n_jobs=4,\n",
    "                              experiment_detailed_name=\"fit_randomNB_%s_%s_%s\" % (strategy[0], protein, fingerprint),\n",
    "                              base_experiment=\"fit_active_learning\",\n",
    "                              seed=seed,\n",
    "                              grid_params=strategy[1],\n",
    "                              base_experiment_kwargs={\"strategy\": strategy[0],\n",
    "                                                      \"preprocess_fncs\": preprocess_fncs,\n",
    "                                                      \"protein\": protein,\n",
    "                                                      \"fingerprint\": fingerprint,\n",
    "                                                      \"warm_start_percentage\": warm_start_percentage,\n",
    "                                                      \"batch_size\": batch_size,\n",
    "                                                      \"base_model\": \"RandomNB\",\n",
    "                                                      \"loader_function\": loader[0],\n",
    "                                                      \"loader_args\": loader[1],\n",
    "                                                      \"param_grid\": param_grid})\n"
   ]
  },
  {
   "cell_type": "code",
   "execution_count": null,
   "metadata": {
    "collapsed": false
   },
   "outputs": [],
   "source": [
    "best = get_best(randomNB_exp.experiments, 'mean_wac_score')"
   ]
  },
  {
   "cell_type": "code",
   "execution_count": null,
   "metadata": {
    "collapsed": false
   },
   "outputs": [],
   "source": [
    "for k, v in best.results.iteritems():\n",
    "    if 'auc_mean_wac' in k:\n",
    "        print k, v"
   ]
  },
  {
   "cell_type": "code",
   "execution_count": null,
   "metadata": {
    "collapsed": false
   },
   "outputs": [],
   "source": [
    "for k, v in best.results.iteritems():\n",
    "    if 'auc_wac' in k:\n",
    "        print k, v"
   ]
  },
  {
   "cell_type": "code",
   "execution_count": null,
   "metadata": {
    "collapsed": false
   },
   "outputs": [],
   "source": [
    "for protein in proteins:\n",
    "    _, y = _get_raw_data(protein, \"ExtFP\")\n",
    "    print protein, y.shape[0]"
   ]
  },
  {
   "cell_type": "code",
   "execution_count": null,
   "metadata": {
    "collapsed": false
   },
   "outputs": [],
   "source": [
    "\n",
    "loader = [\"get_splitted_data_clusterwise\", {\n",
    "        \"seed\": 666,\n",
    "        \"valid_size\": 0.15,\n",
    "        \"n_folds\": 1}]\n",
    "preprocess_fncs = [[\"to_binary\", {\"all_below\": True}]]\n",
    "comps = [(p, 'ExtFP') for p in proteins]\n",
    "    \n",
    "data = get_data(comps, loader, preprocess_fncs)"
   ]
  },
  {
   "cell_type": "code",
   "execution_count": null,
   "metadata": {
    "collapsed": false
   },
   "outputs": [],
   "source": [
    "for key, value in data.iteritems():\n",
    "    print key\n",
    "    fold = value[0][0]\n",
    "    print \"train data\", fold['X_train']['data'].shape[0]\n",
    "    print \"valid data\", fold['X_valid']['data'].shape[0]\n",
    "    print \"A\", len(fold['X_train']['cluster_A'])\n",
    "    print \"B\", len(fold['X_train']['cluster_B'])\n",
    "    print \n"
   ]
  }
 ],
 "metadata": {
  "kernelspec": {
   "display_name": "Python 2",
   "language": "python",
   "name": "python2"
  },
  "language_info": {
   "codemirror_mode": {
    "name": "ipython",
    "version": 2
   },
   "file_extension": ".py",
   "mimetype": "text/x-python",
   "name": "python",
   "nbconvert_exporter": "python",
   "pygments_lexer": "ipython2",
   "version": "2.7.6"
  }
 },
 "nbformat": 4,
 "nbformat_minor": 0
}
