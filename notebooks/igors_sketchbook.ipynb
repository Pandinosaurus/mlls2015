{
 "cells": [
  {
   "cell_type": "code",
   "execution_count": null,
   "metadata": {
    "collapsed": false
   },
   "outputs": [],
   "source": [
    "%load_ext autoreload\n",
    "%autoreload 2"
   ]
  },
  {
   "cell_type": "code",
   "execution_count": null,
   "metadata": {
    "collapsed": false
   },
   "outputs": [],
   "source": [
    "import sys, os\n",
    "sys.path.append('..')\n",
    "\n",
    "import numpy as np\n",
    "from sklearn.linear_model import SGDClassifier\n",
    "from sklearn.metrics import accuracy_score\n",
    "from sklearn.grid_search import GridSearchCV\n",
    "\n",
    "from get_data import get_data, get_splitted_data\n",
    "from models.active_model import ActiveLearningExperiment\n",
    "from models.strategy import *\n",
    "from models.utils import ObstructedY\n",
    "\n",
    "from misc.config import c\n",
    "data_dir = c[\"DATA_DIR\"]"
   ]
  },
  {
   "cell_type": "code",
   "execution_count": null,
   "metadata": {
    "collapsed": false
   },
   "outputs": [],
   "source": [
    "seed = 666\n",
    "strategy_args = {'batch_size': 10, 'seed': seed}\n",
    "comp = [['5ht7', 'ExtFP']]\n",
    "loader = [\"get_splitted_data\",\n",
    "          {\"n_folds\": 2,\n",
    "           \"seed\":666,\n",
    "           \"test_size\":0.0}]\n",
    "preprocess_fncs = []\n",
    "\n",
    "sgd = SGDClassifier(random_state=seed, alpha=1)\n",
    "model = ActiveModel(strategy=random_query, base_model=sgd)\n",
    "\n",
    "folds, test_data, data_desc = get_data(comp, loader, preprocess_fncs).values()[0]\n",
    "print data_desc\n",
    "X = folds[0]['X_train']\n",
    "y = ObstructedY(folds[0]['Y_train'])\n",
    "\n",
    "X_test = folds[0]['X_valid']\n",
    "y_test = folds[0]['Y_valid']\n",
    "model.fit(X, y, strategy_args=strategy_args)\n",
    "p = model.predict(X_test)\n",
    "accuracy_score(p, y_test)"
   ]
  },
  {
   "cell_type": "code",
   "execution_count": null,
   "metadata": {
    "collapsed": false
   },
   "outputs": [],
   "source": [
    "seed = 666\n",
    "strategy_args = {'batch_size': 10, 'method': 'simple', 'seed': seed}\n",
    "comp = [['5ht7', 'ExtFP']]\n",
    "loader = [\"get_splitted_data\",\n",
    "          {\"n_folds\": 2,\n",
    "           \"seed\":666,\n",
    "           \"test_size\":0.0}]\n",
    "preprocess_fncs = []\n",
    "\n",
    "folds, test_data, data_desc = get_data(comp, loader, preprocess_fncs).values()[0]\n",
    "print data_desc\n",
    "X = folds[0]['X_train']\n",
    "y = ObstructedY(folds[0]['Y_train'])\n",
    "\n",
    "X_test = folds[0]['X_valid']\n",
    "y_test = folds[0]['Y_valid']\n",
    "svm = SVC(C=0.01, kernel='linear')\n",
    "sgd = SGDClassifier(random_state=seed, alpha=1)\n",
    "model = ActiveModel(strategy=uncertainty_sampling, base_model=svm)\n",
    "\n",
    "model.fit(X, y, strategy_args=strategy_args)\n",
    "p = model.predict(X_test)\n",
    "accuracy_score(p, y_test)"
   ]
  },
  {
   "cell_type": "code",
   "execution_count": null,
   "metadata": {
    "collapsed": false
   },
   "outputs": [],
   "source": [
    "from sklearn.svm import SVC\n",
    "\n",
    "X = folds[0]['X_train']\n",
    "y = ObstructedY(folds[0]['Y_train'])\n",
    "\n",
    "X_test = folds[0]['X_valid']\n",
    "y_test = folds[0]['Y_valid']\n",
    "\n",
    "svm = SVC(C=0.01, kernel='linear', probability=True)\n",
    "\n",
    "seed = 666\n",
    "strategy_args = {'batch_size': 10, 'seed': seed, 'method': 'entropy'}\n",
    "comp = [['5ht7', 'ExtFP']]\n",
    "loader = [\"get_splitted_data\",\n",
    "          {\"n_folds\": 2,\n",
    "           \"seed\":666,\n",
    "           \"test_size\":0.0}]\n",
    "preprocess_fncs = []\n",
    "\n",
    "model = ActiveModel(strategy=uncertainty_sampling, base_model=svm)\n",
    "model.fit(X, y, strategy_args=strategy_args)\n",
    "p = model.predict(X_test)\n",
    "accuracy_score(p, y_test)"
   ]
  },
  {
   "cell_type": "code",
   "execution_count": null,
   "metadata": {
    "collapsed": false
   },
   "outputs": [],
   "source": [
    "X = folds[0]['X_train']\n",
    "y = ObstructedY(folds[0]['Y_train'])\n",
    "\n",
    "X_test = folds[0]['X_valid']\n",
    "y_test = folds[0]['Y_valid']\n",
    "\n",
    "svm = SVC(C=0.01, kernel='linear')\n",
    "\n",
    "seed = 666\n",
    "strategy_args = {'batch_size': 10, 'seed': seed, 'method': 'entropy', 'n_bags': 5}\n",
    "comp = [['5ht7', 'ExtFP']]\n",
    "loader = [\"get_splitted_data\",\n",
    "          {\"n_folds\": 2,\n",
    "           \"seed\":666,\n",
    "           \"test_size\":0.0}]\n",
    "preprocess_fncs = []\n",
    "\n",
    "model = ActiveModel(strategy=query_by_bagging, base_model=svm)\n",
    "model.fit(X, y, strategy_args=strategy_args)\n",
    "p = model.predict(X_test)\n",
    "accuracy_score(p, y_test)"
   ]
  },
  {
   "cell_type": "code",
   "execution_count": null,
   "metadata": {
    "collapsed": false
   },
   "outputs": [],
   "source": [
    "X = folds[0]['X_train']\n",
    "y = ObstructedY(folds[0]['Y_train'])\n",
    "\n",
    "X_test = folds[0]['X_valid']\n",
    "y_test = folds[0]['Y_valid']\n",
    "\n",
    "svm = SVC(C=0.01, kernel='linear', probability=True)\n",
    "\n",
    "seed = 666\n",
    "strategy_args = {'batch_size': 10, 'seed': seed, 'method': 'KL', 'n_bags': 5}\n",
    "comp = [['5ht7', 'ExtFP']]\n",
    "loader = [\"get_splitted_data\",\n",
    "          {\"n_folds\": 2,\n",
    "           \"seed\":666,\n",
    "           \"test_size\":0.0}]\n",
    "preprocess_fncs = []\n",
    "\n",
    "model = ActiveModel(strategy=query_by_bagging, base_model=svm)\n",
    "model.fit(X, y, strategy_args=strategy_args)\n",
    "p = model.predict(X_test)\n",
    "accuracy_score(p, y_test)"
   ]
  },
  {
   "cell_type": "code",
   "execution_count": null,
   "metadata": {
    "collapsed": false
   },
   "outputs": [],
   "source": [
    "p = np.array([clf.predict_proba(X_test) for clf in bc.estimators_])"
   ]
  },
  {
   "cell_type": "code",
   "execution_count": null,
   "metadata": {
    "collapsed": false
   },
   "outputs": [],
   "source": [
    "print p.shape\n",
    "(p / pc).shape"
   ]
  },
  {
   "cell_type": "code",
   "execution_count": null,
   "metadata": {
    "collapsed": false
   },
   "outputs": [],
   "source": [
    "a = np.arange(6).reshape(3,2)\n",
    "b = 2 * np.ones(6).reshape(3,2)\n",
    "a/b"
   ]
  },
  {
   "cell_type": "code",
   "execution_count": null,
   "metadata": {
    "collapsed": false
   },
   "outputs": [],
   "source": [
    "np.mean(np.sum(p * np.log(p / pc), axis=2), axis=0).shape"
   ]
  },
  {
   "cell_type": "code",
   "execution_count": null,
   "metadata": {
    "collapsed": false
   },
   "outputs": [],
   "source": [
    "a = np.arange(10)\n",
    "a[-2:]"
   ]
  },
  {
   "cell_type": "code",
   "execution_count": null,
   "metadata": {
    "collapsed": true
   },
   "outputs": [],
   "source": [
    "from sklearn.base import BaseEstimator\n",
    "class Dummy(BaseEstimator):\n",
    "    \n",
    "    def __init__(self):\n",
    "        pass\n",
    "    \n",
    "    def fit(self, X,y):\n",
    "        pass\n",
    "    \n",
    "    def predict(self, X):\n",
    "        return np.zeros(X.shape[0])\n",
    "    \n",
    "    def predict_proba(self, X):\n",
    "        return (X[:,0] / np.max(X,axis=0)[0]).reshape(-1,1)\n",
    "    \n",
    "    def decision_function(self, X):\n",
    "        return (X[:,0] / np.max(X,axis=0)[0]).reshape(-1,)"
   ]
  },
  {
   "cell_type": "code",
   "execution_count": null,
   "metadata": {
    "collapsed": false
   },
   "outputs": [],
   "source": [
    "X.reshape(-1,1)"
   ]
  },
  {
   "cell_type": "code",
   "execution_count": null,
   "metadata": {
    "collapsed": false
   },
   "outputs": [],
   "source": [
    "m = Dummy()\n",
    "X = np.linspace(0.6,1,20).reshape(-1,1)\n",
    "y = ObstructedY(np.ones(X.shape[0]))\n",
    "print m.predict_proba(X)"
   ]
  },
  {
   "cell_type": "code",
   "execution_count": null,
   "metadata": {
    "collapsed": false
   },
   "outputs": [],
   "source": [
    "uncertainty_sampling(X[::-1], y, m, 3, 'entropy')"
   ]
  },
  {
   "cell_type": "code",
   "execution_count": null,
   "metadata": {
    "collapsed": false
   },
   "outputs": [],
   "source": [
    "uncertainty_sampling(X[::-1], y, m, 3, 'simple')"
   ]
  },
  {
   "cell_type": "code",
   "execution_count": null,
   "metadata": {
    "collapsed": false
   },
   "outputs": [],
   "source": [
    "a = np.arange(100).reshape(5,20)\n",
    "a.shape"
   ]
  },
  {
   "cell_type": "code",
   "execution_count": null,
   "metadata": {
    "collapsed": false
   },
   "outputs": [],
   "source": [
    "from sklearn.ensemble import BaggingClassifier\n",
    "\n",
    "sgd = SGDClassifier(random_state=seed, alpha=1)\n",
    "bc = BaggingClassifier(sgd)"
   ]
  },
  {
   "cell_type": "code",
   "execution_count": null,
   "metadata": {
    "collapsed": false
   },
   "outputs": [],
   "source": [
    "bc.partial_fit(X)"
   ]
  },
  {
   "cell_type": "code",
   "execution_count": null,
   "metadata": {
    "collapsed": false
   },
   "outputs": [],
   "source": [
    "y = np.ones(10)\n",
    "y[[3,6,9]] = -1\n",
    "y"
   ]
  },
  {
   "cell_type": "code",
   "execution_count": null,
   "metadata": {
    "collapsed": false
   },
   "outputs": [],
   "source": [
    "mask = y == -1\n",
    "mask"
   ]
  },
  {
   "cell_type": "code",
   "execution_count": null,
   "metadata": {
    "collapsed": true
   },
   "outputs": [],
   "source": [
    "X = np.arange(10)"
   ]
  },
  {
   "cell_type": "code",
   "execution_count": null,
   "metadata": {
    "collapsed": false
   },
   "outputs": [],
   "source": [
    "np.where(mask == True)[0]"
   ]
  },
  {
   "cell_type": "code",
   "execution_count": null,
   "metadata": {
    "collapsed": true
   },
   "outputs": [],
   "source": []
  },
  {
   "cell_type": "code",
   "execution_count": null,
   "metadata": {
    "collapsed": false
   },
   "outputs": [],
   "source": [
    "mean_1 = np.array([-2, 0])\n",
    "mean_2 = np.array([2, 0])\n",
    "cov = np.array([[1, 0], [0, 1]])\n",
    "X_1 = np.random.multivariate_normal(mean_1, cov, 100)\n",
    "X_2 = np.random.multivariate_normal(mean_2, cov, 200)\n",
    "print X_1.shape\n",
    "print X_2.shape\n",
    "\n",
    "X = np.vstack([X_1, X_2])\n",
    "print X.shape\n",
    "\n",
    "y = np.ones(X.shape[0])\n",
    "y[101:] = -1\n",
    "print y.shape"
   ]
  },
  {
   "cell_type": "code",
   "execution_count": null,
   "metadata": {
    "collapsed": false
   },
   "outputs": [],
   "source": [
    "plt.scatter(X[:,0], X[:,1], c=y)"
   ]
  },
  {
   "cell_type": "code",
   "execution_count": null,
   "metadata": {
    "collapsed": false
   },
   "outputs": [],
   "source": [
    "import matplotlib.pyplot as plt\n",
    "%matplotlib inline\n",
    "from sklearn.svm import SVC\n",
    "np.random.seed(666)\n",
    "mean_1 = np.array([-2, 0])\n",
    "mean_2 = np.array([2, 0])\n",
    "cov = np.array([[1, 0], [0, 1]])\n",
    "X_1 = np.random.multivariate_normal(mean_1, cov, 100)\n",
    "X_2 = np.random.multivariate_normal(mean_2, cov, 100)\n",
    "X = np.vstack([X_1, X_2])\n",
    "y = np.ones(X.shape[0])\n",
    "y[101:] = -1\n",
    "\n",
    "# shuffle data\n",
    "p = np.random.permutation(X.shape[0])\n",
    "X = X[p]\n",
    "y = y[p]\n",
    "\n",
    "y = ObstructedY(y)\n",
    "y.query(np.random.randint(0, X.shape[0], 50))\n",
    "\n",
    "model = SVC(C=1, kernel='linear', probability=True)\n",
    "\n",
    "pick = query_by_bagging(X, y, model, batch_size=20, seed=666, n_bags=10, method='KL')\n",
    "\n",
    "not_picked = [i for i in xrange(X.shape[0]) if i not in set(pick)]\n",
    "\n",
    "y_plot = y._y\n",
    "y_plot[pick] = 2\n",
    "plt.figure(figsize=(10,10))\n",
    "plt.scatter(X[y.unknown_ids, 0], X[y.unknown_ids, 1], c=y_plot[y.unknown_ids], s=100, linewidths=0)\n",
    "plt.ylim(-6,6)\n",
    "plt.show()"
   ]
  },
  {
   "cell_type": "code",
   "execution_count": null,
   "metadata": {
    "collapsed": false
   },
   "outputs": [],
   "source": [
    "from get_data import get_data, get_splitted_data\n",
    "from models.active_model import ActiveLearningExperiment\n",
    "from models.strategy import *\n",
    "from models.utils import ObstructedY\n",
    "from functools import partial\n",
    "from sklearn.base import clone\n",
    "\n",
    "from misc.config import c\n",
    "data_dir = c[\"DATA_DIR\"]\n",
    "\n",
    "seed = 666\n",
    "comp = [['5ht7', 'ExtFP']]\n",
    "loader = [\"get_splitted_data\",\n",
    "          {\"n_folds\": 2,\n",
    "           \"seed\": seed,\n",
    "           \"test_size\": 0.0}]\n",
    "preprocess_fncs = []\n",
    "\n",
    "folds, test_data, data_desc = get_data(comp, loader, preprocess_fncs).values()[0]\n",
    "print data_desc\n",
    "\n",
    "X = folds[0]['X_train']\n",
    "y = ObstructedY(folds[0]['Y_train'])\n",
    "\n",
    "X_test = folds[0]['X_valid']\n",
    "y_test = folds[0]['Y_valid']\n",
    "\n",
    "print X.shape\n",
    "print y._y.shape\n",
    "\n",
    "print X_test.shape\n",
    "print y_test.shape\n",
    "\n",
    "base_model = SVC(C=1, kernel='linear', probability=True)\n",
    "strategy = partial(query_by_bagging, base_model=clone(base_model), n_bags=10, method='KL')\n",
    "\n",
    "print isinstance(y, ObstructedY)\n",
    "\n",
    "model = ActiveLearningExperiment(strategy, base_model, batch_size=10)\n",
    "model.fit(X, y, X_test, y_test)\n",
    "print model.monitors"
   ]
  },
  {
   "cell_type": "code",
   "execution_count": null,
   "metadata": {
    "collapsed": false
   },
   "outputs": [],
   "source": [
    "from get_data import get_data, get_splitted_data\n",
    "from models.active_model import ActiveLearningExperiment\n",
    "from models.strategy import *\n",
    "from models.utils import ObstructedY\n",
    "from functools import partial\n",
    "from sklearn.base import clone\n",
    "\n",
    "from misc.config import c\n",
    "data_dir = c[\"DATA_DIR\"]\n",
    "\n",
    "seed = 666\n",
    "comp = [['5ht7', 'ExtFP']]\n",
    "loader = [\"get_splitted_data\",\n",
    "          {\"n_folds\": 2,\n",
    "           \"seed\": seed,\n",
    "           \"test_size\": 0.0}]\n",
    "preprocess_fncs = []\n",
    "\n",
    "folds, test_data, data_desc = get_data(comp, loader, preprocess_fncs).values()[0]\n",
    "print data_desc\n",
    "\n",
    "X = folds[0]['X_train']\n",
    "y = ObstructedY(folds[0]['Y_train'])\n",
    "\n",
    "X_test = folds[0]['X_valid']\n",
    "y_test = folds[0]['Y_valid']"
   ]
  },
  {
   "cell_type": "code",
   "execution_count": null,
   "metadata": {
    "collapsed": false
   },
   "outputs": [],
   "source": [
    "a = np.arange(10)"
   ]
  },
  {
   "cell_type": "code",
   "execution_count": null,
   "metadata": {
    "collapsed": false
   },
   "outputs": [],
   "source": [
    "from itertools import product\n",
    "print [x for x in product(a, a)]\n"
   ]
  },
  {
   "cell_type": "code",
   "execution_count": null,
   "metadata": {
    "collapsed": false
   },
   "outputs": [],
   "source": [
    "a = np.array([True, False, True])\n",
    "np.where(a == True)"
   ]
  },
  {
   "cell_type": "code",
   "execution_count": null,
   "metadata": {
    "collapsed": false
   },
   "outputs": [],
   "source": [
    "np.logspace(-5,5,10)"
   ]
  }
 ],
 "metadata": {
  "kernelspec": {
   "display_name": "Python 2",
   "language": "python",
   "name": "python2"
  },
  "language_info": {
   "codemirror_mode": {
    "name": "ipython",
    "version": 2
   },
   "file_extension": ".py",
   "mimetype": "text/x-python",
   "name": "python",
   "nbconvert_exporter": "python",
   "pygments_lexer": "ipython2",
   "version": "2.7.6"
  }
 },
 "nbformat": 4,
 "nbformat_minor": 0
}
