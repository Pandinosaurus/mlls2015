{
 "cells": [
  {
   "cell_type": "code",
   "execution_count": 2,
   "metadata": {
    "collapsed": false
   },
   "outputs": [],
   "source": [
    "%load_ext autoreload\n",
    "%autoreload 2"
   ]
  },
  {
   "cell_type": "code",
   "execution_count": 3,
   "metadata": {
    "collapsed": false
   },
   "outputs": [],
   "source": [
    "import sys, os\n",
    "sys.path.append('..')\n",
    "\n",
    "import numpy as np\n",
    "from sklearn.linear_model import SGDClassifier\n",
    "from sklearn.metrics import accuracy_score\n",
    "from sklearn.grid_search import GridSearchCV\n",
    "\n",
    "from get_data import get_data, get_splitted_data\n",
    "from models.active_model import ActiveLearningExperiment\n",
    "from models.strategy import *\n",
    "from models.utils import ObstructedY\n",
    "\n",
    "from misc.config import c\n",
    "data_dir = c[\"DATA_DIR\"]"
   ]
  },
  {
   "cell_type": "code",
   "execution_count": null,
   "metadata": {
    "collapsed": false
   },
   "outputs": [],
   "source": [
    "seed = 666\n",
    "strategy_args = {'batch_size': 10, 'seed': seed}\n",
    "comp = [['5ht7', 'ExtFP']]\n",
    "loader = [\"get_splitted_data\",\n",
    "          {\"n_folds\": 2,\n",
    "           \"seed\":666,\n",
    "           \"test_size\":0.0}]\n",
    "preprocess_fncs = []\n",
    "\n",
    "sgd = SGDClassifier(random_state=seed, alpha=1)\n",
    "model = ActiveModel(strategy=random_query, base_model=sgd)\n",
    "\n",
    "folds, test_data, data_desc = get_data(comp, loader, preprocess_fncs).values()[0]\n",
    "print data_desc\n",
    "X = folds[0]['X_train']\n",
    "y = ObstructedY(folds[0]['Y_train'])\n",
    "\n",
    "X_test = folds[0]['X_valid']\n",
    "y_test = folds[0]['Y_valid']\n",
    "model.fit(X, y, strategy_args=strategy_args)\n",
    "p = model.predict(X_test)\n",
    "accuracy_score(p, y_test)"
   ]
  },
  {
   "cell_type": "code",
   "execution_count": null,
   "metadata": {
    "collapsed": false
   },
   "outputs": [],
   "source": [
    "seed = 666\n",
    "strategy_args = {'batch_size': 10, 'method': 'simple', 'seed': seed}\n",
    "comp = [['5ht7', 'ExtFP']]\n",
    "loader = [\"get_splitted_data\",\n",
    "          {\"n_folds\": 2,\n",
    "           \"seed\":666,\n",
    "           \"test_size\":0.0}]\n",
    "preprocess_fncs = []\n",
    "\n",
    "folds, test_data, data_desc = get_data(comp, loader, preprocess_fncs).values()[0]\n",
    "print data_desc\n",
    "X = folds[0]['X_train']\n",
    "y = ObstructedY(folds[0]['Y_train'])\n",
    "\n",
    "X_test = folds[0]['X_valid']\n",
    "y_test = folds[0]['Y_valid']\n",
    "svm = SVC(C=0.01, kernel='linear')\n",
    "sgd = SGDClassifier(random_state=seed, alpha=1)\n",
    "model = ActiveModel(strategy=uncertainty_sampling, base_model=svm)\n",
    "\n",
    "model.fit(X, y, strategy_args=strategy_args)\n",
    "p = model.predict(X_test)\n",
    "accuracy_score(p, y_test)"
   ]
  },
  {
   "cell_type": "code",
   "execution_count": null,
   "metadata": {
    "collapsed": false
   },
   "outputs": [],
   "source": [
    "from sklearn.svm import SVC\n",
    "\n",
    "X = folds[0]['X_train']\n",
    "y = ObstructedY(folds[0]['Y_train'])\n",
    "\n",
    "X_test = folds[0]['X_valid']\n",
    "y_test = folds[0]['Y_valid']\n",
    "\n",
    "svm = SVC(C=0.01, kernel='linear', probability=True)\n",
    "\n",
    "seed = 666\n",
    "strategy_args = {'batch_size': 10, 'seed': seed, 'method': 'entropy'}\n",
    "comp = [['5ht7', 'ExtFP']]\n",
    "loader = [\"get_splitted_data\",\n",
    "          {\"n_folds\": 2,\n",
    "           \"seed\":666,\n",
    "           \"test_size\":0.0}]\n",
    "preprocess_fncs = []\n",
    "\n",
    "model = ActiveModel(strategy=uncertainty_sampling, base_model=svm)\n",
    "model.fit(X, y, strategy_args=strategy_args)\n",
    "p = model.predict(X_test)\n",
    "accuracy_score(p, y_test)"
   ]
  },
  {
   "cell_type": "code",
   "execution_count": null,
   "metadata": {
    "collapsed": false
   },
   "outputs": [],
   "source": [
    "X = folds[0]['X_train']\n",
    "y = ObstructedY(folds[0]['Y_train'])\n",
    "\n",
    "X_test = folds[0]['X_valid']\n",
    "y_test = folds[0]['Y_valid']\n",
    "\n",
    "svm = SVC(C=0.01, kernel='linear')\n",
    "\n",
    "seed = 666\n",
    "strategy_args = {'batch_size': 10, 'seed': seed, 'method': 'entropy', 'n_bags': 5}\n",
    "comp = [['5ht7', 'ExtFP']]\n",
    "loader = [\"get_splitted_data\",\n",
    "          {\"n_folds\": 2,\n",
    "           \"seed\":666,\n",
    "           \"test_size\":0.0}]\n",
    "preprocess_fncs = []\n",
    "\n",
    "model = ActiveModel(strategy=query_by_bagging, base_model=svm)\n",
    "model.fit(X, y, strategy_args=strategy_args)\n",
    "p = model.predict(X_test)\n",
    "accuracy_score(p, y_test)"
   ]
  },
  {
   "cell_type": "code",
   "execution_count": null,
   "metadata": {
    "collapsed": false
   },
   "outputs": [],
   "source": [
    "X = folds[0]['X_train']\n",
    "y = ObstructedY(folds[0]['Y_train'])\n",
    "\n",
    "X_test = folds[0]['X_valid']\n",
    "y_test = folds[0]['Y_valid']\n",
    "\n",
    "svm = SVC(C=0.01, kernel='linear', probability=True)\n",
    "\n",
    "seed = 666\n",
    "strategy_args = {'batch_size': 10, 'seed': seed, 'method': 'KL', 'n_bags': 5}\n",
    "comp = [['5ht7', 'ExtFP']]\n",
    "loader = [\"get_splitted_data\",\n",
    "          {\"n_folds\": 2,\n",
    "           \"seed\":666,\n",
    "           \"test_size\":0.0}]\n",
    "preprocess_fncs = []\n",
    "\n",
    "model = ActiveModel(strategy=query_by_bagging, base_model=svm)\n",
    "model.fit(X, y, strategy_args=strategy_args)\n",
    "p = model.predict(X_test)\n",
    "accuracy_score(p, y_test)"
   ]
  },
  {
   "cell_type": "code",
   "execution_count": null,
   "metadata": {
    "collapsed": false
   },
   "outputs": [],
   "source": [
    "p = np.array([clf.predict_proba(X_test) for clf in bc.estimators_])"
   ]
  },
  {
   "cell_type": "code",
   "execution_count": null,
   "metadata": {
    "collapsed": false
   },
   "outputs": [],
   "source": [
    "print p.shape\n",
    "(p / pc).shape"
   ]
  },
  {
   "cell_type": "code",
   "execution_count": null,
   "metadata": {
    "collapsed": false
   },
   "outputs": [],
   "source": [
    "a = np.arange(6).reshape(3,2)\n",
    "b = 2 * np.ones(6).reshape(3,2)\n",
    "a/b"
   ]
  },
  {
   "cell_type": "code",
   "execution_count": null,
   "metadata": {
    "collapsed": false
   },
   "outputs": [],
   "source": [
    "np.mean(np.sum(p * np.log(p / pc), axis=2), axis=0).shape"
   ]
  },
  {
   "cell_type": "code",
   "execution_count": null,
   "metadata": {
    "collapsed": false
   },
   "outputs": [],
   "source": [
    "a = np.arange(10)\n",
    "a[-2:]"
   ]
  },
  {
   "cell_type": "code",
   "execution_count": 6,
   "metadata": {
    "collapsed": true
   },
   "outputs": [],
   "source": [
    "from sklearn.base import BaseEstimator\n",
    "class Dummy(BaseEstimator):\n",
    "    \n",
    "    def __init__(self):\n",
    "        pass\n",
    "    \n",
    "    def fit(self, X,y):\n",
    "        pass\n",
    "    \n",
    "    def predict(self, X):\n",
    "        return np.zeros(X.shape[0])\n",
    "    \n",
    "    def predict_proba(self, X):\n",
    "        return (X[:,0] / np.max(X,axis=0)[0]).reshape(-1,1)\n",
    "    \n",
    "    def decision_function(self, X):\n",
    "        return (X[:,0] / np.max(X,axis=0)[0]).reshape(-1,)"
   ]
  },
  {
   "cell_type": "code",
   "execution_count": null,
   "metadata": {
    "collapsed": false
   },
   "outputs": [],
   "source": [
    "X.reshape(-1,1)"
   ]
  },
  {
   "cell_type": "code",
   "execution_count": 12,
   "metadata": {
    "collapsed": false
   },
   "outputs": [
    {
     "name": "stdout",
     "output_type": "stream",
     "text": [
      "[[ 0.6       ]\n",
      " [ 0.62105263]\n",
      " [ 0.64210526]\n",
      " [ 0.66315789]\n",
      " [ 0.68421053]\n",
      " [ 0.70526316]\n",
      " [ 0.72631579]\n",
      " [ 0.74736842]\n",
      " [ 0.76842105]\n",
      " [ 0.78947368]\n",
      " [ 0.81052632]\n",
      " [ 0.83157895]\n",
      " [ 0.85263158]\n",
      " [ 0.87368421]\n",
      " [ 0.89473684]\n",
      " [ 0.91578947]\n",
      " [ 0.93684211]\n",
      " [ 0.95789474]\n",
      " [ 0.97894737]\n",
      " [ 1.        ]]\n"
     ]
    }
   ],
   "source": [
    "m = Dummy()\n",
    "X = np.linspace(0.6,1,20).reshape(-1,1)\n",
    "y = ObstructedY(np.ones(X.shape[0]))\n",
    "print m.predict_proba(X)"
   ]
  },
  {
   "cell_type": "code",
   "execution_count": 13,
   "metadata": {
    "collapsed": false
   },
   "outputs": [
    {
     "data": {
      "text/plain": [
       "array([19, 18, 17])"
      ]
     },
     "execution_count": 13,
     "metadata": {},
     "output_type": "execute_result"
    }
   ],
   "source": [
    "uncertainty_sampling(X[::-1], y, m, 3, 'entropy')"
   ]
  },
  {
   "cell_type": "code",
   "execution_count": 15,
   "metadata": {
    "collapsed": false
   },
   "outputs": [
    {
     "data": {
      "text/plain": [
       "array([19, 18, 17])"
      ]
     },
     "execution_count": 15,
     "metadata": {},
     "output_type": "execute_result"
    }
   ],
   "source": [
    "uncertainty_sampling(X[::-1], y, m, 3, 'simple')"
   ]
  },
  {
   "cell_type": "code",
   "execution_count": null,
   "metadata": {
    "collapsed": false
   },
   "outputs": [],
   "source": [
    "a = np.arange(100).reshape(5,20)\n",
    "a.shape"
   ]
  },
  {
   "cell_type": "code",
   "execution_count": null,
   "metadata": {
    "collapsed": false
   },
   "outputs": [],
   "source": [
    "from sklearn.ensemble import BaggingClassifier\n",
    "\n",
    "sgd = SGDClassifier(random_state=seed, alpha=1)\n",
    "bc = BaggingClassifier(sgd)"
   ]
  },
  {
   "cell_type": "code",
   "execution_count": null,
   "metadata": {
    "collapsed": false
   },
   "outputs": [],
   "source": [
    "bc.partial_fit(X)"
   ]
  },
  {
   "cell_type": "code",
   "execution_count": 17,
   "metadata": {
    "collapsed": false
   },
   "outputs": [
    {
     "data": {
      "text/plain": [
       "array([ 1.,  1.,  1., -1.,  1.,  1., -1.,  1.,  1., -1.])"
      ]
     },
     "execution_count": 17,
     "metadata": {},
     "output_type": "execute_result"
    }
   ],
   "source": [
    "y = np.ones(10)\n",
    "y[[3,6,9]] = -1\n",
    "y"
   ]
  },
  {
   "cell_type": "code",
   "execution_count": 19,
   "metadata": {
    "collapsed": false
   },
   "outputs": [
    {
     "data": {
      "text/plain": [
       "array([False, False, False,  True, False, False,  True, False, False,  True], dtype=bool)"
      ]
     },
     "execution_count": 19,
     "metadata": {},
     "output_type": "execute_result"
    }
   ],
   "source": [
    "mask = y == -1\n",
    "mask"
   ]
  },
  {
   "cell_type": "code",
   "execution_count": 21,
   "metadata": {
    "collapsed": true
   },
   "outputs": [],
   "source": [
    "X = np.arange(10)"
   ]
  },
  {
   "cell_type": "code",
   "execution_count": 23,
   "metadata": {
    "collapsed": false
   },
   "outputs": [
    {
     "data": {
      "text/plain": [
       "array([3, 6, 9])"
      ]
     },
     "execution_count": 23,
     "metadata": {},
     "output_type": "execute_result"
    }
   ],
   "source": [
    "np.where(mask == True)[0]"
   ]
  },
  {
   "cell_type": "code",
   "execution_count": 43,
   "metadata": {
    "collapsed": true
   },
   "outputs": [],
   "source": []
  },
  {
   "cell_type": "code",
   "execution_count": 47,
   "metadata": {
    "collapsed": false
   },
   "outputs": [
    {
     "name": "stdout",
     "output_type": "stream",
     "text": [
      "(100, 2)\n",
      "(200, 2)\n",
      "(300, 2)\n",
      "(300,)\n"
     ]
    }
   ],
   "source": [
    "mean_1 = np.array([-2, 0])\n",
    "mean_2 = np.array([2, 0])\n",
    "cov = np.array([[1, 0], [0, 1]])\n",
    "X_1 = np.random.multivariate_normal(mean_1, cov, 100)\n",
    "X_2 = np.random.multivariate_normal(mean_2, cov, 200)\n",
    "print X_1.shape\n",
    "print X_2.shape\n",
    "\n",
    "X = np.vstack([X_1, X_2])\n",
    "print X.shape\n",
    "\n",
    "y = np.ones(X.shape[0])\n",
    "y[101:] = -1\n",
    "print y.shape"
   ]
  },
  {
   "cell_type": "code",
   "execution_count": 48,
   "metadata": {
    "collapsed": false
   },
   "outputs": [
    {
     "data": {
      "text/plain": [
       "<matplotlib.collections.PathCollection at 0x7fd6ec204910>"
      ]
     },
     "execution_count": 48,
     "metadata": {},
     "output_type": "execute_result"
    },
    {
     "data": {
      "image/png": "[encoded data removed]",
      "text/plain": [
       "<matplotlib.figure.Figure at 0x7fd6ec45df10>"
      ]
     },
     "metadata": {},
     "output_type": "display_data"
    }
   ],
   "source": [
    "plt.scatter(X[:,0], X[:,1], c=y)"
   ]
  },
  {
   "cell_type": "code",
   "execution_count": 7,
   "metadata": {
    "collapsed": false
   },
   "outputs": [
    {
     "data": {
      "image/png": "[encoded data removed]",
      "text/plain": [
       "<matplotlib.figure.Figure at 0x7f68cb9f9510>"
      ]
     },
     "metadata": {},
     "output_type": "display_data"
    }
   ],
   "source": [
    "import matplotlib.pyplot as plt\n",
    "%matplotlib inline\n",
    "from sklearn.svm import SVC\n",
    "np.random.seed(666)\n",
    "mean_1 = np.array([-2, 0])\n",
    "mean_2 = np.array([2, 0])\n",
    "cov = np.array([[1, 0], [0, 1]])\n",
    "X_1 = np.random.multivariate_normal(mean_1, cov, 100)\n",
    "X_2 = np.random.multivariate_normal(mean_2, cov, 100)\n",
    "X = np.vstack([X_1, X_2])\n",
    "y = np.ones(X.shape[0])\n",
    "y[101:] = -1\n",
    "\n",
    "# shuffle data\n",
    "p = np.random.permutation(X.shape[0])\n",
    "X = X[p]\n",
    "y = y[p]\n",
    "\n",
    "y = ObstructedY(y)\n",
    "y.query(np.random.randint(0, X.shape[0], 50))\n",
    "\n",
    "model = SVC(C=1, kernel='linear', probability=True)\n",
    "\n",
    "pick = query_by_bagging(X, y, model, batch_size=20, seed=666, n_bags=10, method='KL')\n",
    "\n",
    "not_picked = [i for i in xrange(X.shape[0]) if i not in set(pick)]\n",
    "\n",
    "y_plot = y._y\n",
    "y_plot[pick] = 2\n",
    "plt.figure(figsize=(10,10))\n",
    "plt.scatter(X[y.unknown_ids, 0], X[y.unknown_ids, 1], c=y_plot[y.unknown_ids], s=100, linewidths=0)\n",
    "plt.ylim(-6,6)\n",
    "plt.show()"
   ]
  },
  {
   "cell_type": "code",
   "execution_count": null,
   "metadata": {
    "collapsed": false
   },
   "outputs": [],
   "source": [
    "from get_data import get_data, get_splitted_data\n",
    "from models.active_model import ActiveLearningExperiment\n",
    "from models.strategy import *\n",
    "from models.utils import ObstructedY\n",
    "from functools import partial\n",
    "from sklearn.base import clone\n",
    "\n",
    "from misc.config import c\n",
    "data_dir = c[\"DATA_DIR\"]\n",
    "\n",
    "seed = 666\n",
    "comp = [['5ht7', 'ExtFP']]\n",
    "loader = [\"get_splitted_data\",\n",
    "          {\"n_folds\": 2,\n",
    "           \"seed\": seed,\n",
    "           \"test_size\": 0.0}]\n",
    "preprocess_fncs = []\n",
    "\n",
    "folds, test_data, data_desc = get_data(comp, loader, preprocess_fncs).values()[0]\n",
    "print data_desc\n",
    "\n",
    "X = folds[0]['X_train']\n",
    "y = ObstructedY(folds[0]['Y_train'])\n",
    "\n",
    "X_test = folds[0]['X_valid']\n",
    "y_test = folds[0]['Y_valid']\n",
    "\n",
    "print X.shape\n",
    "print y._y.shape\n",
    "\n",
    "print X_test.shape\n",
    "print y_test.shape\n",
    "\n",
    "base_model = SVC(C=1, kernel='linear', probability=True)\n",
    "strategy = partial(query_by_bagging, base_model=clone(base_model), n_bags=10, method='KL')\n",
    "\n",
    "print isinstance(y, ObstructedY)\n",
    "\n",
    "model = ActiveLearningExperiment(strategy, base_model, batch_size=10)\n",
    "model.fit(X, y, X_test, y_test)\n",
    "print model.monitors"
   ]
  },
  {
   "cell_type": "code",
   "execution_count": 8,
   "metadata": {
    "collapsed": false
   },
   "outputs": [
    {
     "name": "stdout",
     "output_type": "stream",
     "text": [
      "{'preprocess': [], 'loader': ['get_splitted_data', {'n_folds': 2, 'test_size': 0.0, 'fingerprint': 'ExtFP', 'seed': 666, 'compound': '5ht7'}]}\n"
     ]
    }
   ],
   "source": [
    "from get_data import get_data, get_splitted_data\n",
    "from models.active_model import ActiveLearningExperiment\n",
    "from models.strategy import *\n",
    "from models.utils import ObstructedY\n",
    "from functools import partial\n",
    "from sklearn.base import clone\n",
    "\n",
    "from misc.config import c\n",
    "data_dir = c[\"DATA_DIR\"]\n",
    "\n",
    "seed = 666\n",
    "comp = [['5ht7', 'ExtFP']]\n",
    "loader = [\"get_splitted_data\",\n",
    "          {\"n_folds\": 2,\n",
    "           \"seed\": seed,\n",
    "           \"test_size\": 0.0}]\n",
    "preprocess_fncs = []\n",
    "\n",
    "folds, test_data, data_desc = get_data(comp, loader, preprocess_fncs).values()[0]\n",
    "print data_desc\n",
    "\n",
    "X = folds[0]['X_train']\n",
    "y = ObstructedY(folds[0]['Y_train'])\n",
    "\n",
    "X_test = folds[0]['X_valid']\n",
    "y_test = folds[0]['Y_valid']"
   ]
  },
  {
   "cell_type": "code",
   "execution_count": 9,
   "metadata": {
    "collapsed": false
   },
   "outputs": [
    {
     "name": "stderr",
     "output_type": "stream",
     "text": [
      "[autoreload of models.strategy failed: Traceback (most recent call last):\n",
      "  File \"/usr/local/lib/python2.7/dist-packages/IPython/extensions/autoreload.py\", line 247, in check\n",
      "    superreload(m, reload, self.old_objects)\n",
      "  File \"../models/strategy.py\", line 74\n",
      "    d_score =\n",
      "            ^\n",
      "SyntaxError: invalid syntax\n",
      "]\n"
     ]
    }
   ],
   "source": [
    "a = np.arange(10)"
   ]
  },
  {
   "cell_type": "code",
   "execution_count": 14,
   "metadata": {
    "collapsed": false
   },
   "outputs": [
    {
     "name": "stdout",
     "output_type": "stream",
     "text": [
      "[(0, 0), (0, 1), (0, 2), (0, 3), (0, 4), (0, 5), (0, 6), (0, 7), (0, 8), (0, 9), (1, 0), (1, 1), (1, 2), (1, 3), (1, 4), (1, 5), (1, 6), (1, 7), (1, 8), (1, 9), (2, 0), (2, 1), (2, 2), (2, 3), (2, 4), (2, 5), (2, 6), (2, 7), (2, 8), (2, 9), (3, 0), (3, 1), (3, 2), (3, 3), (3, 4), (3, 5), (3, 6), (3, 7), (3, 8), (3, 9), (4, 0), (4, 1), (4, 2), (4, 3), (4, 4), (4, 5), (4, 6), (4, 7), (4, 8), (4, 9), (5, 0), (5, 1), (5, 2), (5, 3), (5, 4), (5, 5), (5, 6), (5, 7), (5, 8), (5, 9), (6, 0), (6, 1), (6, 2), (6, 3), (6, 4), (6, 5), (6, 6), (6, 7), (6, 8), (6, 9), (7, 0), (7, 1), (7, 2), (7, 3), (7, 4), (7, 5), (7, 6), (7, 7), (7, 8), (7, 9), (8, 0), (8, 1), (8, 2), (8, 3), (8, 4), (8, 5), (8, 6), (8, 7), (8, 8), (8, 9), (9, 0), (9, 1), (9, 2), (9, 3), (9, 4), (9, 5), (9, 6), (9, 7), (9, 8), (9, 9)]\n"
     ]
    }
   ],
   "source": [
    "from itertools import product\n",
    "print [x for x in product(a, a)]\n"
   ]
  },
  {
   "cell_type": "code",
   "execution_count": 16,
   "metadata": {
    "collapsed": false
   },
   "outputs": [
    {
     "data": {
      "text/plain": [
       "(array([0, 2]),)"
      ]
     },
     "execution_count": 16,
     "metadata": {},
     "output_type": "execute_result"
    }
   ],
   "source": [
    "a = np.array([True, False, True])\n",
    "np.where(a == True)"
   ]
  },
  {
   "cell_type": "code",
   "execution_count": 4,
   "metadata": {
    "collapsed": false
   },
   "outputs": [
    {
     "data": {
      "text/plain": [
       "array([  1.00000000e-05,   1.29154967e-04,   1.66810054e-03,\n",
       "         2.15443469e-02,   2.78255940e-01,   3.59381366e+00,\n",
       "         4.64158883e+01,   5.99484250e+02,   7.74263683e+03,\n",
       "         1.00000000e+05])"
      ]
     },
     "execution_count": 4,
     "metadata": {},
     "output_type": "execute_result"
    }
   ],
   "source": [
    "np.logspace(-5,5,10)"
   ]
  }
 ],
 "metadata": {
  "kernelspec": {
   "display_name": "Python 2",
   "language": "python",
   "name": "python2"
  },
  "language_info": {
   "codemirror_mode": {
    "name": "ipython",
    "version": 2
   },
   "file_extension": ".py",
   "mimetype": "text/x-python",
   "name": "python",
   "nbconvert_exporter": "python",
   "pygments_lexer": "ipython2",
   "version": "2.7.6"
  }
 },
 "nbformat": 4,
 "nbformat_minor": 0
}
