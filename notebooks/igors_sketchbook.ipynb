{
 "cells": [
  {
   "cell_type": "code",
   "execution_count": null,
   "metadata": {
    "collapsed": false
   },
   "outputs": [],
   "source": [
    "%load_ext autoreload\n",
    "%autoreload 2"
   ]
  },
  {
   "cell_type": "code",
   "execution_count": null,
   "metadata": {
    "collapsed": false
   },
   "outputs": [],
   "source": [
    "import sys, os\n",
    "sys.path.append('..')\n",
    "\n",
    "import numpy as np\n",
    "from sklearn.linear_model import SGDClassifier\n",
    "from sklearn.metrics import accuracy_score\n",
    "\n",
    "from get_data import get_data, get_splitted_data\n",
    "from models.active_model import ActiveModel\n",
    "from models.strategy import random_query\n",
    "from models.utils import ObstructedY\n",
    "\n",
    "from misc.config import c\n",
    "data_dir = c[\"DATA_DIR\"]"
   ]
  },
  {
   "cell_type": "code",
   "execution_count": null,
   "metadata": {
    "collapsed": false
   },
   "outputs": [],
   "source": [
    "seed = 666\n",
    "strategy_args = {'batch_size': 10, 'seed': seed}\n",
    "comp = [['5ht7', 'ExtFP']]\n",
    "loader = [\"get_splitted_data\",\n",
    "          {\"n_folds\": 2,\n",
    "           \"seed\":666,\n",
    "           \"test_size\":0.0}]\n",
    "preprocess_fncs = []\n",
    "\n",
    "\n",
    "sgd = SGDClassifier(random_state=seed)\n",
    "model = ActiveModel(strategy=random_query, base_model=sgd)\n",
    "\n",
    "folds, test_data, data_desc = get_data(comp, loader, preprocess_fncs).values()[0]\n",
    "print data_desc"
   ]
  },
  {
   "cell_type": "code",
   "execution_count": null,
   "metadata": {
    "collapsed": false
   },
   "outputs": [],
   "source": [
    "X = folds[0]['X_train']\n",
    "y = ObstructedY(folds[0]['Y_train'])\n",
    "\n",
    "X_test = folds[0]['X_valid']\n",
    "y_test = folds[0]['Y_valid']"
   ]
  },
  {
   "cell_type": "code",
   "execution_count": null,
   "metadata": {
    "collapsed": false
   },
   "outputs": [],
   "source": [
    "model.fit(X, y, strategy_args=strategy_args)"
   ]
  },
  {
   "cell_type": "code",
   "execution_count": null,
   "metadata": {
    "collapsed": false
   },
   "outputs": [],
   "source": [
    "p = model.predict(X_test)"
   ]
  },
  {
   "cell_type": "code",
   "execution_count": null,
   "metadata": {
    "collapsed": false
   },
   "outputs": [],
   "source": [
    "accuracy_score(p, y_test)"
   ]
  }
 ],
 "metadata": {
  "kernelspec": {
   "display_name": "Python 2",
   "language": "python",
   "name": "python2"
  },
  "language_info": {
   "codemirror_mode": {
    "name": "ipython",
    "version": 2
   },
   "file_extension": ".py",
   "mimetype": "text/x-python",
   "name": "python",
   "nbconvert_exporter": "python",
   "pygments_lexer": "ipython2",
   "version": "2.7.6"
  }
 },
 "nbformat": 4,
 "nbformat_minor": 0
}
