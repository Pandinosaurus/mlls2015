{
 "cells": [
  {
   "cell_type": "code",
   "execution_count": null,
   "metadata": {
    "collapsed": false
   },
   "outputs": [],
   "source": [
    "%load_ext autoreload\n",
    "%autoreload 2"
   ]
  },
  {
   "cell_type": "code",
   "execution_count": null,
   "metadata": {
    "collapsed": false
   },
   "outputs": [],
   "source": [
    "import sys, os\n",
    "sys.path.append('..')\n",
    "\n",
    "import numpy as np\n",
    "from sklearn.linear_model import SGDClassifier\n",
    "from sklearn.metrics import accuracy_score\n",
    "from sklearn.grid_search import GridSearchCV\n",
    "\n",
    "from get_data import get_data, get_splitted_data\n",
    "from models.active_model import ActiveModel\n",
    "from models.strategy import *\n",
    "from models.utils import ObstructedY\n",
    "\n",
    "from misc.config import c\n",
    "data_dir = c[\"DATA_DIR\"]"
   ]
  },
  {
   "cell_type": "code",
   "execution_count": null,
   "metadata": {
    "collapsed": false
   },
   "outputs": [],
   "source": [
    "seed = 666\n",
    "strategy_args = {'batch_size': 10, 'seed': seed}\n",
    "comp = [['5ht7', 'ExtFP']]\n",
    "loader = [\"get_splitted_data\",\n",
    "          {\"n_folds\": 2,\n",
    "           \"seed\":666,\n",
    "           \"test_size\":0.0}]\n",
    "preprocess_fncs = []\n",
    "\n",
    "sgd = SGDClassifier(random_state=seed, alpha=1)\n",
    "model = ActiveModel(strategy=random_query, base_model=sgd)\n",
    "\n",
    "folds, test_data, data_desc = get_data(comp, loader, preprocess_fncs).values()[0]\n",
    "print data_desc\n",
    "X = folds[0]['X_train']\n",
    "y = ObstructedY(folds[0]['Y_train'])\n",
    "\n",
    "X_test = folds[0]['X_valid']\n",
    "y_test = folds[0]['Y_valid']\n",
    "model.fit(X, y, strategy_args=strategy_args)\n",
    "p = model.predict(X_test)\n",
    "accuracy_score(p, y_test)"
   ]
  },
  {
   "cell_type": "code",
   "execution_count": null,
   "metadata": {
    "collapsed": false
   },
   "outputs": [],
   "source": [
    "seed = 666\n",
    "strategy_args = {'batch_size': 10, 'method': 'simple', 'seed': seed}\n",
    "comp = [['5ht7', 'ExtFP']]\n",
    "loader = [\"get_splitted_data\",\n",
    "          {\"n_folds\": 2,\n",
    "           \"seed\":666,\n",
    "           \"test_size\":0.0}]\n",
    "preprocess_fncs = []\n",
    "\n",
    "folds, test_data, data_desc = get_data(comp, loader, preprocess_fncs).values()[0]\n",
    "print data_desc\n",
    "X = folds[0]['X_train']\n",
    "y = ObstructedY(folds[0]['Y_train'])\n",
    "\n",
    "X_test = folds[0]['X_valid']\n",
    "y_test = folds[0]['Y_valid']\n",
    "\n",
    "sgd = SGDClassifier(random_state=seed, alpha=1)\n",
    "model = ActiveModel(strategy=uncertainty_sampling, base_model=sgd)\n",
    "\n",
    "model.fit(X, y, strategy_args=strategy_args)\n",
    "p = model.predict(X_test)\n",
    "accuracy_score(p, y_test)"
   ]
  },
  {
   "cell_type": "code",
   "execution_count": null,
   "metadata": {
    "collapsed": false
   },
   "outputs": [],
   "source": [
    "from sklearn.svm import SVC\n",
    "\n",
    "X = folds[0]['X_train']\n",
    "y = ObstructedY(folds[0]['Y_train'])\n",
    "\n",
    "X_test = folds[0]['X_valid']\n",
    "y_test = folds[0]['Y_valid']\n",
    "\n",
    "svm = SVC(C=0.01, kernel='linear', probability=True)\n",
    "\n",
    "seed = 666\n",
    "strategy_args = {'batch_size': 10, 'seed': seed, 'method': 'entropy'}\n",
    "comp = [['5ht7', 'ExtFP']]\n",
    "loader = [\"get_splitted_data\",\n",
    "          {\"n_folds\": 2,\n",
    "           \"seed\":666,\n",
    "           \"test_size\":0.0}]\n",
    "preprocess_fncs = []\n",
    "\n",
    "model = ActiveModel(strategy=uncertainty_sampling, base_model=svm)\n",
    "model.fit(X, y, strategy_args=strategy_args)\n",
    "p = model.predict(X_test)\n",
    "accuracy_score(p, y_test)"
   ]
  },
  {
   "cell_type": "code",
   "execution_count": null,
   "metadata": {
    "collapsed": false
   },
   "outputs": [],
   "source": [
    "X = folds[0]['X_train']\n",
    "y = ObstructedY(folds[0]['Y_train'])\n",
    "\n",
    "X_test = folds[0]['X_valid']\n",
    "y_test = folds[0]['Y_valid']\n",
    "\n",
    "svm = SVC(C=0.01, kernel='linear')\n",
    "\n",
    "seed = 666\n",
    "strategy_args = {'batch_size': 10, 'seed': seed, 'method': 'entropy', 'n_bags': 5}\n",
    "comp = [['5ht7', 'ExtFP']]\n",
    "loader = [\"get_splitted_data\",\n",
    "          {\"n_folds\": 2,\n",
    "           \"seed\":666,\n",
    "           \"test_size\":0.0}]\n",
    "preprocess_fncs = []\n",
    "\n",
    "model = ActiveModel(strategy=query_by_bagging, base_model=svm)\n",
    "model.fit(X, y, strategy_args=strategy_args)\n",
    "p = model.predict(X_test)\n",
    "accuracy_score(p, y_test)"
   ]
  },
  {
   "cell_type": "code",
   "execution_count": null,
   "metadata": {
    "collapsed": false
   },
   "outputs": [],
   "source": [
    "X = folds[0]['X_train']\n",
    "y = ObstructedY(folds[0]['Y_train'])\n",
    "\n",
    "X_test = folds[0]['X_valid']\n",
    "y_test = folds[0]['Y_valid']\n",
    "\n",
    "svm = SVC(C=0.01, kernel='linear', probability=True)\n",
    "\n",
    "seed = 666\n",
    "strategy_args = {'batch_size': 10, 'seed': seed, 'method': 'KL', 'n_bags': 5}\n",
    "comp = [['5ht7', 'ExtFP']]\n",
    "loader = [\"get_splitted_data\",\n",
    "          {\"n_folds\": 2,\n",
    "           \"seed\":666,\n",
    "           \"test_size\":0.0}]\n",
    "preprocess_fncs = []\n",
    "\n",
    "model = ActiveModel(strategy=query_by_bagging, base_model=svm)\n",
    "model.fit(X, y, strategy_args=strategy_args)\n",
    "p = model.predict(X_test)\n",
    "accuracy_score(p, y_test)"
   ]
  },
  {
   "cell_type": "code",
   "execution_count": null,
   "metadata": {
    "collapsed": false
   },
   "outputs": [],
   "source": [
    "p = np.array([clf.predict_proba(X_test) for clf in bc.estimators_])"
   ]
  },
  {
   "cell_type": "code",
   "execution_count": null,
   "metadata": {
    "collapsed": false
   },
   "outputs": [],
   "source": [
    "print p.shape\n",
    "(p / pc).shape"
   ]
  },
  {
   "cell_type": "code",
   "execution_count": null,
   "metadata": {
    "collapsed": false
   },
   "outputs": [],
   "source": [
    "a = np.arange(6).reshape(3,2)\n",
    "b = 2 * np.ones(6).reshape(3,2)\n",
    "a/b"
   ]
  },
  {
   "cell_type": "code",
   "execution_count": null,
   "metadata": {
    "collapsed": false
   },
   "outputs": [],
   "source": [
    "np.mean(np.sum(p * np.log(p / pc), axis=2), axis=0).shape"
   ]
  },
  {
   "cell_type": "code",
   "execution_count": null,
   "metadata": {
    "collapsed": false
   },
   "outputs": [],
   "source": [
    "a = np.arange(10)\n",
    "a[-2:]"
   ]
  }
 ],
 "metadata": {
  "kernelspec": {
   "display_name": "Python 2",
   "language": "python",
   "name": "python2"
  },
  "language_info": {
   "codemirror_mode": {
    "name": "ipython",
    "version": 2
   },
   "file_extension": ".py",
   "mimetype": "text/x-python",
   "name": "python",
   "nbconvert_exporter": "python",
   "pygments_lexer": "ipython2",
   "version": "2.7.6"
  }
 },
 "nbformat": 4,
 "nbformat_minor": 0
}
