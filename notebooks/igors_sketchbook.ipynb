{
 "cells": [
  {
   "cell_type": "code",
   "execution_count": 70,
   "metadata": {
    "collapsed": false
   },
   "outputs": [],
   "source": [
    "%load_ext autoreload\n",
    "%autoreload 2"
   ]
  },
  {
   "cell_type": "code",
   "execution_count": 71,
   "metadata": {
    "collapsed": false
   },
   "outputs": [],
   "source": [
    "import sys, os\n",
    "sys.path.append('..')\n",
    "\n",
    "import numpy as np\n",
    "from sklearn.linear_model import SGDClassifier\n",
    "from sklearn.metrics import accuracy_score\n",
    "from sklearn.grid_search import GridSearchCV\n",
    "\n",
    "from get_data import get_data, get_splitted_data, proteins, _get_raw_data\n",
    "from models.active_model import ActiveLearningExperiment\n",
    "from models.strategy import *\n",
    "from models.utils import ObstructedY\n",
    "from experiments.utils import *\n",
    "\n",
    "from misc.config import c"
   ]
  },
  {
   "cell_type": "code",
   "execution_count": 72,
   "metadata": {
    "collapsed": false
   },
   "outputs": [],
   "source": [
    "from sklearn.metrics import auc"
   ]
  },
  {
   "cell_type": "code",
   "execution_count": 73,
   "metadata": {
    "collapsed": false
   },
   "outputs": [],
   "source": [
    "from get_data import _generate_fold_indices"
   ]
  },
  {
   "cell_type": "code",
   "execution_count": 82,
   "metadata": {
    "collapsed": false
   },
   "outputs": [],
   "source": [
    "from experiments.utils import get_experiment_results\n",
    "import numpy as np\n",
    "\n",
    "protein = '5ht6'\n",
    "fingerprint = \"ExtFP\"\n",
    "seed = 666\n",
    "warm_start_percentage = 0.05\n",
    "batch_size = 20\n",
    "param_grid = {'h': [100]}\n",
    "\n",
    "loader = [\"get_splitted_data\", {\n",
    "    \"seed\": seed,\n",
    "    \"valid_size\": 0.15,\n",
    "    \"n_folds\": 2,\n",
    "    'percent': 0.5}]\n",
    "\n",
    "strategy = ('random_query', {})\n",
    "preprocess_fncs = []\n",
    "\n",
    "randomNB_exp = get_experiment_results(\"fit_randomNB_%s_%s_%s\" % (strategy[0], protein, fingerprint))\n"
   ]
  },
  {
   "cell_type": "code",
   "execution_count": 83,
   "metadata": {
    "collapsed": false
   },
   "outputs": [
    {
     "data": {
      "text/plain": [
       "{'auc_concept_test_times': 0.80743837356567383,\n",
       " 'auc_grid_times': 9.051719069480896,\n",
       " 'auc_matthews_corrcoef_concept': 23.829098073832085,\n",
       " 'auc_matthews_corrcoef_unlabeled': 29.515479408421399,\n",
       " 'auc_n_already_labeled': 30017.0,\n",
       " 'auc_precision_score_concept': 62.237158524534593,\n",
       " 'auc_precision_score_unlabeled': 62.900807912929665,\n",
       " 'auc_recall_score_concept': 48.611607142857146,\n",
       " 'auc_recall_score_unlabeled': 46.618882419284425,\n",
       " 'auc_strat_times': 0.13227570056915283,\n",
       " 'auc_unlabeled_test_times': 1.665778636932373,\n",
       " 'auc_wac_score_concept': 48.613495879120876,\n",
       " 'auc_wac_score_unlabeled': 51.441739035993088,\n",
       " 'mcc_train': [0.50784728195564954, 0.48469195025054507],\n",
       " 'mcc_valid': [0.31368940040441923, 0.44552105560681526],\n",
       " 'mean_concept_test_times': 0.023774024418422152,\n",
       " 'mean_grid_times': 0.26604317937578476,\n",
       " 'mean_matthews_corrcoef_concept': 0.70124550219754955,\n",
       " 'mean_matthews_corrcoef_unlabeled': 0.89434320731957551,\n",
       " 'mean_mcc_train': 0.49626961610309728,\n",
       " 'mean_mcc_valid': 0.37960522800561725,\n",
       " 'mean_n_already_labeled': 855.38888888888891,\n",
       " 'mean_precision_score_concept': 1.8303149006446688,\n",
       " 'mean_precision_score_unlabeled': 1.9043544282349554,\n",
       " 'mean_precision_train': 0.9603444835241588,\n",
       " 'mean_precision_valid': 0.92087967644084934,\n",
       " 'mean_recall_score_concept': 1.4311224489795922,\n",
       " 'mean_recall_score_unlabeled': 1.41713799758498,\n",
       " 'mean_recall_train': 0.74643423137876386,\n",
       " 'mean_recall_valid': 0.73214285714285721,\n",
       " 'mean_strat_times': 0.0040206979302799001,\n",
       " 'mean_unlabeled_test_times': 0.050500063335194308,\n",
       " 'mean_wac_score_concept': 1.4298469387755102,\n",
       " 'mean_wac_score_unlabeled': 1.5578572051073432,\n",
       " 'mean_wac_train': 0.80643629377157366,\n",
       " 'mean_wac_valid': 0.73145604395604402,\n",
       " 'precision_train': [0.9668737060041408, 0.95381526104417669],\n",
       " 'precision_valid': [0.90697674418604646, 0.93478260869565222],\n",
       " 'recall_train': [0.74009508716323291, 0.7527733755942948],\n",
       " 'recall_valid': [0.6964285714285714, 0.7678571428571429],\n",
       " 'wac_train': [0.8152530230336712, 0.7976195645094761],\n",
       " 'wac_valid': [0.6943681318681318, 0.7685439560439561]}"
      ]
     },
     "execution_count": 83,
     "metadata": {},
     "output_type": "execute_result"
    }
   ],
   "source": [
    "randomNB_exp.experiments[0].results"
   ]
  },
  {
   "cell_type": "code",
   "execution_count": 50,
   "metadata": {
    "collapsed": false
   },
   "outputs": [
    {
     "ename": "KeyError",
     "evalue": "'mean_wac_score'",
     "output_type": "error",
     "traceback": [
      "\u001b[1;31m---------------------------------------------------------------------------\u001b[0m",
      "\u001b[1;31mKeyError\u001b[0m                                  Traceback (most recent call last)",
      "\u001b[1;32m<ipython-input-50-2488cf4133fe>\u001b[0m in \u001b[0;36m<module>\u001b[1;34m()\u001b[0m\n\u001b[1;32m----> 1\u001b[1;33m \u001b[0mbest\u001b[0m \u001b[1;33m=\u001b[0m \u001b[0mget_best\u001b[0m\u001b[1;33m(\u001b[0m\u001b[0mrandomNB_exp\u001b[0m\u001b[1;33m.\u001b[0m\u001b[0mexperiments\u001b[0m\u001b[1;33m,\u001b[0m \u001b[1;34m'mean_wac_score'\u001b[0m\u001b[1;33m)\u001b[0m\u001b[1;33m\u001b[0m\u001b[0m\n\u001b[0m",
      "\u001b[1;32m/home/igor/AL_ECML15/experiments/utils.pyc\u001b[0m in \u001b[0;36mget_best\u001b[1;34m(experiments, metric)\u001b[0m\n\u001b[0;32m     37\u001b[0m \u001b[1;33m\u001b[0m\u001b[0m\n\u001b[0;32m     38\u001b[0m \u001b[1;32mdef\u001b[0m \u001b[0mget_best\u001b[0m\u001b[1;33m(\u001b[0m\u001b[0mexperiments\u001b[0m\u001b[1;33m,\u001b[0m \u001b[0mmetric\u001b[0m\u001b[1;33m)\u001b[0m\u001b[1;33m:\u001b[0m\u001b[1;33m\u001b[0m\u001b[0m\n\u001b[1;32m---> 39\u001b[1;33m     \u001b[1;32mreturn\u001b[0m \u001b[0msorted\u001b[0m\u001b[1;33m(\u001b[0m\u001b[0mexperiments\u001b[0m\u001b[1;33m,\u001b[0m \u001b[0mkey\u001b[0m\u001b[1;33m=\u001b[0m\u001b[1;32mlambda\u001b[0m \u001b[0mx\u001b[0m\u001b[1;33m:\u001b[0m \u001b[0mx\u001b[0m\u001b[1;33m.\u001b[0m\u001b[0mresults\u001b[0m\u001b[1;33m[\u001b[0m\u001b[0mmetric\u001b[0m\u001b[1;33m]\u001b[0m\u001b[1;33m)\u001b[0m\u001b[1;33m[\u001b[0m\u001b[1;33m-\u001b[0m\u001b[1;36m1\u001b[0m\u001b[1;33m]\u001b[0m\u001b[1;33m\u001b[0m\u001b[0m\n\u001b[0m\u001b[0;32m     40\u001b[0m \u001b[1;33m\u001b[0m\u001b[0m\n\u001b[0;32m     41\u001b[0m \u001b[1;32mdef\u001b[0m \u001b[0mget_experiment_results\u001b[0m\u001b[1;33m(\u001b[0m\u001b[0mexperiment_detailed_name\u001b[0m\u001b[1;33m)\u001b[0m\u001b[1;33m:\u001b[0m\u001b[1;33m\u001b[0m\u001b[0m\n",
      "\u001b[1;32m/home/igor/AL_ECML15/experiments/utils.pyc\u001b[0m in \u001b[0;36m<lambda>\u001b[1;34m(x)\u001b[0m\n\u001b[0;32m     37\u001b[0m \u001b[1;33m\u001b[0m\u001b[0m\n\u001b[0;32m     38\u001b[0m \u001b[1;32mdef\u001b[0m \u001b[0mget_best\u001b[0m\u001b[1;33m(\u001b[0m\u001b[0mexperiments\u001b[0m\u001b[1;33m,\u001b[0m \u001b[0mmetric\u001b[0m\u001b[1;33m)\u001b[0m\u001b[1;33m:\u001b[0m\u001b[1;33m\u001b[0m\u001b[0m\n\u001b[1;32m---> 39\u001b[1;33m     \u001b[1;32mreturn\u001b[0m \u001b[0msorted\u001b[0m\u001b[1;33m(\u001b[0m\u001b[0mexperiments\u001b[0m\u001b[1;33m,\u001b[0m \u001b[0mkey\u001b[0m\u001b[1;33m=\u001b[0m\u001b[1;32mlambda\u001b[0m \u001b[0mx\u001b[0m\u001b[1;33m:\u001b[0m \u001b[0mx\u001b[0m\u001b[1;33m.\u001b[0m\u001b[0mresults\u001b[0m\u001b[1;33m[\u001b[0m\u001b[0mmetric\u001b[0m\u001b[1;33m]\u001b[0m\u001b[1;33m)\u001b[0m\u001b[1;33m[\u001b[0m\u001b[1;33m-\u001b[0m\u001b[1;36m1\u001b[0m\u001b[1;33m]\u001b[0m\u001b[1;33m\u001b[0m\u001b[0m\n\u001b[0m\u001b[0;32m     40\u001b[0m \u001b[1;33m\u001b[0m\u001b[0m\n\u001b[0;32m     41\u001b[0m \u001b[1;32mdef\u001b[0m \u001b[0mget_experiment_results\u001b[0m\u001b[1;33m(\u001b[0m\u001b[0mexperiment_detailed_name\u001b[0m\u001b[1;33m)\u001b[0m\u001b[1;33m:\u001b[0m\u001b[1;33m\u001b[0m\u001b[0m\n",
      "\u001b[1;31mKeyError\u001b[0m: 'mean_wac_score'"
     ]
    }
   ],
   "source": [
    "best = get_best(randomNB_exp.experiments, 'mean_wac_score')"
   ]
  },
  {
   "cell_type": "code",
   "execution_count": null,
   "metadata": {
    "collapsed": false
   },
   "outputs": [],
   "source": [
    "for k, v in best.results.iteritems():\n",
    "    if 'auc_mean_wac' in k:\n",
    "        print k, v"
   ]
  },
  {
   "cell_type": "code",
   "execution_count": null,
   "metadata": {
    "collapsed": false
   },
   "outputs": [],
   "source": [
    "for k, v in best.results.iteritems():\n",
    "    if 'auc_wac' in k:\n",
    "        print k, v"
   ]
  },
  {
   "cell_type": "code",
   "execution_count": null,
   "metadata": {
    "collapsed": false
   },
   "outputs": [],
   "source": [
    "for protein in proteins:\n",
    "    _, y = _get_raw_data(protein, \"ExtFP\")\n",
    "    print protein, y.shape[0]"
   ]
  },
  {
   "cell_type": "code",
   "execution_count": null,
   "metadata": {
    "collapsed": false
   },
   "outputs": [],
   "source": [
    "\n",
    "loader = [\"get_splitted_data_clusterwise\", {\n",
    "        \"seed\": 666,\n",
    "        \"valid_size\": 0.15,\n",
    "        \"n_folds\": 1}]\n",
    "preprocess_fncs = [[\"to_binary\", {\"all_below\": True}]]\n",
    "comps = [(p, 'ExtFP') for p in proteins]\n",
    "    \n",
    "data = get_data(comps, loader, preprocess_fncs)"
   ]
  },
  {
   "cell_type": "code",
   "execution_count": null,
   "metadata": {
    "collapsed": false
   },
   "outputs": [],
   "source": [
    "for key, value in data.iteritems():\n",
    "    print key\n",
    "    fold = value[0][0]\n",
    "    print \"train data\", fold['X_train']['data'].shape[0]\n",
    "    print \"valid data\", fold['X_valid']['data'].shape[0]\n",
    "    print \"A\", len(fold['X_train']['cluster_A'])\n",
    "    print \"B\", len(fold['X_train']['cluster_B'])\n",
    "    print \n"
   ]
  }
 ],
 "metadata": {
  "kernelspec": {
   "display_name": "Python 2",
   "language": "python",
   "name": "python2"
  },
  "language_info": {
   "codemirror_mode": {
    "name": "ipython",
    "version": 2
   },
   "file_extension": ".py",
   "mimetype": "text/x-python",
   "name": "python",
   "nbconvert_exporter": "python",
   "pygments_lexer": "ipython2",
   "version": "2.7.6"
  }
 },
 "nbformat": 4,
 "nbformat_minor": 0
}
