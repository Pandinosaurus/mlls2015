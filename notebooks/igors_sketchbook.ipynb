{
 "cells": [
  {
   "cell_type": "code",
   "execution_count": null,
   "metadata": {
    "collapsed": false
   },
   "outputs": [],
   "source": [
    "%load_ext autoreload\n",
    "%autoreload 2\n",
    "%matplotlib inline"
   ]
  },
  {
   "cell_type": "code",
   "execution_count": null,
   "metadata": {
    "collapsed": false
   },
   "outputs": [],
   "source": [
    "import sys, os\n",
    "sys.path.append('..')\n",
    "\n",
    "import numpy as np\n",
    "from sklearn.linear_model import SGDClassifier\n",
    "from sklearn.metrics import accuracy_score\n",
    "from sklearn.grid_search import GridSearchCV\n",
    "\n",
    "from get_data import get_data, get_splitted_data, proteins, _get_raw_data\n",
    "from models.active_model import ActiveLearningExperiment\n",
    "from models.strategy import *\n",
    "from models.utils import ObstructedY\n",
    "from experiments.utils import *\n",
    "\n",
    "from misc.config import c\n",
    "from sklearn.datasets import load_svmlight_file\n",
    "data_dir = c['DATA_DIR']"
   ]
  },
  {
   "cell_type": "code",
   "execution_count": null,
   "metadata": {
    "collapsed": false
   },
   "outputs": [],
   "source": [
    "rng = np.random.RandomState(666)\n",
    "\n",
    "X, y = load_svmlight_file(os.path.join(data_dir, \"5ht6_ExtFP.libsvm\"))\n",
    "\n",
    "y = ObstructedY(y)\n",
    "y.query(rng.randint(0, X.shape[0], 100))\n",
    "\n",
    "model = SVC(C=1, kernel='linear')\n",
    "model.fit(X[y.known], y[y.known])"
   ]
  },
  {
   "cell_type": "code",
   "execution_count": null,
   "metadata": {
    "collapsed": false
   },
   "outputs": [],
   "source": [
    "D = pairwise_distances(X, metric=jaccard_dist)"
   ]
  },
  {
   "cell_type": "code",
   "execution_count": null,
   "metadata": {
    "collapsed": false
   },
   "outputs": [],
   "source": [
    "original_picked, original_score = quasi_greedy_batch(X, y, sample_first=False,\n",
    "                                    current_model=model, c=1.0, rng=rng, \n",
    "                                    batch_size=20, D=D)\n",
    "picked, score = multiple_pick_best(X, y, current_model=model, rng=rng, k=10, \n",
    "                                    batch_size=20, D=D, c=1.0)\n",
    "\n",
    "print original_score, score"
   ]
  },
  {
   "cell_type": "code",
   "execution_count": null,
   "metadata": {
    "collapsed": false
   },
   "outputs": [],
   "source": [
    "picked"
   ]
  },
  {
   "cell_type": "code",
   "execution_count": null,
   "metadata": {
    "collapsed": false
   },
   "outputs": [],
   "source": [
    "from experiments.utils import get_experiment_results\n",
    "import numpy as np\n",
    "\n",
    "protein = '5ht6'\n",
    "fingerprint = \"ExtFP\"\n",
    "seed = 666\n",
    "warm_start_percentage = 0.05\n",
    "batch_size = 20\n",
    "param_grid = {'h': [100]}\n",
    "\n",
    "loader = [\"get_splitted_data\", {\n",
    "    \"seed\": seed,\n",
    "    \"valid_size\": 0.15,\n",
    "    \"n_folds\": 2,\n",
    "    'percent': 0.5}]\n",
    "\n",
    "strategy = ('random_query', {})\n",
    "preprocess_fncs = []\n",
    "\n",
    "randomNB_exp = get_experiment_results(\"fit_randomNB_%s_%s_%s\" % (strategy[0], protein, fingerprint))\n"
   ]
  },
  {
   "cell_type": "code",
   "execution_count": null,
   "metadata": {
    "collapsed": false
   },
   "outputs": [],
   "source": [
    "exp = get_best(randomNB_exp.experiments, 'auc_wac_score_concept')"
   ]
  },
  {
   "cell_type": "code",
   "execution_count": null,
   "metadata": {
    "collapsed": false
   },
   "outputs": [],
   "source": [
    "exp.monitors[0].keys()"
   ]
  },
  {
   "cell_type": "code",
   "execution_count": null,
   "metadata": {
    "collapsed": false
   },
   "outputs": [],
   "source": [
    "plot_monitors(exp, keys='times', folds='mean')"
   ]
  },
  {
   "cell_type": "code",
   "execution_count": null,
   "metadata": {
    "collapsed": false
   },
   "outputs": [],
   "source": [
    "for k, v in best.results.iteritems():\n",
    "    if 'auc_mean_wac' in k:\n",
    "        print k, v"
   ]
  },
  {
   "cell_type": "code",
   "execution_count": null,
   "metadata": {
    "collapsed": false
   },
   "outputs": [],
   "source": [
    "for k, v in best.results.iteritems():\n",
    "    if 'auc_wac' in k:\n",
    "        print k, v"
   ]
  },
  {
   "cell_type": "code",
   "execution_count": null,
   "metadata": {
    "collapsed": false
   },
   "outputs": [],
   "source": [
    "for protein in proteins:\n",
    "    _, y = _get_raw_data(protein, \"ExtFP\")\n",
    "    print protein, y.shape[0]"
   ]
  },
  {
   "cell_type": "code",
   "execution_count": null,
   "metadata": {
    "collapsed": false
   },
   "outputs": [],
   "source": [
    "\n",
    "loader = [\"get_splitted_data_clusterwise\", {\n",
    "        \"seed\": 666,\n",
    "        \"valid_size\": 0.15,\n",
    "        \"n_folds\": 1}]\n",
    "preprocess_fncs = [[\"to_binary\", {\"all_below\": True}]]\n",
    "comps = [(p, 'ExtFP') for p in proteins]\n",
    "    \n",
    "data = get_data(comps, loader, preprocess_fncs)"
   ]
  },
  {
   "cell_type": "code",
   "execution_count": null,
   "metadata": {
    "collapsed": false
   },
   "outputs": [],
   "source": [
    "for key, value in data.iteritems():\n",
    "    print key\n",
    "    fold = value[0][0]\n",
    "    print \"train data\", fold['X_train']['data'].shape[0]\n",
    "    print \"valid data\", fold['X_valid']['data'].shape[0]\n",
    "    print \"A\", len(fold['X_train']['cluster_A'])\n",
    "    print \"B\", len(fold['X_train']['cluster_B'])\n",
    "    print \n"
   ]
  }
 ],
 "metadata": {
  "kernelspec": {
   "display_name": "Python 2",
   "language": "python",
   "name": "python2"
  },
  "language_info": {
   "codemirror_mode": {
    "name": "ipython",
    "version": 2
   },
   "file_extension": ".py",
   "mimetype": "text/x-python",
   "name": "python",
   "nbconvert_exporter": "python",
   "pygments_lexer": "ipython2",
   "version": "2.7.6"
  }
 },
 "nbformat": 4,
 "nbformat_minor": 0
}
